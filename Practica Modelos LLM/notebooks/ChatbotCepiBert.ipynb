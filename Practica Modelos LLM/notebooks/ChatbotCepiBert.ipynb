{
 "cells": [
  {
   "cell_type": "code",
   "execution_count": 1,
   "id": "initial_id",
   "metadata": {
    "collapsed": true,
    "ExecuteTime": {
     "end_time": "2023-11-22T15:34:18.092117200Z",
     "start_time": "2023-11-22T15:34:18.084408300Z"
    }
   },
   "outputs": [],
   "source": [
    "data = [\"¿Qué es el CEPI? <SEP> El CEPI, o Centro de Estudios de Posgrado e Investigación, fue establecido en 1985 y en la actualidad administra una variedad de programas de posgrado en diversas áreas del conocimiento. Estos programas se llevan a cabo tanto en la Sede Central, situada en la ciudad de Sucre, como en sus Subsedes. Ofrece Diplomados, Maestrías y Doctorados en modalidades presenciales, semipresenciales y a distancia.\",\n",
    "        \"Significado de CEPI <SEP> CEPI, que corresponde al Centro de Estudios de Posgrado e Investigación, comenzó sus operaciones en 1985. En la actualidad, dirige múltiples programas de posgrado en distintos campos del saber, distribuidos entre su Sede Central en Sucre y sus Subsedes. Proporciona cursos de Diplomados, Maestrías y Doctorados con opciones presenciales, semipresenciales y a distancia.\",\n",
    "        \"¿Qué implica el CEPI? <SEP> El CEPI, o Centro de Estudios de Posgrado e Investigación, inició sus actividades en 1985. En la actualidad, coordina diversos programas de posgrado en varias áreas del conocimiento, repartidos entre la Sede Central en Sucre y las Subsedes. Incluye Diplomados, Maestrías y Doctorados con modalidades presenciales, semipresenciales y a distancia.\",\n",
    "        \"CEPI: Centro de Estudios de Posgrado e Investigación <SEP> Fundado en 1985, el CEPI se dedica a la gestión de programas de posgrado en diversas disciplinas. Su Sede Central, en Sucre, y sus Subsedes ofrecen Diplomados, Maestrías y Doctorados en modalidades presenciales, semipresenciales y a distancia.\",\n",
    "        \"¿Qué significa CEPI? <SEP> CEPI es la abreviatura de Centro de Estudios de Posgrado e Investigación, creado en 1985. En la actualidad, organiza diversos programas de posgrado en diferentes áreas del conocimiento, distribuidos entre la Sede Central en Sucre y las Subsedes. Los programas incluyen Diplomados, Maestrías y Doctorados con opciones presenciales, semipresenciales y a distancia.\",\n",
    "        \"Descripción de CEPI <SEP> CEPI, o Centro de Estudios de Posgrado e Investigación, comenzó sus operaciones en 1985. Actualmente, gestiona una amplia gama de programas de posgrado en diversas áreas, con sedes en Sucre y Subsedes. Ofrece Diplomados, Maestrías y Doctorados en modalidades presenciales, semipresenciales y a distancia.\",\n",
    "        \"¿Qué implica ser parte del CEPI? <SEP> Ser parte del CEPI implica unirse a un Centro de Estudios de Posgrado e Investigación que inició sus actividades en 1985. En la actualidad, desarrolla programas de posgrado en diversas áreas del conocimiento, con sedes en Sucre y Subsedes. Ofrece Diplomados, Maestrías y Doctorados en modalidades presenciales, semipresenciales y a distancia.\",\n",
    "        \"CEPI: Comprendiendo sus funciones <SEP> CEPI, que se traduce como Centro de Estudios de Posgrado e Investigación, fue establecido en 1985. En la actualidad, gestiona varios programas de posgrado en diferentes disciplinas, con sedes en Sucre y Subsedes. Los programas incluyen Diplomados, Maestrías y Doctorados con opciones presenciales, semipresenciales y a distancia.\",\n",
    "        \"CEPI: Conociendo sus actividades <SEP> CEPI, o Centro de Estudios de Posgrado e Investigación, inició sus operaciones en 1985. Actualmente, desarrolla diversos programas de posgrado en distintas áreas, con sedes en Sucre y Subsedes. Ofrece Diplomados, Maestrías y Doctorados en modalidades presenciales, semipresenciales y a distancia.\",\n",
    "        \"CEPI: Centro de Estudios de Posgrado e Investigación <SEP> Establecido en 1985, el CEPI se dedica a la administración de programas de posgrado en diversas disciplinas. Su Sede Central, ubicada en Sucre, y sus Subsedes ofrecen Diplomados, Maestrías y Doctorados en modalidades presenciales, semipresenciales y a distancia.\",\n",
    "        \"Descripción de CEPI <SEP> CEPI, o Centro de Estudios de Posgrado e Investigación, inició sus operaciones en 1985. Actualmente, gestiona una amplia variedad de programas de posgrado en diversas áreas, con sedes en Sucre y Subsedes. Ofrece Diplomados, Maestrías y Doctorados en modalidades presenciales, semipresenciales y a distancia.\",\n",
    "        \"CEPI: Comprendiendo sus funciones <SEP> CEPI, que se traduce como Centro de Estudios de Posgrado e Investigación, fue establecido en 1985. En la actualidad, gestiona varios programas de posgrado en diferentes disciplinas, con sedes en Sucre y Subsedes. Los programas incluyen Diplomados, Maestrías y Doctorados con opciones presenciales, semipresenciales y a distancia.\",\n",
    "        \"¿Qué es el CEPI? <SEP> CEPI, por sus siglas en Centro de Estudios de Posgrado e Investigación, fue establecido en 1985. Se trata de una institución educativa que ofrece una amplia gama de programas de posgrado, incluyendo Diplomados, Maestrías y Doctorados, en modalidades presencial, semipresencial y a distancia.\",\n",
    "        \"¿Podrías explicar qué es el CEPI? <SEP> El CEPI es el Centro de Estudios de Posgrado e Investigación, fundado en 1985. Su misión es proporcionar programas académicos de alta calidad en diversas áreas del conocimiento, con sedes en Sucre y Subsedes, ofreciendo modalidades de estudio presencial, semipresencial y a distancia.\",\n",
    "        \"Explícame sobre el CEPI. <SEP> El CEPI, o Centro de Estudios de Posgrado e Investigación, inició sus actividades en 1985. Es una institución educativa que se dedica a la gestión de programas de posgrado, incluyendo Diplomados, Maestrías y Doctorados, con presencia en Sucre y Subsedes.\",\n",
    "        \"¿Cuáles son las características principales del CEPI? <SEP> El CEPI se destaca como el Centro de Estudios de Posgrado e Investigación desde 1985. Ofrece una variedad de programas de posgrado en diferentes áreas, con énfasis en la calidad académica y la flexibilidad de modalidades de estudio.\",\n",
    "        \"¿Qué es el CEPI? <SEP> El CEPI es el Centro de Estudios de Posgrado e Investigación, fundado en 1985. Su misión es proporcionar programas académicos de alta calidad en diversas áreas del conocimiento, con sedes en Sucre y Subsedes, ofreciendo modalidades de estudio presencial, semipresencial y a distancia.\",\n",
    "        \"¿Qué es el CEPI? <SEP> Establecido en 1985, el CEPI se dedica a la administración de programas de posgrado en diversas disciplinas. Su Sede Central, ubicada en Sucre, y sus Subsedes ofrecen Diplomados, Maestrías y Doctorados en modalidades presenciales, semipresenciales y a distancia.\",\n",
    "        \"¿Qué es el CEPI? <SEP> CEPI, o Centro de Estudios de Posgrado e Investigación, comenzó sus operaciones en 1985. Actualmente, gestiona una amplia gama de programas de posgrado en diversas áreas, con sedes en Sucre y Subsedes. Ofrece Diplomados, Maestrías y Doctorados en modalidades presenciales, semipresenciales y a distancia.\",\n",
    "        \"¿Qué significa CEPI? <SEP> CEPI, o Centro de Estudios de Posgrado e Investigación, comenzó sus operaciones en 1985. Actualmente, gestiona una amplia gama de programas de posgrado en diversas áreas, con sedes en Sucre y Subsedes. Ofrece Diplomados, Maestrías y Doctorados en modalidades presenciales, semipresenciales y a distancia.\",\n",
    "        \"¿Qué significa CEPI? <SEP> Establecido en 1985, el CEPI se dedica a la administración de programas de posgrado en diversas disciplinas. Su Sede Central, ubicada en Sucre, y sus Subsedes ofrecen Diplomados, Maestrías y Doctorados en modalidades presenciales, semipresenciales y a distancia.\",\n",
    "        \"¿Qué significa CEPI? <SEP> El CEPI es el Centro de Estudios de Posgrado e Investigación, fundado en 1985. Su misión es proporcionar programas académicos de alta calidad en diversas áreas del conocimiento, con sedes en Sucre y Subsedes, ofreciendo modalidades de estudio presencial, semipresencial y a distancia.\",\n",
    "        \"¿Qué significa CEPI? <SEP> El CEPI, o Centro de Estudios de Posgrado e Investigación, inició sus actividades en 1985. Es una institución educativa que se dedica a la gestión de programas de posgrado, incluyendo Diplomados, Maestrías y Doctorados, con presencia en Sucre y Subsedes.\"]"
   ]
  },
  {
   "cell_type": "code",
   "execution_count": 4,
   "outputs": [],
   "source": [
    "import torch\n",
    "import numpy as np\n",
    "import pandas as pd\n",
    "from torch.utils.data import Dataset, DataLoader"
   ],
   "metadata": {
    "collapsed": false,
    "ExecuteTime": {
     "end_time": "2023-11-22T15:44:22.231573200Z",
     "start_time": "2023-11-22T15:44:21.803218900Z"
    }
   },
   "id": "c50714a82ad84e35"
  },
  {
   "cell_type": "code",
   "execution_count": 15,
   "outputs": [],
   "source": [
    "class Dataset(Dataset):\n",
    "    def __init__(self,data,tokenizer, max_length=128):\n",
    "        self.dataset=[]\n",
    "        self.tokenizer = tokenizer\n",
    "        self.max_length = max_length\n",
    "    def __len__(self):\n",
    "        return (len(self.dataset))\n",
    "    def __getitem__(self, index):\n",
    "        input,target = self.dataset[index]\n",
    "        inpTokn = self.tokenizer.encode(input, max_length=self.max_length,padding=\"max_length\",add_special_tokens=True,truncation=True)\n",
    "        labelTokn = self.tokenizer.encode(target, max_length=self.max_length,padding=\"max_length\",add_special_tokens=True,truncation=True)\n",
    "        inpTokn = torch.tensor(inpTokn, dtype=torch.long)\n",
    "        labelTokn = torch.tensor(labelTokn, dtype=torch.long)\n",
    "        return {'input_ids':inpTokn,'target_ids': labelTokn}\n"
   ],
   "metadata": {
    "collapsed": false,
    "ExecuteTime": {
     "end_time": "2023-11-22T16:09:38.802249300Z",
     "start_time": "2023-11-22T16:09:38.768862500Z"
    }
   },
   "id": "d35c36fcc5710e31"
  },
  {
   "cell_type": "code",
   "execution_count": 16,
   "outputs": [
    {
     "name": "stderr",
     "output_type": "stream",
     "text": [
      "Some weights of the model checkpoint at mrm8488/distill-bert-base-spanish-wwm-cased-finetuned-spa-squad2-es were not used when initializing BertForQuestionAnswering: ['bert.pooler.dense.weight', 'bert.pooler.dense.bias']\n",
      "- This IS expected if you are initializing BertForQuestionAnswering from the checkpoint of a model trained on another task or with another architecture (e.g. initializing a BertForSequenceClassification model from a BertForPreTraining model).\n",
      "- This IS NOT expected if you are initializing BertForQuestionAnswering from the checkpoint of a model that you expect to be exactly identical (initializing a BertForSequenceClassification model from a BertForSequenceClassification model).\n"
     ]
    }
   ],
   "source": [
    "# Load model directly\n",
    "from transformers import AutoTokenizer, AutoModelForQuestionAnswering\n",
    "\n",
    "tokenizer = AutoTokenizer.from_pretrained(\"mrm8488/distill-bert-base-spanish-wwm-cased-finetuned-spa-squad2-es\")\n",
    "model = AutoModelForQuestionAnswering.from_pretrained(\"mrm8488/distill-bert-base-spanish-wwm-cased-finetuned-spa-squad2-es\")"
   ],
   "metadata": {
    "collapsed": false,
    "ExecuteTime": {
     "end_time": "2023-11-22T16:09:41.892536900Z",
     "start_time": "2023-11-22T16:09:39.613808800Z"
    }
   },
   "id": "39191f5ba55503ce"
  },
  {
   "cell_type": "code",
   "execution_count": 17,
   "outputs": [],
   "source": [
    "dataset = Dataset(data,tokenizer)"
   ],
   "metadata": {
    "collapsed": false,
    "ExecuteTime": {
     "end_time": "2023-11-22T16:09:41.942680600Z",
     "start_time": "2023-11-22T16:09:41.890452500Z"
    }
   },
   "id": "b2dcd3470da556c3"
  },
  {
   "cell_type": "code",
   "execution_count": 18,
   "outputs": [],
   "source": [
    "dataloader = DataLoader(dataset, batch_size=3, shuffle=True)"
   ],
   "metadata": {
    "collapsed": false,
    "ExecuteTime": {
     "end_time": "2023-11-22T16:09:43.242803500Z",
     "start_time": "2023-11-22T16:09:43.215304500Z"
    }
   },
   "id": "edeb21eb49d5cf76"
  },
  {
   "cell_type": "code",
   "execution_count": 19,
   "outputs": [],
   "source": [
    "from transformers import AdamW"
   ],
   "metadata": {
    "collapsed": false,
    "ExecuteTime": {
     "end_time": "2023-11-22T16:09:43.612386400Z",
     "start_time": "2023-11-22T16:09:43.597028900Z"
    }
   },
   "id": "cd1e1b358969cdf1"
  },
  {
   "cell_type": "code",
   "execution_count": 20,
   "outputs": [],
   "source": [
    "lr = 5e-5\n",
    "epochs=3\n",
    "optimizador = AdamW(model.parameters(), lr=lr)"
   ],
   "metadata": {
    "collapsed": false,
    "ExecuteTime": {
     "end_time": "2023-11-22T16:09:44.049075700Z",
     "start_time": "2023-11-22T16:09:44.033031200Z"
    }
   },
   "id": "ea037d62759ccf01"
  },
  {
   "cell_type": "code",
   "execution_count": 24,
   "outputs": [
    {
     "ename": "AttributeError",
     "evalue": "'NoneType' object has no attribute 'backward'",
     "output_type": "error",
     "traceback": [
      "\u001B[1;31m---------------------------------------------------------------------------\u001B[0m",
      "\u001B[1;31mAttributeError\u001B[0m                            Traceback (most recent call last)",
      "Cell \u001B[1;32mIn[24], line 7\u001B[0m\n\u001B[0;32m      5\u001B[0m output \u001B[38;5;241m=\u001B[39m model(input_ids, label)\n\u001B[0;32m      6\u001B[0m loss \u001B[38;5;241m=\u001B[39m output\u001B[38;5;241m.\u001B[39mloss\n\u001B[1;32m----> 7\u001B[0m \u001B[43mloss\u001B[49m\u001B[38;5;241;43m.\u001B[39;49m\u001B[43mbackward\u001B[49m()\n\u001B[0;32m      8\u001B[0m optimizador\u001B[38;5;241m.\u001B[39mstep()\n\u001B[0;32m      9\u001B[0m optimizador\u001B[38;5;241m.\u001B[39mzero_grad()\n",
      "\u001B[1;31mAttributeError\u001B[0m: 'NoneType' object has no attribute 'backward'"
     ]
    }
   ],
   "source": [
    "for i in range(epochs):\n",
    "    for batch in dataloader:\n",
    "        input_ids = batch['input_ids']\n",
    "        label = batch['target_ids']\n",
    "        output = model(input_ids, label)\n",
    "        loss = output.loss\n",
    "        \n",
    "        loss.backward()\n",
    "        optimizador.step()\n",
    "        optimizador.zero_grad()"
   ],
   "metadata": {
    "collapsed": false,
    "ExecuteTime": {
     "end_time": "2023-11-22T16:15:43.202078400Z",
     "start_time": "2023-11-22T16:15:42.331257600Z"
    }
   },
   "id": "7a3abd01d97a1722"
  },
  {
   "cell_type": "code",
   "execution_count": 1,
   "outputs": [
    {
     "name": "stderr",
     "output_type": "stream",
     "text": [
      "Some weights of the model checkpoint at bert-large-uncased-whole-word-masking-finetuned-squad were not used when initializing BertForQuestionAnswering: ['bert.pooler.dense.weight', 'bert.pooler.dense.bias']\n",
      "- This IS expected if you are initializing BertForQuestionAnswering from the checkpoint of a model trained on another task or with another architecture (e.g. initializing a BertForSequenceClassification model from a BertForPreTraining model).\n",
      "- This IS NOT expected if you are initializing BertForQuestionAnswering from the checkpoint of a model that you expect to be exactly identical (initializing a BertForSequenceClassification model from a BertForSequenceClassification model).\n"
     ]
    }
   ],
   "source": [
    "from transformers import BertForQuestionAnswering, BertTokenizer\n",
    "import torch\n",
    "\n",
    "# Load pre-trained model and tokenizer\n",
    "model_name = 'bert-large-uncased-whole-word-masking-finetuned-squad'\n",
    "model = BertForQuestionAnswering.from_pretrained(model_name)\n",
    "tokenizer = BertTokenizer.from_pretrained(model_name)\n",
    "\n",
    "# Example input\n",
    "question = \"What is the capital of France?\"\n",
    "context = \"The capital of France is Paris.\"\n",
    "\n",
    "# Tokenize input\n",
    "inputs = tokenizer(question, context, return_tensors=\"pt\")\n",
    "\n",
    "# Provide ground truth labels (start and end positions of the answer)\n",
    "start_positions = torch.tensor([8])\n",
    "end_positions = torch.tensor([13])\n",
    "\n",
    "# Forward pass with labels\n",
    "outputs = model(**inputs, start_positions=start_positions, end_positions=end_positions)\n",
    "\n",
    "# Calculate the loss\n",
    "loss = outputs.loss\n"
   ],
   "metadata": {
    "collapsed": false,
    "ExecuteTime": {
     "end_time": "2023-11-22T22:05:36.598740Z",
     "start_time": "2023-11-22T22:05:22.364872600Z"
    }
   },
   "id": "53f4618b42a9c191"
  },
  {
   "cell_type": "code",
   "execution_count": 3,
   "outputs": [
    {
     "data": {
      "text/plain": "{'input_ids': tensor([[ 101, 2054, 2003, 1996, 3007, 1997, 2605, 1029,  102, 1996, 3007, 1997,\n         2605, 2003, 3000, 1012,  102]]), 'token_type_ids': tensor([[0, 0, 0, 0, 0, 0, 0, 0, 0, 1, 1, 1, 1, 1, 1, 1, 1]]), 'attention_mask': tensor([[1, 1, 1, 1, 1, 1, 1, 1, 1, 1, 1, 1, 1, 1, 1, 1, 1]])}"
     },
     "execution_count": 3,
     "metadata": {},
     "output_type": "execute_result"
    }
   ],
   "source": [
    "inputs"
   ],
   "metadata": {
    "collapsed": false,
    "ExecuteTime": {
     "end_time": "2023-11-22T22:06:30.996033700Z",
     "start_time": "2023-11-22T22:06:30.968356700Z"
    }
   },
   "id": "b523d4625a80f941"
  },
  {
   "cell_type": "code",
   "execution_count": 9,
   "outputs": [],
   "source": [
    "inputs = tokenizer(\n",
    "            \"prueba Luis\",\n",
    "            \"hola soy Luis\",\n",
    "            return_tensors='pt',\n",
    "            truncation=True,\n",
    "            padding=True\n",
    "        )"
   ],
   "metadata": {
    "collapsed": false,
    "ExecuteTime": {
     "end_time": "2023-11-23T00:57:27.791619900Z",
     "start_time": "2023-11-23T00:57:27.753728700Z"
    }
   },
   "id": "86db6a55b3ef2877"
  },
  {
   "cell_type": "code",
   "execution_count": 10,
   "outputs": [
    {
     "data": {
      "text/plain": "{'input_ids': tensor([[  101, 10975,  5657,  3676,  6446,   102,  7570,  2721, 25176,  6446,\n           102]]), 'token_type_ids': tensor([[0, 0, 0, 0, 0, 0, 1, 1, 1, 1, 1]]), 'attention_mask': tensor([[1, 1, 1, 1, 1, 1, 1, 1, 1, 1, 1]])}"
     },
     "execution_count": 10,
     "metadata": {},
     "output_type": "execute_result"
    }
   ],
   "source": [
    "inputs"
   ],
   "metadata": {
    "collapsed": false,
    "ExecuteTime": {
     "end_time": "2023-11-23T00:57:29.066225300Z",
     "start_time": "2023-11-23T00:57:29.049508900Z"
    }
   },
   "id": "38058f08d6730fa2"
  },
  {
   "cell_type": "code",
   "execution_count": 18,
   "outputs": [
    {
     "data": {
      "text/plain": "['[CLS] prueba luis [SEP] hola soy luis [SEP]']"
     },
     "execution_count": 18,
     "metadata": {},
     "output_type": "execute_result"
    }
   ],
   "source": [
    "tokenizer.batch_decode([[  101, 10975,  5657,  3676,  6446,   102,  7570,  2721, 25176,  6446,\n",
    "           102]])"
   ],
   "metadata": {
    "collapsed": false,
    "ExecuteTime": {
     "end_time": "2023-11-23T01:00:01.936093700Z",
     "start_time": "2023-11-23T01:00:01.923307800Z"
    }
   },
   "id": "34fbe55cb89c9d08"
  },
  {
   "cell_type": "code",
   "execution_count": 19,
   "outputs": [],
   "source": [
    "d = \"¿Qué implica el CEPI? <SEP> El CEPI, o Centro de Estudios de Posgrado e Investigación, inició sus actividades en 1985. En la actualidad, coordina diversos programas de posgrado en varias áreas del conocimiento, repartidos entre la Sede Central en Sucre y las Subsedes. Incluye Diplomados, Maestrías y Doctorados con modalidades presenciales, semipresenciales y a distancia.\""
   ],
   "metadata": {
    "collapsed": false,
    "ExecuteTime": {
     "end_time": "2023-11-23T01:17:55.118609100Z",
     "start_time": "2023-11-23T01:17:55.086501Z"
    }
   },
   "id": "e5904c68da5d97d6"
  },
  {
   "cell_type": "code",
   "execution_count": 21,
   "outputs": [],
   "source": [
    "a,b = d.split(\"<SEP>\")"
   ],
   "metadata": {
    "collapsed": false,
    "ExecuteTime": {
     "end_time": "2023-11-23T01:18:25.901979800Z",
     "start_time": "2023-11-23T01:18:25.880643600Z"
    }
   },
   "id": "ae38d460993e526f"
  },
  {
   "cell_type": "code",
   "execution_count": 46,
   "outputs": [],
   "source": [
    "token =tokenizer(a,b)\n"
   ],
   "metadata": {
    "collapsed": false,
    "ExecuteTime": {
     "end_time": "2023-11-23T01:55:01.236275700Z",
     "start_time": "2023-11-23T01:55:01.078085600Z"
    }
   },
   "id": "31e6153d5ad13c86"
  },
  {
   "cell_type": "code",
   "execution_count": 28,
   "outputs": [
    {
     "ename": "ValueError",
     "evalue": "too many values to unpack (expected 2)",
     "output_type": "error",
     "traceback": [
      "\u001B[1;31m---------------------------------------------------------------------------\u001B[0m",
      "\u001B[1;31mValueError\u001B[0m                                Traceback (most recent call last)",
      "Cell \u001B[1;32mIn[28], line 1\u001B[0m\n\u001B[1;32m----> 1\u001B[0m ini, fin \u001B[38;5;241m=\u001B[39mtokenizer(a, b , return_tensors\u001B[38;5;241m=\u001B[39m\u001B[38;5;124m'\u001B[39m\u001B[38;5;124mpt\u001B[39m\u001B[38;5;124m'\u001B[39m,\n\u001B[0;32m      2\u001B[0m             truncation\u001B[38;5;241m=\u001B[39m\u001B[38;5;28;01mTrue\u001B[39;00m\n\u001B[0;32m      3\u001B[0m         )\u001B[38;5;241m.\u001B[39mvalues()\n",
      "\u001B[1;31mValueError\u001B[0m: too many values to unpack (expected 2)"
     ]
    }
   ],
   "source": [
    "ini, fin =tokenizer(a, b , return_tensors='pt',\n",
    "            truncation=True\n",
    "        ).values()"
   ],
   "metadata": {
    "collapsed": false,
    "ExecuteTime": {
     "end_time": "2023-11-23T01:19:44.107796200Z",
     "start_time": "2023-11-23T01:19:44.078335Z"
    }
   },
   "id": "d899e7285e58c87a"
  },
  {
   "cell_type": "code",
   "execution_count": 39,
   "outputs": [],
   "source": [
    "P = tokenizer(\"Paris\" , return_tensors='pt',\n",
    "            truncation=True\n",
    "        )"
   ],
   "metadata": {
    "collapsed": false,
    "ExecuteTime": {
     "end_time": "2023-11-23T01:53:43.476064400Z",
     "start_time": "2023-11-23T01:53:43.444091400Z"
    }
   },
   "id": "b85ee14df5877520"
  },
  {
   "cell_type": "code",
   "execution_count": 37,
   "outputs": [
    {
     "ename": "ValueError",
     "evalue": "too many values to unpack (expected 2)",
     "output_type": "error",
     "traceback": [
      "\u001B[1;31m---------------------------------------------------------------------------\u001B[0m",
      "\u001B[1;31mValueError\u001B[0m                                Traceback (most recent call last)",
      "Cell \u001B[1;32mIn[37], line 1\u001B[0m\n\u001B[1;32m----> 1\u001B[0m a,b \u001B[38;5;241m=\u001B[39m  tokenizer(\u001B[38;5;124m\"\u001B[39m\u001B[38;5;124mParis\u001B[39m\u001B[38;5;124m\"\u001B[39m , return_tensors\u001B[38;5;241m=\u001B[39m\u001B[38;5;124m'\u001B[39m\u001B[38;5;124mpt\u001B[39m\u001B[38;5;124m'\u001B[39m,\n\u001B[0;32m      2\u001B[0m             truncation\u001B[38;5;241m=\u001B[39m\u001B[38;5;28;01mTrue\u001B[39;00m\n\u001B[0;32m      3\u001B[0m         )\n",
      "\u001B[1;31mValueError\u001B[0m: too many values to unpack (expected 2)"
     ]
    }
   ],
   "source": [
    "a,b =  tokenizer(\"Paris\" , return_tensors='pt',\n",
    "            truncation=True\n",
    "        )"
   ],
   "metadata": {
    "collapsed": false,
    "ExecuteTime": {
     "end_time": "2023-11-23T01:53:26.596268200Z",
     "start_time": "2023-11-23T01:53:26.561677300Z"
    }
   },
   "id": "b314bf4c4d14d5ff"
  },
  {
   "cell_type": "code",
   "execution_count": 55,
   "outputs": [
    {
     "data": {
      "text/plain": "111"
     },
     "execution_count": 55,
     "metadata": {},
     "output_type": "execute_result"
    }
   ],
   "source": [
    "token.input_ids[10:].index(102)"
   ],
   "metadata": {
    "collapsed": false,
    "ExecuteTime": {
     "end_time": "2023-11-23T01:58:12.093786700Z",
     "start_time": "2023-11-23T01:58:12.072623900Z"
    }
   },
   "id": "fbd63cb5ae11814e"
  },
  {
   "cell_type": "code",
   "execution_count": 51,
   "outputs": [
    {
     "data": {
      "text/plain": "{'input_ids': [101, 1094, 10861, 17727, 19341, 3449, 8292, 8197, 1029, 102, 3449, 8292, 8197, 1010, 1051, 18120, 2139, 9765, 21041, 2891, 2139, 13433, 28745, 12173, 2080, 1041, 15697, 13340, 10446, 1010, 1999, 27113, 10514, 2015, 2552, 12848, 27893, 2229, 4372, 3106, 1012, 4372, 2474, 5025, 27893, 1010, 2522, 8551, 3981, 18612, 2891, 2565, 3022, 2139, 13433, 28745, 12173, 2080, 4372, 13075, 7951, 2752, 3972, 9530, 10085, 27605, 4765, 2080, 1010, 16360, 8445, 13820, 2015, 4372, 7913, 2474, 7367, 3207, 2430, 4372, 10514, 16748, 1061, 5869, 4942, 6924, 2229, 1012, 4297, 7630, 6672, 9827, 12269, 1010, 11530, 3367, 4360, 2015, 1061, 3460, 28118, 9530, 16913, 11475, 14697, 2229, 3653, 5054, 13247, 2229, 1010, 4100, 28994, 27742, 4244, 1061, 1037, 4487, 12693, 7405, 1012, 102], 'token_type_ids': [0, 0, 0, 0, 0, 0, 0, 0, 0, 0, 1, 1, 1, 1, 1, 1, 1, 1, 1, 1, 1, 1, 1, 1, 1, 1, 1, 1, 1, 1, 1, 1, 1, 1, 1, 1, 1, 1, 1, 1, 1, 1, 1, 1, 1, 1, 1, 1, 1, 1, 1, 1, 1, 1, 1, 1, 1, 1, 1, 1, 1, 1, 1, 1, 1, 1, 1, 1, 1, 1, 1, 1, 1, 1, 1, 1, 1, 1, 1, 1, 1, 1, 1, 1, 1, 1, 1, 1, 1, 1, 1, 1, 1, 1, 1, 1, 1, 1, 1, 1, 1, 1, 1, 1, 1, 1, 1, 1, 1, 1, 1, 1, 1, 1, 1, 1, 1, 1, 1, 1, 1, 1], 'attention_mask': [1, 1, 1, 1, 1, 1, 1, 1, 1, 1, 1, 1, 1, 1, 1, 1, 1, 1, 1, 1, 1, 1, 1, 1, 1, 1, 1, 1, 1, 1, 1, 1, 1, 1, 1, 1, 1, 1, 1, 1, 1, 1, 1, 1, 1, 1, 1, 1, 1, 1, 1, 1, 1, 1, 1, 1, 1, 1, 1, 1, 1, 1, 1, 1, 1, 1, 1, 1, 1, 1, 1, 1, 1, 1, 1, 1, 1, 1, 1, 1, 1, 1, 1, 1, 1, 1, 1, 1, 1, 1, 1, 1, 1, 1, 1, 1, 1, 1, 1, 1, 1, 1, 1, 1, 1, 1, 1, 1, 1, 1, 1, 1, 1, 1, 1, 1, 1, 1, 1, 1, 1, 1]}"
     },
     "execution_count": 51,
     "metadata": {},
     "output_type": "execute_result"
    }
   ],
   "source": [
    "token"
   ],
   "metadata": {
    "collapsed": false,
    "ExecuteTime": {
     "end_time": "2023-11-23T01:55:42.790329600Z",
     "start_time": "2023-11-23T01:55:42.756927400Z"
    }
   },
   "id": "2d3fb4bf20189ba7"
  },
  {
   "cell_type": "code",
   "execution_count": 65,
   "outputs": [
    {
     "data": {
      "text/plain": "102"
     },
     "execution_count": 65,
     "metadata": {},
     "output_type": "execute_result"
    }
   ],
   "source": [
    "token.input_ids[121]"
   ],
   "metadata": {
    "collapsed": false,
    "ExecuteTime": {
     "end_time": "2023-11-23T02:01:53.180128200Z",
     "start_time": "2023-11-23T02:01:53.156012800Z"
    }
   },
   "id": "6ee8dea85859ad2c"
  },
  {
   "cell_type": "code",
   "execution_count": null,
   "outputs": [],
   "source": [],
   "metadata": {
    "collapsed": false
   },
   "id": "a89fc6c45b1d2660"
  }
 ],
 "metadata": {
  "kernelspec": {
   "display_name": "Python 3",
   "language": "python",
   "name": "python3"
  },
  "language_info": {
   "codemirror_mode": {
    "name": "ipython",
    "version": 2
   },
   "file_extension": ".py",
   "mimetype": "text/x-python",
   "name": "python",
   "nbconvert_exporter": "python",
   "pygments_lexer": "ipython2",
   "version": "2.7.6"
  }
 },
 "nbformat": 4,
 "nbformat_minor": 5
}
