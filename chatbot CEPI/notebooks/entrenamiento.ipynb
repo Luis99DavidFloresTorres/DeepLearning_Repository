{
 "cells": [
  {
   "cell_type": "code",
   "execution_count": 1,
   "id": "initial_id",
   "metadata": {
    "collapsed": true,
    "ExecuteTime": {
     "end_time": "2023-11-03T15:54:47.296099900Z",
     "start_time": "2023-11-03T15:54:47.112266500Z"
    }
   },
   "outputs": [],
   "source": [
    "import pandas as pd\n",
    "dfC = 'E:/chatbot/data/dfClean.csv'\n",
    "dfClean = pd.read_csv(dfC)"
   ]
  },
  {
   "cell_type": "code",
   "execution_count": 2,
   "outputs": [
    {
     "data": {
      "text/plain": "Index(['id', 'monto_tutoria', 'costo_programa', 'dep_inicial',\n       'siglaNoVersion', 'siglaNoVersionNumero', 'nombre', 'edad',\n       'tiempo_titulacion', 'sexo_F', 'sexo_M', 'estado_civil_C',\n       'estado_civil_O', 'estado_civil_S', 'iniciales_nombre_2_dip',\n       'iniciales_nombre_2_doc', 'iniciales_nombre_2_e',\n       'iniciales_nombre_2_fc', 'iniciales_nombre_2_m', 'iniciales_nombre_2_n',\n       'Areas_1', 'Areas_2', 'Areas_3', 'Areas_4', 'Areas_5',\n       'codigo_dpto_nacimiento_CH', 'codigo_dpto_nacimiento_CO',\n       'codigo_dpto_nacimiento_LP', 'codigo_dpto_nacimiento_OR',\n       'codigo_dpto_nacimiento_OTHER', 'codigo_dpto_nacimiento_PO',\n       'codigo_dpto_nacimiento_SC', 'codigo_pais_nacimiento_AR',\n       'codigo_pais_nacimiento_BO', 'codigo_pais_nacimiento_LATE',\n       'codigo_pais_nacimiento_PE'],\n      dtype='object')"
     },
     "execution_count": 2,
     "metadata": {},
     "output_type": "execute_result"
    }
   ],
   "source": [
    "dfClean.columns"
   ],
   "metadata": {
    "collapsed": false,
    "ExecuteTime": {
     "end_time": "2023-11-03T15:54:47.312723400Z",
     "start_time": "2023-11-03T15:54:47.295109800Z"
    }
   },
   "id": "b8e7fa7c0aa8dd90"
  },
  {
   "cell_type": "code",
   "execution_count": 3,
   "outputs": [],
   "source": [
    "client_features_columns = ['edad','tiempo_titulacion','sexo_F','sexo_M','estado_civil_C','estado_civil_O','estado_civil_S','codigo_dpto_nacimiento_CH','codigo_dpto_nacimiento_CO','codigo_dpto_nacimiento_LP','codigo_dpto_nacimiento_OR','codigo_dpto_nacimiento_OTHER','codigo_dpto_nacimiento_PO','codigo_dpto_nacimiento_SC','codigo_pais_nacimiento_AR','codigo_pais_nacimiento_BO','codigo_pais_nacimiento_LATE','codigo_pais_nacimiento_PE']"
   ],
   "metadata": {
    "collapsed": false,
    "ExecuteTime": {
     "end_time": "2023-11-03T15:56:51.304413Z",
     "start_time": "2023-11-03T15:56:51.266910900Z"
    }
   },
   "id": "d1dd027eb0df2b21"
  },
  {
   "cell_type": "code",
   "execution_count": 4,
   "outputs": [
    {
     "data": {
      "text/plain": "Index(['edad', 'tiempo_titulacion', 'sexo_F', 'sexo_M', 'estado_civil_C',\n       'estado_civil_O', 'estado_civil_S', 'codigo_dpto_nacimiento_CH',\n       'codigo_dpto_nacimiento_CO', 'codigo_dpto_nacimiento_LP',\n       'codigo_dpto_nacimiento_OR', 'codigo_dpto_nacimiento_OTHER',\n       'codigo_dpto_nacimiento_PO', 'codigo_dpto_nacimiento_SC',\n       'codigo_pais_nacimiento_AR', 'codigo_pais_nacimiento_BO',\n       'codigo_pais_nacimiento_LATE', 'codigo_pais_nacimiento_PE'],\n      dtype='object')"
     },
     "execution_count": 4,
     "metadata": {},
     "output_type": "execute_result"
    }
   ],
   "source": [
    "client_features = dfClean[client_features_columns]\n",
    "client_features.columns"
   ],
   "metadata": {
    "collapsed": false,
    "ExecuteTime": {
     "end_time": "2023-11-03T15:56:51.619172200Z",
     "start_time": "2023-11-03T15:56:51.551850100Z"
    }
   },
   "id": "2731ada6e646ecbd"
  },
  {
   "cell_type": "code",
   "execution_count": 5,
   "outputs": [
    {
     "data": {
      "text/plain": "       monto_tutoria  costo_programa  dep_inicial  siglaNoVersion  \\\n0           0.071429        0.042718          0.2        0.068326   \n1           0.071429        0.042718          0.2        0.068326   \n2           0.071429        0.042718          0.2        0.068326   \n3           0.071429        0.042718          0.2        0.068326   \n4           0.071429        0.042718          0.2        0.068326   \n...              ...             ...          ...             ...   \n31330       0.000000        0.147573          0.1        0.000447   \n31331       0.589286        0.147573          0.1        0.000447   \n31332       0.535714        0.147573          0.1        0.000447   \n31333       0.589286        0.147573          0.1        0.000447   \n31334       0.589286        0.147573          0.1        0.000447   \n\n       iniciales_nombre_2_dip  iniciales_nombre_2_doc  iniciales_nombre_2_e  \\\n0                       False                   False                 False   \n1                       False                   False                 False   \n2                       False                   False                 False   \n3                       False                   False                 False   \n4                       False                   False                 False   \n...                       ...                     ...                   ...   \n31330                    True                   False                 False   \n31331                    True                   False                 False   \n31332                    True                   False                 False   \n31333                    True                   False                 False   \n31334                    True                   False                 False   \n\n       iniciales_nombre_2_fc  iniciales_nombre_2_m  iniciales_nombre_2_n  \\\n0                      False                  True                 False   \n1                      False                  True                 False   \n2                      False                  True                 False   \n3                      False                  True                 False   \n4                      False                  True                 False   \n...                      ...                   ...                   ...   \n31330                  False                 False                 False   \n31331                  False                 False                 False   \n31332                  False                 False                 False   \n31333                  False                 False                 False   \n31334                  False                 False                 False   \n\n       Areas_1  Areas_2  Areas_3  Areas_4  Areas_5  \n0        False    False     True    False    False  \n1        False    False     True    False    False  \n2        False    False     True    False    False  \n3        False    False     True    False    False  \n4        False    False     True    False    False  \n...        ...      ...      ...      ...      ...  \n31330    False     True    False    False    False  \n31331    False     True    False    False    False  \n31332    False     True    False    False    False  \n31333    False     True    False    False    False  \n31334    False     True    False    False    False  \n\n[31335 rows x 15 columns]",
      "text/html": "<div>\n<style scoped>\n    .dataframe tbody tr th:only-of-type {\n        vertical-align: middle;\n    }\n\n    .dataframe tbody tr th {\n        vertical-align: top;\n    }\n\n    .dataframe thead th {\n        text-align: right;\n    }\n</style>\n<table border=\"1\" class=\"dataframe\">\n  <thead>\n    <tr style=\"text-align: right;\">\n      <th></th>\n      <th>monto_tutoria</th>\n      <th>costo_programa</th>\n      <th>dep_inicial</th>\n      <th>siglaNoVersion</th>\n      <th>iniciales_nombre_2_dip</th>\n      <th>iniciales_nombre_2_doc</th>\n      <th>iniciales_nombre_2_e</th>\n      <th>iniciales_nombre_2_fc</th>\n      <th>iniciales_nombre_2_m</th>\n      <th>iniciales_nombre_2_n</th>\n      <th>Areas_1</th>\n      <th>Areas_2</th>\n      <th>Areas_3</th>\n      <th>Areas_4</th>\n      <th>Areas_5</th>\n    </tr>\n  </thead>\n  <tbody>\n    <tr>\n      <th>0</th>\n      <td>0.071429</td>\n      <td>0.042718</td>\n      <td>0.2</td>\n      <td>0.068326</td>\n      <td>False</td>\n      <td>False</td>\n      <td>False</td>\n      <td>False</td>\n      <td>True</td>\n      <td>False</td>\n      <td>False</td>\n      <td>False</td>\n      <td>True</td>\n      <td>False</td>\n      <td>False</td>\n    </tr>\n    <tr>\n      <th>1</th>\n      <td>0.071429</td>\n      <td>0.042718</td>\n      <td>0.2</td>\n      <td>0.068326</td>\n      <td>False</td>\n      <td>False</td>\n      <td>False</td>\n      <td>False</td>\n      <td>True</td>\n      <td>False</td>\n      <td>False</td>\n      <td>False</td>\n      <td>True</td>\n      <td>False</td>\n      <td>False</td>\n    </tr>\n    <tr>\n      <th>2</th>\n      <td>0.071429</td>\n      <td>0.042718</td>\n      <td>0.2</td>\n      <td>0.068326</td>\n      <td>False</td>\n      <td>False</td>\n      <td>False</td>\n      <td>False</td>\n      <td>True</td>\n      <td>False</td>\n      <td>False</td>\n      <td>False</td>\n      <td>True</td>\n      <td>False</td>\n      <td>False</td>\n    </tr>\n    <tr>\n      <th>3</th>\n      <td>0.071429</td>\n      <td>0.042718</td>\n      <td>0.2</td>\n      <td>0.068326</td>\n      <td>False</td>\n      <td>False</td>\n      <td>False</td>\n      <td>False</td>\n      <td>True</td>\n      <td>False</td>\n      <td>False</td>\n      <td>False</td>\n      <td>True</td>\n      <td>False</td>\n      <td>False</td>\n    </tr>\n    <tr>\n      <th>4</th>\n      <td>0.071429</td>\n      <td>0.042718</td>\n      <td>0.2</td>\n      <td>0.068326</td>\n      <td>False</td>\n      <td>False</td>\n      <td>False</td>\n      <td>False</td>\n      <td>True</td>\n      <td>False</td>\n      <td>False</td>\n      <td>False</td>\n      <td>True</td>\n      <td>False</td>\n      <td>False</td>\n    </tr>\n    <tr>\n      <th>...</th>\n      <td>...</td>\n      <td>...</td>\n      <td>...</td>\n      <td>...</td>\n      <td>...</td>\n      <td>...</td>\n      <td>...</td>\n      <td>...</td>\n      <td>...</td>\n      <td>...</td>\n      <td>...</td>\n      <td>...</td>\n      <td>...</td>\n      <td>...</td>\n      <td>...</td>\n    </tr>\n    <tr>\n      <th>31330</th>\n      <td>0.000000</td>\n      <td>0.147573</td>\n      <td>0.1</td>\n      <td>0.000447</td>\n      <td>True</td>\n      <td>False</td>\n      <td>False</td>\n      <td>False</td>\n      <td>False</td>\n      <td>False</td>\n      <td>False</td>\n      <td>True</td>\n      <td>False</td>\n      <td>False</td>\n      <td>False</td>\n    </tr>\n    <tr>\n      <th>31331</th>\n      <td>0.589286</td>\n      <td>0.147573</td>\n      <td>0.1</td>\n      <td>0.000447</td>\n      <td>True</td>\n      <td>False</td>\n      <td>False</td>\n      <td>False</td>\n      <td>False</td>\n      <td>False</td>\n      <td>False</td>\n      <td>True</td>\n      <td>False</td>\n      <td>False</td>\n      <td>False</td>\n    </tr>\n    <tr>\n      <th>31332</th>\n      <td>0.535714</td>\n      <td>0.147573</td>\n      <td>0.1</td>\n      <td>0.000447</td>\n      <td>True</td>\n      <td>False</td>\n      <td>False</td>\n      <td>False</td>\n      <td>False</td>\n      <td>False</td>\n      <td>False</td>\n      <td>True</td>\n      <td>False</td>\n      <td>False</td>\n      <td>False</td>\n    </tr>\n    <tr>\n      <th>31333</th>\n      <td>0.589286</td>\n      <td>0.147573</td>\n      <td>0.1</td>\n      <td>0.000447</td>\n      <td>True</td>\n      <td>False</td>\n      <td>False</td>\n      <td>False</td>\n      <td>False</td>\n      <td>False</td>\n      <td>False</td>\n      <td>True</td>\n      <td>False</td>\n      <td>False</td>\n      <td>False</td>\n    </tr>\n    <tr>\n      <th>31334</th>\n      <td>0.589286</td>\n      <td>0.147573</td>\n      <td>0.1</td>\n      <td>0.000447</td>\n      <td>True</td>\n      <td>False</td>\n      <td>False</td>\n      <td>False</td>\n      <td>False</td>\n      <td>False</td>\n      <td>False</td>\n      <td>True</td>\n      <td>False</td>\n      <td>False</td>\n      <td>False</td>\n    </tr>\n  </tbody>\n</table>\n<p>31335 rows × 15 columns</p>\n</div>"
     },
     "execution_count": 5,
     "metadata": {},
     "output_type": "execute_result"
    }
   ],
   "source": [
    "programa_features_columns =['monto_tutoria','costo_programa','dep_inicial','siglaNoVersion','iniciales_nombre_2_dip','iniciales_nombre_2_doc','iniciales_nombre_2_e','iniciales_nombre_2_fc','iniciales_nombre_2_m','iniciales_nombre_2_n','Areas_1','Areas_2','Areas_3','Areas_4','Areas_5']\n",
    "programa_features = dfClean[programa_features_columns]\n",
    "programa_features"
   ],
   "metadata": {
    "collapsed": false,
    "ExecuteTime": {
     "end_time": "2023-11-03T15:56:51.883001200Z",
     "start_time": "2023-11-03T15:56:51.788486200Z"
    }
   },
   "id": "b1fdeb2ed50f5c59"
  },
  {
   "cell_type": "markdown",
   "source": [
    "##  Fix a bug on the data"
   ],
   "metadata": {
    "collapsed": false
   },
   "id": "b8d666cabf3e8090"
  },
  {
   "cell_type": "code",
   "execution_count": null,
   "outputs": [],
   "source": [
    "dfClean[dfClean['siglaNoVersionNumero']=='MES'].loc[:,'siglaNoVersionNumero'] = 6"
   ],
   "metadata": {
    "collapsed": false,
    "ExecuteTime": {
     "start_time": "2023-11-03T15:56:53.880302500Z"
    }
   },
   "id": "2ef3a0ac1d2d5410"
  },
  {
   "cell_type": "code",
   "execution_count": null,
   "outputs": [],
   "source": [
    "dfClean[dfClean['siglaNoVersionNumero']=='MES']"
   ],
   "metadata": {
    "collapsed": false,
    "ExecuteTime": {
     "start_time": "2023-11-03T15:56:53.883293Z"
    }
   },
   "id": "2e03925e2e21051f"
  },
  {
   "cell_type": "code",
   "execution_count": null,
   "outputs": [],
   "source": [
    "def cambiar(p):\n",
    "    print(type(p)) \n",
    "    if isinstance(p,int):\n",
    "        return p\n",
    "    if p.isdigit():\n",
    "        return p\n",
    "    return 6"
   ],
   "metadata": {
    "collapsed": false,
    "ExecuteTime": {
     "start_time": "2023-11-03T15:56:53.887275Z"
    }
   },
   "id": "ba1ebb2d526683f0"
  },
  {
   "cell_type": "code",
   "execution_count": null,
   "outputs": [],
   "source": [
    "dfClean.siglaNoVersionNumero = dfClean['siglaNoVersionNumero'].apply(cambiar)"
   ],
   "metadata": {
    "collapsed": false,
    "ExecuteTime": {
     "start_time": "2023-11-03T15:56:53.889269500Z"
    }
   },
   "id": "97cfc41bbac8428b"
  },
  {
   "cell_type": "code",
   "execution_count": 7,
   "outputs": [
    {
     "data": {
      "text/plain": "             id  monto_tutoria  costo_programa  dep_inicial  siglaNoVersion  \\\n3541    3643710       0.535714        0.339806          0.1        0.068326   \n3542    1115871       0.535714        0.339806          0.1        0.068326   \n3543    3625016       0.535714        0.339806          0.1        0.068326   \n3544    4632280       0.535714        0.339806          0.1        0.068326   \n3545    5031567       0.535714        0.339806          0.1        0.068326   \n...         ...            ...             ...          ...             ...   \n15776   5955584       0.535714        0.553398          0.1        0.068326   \n15777   6686404       0.535714        0.553398          0.1        0.068326   \n15778   4085750       0.535714        0.553398          0.1        0.068326   \n15779   1147432       0.535714        0.553398          0.1        0.068326   \n15780  56507899       0.535714        0.553398          0.1        0.068326   \n\n      siglaNoVersionNumero                                      nombre  \\\n3541                   MES  Maestría en Educación Superior Virtual V.6   \n3542                   MES  Maestría en Educación Superior Virtual V.6   \n3543                   MES  Maestría en Educación Superior Virtual V.6   \n3544                   MES  Maestría en Educación Superior Virtual V.6   \n3545                   MES  Maestría en Educación Superior Virtual V.6   \n...                    ...                                         ...   \n15776                  MES   Maestría en Educación Superior, Versión X   \n15777                  MES   Maestría en Educación Superior, Versión X   \n15778                  MES   Maestría en Educación Superior, Versión X   \n15779                  MES   Maestría en Educación Superior, Versión X   \n15780                  MES   Maestría en Educación Superior, Versión X   \n\n           edad  tiempo_titulacion  sexo_F  ...  codigo_dpto_nacimiento_CO  \\\n3541   0.442623           0.383333   False  ...                      False   \n3542   0.524590           0.450000    True  ...                       True   \n3543   0.508197           0.333333   False  ...                      False   \n3544   0.491803           0.383333   False  ...                      False   \n3545   0.344262           0.266667    True  ...                      False   \n...         ...                ...     ...  ...                        ...   \n15776  0.262295           0.133333   False  ...                      False   \n15777  0.245902           0.200000    True  ...                      False   \n15778  0.000000           0.300000   False  ...                      False   \n15779  0.491803           0.366667   False  ...                      False   \n15780  0.000000           0.116667    True  ...                      False   \n\n       codigo_dpto_nacimiento_LP  codigo_dpto_nacimiento_OR  \\\n3541                       False                       True   \n3542                       False                      False   \n3543                       False                      False   \n3544                       False                      False   \n3545                       False                      False   \n...                          ...                        ...   \n15776                       True                      False   \n15777                      False                      False   \n15778                      False                      False   \n15779                      False                      False   \n15780                      False                      False   \n\n       codigo_dpto_nacimiento_OTHER  codigo_dpto_nacimiento_PO  \\\n3541                          False                      False   \n3542                          False                      False   \n3543                          False                      False   \n3544                          False                      False   \n3545                           True                      False   \n...                             ...                        ...   \n15776                         False                      False   \n15777                         False                       True   \n15778                         False                      False   \n15779                         False                      False   \n15780                         False                      False   \n\n       codigo_dpto_nacimiento_SC  codigo_pais_nacimiento_AR  \\\n3541                       False                      False   \n3542                       False                      False   \n3543                       False                      False   \n3544                       False                      False   \n3545                       False                      False   \n...                          ...                        ...   \n15776                      False                      False   \n15777                      False                      False   \n15778                      False                      False   \n15779                      False                      False   \n15780                      False                      False   \n\n       codigo_pais_nacimiento_BO  codigo_pais_nacimiento_LATE  \\\n3541                        True                        False   \n3542                        True                        False   \n3543                        True                        False   \n3544                        True                        False   \n3545                        True                        False   \n...                          ...                          ...   \n15776                       True                        False   \n15777                       True                        False   \n15778                       True                        False   \n15779                       True                        False   \n15780                       True                        False   \n\n       codigo_pais_nacimiento_PE  \n3541                       False  \n3542                       False  \n3543                       False  \n3544                       False  \n3545                       False  \n...                          ...  \n15776                      False  \n15777                      False  \n15778                      False  \n15779                      False  \n15780                      False  \n\n[1550 rows x 36 columns]",
      "text/html": "<div>\n<style scoped>\n    .dataframe tbody tr th:only-of-type {\n        vertical-align: middle;\n    }\n\n    .dataframe tbody tr th {\n        vertical-align: top;\n    }\n\n    .dataframe thead th {\n        text-align: right;\n    }\n</style>\n<table border=\"1\" class=\"dataframe\">\n  <thead>\n    <tr style=\"text-align: right;\">\n      <th></th>\n      <th>id</th>\n      <th>monto_tutoria</th>\n      <th>costo_programa</th>\n      <th>dep_inicial</th>\n      <th>siglaNoVersion</th>\n      <th>siglaNoVersionNumero</th>\n      <th>nombre</th>\n      <th>edad</th>\n      <th>tiempo_titulacion</th>\n      <th>sexo_F</th>\n      <th>...</th>\n      <th>codigo_dpto_nacimiento_CO</th>\n      <th>codigo_dpto_nacimiento_LP</th>\n      <th>codigo_dpto_nacimiento_OR</th>\n      <th>codigo_dpto_nacimiento_OTHER</th>\n      <th>codigo_dpto_nacimiento_PO</th>\n      <th>codigo_dpto_nacimiento_SC</th>\n      <th>codigo_pais_nacimiento_AR</th>\n      <th>codigo_pais_nacimiento_BO</th>\n      <th>codigo_pais_nacimiento_LATE</th>\n      <th>codigo_pais_nacimiento_PE</th>\n    </tr>\n  </thead>\n  <tbody>\n    <tr>\n      <th>3541</th>\n      <td>3643710</td>\n      <td>0.535714</td>\n      <td>0.339806</td>\n      <td>0.1</td>\n      <td>0.068326</td>\n      <td>MES</td>\n      <td>Maestría en Educación Superior Virtual V.6</td>\n      <td>0.442623</td>\n      <td>0.383333</td>\n      <td>False</td>\n      <td>...</td>\n      <td>False</td>\n      <td>False</td>\n      <td>True</td>\n      <td>False</td>\n      <td>False</td>\n      <td>False</td>\n      <td>False</td>\n      <td>True</td>\n      <td>False</td>\n      <td>False</td>\n    </tr>\n    <tr>\n      <th>3542</th>\n      <td>1115871</td>\n      <td>0.535714</td>\n      <td>0.339806</td>\n      <td>0.1</td>\n      <td>0.068326</td>\n      <td>MES</td>\n      <td>Maestría en Educación Superior Virtual V.6</td>\n      <td>0.524590</td>\n      <td>0.450000</td>\n      <td>True</td>\n      <td>...</td>\n      <td>True</td>\n      <td>False</td>\n      <td>False</td>\n      <td>False</td>\n      <td>False</td>\n      <td>False</td>\n      <td>False</td>\n      <td>True</td>\n      <td>False</td>\n      <td>False</td>\n    </tr>\n    <tr>\n      <th>3543</th>\n      <td>3625016</td>\n      <td>0.535714</td>\n      <td>0.339806</td>\n      <td>0.1</td>\n      <td>0.068326</td>\n      <td>MES</td>\n      <td>Maestría en Educación Superior Virtual V.6</td>\n      <td>0.508197</td>\n      <td>0.333333</td>\n      <td>False</td>\n      <td>...</td>\n      <td>False</td>\n      <td>False</td>\n      <td>False</td>\n      <td>False</td>\n      <td>False</td>\n      <td>False</td>\n      <td>False</td>\n      <td>True</td>\n      <td>False</td>\n      <td>False</td>\n    </tr>\n    <tr>\n      <th>3544</th>\n      <td>4632280</td>\n      <td>0.535714</td>\n      <td>0.339806</td>\n      <td>0.1</td>\n      <td>0.068326</td>\n      <td>MES</td>\n      <td>Maestría en Educación Superior Virtual V.6</td>\n      <td>0.491803</td>\n      <td>0.383333</td>\n      <td>False</td>\n      <td>...</td>\n      <td>False</td>\n      <td>False</td>\n      <td>False</td>\n      <td>False</td>\n      <td>False</td>\n      <td>False</td>\n      <td>False</td>\n      <td>True</td>\n      <td>False</td>\n      <td>False</td>\n    </tr>\n    <tr>\n      <th>3545</th>\n      <td>5031567</td>\n      <td>0.535714</td>\n      <td>0.339806</td>\n      <td>0.1</td>\n      <td>0.068326</td>\n      <td>MES</td>\n      <td>Maestría en Educación Superior Virtual V.6</td>\n      <td>0.344262</td>\n      <td>0.266667</td>\n      <td>True</td>\n      <td>...</td>\n      <td>False</td>\n      <td>False</td>\n      <td>False</td>\n      <td>True</td>\n      <td>False</td>\n      <td>False</td>\n      <td>False</td>\n      <td>True</td>\n      <td>False</td>\n      <td>False</td>\n    </tr>\n    <tr>\n      <th>...</th>\n      <td>...</td>\n      <td>...</td>\n      <td>...</td>\n      <td>...</td>\n      <td>...</td>\n      <td>...</td>\n      <td>...</td>\n      <td>...</td>\n      <td>...</td>\n      <td>...</td>\n      <td>...</td>\n      <td>...</td>\n      <td>...</td>\n      <td>...</td>\n      <td>...</td>\n      <td>...</td>\n      <td>...</td>\n      <td>...</td>\n      <td>...</td>\n      <td>...</td>\n      <td>...</td>\n    </tr>\n    <tr>\n      <th>15776</th>\n      <td>5955584</td>\n      <td>0.535714</td>\n      <td>0.553398</td>\n      <td>0.1</td>\n      <td>0.068326</td>\n      <td>MES</td>\n      <td>Maestría en Educación Superior, Versión X</td>\n      <td>0.262295</td>\n      <td>0.133333</td>\n      <td>False</td>\n      <td>...</td>\n      <td>False</td>\n      <td>True</td>\n      <td>False</td>\n      <td>False</td>\n      <td>False</td>\n      <td>False</td>\n      <td>False</td>\n      <td>True</td>\n      <td>False</td>\n      <td>False</td>\n    </tr>\n    <tr>\n      <th>15777</th>\n      <td>6686404</td>\n      <td>0.535714</td>\n      <td>0.553398</td>\n      <td>0.1</td>\n      <td>0.068326</td>\n      <td>MES</td>\n      <td>Maestría en Educación Superior, Versión X</td>\n      <td>0.245902</td>\n      <td>0.200000</td>\n      <td>True</td>\n      <td>...</td>\n      <td>False</td>\n      <td>False</td>\n      <td>False</td>\n      <td>False</td>\n      <td>True</td>\n      <td>False</td>\n      <td>False</td>\n      <td>True</td>\n      <td>False</td>\n      <td>False</td>\n    </tr>\n    <tr>\n      <th>15778</th>\n      <td>4085750</td>\n      <td>0.535714</td>\n      <td>0.553398</td>\n      <td>0.1</td>\n      <td>0.068326</td>\n      <td>MES</td>\n      <td>Maestría en Educación Superior, Versión X</td>\n      <td>0.000000</td>\n      <td>0.300000</td>\n      <td>False</td>\n      <td>...</td>\n      <td>False</td>\n      <td>False</td>\n      <td>False</td>\n      <td>False</td>\n      <td>False</td>\n      <td>False</td>\n      <td>False</td>\n      <td>True</td>\n      <td>False</td>\n      <td>False</td>\n    </tr>\n    <tr>\n      <th>15779</th>\n      <td>1147432</td>\n      <td>0.535714</td>\n      <td>0.553398</td>\n      <td>0.1</td>\n      <td>0.068326</td>\n      <td>MES</td>\n      <td>Maestría en Educación Superior, Versión X</td>\n      <td>0.491803</td>\n      <td>0.366667</td>\n      <td>False</td>\n      <td>...</td>\n      <td>False</td>\n      <td>False</td>\n      <td>False</td>\n      <td>False</td>\n      <td>False</td>\n      <td>False</td>\n      <td>False</td>\n      <td>True</td>\n      <td>False</td>\n      <td>False</td>\n    </tr>\n    <tr>\n      <th>15780</th>\n      <td>56507899</td>\n      <td>0.535714</td>\n      <td>0.553398</td>\n      <td>0.1</td>\n      <td>0.068326</td>\n      <td>MES</td>\n      <td>Maestría en Educación Superior, Versión X</td>\n      <td>0.000000</td>\n      <td>0.116667</td>\n      <td>True</td>\n      <td>...</td>\n      <td>False</td>\n      <td>False</td>\n      <td>False</td>\n      <td>False</td>\n      <td>False</td>\n      <td>False</td>\n      <td>False</td>\n      <td>True</td>\n      <td>False</td>\n      <td>False</td>\n    </tr>\n  </tbody>\n</table>\n<p>1550 rows × 36 columns</p>\n</div>"
     },
     "execution_count": 7,
     "metadata": {},
     "output_type": "execute_result"
    }
   ],
   "source": [
    "dfClean[dfClean['siglaNoVersionNumero']=='MES']"
   ],
   "metadata": {
    "collapsed": false,
    "ExecuteTime": {
     "end_time": "2023-11-03T15:56:54.275909200Z",
     "start_time": "2023-11-03T15:56:54.030853600Z"
    }
   },
   "id": "8db582a5ccf3ce33"
  },
  {
   "cell_type": "code",
   "execution_count": 8,
   "outputs": [
    {
     "data": {
      "text/plain": "array(['0', '8', '9', '2', '13', 'MES', '3', '1', '4', '5', '11', '6',\n       '413', '411', '412', '423', 'MI', 'MSP', '12', '14', 'DES', 'EDA',\n       'DEI', '7', 'DDMI', 'DN', '20', 'DM', 'MET', 'DSI', 'DIS', 'MAJ',\n       'DGP', 'DD', 'DPB', 'DAPFT', 'DDNC', 'ESU', 'DGC', 'DSP', 'MSIGA',\n       'DGM', '10', '16', 'CTIMS', 'MTJ', 'DOPMC', 'ESI', 'DPC', 'DDHT',\n       'MDI', 'DIHE', 'DCTD', '17', 'DRCPA', 'DGTC', 'DFEAP', 'DEE',\n       'DMD', 'DDERH', 'REO', 'DDEIU', '15', 'DAPG', 'ESDRI', 'DDA',\n       'DAIS', 'DCTCA', 'MSIGC', 'DPP', 'ESM', 'DPSTS', 'MPGPE', 'DOVST',\n       'MT', 'EDN', 'MDD', 'DAF', 'DBMGPC'], dtype=object)"
     },
     "execution_count": 8,
     "metadata": {},
     "output_type": "execute_result"
    }
   ],
   "source": [
    "dfClean.siglaNoVersionNumero.unique()"
   ],
   "metadata": {
    "collapsed": false,
    "ExecuteTime": {
     "end_time": "2023-11-03T15:56:54.572605500Z",
     "start_time": "2023-11-03T15:56:54.392424100Z"
    }
   },
   "id": "6dba3f81db786b30"
  },
  {
   "cell_type": "code",
   "execution_count": 9,
   "outputs": [
    {
     "data": {
      "text/plain": "id                               0\nmonto_tutoria                    0\ncosto_programa                   0\ndep_inicial                     51\nsiglaNoVersion                   0\nsiglaNoVersionNumero             0\nnombre                           0\nedad                             0\ntiempo_titulacion                0\nsexo_F                           0\nsexo_M                           0\nestado_civil_C                   0\nestado_civil_O                   0\nestado_civil_S                   0\niniciales_nombre_2_dip           0\niniciales_nombre_2_doc           0\niniciales_nombre_2_e             0\niniciales_nombre_2_fc            0\niniciales_nombre_2_m             0\niniciales_nombre_2_n             0\nAreas_1                          0\nAreas_2                          0\nAreas_3                          0\nAreas_4                          0\nAreas_5                          0\ncodigo_dpto_nacimiento_CH        0\ncodigo_dpto_nacimiento_CO        0\ncodigo_dpto_nacimiento_LP        0\ncodigo_dpto_nacimiento_OR        0\ncodigo_dpto_nacimiento_OTHER     0\ncodigo_dpto_nacimiento_PO        0\ncodigo_dpto_nacimiento_SC        0\ncodigo_pais_nacimiento_AR        0\ncodigo_pais_nacimiento_BO        0\ncodigo_pais_nacimiento_LATE      0\ncodigo_pais_nacimiento_PE        0\ndtype: int64"
     },
     "execution_count": 9,
     "metadata": {},
     "output_type": "execute_result"
    }
   ],
   "source": [
    "dfClean.isnull().sum()"
   ],
   "metadata": {
    "collapsed": false,
    "ExecuteTime": {
     "end_time": "2023-11-03T15:56:54.812904200Z",
     "start_time": "2023-11-03T15:56:54.608545600Z"
    }
   },
   "id": "54967c0804311706"
  },
  {
   "cell_type": "markdown",
   "source": [
    "## Train"
   ],
   "metadata": {
    "collapsed": false
   },
   "id": "f111deb106595625"
  },
  {
   "cell_type": "code",
   "execution_count": 20,
   "outputs": [],
   "source": [
    "from sklearn.model_selection import train_test_split"
   ],
   "metadata": {
    "collapsed": false,
    "ExecuteTime": {
     "end_time": "2023-11-03T15:57:27.135086300Z",
     "start_time": "2023-11-03T15:57:27.045879Z"
    }
   },
   "id": "42b8cb2bc15615e9"
  },
  {
   "cell_type": "code",
   "execution_count": 21,
   "outputs": [],
   "source": [
    "X_train, X_test, y_train, y_test = train_test_split(programa_features, client_features, test_size=0.3, random_state=42)\n",
    "\n",
    "# Divide el conjunto de prueba en validación y prueba (50% validación, 50% prueba)\n",
    "X_val, X_test, y_val, y_test = train_test_split(X_test, y_test, test_size=0.5, random_state=42)\n"
   ],
   "metadata": {
    "collapsed": false,
    "ExecuteTime": {
     "end_time": "2023-11-03T15:57:27.381931400Z",
     "start_time": "2023-11-03T15:57:27.306116600Z"
    }
   },
   "id": "4b32142198568122"
  },
  {
   "cell_type": "code",
   "execution_count": 22,
   "outputs": [
    {
     "data": {
      "text/plain": "(21898, 18)"
     },
     "execution_count": 22,
     "metadata": {},
     "output_type": "execute_result"
    }
   ],
   "source": [
    "y_train.shape"
   ],
   "metadata": {
    "collapsed": false,
    "ExecuteTime": {
     "end_time": "2023-11-03T15:57:29.024356500Z",
     "start_time": "2023-11-03T15:57:29.004982500Z"
    }
   },
   "id": "fdefb3a019164665"
  },
  {
   "cell_type": "code",
   "execution_count": 23,
   "outputs": [
    {
     "ename": "NameError",
     "evalue": "name 'keras' is not defined",
     "output_type": "error",
     "traceback": [
      "\u001B[1;31m---------------------------------------------------------------------------\u001B[0m",
      "\u001B[1;31mNameError\u001B[0m                                 Traceback (most recent call last)",
      "Cell \u001B[1;32mIn[23], line 4\u001B[0m\n\u001B[0;32m      2\u001B[0m curso_dim \u001B[38;5;241m=\u001B[39m \u001B[38;5;241m15\u001B[39m \u001B[38;5;66;03m# Dimensión de las características del curso\u001B[39;00m\n\u001B[0;32m      3\u001B[0m estudiante_dim \u001B[38;5;241m=\u001B[39m  \u001B[38;5;241m18\u001B[39m\n\u001B[1;32m----> 4\u001B[0m input_cursos \u001B[38;5;241m=\u001B[39m \u001B[43mkeras\u001B[49m\u001B[38;5;241m.\u001B[39mInput(shape\u001B[38;5;241m=\u001B[39m(curso_dim,))\n\u001B[0;32m      5\u001B[0m x \u001B[38;5;241m=\u001B[39m layers\u001B[38;5;241m.\u001B[39mDense(\u001B[38;5;241m128\u001B[39m, activation\u001B[38;5;241m=\u001B[39m\u001B[38;5;124m\"\u001B[39m\u001B[38;5;124mrelu\u001B[39m\u001B[38;5;124m\"\u001B[39m)(input_cursos)\n\u001B[0;32m      6\u001B[0m x \u001B[38;5;241m=\u001B[39m layers\u001B[38;5;241m.\u001B[39mDense(\u001B[38;5;241m64\u001B[39m, activation\u001B[38;5;241m=\u001B[39m\u001B[38;5;124m\"\u001B[39m\u001B[38;5;124mrelu\u001B[39m\u001B[38;5;124m\"\u001B[39m)(x)\n",
      "\u001B[1;31mNameError\u001B[0m: name 'keras' is not defined"
     ]
    }
   ],
   "source": [
    "import keras\n",
    "from keras import layers\n",
    "# Modelo del encoder\n",
    "curso_dim = 15 # Dimensión de las características del curso\n",
    "estudiante_dim =  18\n",
    "input_cursos = keras.Input(shape=(curso_dim,))\n",
    "x = layers.Dense(128, activation=\"relu\")(input_cursos)\n",
    "x = layers.Dense(64, activation=\"relu\")(x)\n",
    "encoded = layers.Dense(32, activation=\"relu\")(x)\n",
    "encoder = keras.Model(input_cursos, encoded, name=\"encoder\")\n",
    "\n",
    "# Modelo del decoder\n",
    "input_encoded = keras.Input(shape=(32,))  # Usamos la dimensión del encoder\n",
    "decoded = layers.Dense(32, activation=\"relu\")(input_encoded)\n",
    "decoded = layers.Dense(128, activation=\"relu\")(decoded)\n",
    "output_estudiantes = layers.Dense(estudiante_dim, activation=\"linear\")(decoded)\n",
    "decoder = keras.Model(input_encoded, output_estudiantes, name=\"decoder\")\n",
    "\n",
    "# Modelo Autoencoder completo\n",
    "input_cursos = keras.Input(shape=(curso_dim,))\n",
    "encoded = encoder(input_cursos)\n",
    "decoded_output = decoder(encoded)\n",
    "autoencoder = keras.Model(input_cursos, decoded_output, name=\"autoencoder\")\n"
   ],
   "metadata": {
    "collapsed": false,
    "ExecuteTime": {
     "end_time": "2023-11-03T15:57:37.701576300Z",
     "start_time": "2023-11-03T15:57:37.660277900Z"
    }
   },
   "id": "5a72ea99dccd97e0"
  },
  {
   "cell_type": "code",
   "execution_count": 105,
   "outputs": [],
   "source": [
    "X_train = X_train.values\n",
    "y_train = y_train.values"
   ],
   "metadata": {
    "collapsed": false,
    "ExecuteTime": {
     "end_time": "2023-11-01T15:35:28.895587800Z",
     "start_time": "2023-11-01T15:35:28.863749500Z"
    }
   },
   "id": "6a1eaaaaa6d6aa88"
  },
  {
   "cell_type": "code",
   "execution_count": 106,
   "outputs": [],
   "source": [
    "X_train = X_train.astype('float32')\n",
    "y_train = y_train.astype('float32')"
   ],
   "metadata": {
    "collapsed": false,
    "ExecuteTime": {
     "end_time": "2023-11-01T15:35:32.403207700Z",
     "start_time": "2023-11-01T15:35:32.375838300Z"
    }
   },
   "id": "a6e1eee2380ca14e"
  },
  {
   "cell_type": "code",
   "execution_count": 28,
   "outputs": [
    {
     "ename": "ValueError",
     "evalue": "Failed to convert a NumPy array to a Tensor (Unsupported object type float).",
     "output_type": "error",
     "traceback": [
      "\u001B[1;31m---------------------------------------------------------------------------\u001B[0m",
      "\u001B[1;31mValueError\u001B[0m                                Traceback (most recent call last)",
      "Cell \u001B[1;32mIn[28], line 5\u001B[0m\n\u001B[0;32m      1\u001B[0m autoencoder\u001B[38;5;241m.\u001B[39mcompile(optimizer\u001B[38;5;241m=\u001B[39m\u001B[38;5;124m'\u001B[39m\u001B[38;5;124madam\u001B[39m\u001B[38;5;124m'\u001B[39m, loss\u001B[38;5;241m=\u001B[39m\u001B[38;5;124m'\u001B[39m\u001B[38;5;124mmean_squared_error\u001B[39m\u001B[38;5;124m'\u001B[39m)\n\u001B[0;32m      2\u001B[0m \u001B[38;5;66;03m# Entrenar el modelo Autoencoder con tus datos\u001B[39;00m\n\u001B[0;32m      3\u001B[0m \u001B[38;5;66;03m# X_cursos es tu conjunto de datos de entrada (características del curso)\u001B[39;00m\n\u001B[1;32m----> 5\u001B[0m \u001B[43mautoencoder\u001B[49m\u001B[38;5;241;43m.\u001B[39;49m\u001B[43mfit\u001B[49m\u001B[43m(\u001B[49m\u001B[43mX_train\u001B[49m\u001B[43m,\u001B[49m\u001B[43m \u001B[49m\u001B[43my_train\u001B[49m\u001B[43m,\u001B[49m\u001B[43m \u001B[49m\u001B[43mepochs\u001B[49m\u001B[38;5;241;43m=\u001B[39;49m\u001B[38;5;241;43m300\u001B[39;49m\u001B[43m,\u001B[49m\u001B[43m \u001B[49m\u001B[43mbatch_size\u001B[49m\u001B[38;5;241;43m=\u001B[39;49m\u001B[38;5;241;43m64\u001B[39;49m\u001B[43m)\u001B[49m\n",
      "File \u001B[1;32mE:\\chatbot\\venv\\Lib\\site-packages\\keras\\src\\utils\\traceback_utils.py:70\u001B[0m, in \u001B[0;36mfilter_traceback.<locals>.error_handler\u001B[1;34m(*args, **kwargs)\u001B[0m\n\u001B[0;32m     67\u001B[0m     filtered_tb \u001B[38;5;241m=\u001B[39m _process_traceback_frames(e\u001B[38;5;241m.\u001B[39m__traceback__)\n\u001B[0;32m     68\u001B[0m     \u001B[38;5;66;03m# To get the full stack trace, call:\u001B[39;00m\n\u001B[0;32m     69\u001B[0m     \u001B[38;5;66;03m# `tf.debugging.disable_traceback_filtering()`\u001B[39;00m\n\u001B[1;32m---> 70\u001B[0m     \u001B[38;5;28;01mraise\u001B[39;00m e\u001B[38;5;241m.\u001B[39mwith_traceback(filtered_tb) \u001B[38;5;28;01mfrom\u001B[39;00m \u001B[38;5;28;01mNone\u001B[39;00m\n\u001B[0;32m     71\u001B[0m \u001B[38;5;28;01mfinally\u001B[39;00m:\n\u001B[0;32m     72\u001B[0m     \u001B[38;5;28;01mdel\u001B[39;00m filtered_tb\n",
      "File \u001B[1;32mE:\\chatbot\\venv\\Lib\\site-packages\\tensorflow\\python\\framework\\constant_op.py:102\u001B[0m, in \u001B[0;36mconvert_to_eager_tensor\u001B[1;34m(value, ctx, dtype)\u001B[0m\n\u001B[0;32m    100\u001B[0m     dtype \u001B[38;5;241m=\u001B[39m dtypes\u001B[38;5;241m.\u001B[39mas_dtype(dtype)\u001B[38;5;241m.\u001B[39mas_datatype_enum\n\u001B[0;32m    101\u001B[0m ctx\u001B[38;5;241m.\u001B[39mensure_initialized()\n\u001B[1;32m--> 102\u001B[0m \u001B[38;5;28;01mreturn\u001B[39;00m \u001B[43mops\u001B[49m\u001B[38;5;241;43m.\u001B[39;49m\u001B[43mEagerTensor\u001B[49m\u001B[43m(\u001B[49m\u001B[43mvalue\u001B[49m\u001B[43m,\u001B[49m\u001B[43m \u001B[49m\u001B[43mctx\u001B[49m\u001B[38;5;241;43m.\u001B[39;49m\u001B[43mdevice_name\u001B[49m\u001B[43m,\u001B[49m\u001B[43m \u001B[49m\u001B[43mdtype\u001B[49m\u001B[43m)\u001B[49m\n",
      "\u001B[1;31mValueError\u001B[0m: Failed to convert a NumPy array to a Tensor (Unsupported object type float)."
     ]
    }
   ],
   "source": [
    "autoencoder.compile(optimizer='adam', loss='mean_squared_error')\n",
    "# Entrenar el modelo Autoencoder con tus datos\n",
    "# X_cursos es tu conjunto de datos de entrada (características del curso)\n",
    "\n",
    "autoencoder.fit(X_train, y_train, epochs=300, batch_size=64)"
   ],
   "metadata": {
    "collapsed": false,
    "ExecuteTime": {
     "end_time": "2023-11-03T16:08:49.152119200Z",
     "start_time": "2023-11-03T16:08:49.046296400Z"
    }
   },
   "id": "3be92fad9a05e5f2"
  },
  {
   "cell_type": "code",
   "execution_count": 29,
   "outputs": [],
   "source": [
    "import joblib\n",
    "autoencoder = joblib.load('modelo_entrenado3.pkl')"
   ],
   "metadata": {
    "collapsed": false,
    "ExecuteTime": {
     "end_time": "2023-11-03T16:09:19.899907200Z",
     "start_time": "2023-11-03T16:09:19.652098100Z"
    }
   },
   "id": "5e5b1cb826802593"
  },
  {
   "cell_type": "code",
   "execution_count": 31,
   "outputs": [
    {
     "data": {
      "text/plain": "       monto_tutoria  costo_programa  dep_inicial  siglaNoVersion  \\\n20922       0.535714        0.582524         0.10        0.000415   \n26698       0.180952        0.155340         0.10        0.004564   \n29100       0.589286        0.190291         0.10        0.000128   \n11909       0.180952        0.118058         0.25        0.115462   \n15741       0.535714        0.553398         0.10        0.068326   \n...              ...             ...          ...             ...   \n21196       0.000000        0.000000         0.00        0.001596   \n44          0.071429        0.042718         0.20        0.068326   \n13915       0.180952        0.102524         0.10        0.037498   \n9826        0.180952        0.118058         0.25        0.115462   \n10322       0.535714        0.320388         0.10        0.068326   \n\n       iniciales_nombre_2_dip  iniciales_nombre_2_doc  iniciales_nombre_2_e  \\\n20922                   False                   False                 False   \n26698                    True                   False                 False   \n29100                    True                   False                 False   \n11909                    True                   False                 False   \n15741                   False                   False                 False   \n...                       ...                     ...                   ...   \n21196                   False                   False                 False   \n44                      False                   False                 False   \n13915                    True                   False                 False   \n9826                     True                   False                 False   \n10322                   False                   False                 False   \n\n       iniciales_nombre_2_fc  iniciales_nombre_2_m  iniciales_nombre_2_n  \\\n20922                  False                  True                 False   \n26698                  False                 False                 False   \n29100                  False                 False                 False   \n11909                  False                 False                 False   \n15741                  False                  True                 False   \n...                      ...                   ...                   ...   \n21196                  False                  True                 False   \n44                     False                  True                 False   \n13915                  False                 False                 False   \n9826                   False                 False                 False   \n10322                  False                  True                 False   \n\n       Areas_1  Areas_2  Areas_3  Areas_4  Areas_5  \n20922    False    False    False     True    False  \n26698    False    False    False     True    False  \n29100    False    False    False    False     True  \n11909    False    False     True    False    False  \n15741    False    False     True    False    False  \n...        ...      ...      ...      ...      ...  \n21196    False    False    False     True    False  \n44       False    False     True    False    False  \n13915    False    False     True    False    False  \n9826     False    False     True    False    False  \n10322    False    False     True    False    False  \n\n[4693 rows x 15 columns]",
      "text/html": "<div>\n<style scoped>\n    .dataframe tbody tr th:only-of-type {\n        vertical-align: middle;\n    }\n\n    .dataframe tbody tr th {\n        vertical-align: top;\n    }\n\n    .dataframe thead th {\n        text-align: right;\n    }\n</style>\n<table border=\"1\" class=\"dataframe\">\n  <thead>\n    <tr style=\"text-align: right;\">\n      <th></th>\n      <th>monto_tutoria</th>\n      <th>costo_programa</th>\n      <th>dep_inicial</th>\n      <th>siglaNoVersion</th>\n      <th>iniciales_nombre_2_dip</th>\n      <th>iniciales_nombre_2_doc</th>\n      <th>iniciales_nombre_2_e</th>\n      <th>iniciales_nombre_2_fc</th>\n      <th>iniciales_nombre_2_m</th>\n      <th>iniciales_nombre_2_n</th>\n      <th>Areas_1</th>\n      <th>Areas_2</th>\n      <th>Areas_3</th>\n      <th>Areas_4</th>\n      <th>Areas_5</th>\n    </tr>\n  </thead>\n  <tbody>\n    <tr>\n      <th>20922</th>\n      <td>0.535714</td>\n      <td>0.582524</td>\n      <td>0.10</td>\n      <td>0.000415</td>\n      <td>False</td>\n      <td>False</td>\n      <td>False</td>\n      <td>False</td>\n      <td>True</td>\n      <td>False</td>\n      <td>False</td>\n      <td>False</td>\n      <td>False</td>\n      <td>True</td>\n      <td>False</td>\n    </tr>\n    <tr>\n      <th>26698</th>\n      <td>0.180952</td>\n      <td>0.155340</td>\n      <td>0.10</td>\n      <td>0.004564</td>\n      <td>True</td>\n      <td>False</td>\n      <td>False</td>\n      <td>False</td>\n      <td>False</td>\n      <td>False</td>\n      <td>False</td>\n      <td>False</td>\n      <td>False</td>\n      <td>True</td>\n      <td>False</td>\n    </tr>\n    <tr>\n      <th>29100</th>\n      <td>0.589286</td>\n      <td>0.190291</td>\n      <td>0.10</td>\n      <td>0.000128</td>\n      <td>True</td>\n      <td>False</td>\n      <td>False</td>\n      <td>False</td>\n      <td>False</td>\n      <td>False</td>\n      <td>False</td>\n      <td>False</td>\n      <td>False</td>\n      <td>False</td>\n      <td>True</td>\n    </tr>\n    <tr>\n      <th>11909</th>\n      <td>0.180952</td>\n      <td>0.118058</td>\n      <td>0.25</td>\n      <td>0.115462</td>\n      <td>True</td>\n      <td>False</td>\n      <td>False</td>\n      <td>False</td>\n      <td>False</td>\n      <td>False</td>\n      <td>False</td>\n      <td>False</td>\n      <td>True</td>\n      <td>False</td>\n      <td>False</td>\n    </tr>\n    <tr>\n      <th>15741</th>\n      <td>0.535714</td>\n      <td>0.553398</td>\n      <td>0.10</td>\n      <td>0.068326</td>\n      <td>False</td>\n      <td>False</td>\n      <td>False</td>\n      <td>False</td>\n      <td>True</td>\n      <td>False</td>\n      <td>False</td>\n      <td>False</td>\n      <td>True</td>\n      <td>False</td>\n      <td>False</td>\n    </tr>\n    <tr>\n      <th>...</th>\n      <td>...</td>\n      <td>...</td>\n      <td>...</td>\n      <td>...</td>\n      <td>...</td>\n      <td>...</td>\n      <td>...</td>\n      <td>...</td>\n      <td>...</td>\n      <td>...</td>\n      <td>...</td>\n      <td>...</td>\n      <td>...</td>\n      <td>...</td>\n      <td>...</td>\n    </tr>\n    <tr>\n      <th>21196</th>\n      <td>0.000000</td>\n      <td>0.000000</td>\n      <td>0.00</td>\n      <td>0.001596</td>\n      <td>False</td>\n      <td>False</td>\n      <td>False</td>\n      <td>False</td>\n      <td>True</td>\n      <td>False</td>\n      <td>False</td>\n      <td>False</td>\n      <td>False</td>\n      <td>True</td>\n      <td>False</td>\n    </tr>\n    <tr>\n      <th>44</th>\n      <td>0.071429</td>\n      <td>0.042718</td>\n      <td>0.20</td>\n      <td>0.068326</td>\n      <td>False</td>\n      <td>False</td>\n      <td>False</td>\n      <td>False</td>\n      <td>True</td>\n      <td>False</td>\n      <td>False</td>\n      <td>False</td>\n      <td>True</td>\n      <td>False</td>\n      <td>False</td>\n    </tr>\n    <tr>\n      <th>13915</th>\n      <td>0.180952</td>\n      <td>0.102524</td>\n      <td>0.10</td>\n      <td>0.037498</td>\n      <td>True</td>\n      <td>False</td>\n      <td>False</td>\n      <td>False</td>\n      <td>False</td>\n      <td>False</td>\n      <td>False</td>\n      <td>False</td>\n      <td>True</td>\n      <td>False</td>\n      <td>False</td>\n    </tr>\n    <tr>\n      <th>9826</th>\n      <td>0.180952</td>\n      <td>0.118058</td>\n      <td>0.25</td>\n      <td>0.115462</td>\n      <td>True</td>\n      <td>False</td>\n      <td>False</td>\n      <td>False</td>\n      <td>False</td>\n      <td>False</td>\n      <td>False</td>\n      <td>False</td>\n      <td>True</td>\n      <td>False</td>\n      <td>False</td>\n    </tr>\n    <tr>\n      <th>10322</th>\n      <td>0.535714</td>\n      <td>0.320388</td>\n      <td>0.10</td>\n      <td>0.068326</td>\n      <td>False</td>\n      <td>False</td>\n      <td>False</td>\n      <td>False</td>\n      <td>True</td>\n      <td>False</td>\n      <td>False</td>\n      <td>False</td>\n      <td>True</td>\n      <td>False</td>\n      <td>False</td>\n    </tr>\n  </tbody>\n</table>\n<p>4693 rows × 15 columns</p>\n</div>"
     },
     "execution_count": 31,
     "metadata": {},
     "output_type": "execute_result"
    }
   ],
   "source": [
    "X_test"
   ],
   "metadata": {
    "collapsed": false,
    "ExecuteTime": {
     "end_time": "2023-11-03T16:09:52.757602400Z",
     "start_time": "2023-11-03T16:09:52.700122300Z"
    }
   },
   "id": "610da25ca97b2a05"
  },
  {
   "cell_type": "code",
   "execution_count": 30,
   "outputs": [
    {
     "name": "stdout",
     "output_type": "stream",
     "text": [
      "147/147 [==============================] - 0s 2ms/step\n"
     ]
    },
    {
     "data": {
      "text/plain": "array([[ 4.10171002e-01,  2.83259451e-01,  4.84568238e-01, ...,\n         9.72463727e-01,  1.32796941e-02, -7.42347632e-03],\n       [ 2.34146282e-01,  1.16759576e-01,  5.93545854e-01, ...,\n         9.62081492e-01,  2.28246637e-02, -2.16809777e-03],\n       [ 1.58624977e-01,  6.02914393e-02,  5.22360682e-01, ...,\n         9.95564342e-01,  1.70679600e-03, -1.02975615e-03],\n       ...,\n       [ 2.93674529e-01,  1.76745653e-01,  5.02760410e-01, ...,\n         1.00188541e+00,  4.90374863e-04, -1.95000577e-03],\n       [ 4.17835236e-01,  2.87037283e-01,  4.51333880e-01, ...,\n         9.87340808e-01,  5.31176804e-03,  4.83222888e-04],\n       [ 4.64938879e-01,  3.12930286e-01,  4.48805690e-01, ...,\n         9.91218567e-01,  3.64239980e-03, -2.36882409e-03]], dtype=float32)"
     },
     "execution_count": 30,
     "metadata": {},
     "output_type": "execute_result"
    }
   ],
   "source": [
    "prediccion = autoencoder.predict(X_test.values.astype('float32'))\n",
    "prediccion"
   ],
   "metadata": {
    "collapsed": false,
    "ExecuteTime": {
     "end_time": "2023-11-03T16:09:21.250150100Z",
     "start_time": "2023-11-03T16:09:20.685385300Z"
    }
   },
   "id": "818cef69334b319b"
  },
  {
   "cell_type": "code",
   "execution_count": 33,
   "outputs": [
    {
     "data": {
      "text/plain": "           edad  tiempo_titulacion  sexo_F  sexo_M  estado_civil_C  \\\n20922  0.409836           0.300000   False    True           False   \n26698  0.229508           0.150000    True   False           False   \n29100  0.213115           0.116667    True   False           False   \n11909  0.360656           0.283333    True   False            True   \n15741  0.262295           0.133333   False    True           False   \n...         ...                ...     ...     ...             ...   \n21196  0.295082           0.266667    True   False            True   \n44     0.344262           0.266667    True   False           False   \n13915  0.131148           0.100000    True   False           False   \n9826   0.344262           0.300000    True   False           False   \n10322  0.393443           0.333333    True   False           False   \n\n       estado_civil_O  estado_civil_S  codigo_dpto_nacimiento_CH  \\\n20922           False            True                      False   \n26698           False            True                       True   \n29100           False            True                      False   \n11909           False           False                       True   \n15741           False            True                      False   \n...               ...             ...                        ...   \n21196           False           False                      False   \n44              False            True                      False   \n13915           False            True                       True   \n9826            False            True                       True   \n10322           False            True                      False   \n\n       codigo_dpto_nacimiento_CO  codigo_dpto_nacimiento_LP  \\\n20922                       True                      False   \n26698                      False                      False   \n29100                      False                      False   \n11909                      False                      False   \n15741                      False                      False   \n...                          ...                        ...   \n21196                      False                      False   \n44                         False                      False   \n13915                      False                      False   \n9826                       False                      False   \n10322                      False                      False   \n\n       codigo_dpto_nacimiento_OR  codigo_dpto_nacimiento_OTHER  \\\n20922                      False                         False   \n26698                      False                         False   \n29100                      False                         False   \n11909                      False                         False   \n15741                      False                         False   \n...                          ...                           ...   \n21196                      False                         False   \n44                         False                          True   \n13915                      False                         False   \n9826                       False                         False   \n10322                      False                         False   \n\n       codigo_dpto_nacimiento_PO  codigo_dpto_nacimiento_SC  \\\n20922                      False                      False   \n26698                      False                      False   \n29100                      False                       True   \n11909                      False                      False   \n15741                       True                      False   \n...                          ...                        ...   \n21196                      False                       True   \n44                         False                      False   \n13915                      False                      False   \n9826                       False                      False   \n10322                       True                      False   \n\n       codigo_pais_nacimiento_AR  codigo_pais_nacimiento_BO  \\\n20922                      False                       True   \n26698                      False                       True   \n29100                      False                       True   \n11909                      False                       True   \n15741                      False                       True   \n...                          ...                        ...   \n21196                      False                       True   \n44                         False                       True   \n13915                      False                       True   \n9826                       False                       True   \n10322                      False                       True   \n\n       codigo_pais_nacimiento_LATE  codigo_pais_nacimiento_PE  \n20922                        False                      False  \n26698                        False                      False  \n29100                        False                      False  \n11909                        False                      False  \n15741                        False                      False  \n...                            ...                        ...  \n21196                        False                      False  \n44                           False                      False  \n13915                        False                      False  \n9826                         False                      False  \n10322                        False                      False  \n\n[4693 rows x 18 columns]",
      "text/html": "<div>\n<style scoped>\n    .dataframe tbody tr th:only-of-type {\n        vertical-align: middle;\n    }\n\n    .dataframe tbody tr th {\n        vertical-align: top;\n    }\n\n    .dataframe thead th {\n        text-align: right;\n    }\n</style>\n<table border=\"1\" class=\"dataframe\">\n  <thead>\n    <tr style=\"text-align: right;\">\n      <th></th>\n      <th>edad</th>\n      <th>tiempo_titulacion</th>\n      <th>sexo_F</th>\n      <th>sexo_M</th>\n      <th>estado_civil_C</th>\n      <th>estado_civil_O</th>\n      <th>estado_civil_S</th>\n      <th>codigo_dpto_nacimiento_CH</th>\n      <th>codigo_dpto_nacimiento_CO</th>\n      <th>codigo_dpto_nacimiento_LP</th>\n      <th>codigo_dpto_nacimiento_OR</th>\n      <th>codigo_dpto_nacimiento_OTHER</th>\n      <th>codigo_dpto_nacimiento_PO</th>\n      <th>codigo_dpto_nacimiento_SC</th>\n      <th>codigo_pais_nacimiento_AR</th>\n      <th>codigo_pais_nacimiento_BO</th>\n      <th>codigo_pais_nacimiento_LATE</th>\n      <th>codigo_pais_nacimiento_PE</th>\n    </tr>\n  </thead>\n  <tbody>\n    <tr>\n      <th>20922</th>\n      <td>0.409836</td>\n      <td>0.300000</td>\n      <td>False</td>\n      <td>True</td>\n      <td>False</td>\n      <td>False</td>\n      <td>True</td>\n      <td>False</td>\n      <td>True</td>\n      <td>False</td>\n      <td>False</td>\n      <td>False</td>\n      <td>False</td>\n      <td>False</td>\n      <td>False</td>\n      <td>True</td>\n      <td>False</td>\n      <td>False</td>\n    </tr>\n    <tr>\n      <th>26698</th>\n      <td>0.229508</td>\n      <td>0.150000</td>\n      <td>True</td>\n      <td>False</td>\n      <td>False</td>\n      <td>False</td>\n      <td>True</td>\n      <td>True</td>\n      <td>False</td>\n      <td>False</td>\n      <td>False</td>\n      <td>False</td>\n      <td>False</td>\n      <td>False</td>\n      <td>False</td>\n      <td>True</td>\n      <td>False</td>\n      <td>False</td>\n    </tr>\n    <tr>\n      <th>29100</th>\n      <td>0.213115</td>\n      <td>0.116667</td>\n      <td>True</td>\n      <td>False</td>\n      <td>False</td>\n      <td>False</td>\n      <td>True</td>\n      <td>False</td>\n      <td>False</td>\n      <td>False</td>\n      <td>False</td>\n      <td>False</td>\n      <td>False</td>\n      <td>True</td>\n      <td>False</td>\n      <td>True</td>\n      <td>False</td>\n      <td>False</td>\n    </tr>\n    <tr>\n      <th>11909</th>\n      <td>0.360656</td>\n      <td>0.283333</td>\n      <td>True</td>\n      <td>False</td>\n      <td>True</td>\n      <td>False</td>\n      <td>False</td>\n      <td>True</td>\n      <td>False</td>\n      <td>False</td>\n      <td>False</td>\n      <td>False</td>\n      <td>False</td>\n      <td>False</td>\n      <td>False</td>\n      <td>True</td>\n      <td>False</td>\n      <td>False</td>\n    </tr>\n    <tr>\n      <th>15741</th>\n      <td>0.262295</td>\n      <td>0.133333</td>\n      <td>False</td>\n      <td>True</td>\n      <td>False</td>\n      <td>False</td>\n      <td>True</td>\n      <td>False</td>\n      <td>False</td>\n      <td>False</td>\n      <td>False</td>\n      <td>False</td>\n      <td>True</td>\n      <td>False</td>\n      <td>False</td>\n      <td>True</td>\n      <td>False</td>\n      <td>False</td>\n    </tr>\n    <tr>\n      <th>...</th>\n      <td>...</td>\n      <td>...</td>\n      <td>...</td>\n      <td>...</td>\n      <td>...</td>\n      <td>...</td>\n      <td>...</td>\n      <td>...</td>\n      <td>...</td>\n      <td>...</td>\n      <td>...</td>\n      <td>...</td>\n      <td>...</td>\n      <td>...</td>\n      <td>...</td>\n      <td>...</td>\n      <td>...</td>\n      <td>...</td>\n    </tr>\n    <tr>\n      <th>21196</th>\n      <td>0.295082</td>\n      <td>0.266667</td>\n      <td>True</td>\n      <td>False</td>\n      <td>True</td>\n      <td>False</td>\n      <td>False</td>\n      <td>False</td>\n      <td>False</td>\n      <td>False</td>\n      <td>False</td>\n      <td>False</td>\n      <td>False</td>\n      <td>True</td>\n      <td>False</td>\n      <td>True</td>\n      <td>False</td>\n      <td>False</td>\n    </tr>\n    <tr>\n      <th>44</th>\n      <td>0.344262</td>\n      <td>0.266667</td>\n      <td>True</td>\n      <td>False</td>\n      <td>False</td>\n      <td>False</td>\n      <td>True</td>\n      <td>False</td>\n      <td>False</td>\n      <td>False</td>\n      <td>False</td>\n      <td>True</td>\n      <td>False</td>\n      <td>False</td>\n      <td>False</td>\n      <td>True</td>\n      <td>False</td>\n      <td>False</td>\n    </tr>\n    <tr>\n      <th>13915</th>\n      <td>0.131148</td>\n      <td>0.100000</td>\n      <td>True</td>\n      <td>False</td>\n      <td>False</td>\n      <td>False</td>\n      <td>True</td>\n      <td>True</td>\n      <td>False</td>\n      <td>False</td>\n      <td>False</td>\n      <td>False</td>\n      <td>False</td>\n      <td>False</td>\n      <td>False</td>\n      <td>True</td>\n      <td>False</td>\n      <td>False</td>\n    </tr>\n    <tr>\n      <th>9826</th>\n      <td>0.344262</td>\n      <td>0.300000</td>\n      <td>True</td>\n      <td>False</td>\n      <td>False</td>\n      <td>False</td>\n      <td>True</td>\n      <td>True</td>\n      <td>False</td>\n      <td>False</td>\n      <td>False</td>\n      <td>False</td>\n      <td>False</td>\n      <td>False</td>\n      <td>False</td>\n      <td>True</td>\n      <td>False</td>\n      <td>False</td>\n    </tr>\n    <tr>\n      <th>10322</th>\n      <td>0.393443</td>\n      <td>0.333333</td>\n      <td>True</td>\n      <td>False</td>\n      <td>False</td>\n      <td>False</td>\n      <td>True</td>\n      <td>False</td>\n      <td>False</td>\n      <td>False</td>\n      <td>False</td>\n      <td>False</td>\n      <td>True</td>\n      <td>False</td>\n      <td>False</td>\n      <td>True</td>\n      <td>False</td>\n      <td>False</td>\n    </tr>\n  </tbody>\n</table>\n<p>4693 rows × 18 columns</p>\n</div>"
     },
     "execution_count": 33,
     "metadata": {},
     "output_type": "execute_result"
    }
   ],
   "source": [
    "y_test"
   ],
   "metadata": {
    "collapsed": false,
    "ExecuteTime": {
     "end_time": "2023-11-03T18:23:17.779655600Z",
     "start_time": "2023-11-03T18:23:17.720326900Z"
    }
   },
   "id": "1b154356bf895e34"
  },
  {
   "cell_type": "code",
   "execution_count": 25,
   "outputs": [
    {
     "data": {
      "text/plain": "       monto_tutoria  costo_programa  dep_inicial  siglaNoVersion  \\\n20922       0.535714        0.582524         0.10        0.000415   \n26698       0.180952        0.155340         0.10        0.004564   \n29100       0.589286        0.190291         0.10        0.000128   \n11909       0.180952        0.118058         0.25        0.115462   \n15741       0.535714        0.553398         0.10        0.068326   \n...              ...             ...          ...             ...   \n21196       0.000000        0.000000         0.00        0.001596   \n44          0.071429        0.042718         0.20        0.068326   \n13915       0.180952        0.102524         0.10        0.037498   \n9826        0.180952        0.118058         0.25        0.115462   \n10322       0.535714        0.320388         0.10        0.068326   \n\n       iniciales_nombre_2_dip  iniciales_nombre_2_doc  iniciales_nombre_2_e  \\\n20922                   False                   False                 False   \n26698                    True                   False                 False   \n29100                    True                   False                 False   \n11909                    True                   False                 False   \n15741                   False                   False                 False   \n...                       ...                     ...                   ...   \n21196                   False                   False                 False   \n44                      False                   False                 False   \n13915                    True                   False                 False   \n9826                     True                   False                 False   \n10322                   False                   False                 False   \n\n       iniciales_nombre_2_fc  iniciales_nombre_2_m  iniciales_nombre_2_n  \\\n20922                  False                  True                 False   \n26698                  False                 False                 False   \n29100                  False                 False                 False   \n11909                  False                 False                 False   \n15741                  False                  True                 False   \n...                      ...                   ...                   ...   \n21196                  False                  True                 False   \n44                     False                  True                 False   \n13915                  False                 False                 False   \n9826                   False                 False                 False   \n10322                  False                  True                 False   \n\n       Areas_1  Areas_2  Areas_3  Areas_4  Areas_5  \n20922    False    False    False     True    False  \n26698    False    False    False     True    False  \n29100    False    False    False    False     True  \n11909    False    False     True    False    False  \n15741    False    False     True    False    False  \n...        ...      ...      ...      ...      ...  \n21196    False    False    False     True    False  \n44       False    False     True    False    False  \n13915    False    False     True    False    False  \n9826     False    False     True    False    False  \n10322    False    False     True    False    False  \n\n[4693 rows x 15 columns]",
      "text/html": "<div>\n<style scoped>\n    .dataframe tbody tr th:only-of-type {\n        vertical-align: middle;\n    }\n\n    .dataframe tbody tr th {\n        vertical-align: top;\n    }\n\n    .dataframe thead th {\n        text-align: right;\n    }\n</style>\n<table border=\"1\" class=\"dataframe\">\n  <thead>\n    <tr style=\"text-align: right;\">\n      <th></th>\n      <th>monto_tutoria</th>\n      <th>costo_programa</th>\n      <th>dep_inicial</th>\n      <th>siglaNoVersion</th>\n      <th>iniciales_nombre_2_dip</th>\n      <th>iniciales_nombre_2_doc</th>\n      <th>iniciales_nombre_2_e</th>\n      <th>iniciales_nombre_2_fc</th>\n      <th>iniciales_nombre_2_m</th>\n      <th>iniciales_nombre_2_n</th>\n      <th>Areas_1</th>\n      <th>Areas_2</th>\n      <th>Areas_3</th>\n      <th>Areas_4</th>\n      <th>Areas_5</th>\n    </tr>\n  </thead>\n  <tbody>\n    <tr>\n      <th>20922</th>\n      <td>0.535714</td>\n      <td>0.582524</td>\n      <td>0.10</td>\n      <td>0.000415</td>\n      <td>False</td>\n      <td>False</td>\n      <td>False</td>\n      <td>False</td>\n      <td>True</td>\n      <td>False</td>\n      <td>False</td>\n      <td>False</td>\n      <td>False</td>\n      <td>True</td>\n      <td>False</td>\n    </tr>\n    <tr>\n      <th>26698</th>\n      <td>0.180952</td>\n      <td>0.155340</td>\n      <td>0.10</td>\n      <td>0.004564</td>\n      <td>True</td>\n      <td>False</td>\n      <td>False</td>\n      <td>False</td>\n      <td>False</td>\n      <td>False</td>\n      <td>False</td>\n      <td>False</td>\n      <td>False</td>\n      <td>True</td>\n      <td>False</td>\n    </tr>\n    <tr>\n      <th>29100</th>\n      <td>0.589286</td>\n      <td>0.190291</td>\n      <td>0.10</td>\n      <td>0.000128</td>\n      <td>True</td>\n      <td>False</td>\n      <td>False</td>\n      <td>False</td>\n      <td>False</td>\n      <td>False</td>\n      <td>False</td>\n      <td>False</td>\n      <td>False</td>\n      <td>False</td>\n      <td>True</td>\n    </tr>\n    <tr>\n      <th>11909</th>\n      <td>0.180952</td>\n      <td>0.118058</td>\n      <td>0.25</td>\n      <td>0.115462</td>\n      <td>True</td>\n      <td>False</td>\n      <td>False</td>\n      <td>False</td>\n      <td>False</td>\n      <td>False</td>\n      <td>False</td>\n      <td>False</td>\n      <td>True</td>\n      <td>False</td>\n      <td>False</td>\n    </tr>\n    <tr>\n      <th>15741</th>\n      <td>0.535714</td>\n      <td>0.553398</td>\n      <td>0.10</td>\n      <td>0.068326</td>\n      <td>False</td>\n      <td>False</td>\n      <td>False</td>\n      <td>False</td>\n      <td>True</td>\n      <td>False</td>\n      <td>False</td>\n      <td>False</td>\n      <td>True</td>\n      <td>False</td>\n      <td>False</td>\n    </tr>\n    <tr>\n      <th>...</th>\n      <td>...</td>\n      <td>...</td>\n      <td>...</td>\n      <td>...</td>\n      <td>...</td>\n      <td>...</td>\n      <td>...</td>\n      <td>...</td>\n      <td>...</td>\n      <td>...</td>\n      <td>...</td>\n      <td>...</td>\n      <td>...</td>\n      <td>...</td>\n      <td>...</td>\n    </tr>\n    <tr>\n      <th>21196</th>\n      <td>0.000000</td>\n      <td>0.000000</td>\n      <td>0.00</td>\n      <td>0.001596</td>\n      <td>False</td>\n      <td>False</td>\n      <td>False</td>\n      <td>False</td>\n      <td>True</td>\n      <td>False</td>\n      <td>False</td>\n      <td>False</td>\n      <td>False</td>\n      <td>True</td>\n      <td>False</td>\n    </tr>\n    <tr>\n      <th>44</th>\n      <td>0.071429</td>\n      <td>0.042718</td>\n      <td>0.20</td>\n      <td>0.068326</td>\n      <td>False</td>\n      <td>False</td>\n      <td>False</td>\n      <td>False</td>\n      <td>True</td>\n      <td>False</td>\n      <td>False</td>\n      <td>False</td>\n      <td>True</td>\n      <td>False</td>\n      <td>False</td>\n    </tr>\n    <tr>\n      <th>13915</th>\n      <td>0.180952</td>\n      <td>0.102524</td>\n      <td>0.10</td>\n      <td>0.037498</td>\n      <td>True</td>\n      <td>False</td>\n      <td>False</td>\n      <td>False</td>\n      <td>False</td>\n      <td>False</td>\n      <td>False</td>\n      <td>False</td>\n      <td>True</td>\n      <td>False</td>\n      <td>False</td>\n    </tr>\n    <tr>\n      <th>9826</th>\n      <td>0.180952</td>\n      <td>0.118058</td>\n      <td>0.25</td>\n      <td>0.115462</td>\n      <td>True</td>\n      <td>False</td>\n      <td>False</td>\n      <td>False</td>\n      <td>False</td>\n      <td>False</td>\n      <td>False</td>\n      <td>False</td>\n      <td>True</td>\n      <td>False</td>\n      <td>False</td>\n    </tr>\n    <tr>\n      <th>10322</th>\n      <td>0.535714</td>\n      <td>0.320388</td>\n      <td>0.10</td>\n      <td>0.068326</td>\n      <td>False</td>\n      <td>False</td>\n      <td>False</td>\n      <td>False</td>\n      <td>True</td>\n      <td>False</td>\n      <td>False</td>\n      <td>False</td>\n      <td>True</td>\n      <td>False</td>\n      <td>False</td>\n    </tr>\n  </tbody>\n</table>\n<p>4693 rows × 15 columns</p>\n</div>"
     },
     "execution_count": 25,
     "metadata": {},
     "output_type": "execute_result"
    }
   ],
   "source": [
    "X_test"
   ],
   "metadata": {
    "collapsed": false,
    "ExecuteTime": {
     "end_time": "2023-11-03T16:00:54.298498900Z",
     "start_time": "2023-11-03T16:00:54.205091300Z"
    }
   },
   "id": "6e63fb049212735d"
  },
  {
   "cell_type": "code",
   "execution_count": 81,
   "outputs": [],
   "source": [
    "\n",
    "edad_original = 0.409836 * (81-20)+20\n",
    "titulacion_tiempo_original = 0.165577 * (60-0)+0"
   ],
   "metadata": {
    "collapsed": false,
    "ExecuteTime": {
     "end_time": "2023-11-01T14:28:36.252602500Z",
     "start_time": "2023-11-01T14:28:36.212452300Z"
    }
   },
   "id": "a8168da34122ce95"
  },
  {
   "cell_type": "code",
   "execution_count": 82,
   "outputs": [
    {
     "data": {
      "text/plain": "array([[4.5314339e-01, 3.4021220e-01, 4.1541117e-01, ..., 9.7256732e-01,\n        9.9041648e-03, 9.0521406e-03],\n       [2.6400664e-01, 1.5428698e-01, 6.3493884e-01, ..., 9.5996338e-01,\n        1.7650241e-02, 1.0157289e-02],\n       [1.7022003e-01, 7.7573419e-02, 5.6875193e-01, ..., 9.7670370e-01,\n        9.8947901e-03, 4.3038558e-04],\n       ...,\n       [2.9800814e-01, 1.9453345e-01, 4.8663539e-01, ..., 9.8858690e-01,\n        4.3438096e-04, 1.5749303e-03],\n       [4.3639129e-01, 3.0860880e-01, 4.7295412e-01, ..., 9.7819614e-01,\n        4.3590600e-03, 3.8441306e-03],\n       [4.8775387e-01, 3.4118539e-01, 4.7269708e-01, ..., 9.8360443e-01,\n        8.5175373e-03, 4.1378057e-03]], dtype=float32)"
     },
     "execution_count": 82,
     "metadata": {},
     "output_type": "execute_result"
    }
   ],
   "source": [
    "prediccion"
   ],
   "metadata": {
    "collapsed": false,
    "ExecuteTime": {
     "end_time": "2023-11-01T14:28:37.529854500Z",
     "start_time": "2023-11-01T14:28:37.493874100Z"
    }
   },
   "id": "e3270331adb373d"
  },
  {
   "cell_type": "code",
   "execution_count": 83,
   "outputs": [
    {
     "data": {
      "text/plain": "array([False,  True, False, False, False,  True, False, False, False,\n       False, False, False, False,  True, False, False])"
     },
     "execution_count": 83,
     "metadata": {},
     "output_type": "execute_result"
    }
   ],
   "source": [
    "a =  prediccion[7][2:]>0.5\n",
    "a"
   ],
   "metadata": {
    "collapsed": false,
    "ExecuteTime": {
     "end_time": "2023-11-01T14:28:38.159822400Z",
     "start_time": "2023-11-01T14:28:38.122897600Z"
    }
   },
   "id": "904de8e194d59fc4"
  },
  {
   "cell_type": "code",
   "execution_count": 84,
   "outputs": [
    {
     "data": {
      "text/plain": "array([[0.4098360655737705, 0.3, False, ..., True, False, False],\n       [0.2295081967213115, 0.15, True, ..., True, False, False],\n       [0.2131147540983606, 0.1166666666666666, True, ..., True, False,\n        False],\n       ...,\n       [0.1311475409836065, 0.1, True, ..., True, False, False],\n       [0.3442622950819672, 0.3, True, ..., True, False, False],\n       [0.3934426229508196, 0.3333333333333333, True, ..., True, False,\n        False]], dtype=object)"
     },
     "execution_count": 84,
     "metadata": {},
     "output_type": "execute_result"
    }
   ],
   "source": [
    "y_test.values"
   ],
   "metadata": {
    "collapsed": false,
    "ExecuteTime": {
     "end_time": "2023-11-01T14:28:38.792181900Z",
     "start_time": "2023-11-01T14:28:38.737636Z"
    }
   },
   "id": "6cce4378d74ea5a8"
  },
  {
   "cell_type": "code",
   "execution_count": 85,
   "outputs": [
    {
     "data": {
      "text/plain": "       monto_tutoria  costo_programa  dep_inicial  siglaNoVersion  \\\n20922       0.535714        0.582524         0.10        0.000415   \n26698       0.180952        0.155340         0.10        0.004564   \n29100       0.589286        0.190291         0.10        0.000128   \n11909       0.180952        0.118058         0.25        0.115462   \n15741       0.535714        0.553398         0.10        0.068326   \n...              ...             ...          ...             ...   \n21196       0.000000        0.000000         0.00        0.001596   \n44          0.071429        0.042718         0.20        0.068326   \n13915       0.180952        0.102524         0.10        0.037498   \n9826        0.180952        0.118058         0.25        0.115462   \n10322       0.535714        0.320388         0.10        0.068326   \n\n       iniciales_nombre_2_dip  iniciales_nombre_2_doc  iniciales_nombre_2_e  \\\n20922                   False                   False                 False   \n26698                    True                   False                 False   \n29100                    True                   False                 False   \n11909                    True                   False                 False   \n15741                   False                   False                 False   \n...                       ...                     ...                   ...   \n21196                   False                   False                 False   \n44                      False                   False                 False   \n13915                    True                   False                 False   \n9826                     True                   False                 False   \n10322                   False                   False                 False   \n\n       iniciales_nombre_2_fc  iniciales_nombre_2_m  iniciales_nombre_2_n  \\\n20922                  False                  True                 False   \n26698                  False                 False                 False   \n29100                  False                 False                 False   \n11909                  False                 False                 False   \n15741                  False                  True                 False   \n...                      ...                   ...                   ...   \n21196                  False                  True                 False   \n44                     False                  True                 False   \n13915                  False                 False                 False   \n9826                   False                 False                 False   \n10322                  False                  True                 False   \n\n       Areas_1  Areas_2  Areas_3  Areas_4  Areas_5  \n20922    False    False    False     True    False  \n26698    False    False    False     True    False  \n29100    False    False    False    False     True  \n11909    False    False     True    False    False  \n15741    False    False     True    False    False  \n...        ...      ...      ...      ...      ...  \n21196    False    False    False     True    False  \n44       False    False     True    False    False  \n13915    False    False     True    False    False  \n9826     False    False     True    False    False  \n10322    False    False     True    False    False  \n\n[4693 rows x 15 columns]",
      "text/html": "<div>\n<style scoped>\n    .dataframe tbody tr th:only-of-type {\n        vertical-align: middle;\n    }\n\n    .dataframe tbody tr th {\n        vertical-align: top;\n    }\n\n    .dataframe thead th {\n        text-align: right;\n    }\n</style>\n<table border=\"1\" class=\"dataframe\">\n  <thead>\n    <tr style=\"text-align: right;\">\n      <th></th>\n      <th>monto_tutoria</th>\n      <th>costo_programa</th>\n      <th>dep_inicial</th>\n      <th>siglaNoVersion</th>\n      <th>iniciales_nombre_2_dip</th>\n      <th>iniciales_nombre_2_doc</th>\n      <th>iniciales_nombre_2_e</th>\n      <th>iniciales_nombre_2_fc</th>\n      <th>iniciales_nombre_2_m</th>\n      <th>iniciales_nombre_2_n</th>\n      <th>Areas_1</th>\n      <th>Areas_2</th>\n      <th>Areas_3</th>\n      <th>Areas_4</th>\n      <th>Areas_5</th>\n    </tr>\n  </thead>\n  <tbody>\n    <tr>\n      <th>20922</th>\n      <td>0.535714</td>\n      <td>0.582524</td>\n      <td>0.10</td>\n      <td>0.000415</td>\n      <td>False</td>\n      <td>False</td>\n      <td>False</td>\n      <td>False</td>\n      <td>True</td>\n      <td>False</td>\n      <td>False</td>\n      <td>False</td>\n      <td>False</td>\n      <td>True</td>\n      <td>False</td>\n    </tr>\n    <tr>\n      <th>26698</th>\n      <td>0.180952</td>\n      <td>0.155340</td>\n      <td>0.10</td>\n      <td>0.004564</td>\n      <td>True</td>\n      <td>False</td>\n      <td>False</td>\n      <td>False</td>\n      <td>False</td>\n      <td>False</td>\n      <td>False</td>\n      <td>False</td>\n      <td>False</td>\n      <td>True</td>\n      <td>False</td>\n    </tr>\n    <tr>\n      <th>29100</th>\n      <td>0.589286</td>\n      <td>0.190291</td>\n      <td>0.10</td>\n      <td>0.000128</td>\n      <td>True</td>\n      <td>False</td>\n      <td>False</td>\n      <td>False</td>\n      <td>False</td>\n      <td>False</td>\n      <td>False</td>\n      <td>False</td>\n      <td>False</td>\n      <td>False</td>\n      <td>True</td>\n    </tr>\n    <tr>\n      <th>11909</th>\n      <td>0.180952</td>\n      <td>0.118058</td>\n      <td>0.25</td>\n      <td>0.115462</td>\n      <td>True</td>\n      <td>False</td>\n      <td>False</td>\n      <td>False</td>\n      <td>False</td>\n      <td>False</td>\n      <td>False</td>\n      <td>False</td>\n      <td>True</td>\n      <td>False</td>\n      <td>False</td>\n    </tr>\n    <tr>\n      <th>15741</th>\n      <td>0.535714</td>\n      <td>0.553398</td>\n      <td>0.10</td>\n      <td>0.068326</td>\n      <td>False</td>\n      <td>False</td>\n      <td>False</td>\n      <td>False</td>\n      <td>True</td>\n      <td>False</td>\n      <td>False</td>\n      <td>False</td>\n      <td>True</td>\n      <td>False</td>\n      <td>False</td>\n    </tr>\n    <tr>\n      <th>...</th>\n      <td>...</td>\n      <td>...</td>\n      <td>...</td>\n      <td>...</td>\n      <td>...</td>\n      <td>...</td>\n      <td>...</td>\n      <td>...</td>\n      <td>...</td>\n      <td>...</td>\n      <td>...</td>\n      <td>...</td>\n      <td>...</td>\n      <td>...</td>\n      <td>...</td>\n    </tr>\n    <tr>\n      <th>21196</th>\n      <td>0.000000</td>\n      <td>0.000000</td>\n      <td>0.00</td>\n      <td>0.001596</td>\n      <td>False</td>\n      <td>False</td>\n      <td>False</td>\n      <td>False</td>\n      <td>True</td>\n      <td>False</td>\n      <td>False</td>\n      <td>False</td>\n      <td>False</td>\n      <td>True</td>\n      <td>False</td>\n    </tr>\n    <tr>\n      <th>44</th>\n      <td>0.071429</td>\n      <td>0.042718</td>\n      <td>0.20</td>\n      <td>0.068326</td>\n      <td>False</td>\n      <td>False</td>\n      <td>False</td>\n      <td>False</td>\n      <td>True</td>\n      <td>False</td>\n      <td>False</td>\n      <td>False</td>\n      <td>True</td>\n      <td>False</td>\n      <td>False</td>\n    </tr>\n    <tr>\n      <th>13915</th>\n      <td>0.180952</td>\n      <td>0.102524</td>\n      <td>0.10</td>\n      <td>0.037498</td>\n      <td>True</td>\n      <td>False</td>\n      <td>False</td>\n      <td>False</td>\n      <td>False</td>\n      <td>False</td>\n      <td>False</td>\n      <td>False</td>\n      <td>True</td>\n      <td>False</td>\n      <td>False</td>\n    </tr>\n    <tr>\n      <th>9826</th>\n      <td>0.180952</td>\n      <td>0.118058</td>\n      <td>0.25</td>\n      <td>0.115462</td>\n      <td>True</td>\n      <td>False</td>\n      <td>False</td>\n      <td>False</td>\n      <td>False</td>\n      <td>False</td>\n      <td>False</td>\n      <td>False</td>\n      <td>True</td>\n      <td>False</td>\n      <td>False</td>\n    </tr>\n    <tr>\n      <th>10322</th>\n      <td>0.535714</td>\n      <td>0.320388</td>\n      <td>0.10</td>\n      <td>0.068326</td>\n      <td>False</td>\n      <td>False</td>\n      <td>False</td>\n      <td>False</td>\n      <td>True</td>\n      <td>False</td>\n      <td>False</td>\n      <td>False</td>\n      <td>True</td>\n      <td>False</td>\n      <td>False</td>\n    </tr>\n  </tbody>\n</table>\n<p>4693 rows × 15 columns</p>\n</div>"
     },
     "execution_count": 85,
     "metadata": {},
     "output_type": "execute_result"
    }
   ],
   "source": [
    "X_test"
   ],
   "metadata": {
    "collapsed": false,
    "ExecuteTime": {
     "end_time": "2023-11-01T14:28:39.464115300Z",
     "start_time": "2023-11-01T14:28:39.423054800Z"
    }
   },
   "id": "d6117ab6b06cc99"
  },
  {
   "cell_type": "code",
   "execution_count": 86,
   "outputs": [
    {
     "data": {
      "text/plain": "47.606038"
     },
     "execution_count": 86,
     "metadata": {},
     "output_type": "execute_result"
    }
   ],
   "source": [
    "0.452558* (81-20)+20"
   ],
   "metadata": {
    "collapsed": false,
    "ExecuteTime": {
     "end_time": "2023-11-01T14:28:40.167397200Z",
     "start_time": "2023-11-01T14:28:40.133827700Z"
    }
   },
   "id": "797b73259a7f981b"
  },
  {
   "cell_type": "code",
   "execution_count": 87,
   "outputs": [
    {
     "data": {
      "text/plain": "10"
     },
     "execution_count": 87,
     "metadata": {},
     "output_type": "execute_result"
    }
   ],
   "source": [
    "round(titulacion_tiempo_original)"
   ],
   "metadata": {
    "collapsed": false,
    "ExecuteTime": {
     "end_time": "2023-11-01T14:28:41.193223600Z",
     "start_time": "2023-11-01T14:28:41.158372800Z"
    }
   },
   "id": "fffed8eecf635cbe"
  },
  {
   "cell_type": "code",
   "execution_count": 113,
   "outputs": [
    {
     "name": "stdout",
     "output_type": "stream",
     "text": [
      "147/147 [==============================] - 0s 1ms/step\n"
     ]
    }
   ],
   "source": [
    "import joblib\n",
    "\n",
    "# Supongamos que tienes un modelo llamado 'modelo' que deseas exportar\n",
    "# y también tienes datos llamados 'datos' para entrenar el modelo.\n",
    "\n",
    "# Exportar el modelo a un archivo\n",
    "joblib.dump(autoencoder, 'modelo_entrenado3.pkl')\n",
    "\n",
    "# Cargar el modelo desde el archivo\n",
    "modelo_cargado = joblib.load('modelo_entrenado3.pkl')\n",
    "\n",
    "# Ahora puedes usar 'modelo_cargado' para hacer predicciones\n",
    "predicciones = modelo_cargado.predict(X_val.values.astype('float32'))"
   ],
   "metadata": {
    "collapsed": false,
    "ExecuteTime": {
     "end_time": "2023-11-01T16:06:45.326737500Z",
     "start_time": "2023-11-01T16:06:44.742531400Z"
    }
   },
   "id": "187416a74c22d6c5"
  },
  {
   "cell_type": "code",
   "execution_count": 114,
   "outputs": [
    {
     "data": {
      "text/plain": "array([[ 2.5935775e-01,  1.4532384e-01,  4.9040604e-01, ...,\n         9.9910444e-01,  2.0746572e-03, -2.9854015e-03],\n       [ 3.5629299e-01,  2.3628587e-01,  4.7666022e-01, ...,\n         9.9272746e-01,  4.5529827e-03, -5.6041870e-04],\n       [ 4.6493888e-01,  3.1293029e-01,  4.4880569e-01, ...,\n         9.9121857e-01,  3.6423998e-03, -2.3688241e-03],\n       ...,\n       [ 3.9136255e-01,  2.4564242e-01,  3.6907327e-01, ...,\n         1.0034961e+00, -1.4120149e-03, -1.2017521e-03],\n       [ 4.1783524e-01,  2.8703728e-01,  4.5133388e-01, ...,\n         9.8734081e-01,  5.3117680e-03,  4.8322289e-04],\n       [ 4.8269433e-01,  3.4422800e-01,  4.3224484e-01, ...,\n         9.9948579e-01,  1.2088334e-04, -4.9553639e-03]], dtype=float32)"
     },
     "execution_count": 114,
     "metadata": {},
     "output_type": "execute_result"
    }
   ],
   "source": [
    "predicciones"
   ],
   "metadata": {
    "collapsed": false,
    "ExecuteTime": {
     "end_time": "2023-11-01T16:06:48.092418300Z",
     "start_time": "2023-11-01T16:06:48.057635Z"
    }
   },
   "id": "de13c22f49096ec6"
  },
  {
   "cell_type": "code",
   "execution_count": 115,
   "outputs": [
    {
     "data": {
      "text/plain": "           edad  tiempo_titulacion  sexo_F  sexo_M  estado_civil_C  \\\n15964  0.295082           0.200000   False    True           False   \n5038   0.000000           0.316667   False    True           False   \n8452   0.311475           0.250000    True   False           False   \n9573   0.540984           0.333333   False    True           False   \n22988  0.000000           0.183333    True   False           False   \n...         ...                ...     ...     ...             ...   \n4291   0.262295           0.183333    True   False           False   \n1387   0.606557           0.300000   False    True            True   \n19061  0.377049           0.233333   False    True            True   \n3063   0.360656           0.166667   False    True            True   \n2782   0.327869           0.283333    True   False           False   \n\n       estado_civil_O  estado_civil_S  codigo_dpto_nacimiento_CH  \\\n15964           False            True                       True   \n5038            False            True                      False   \n8452            False            True                      False   \n9573            False            True                       True   \n22988           False            True                      False   \n...               ...             ...                        ...   \n4291            False            True                       True   \n1387            False           False                       True   \n19061           False           False                      False   \n3063            False           False                      False   \n2782            False            True                      False   \n\n       codigo_dpto_nacimiento_CO  codigo_dpto_nacimiento_LP  \\\n15964                      False                      False   \n5038                       False                      False   \n8452                       False                       True   \n9573                       False                      False   \n22988                      False                      False   \n...                          ...                        ...   \n4291                       False                      False   \n1387                       False                      False   \n19061                      False                       True   \n3063                       False                       True   \n2782                       False                      False   \n\n       codigo_dpto_nacimiento_OR  codigo_dpto_nacimiento_OTHER  \\\n15964                      False                         False   \n5038                        True                         False   \n8452                       False                         False   \n9573                       False                         False   \n22988                      False                         False   \n...                          ...                           ...   \n4291                       False                         False   \n1387                       False                         False   \n19061                      False                         False   \n3063                       False                         False   \n2782                       False                         False   \n\n       codigo_dpto_nacimiento_PO  codigo_dpto_nacimiento_SC  \\\n15964                      False                      False   \n5038                       False                      False   \n8452                       False                      False   \n9573                       False                      False   \n22988                      False                       True   \n...                          ...                        ...   \n4291                       False                      False   \n1387                       False                      False   \n19061                      False                      False   \n3063                       False                      False   \n2782                       False                       True   \n\n       codigo_pais_nacimiento_AR  codigo_pais_nacimiento_BO  \\\n15964                      False                       True   \n5038                       False                       True   \n8452                       False                       True   \n9573                       False                       True   \n22988                      False                       True   \n...                          ...                        ...   \n4291                       False                       True   \n1387                       False                       True   \n19061                      False                       True   \n3063                       False                       True   \n2782                       False                       True   \n\n       codigo_pais_nacimiento_LATE  codigo_pais_nacimiento_PE  \n15964                        False                      False  \n5038                         False                      False  \n8452                         False                      False  \n9573                         False                      False  \n22988                        False                      False  \n...                            ...                        ...  \n4291                         False                      False  \n1387                         False                      False  \n19061                        False                      False  \n3063                         False                      False  \n2782                         False                      False  \n\n[4693 rows x 18 columns]",
      "text/html": "<div>\n<style scoped>\n    .dataframe tbody tr th:only-of-type {\n        vertical-align: middle;\n    }\n\n    .dataframe tbody tr th {\n        vertical-align: top;\n    }\n\n    .dataframe thead th {\n        text-align: right;\n    }\n</style>\n<table border=\"1\" class=\"dataframe\">\n  <thead>\n    <tr style=\"text-align: right;\">\n      <th></th>\n      <th>edad</th>\n      <th>tiempo_titulacion</th>\n      <th>sexo_F</th>\n      <th>sexo_M</th>\n      <th>estado_civil_C</th>\n      <th>estado_civil_O</th>\n      <th>estado_civil_S</th>\n      <th>codigo_dpto_nacimiento_CH</th>\n      <th>codigo_dpto_nacimiento_CO</th>\n      <th>codigo_dpto_nacimiento_LP</th>\n      <th>codigo_dpto_nacimiento_OR</th>\n      <th>codigo_dpto_nacimiento_OTHER</th>\n      <th>codigo_dpto_nacimiento_PO</th>\n      <th>codigo_dpto_nacimiento_SC</th>\n      <th>codigo_pais_nacimiento_AR</th>\n      <th>codigo_pais_nacimiento_BO</th>\n      <th>codigo_pais_nacimiento_LATE</th>\n      <th>codigo_pais_nacimiento_PE</th>\n    </tr>\n  </thead>\n  <tbody>\n    <tr>\n      <th>15964</th>\n      <td>0.295082</td>\n      <td>0.200000</td>\n      <td>False</td>\n      <td>True</td>\n      <td>False</td>\n      <td>False</td>\n      <td>True</td>\n      <td>True</td>\n      <td>False</td>\n      <td>False</td>\n      <td>False</td>\n      <td>False</td>\n      <td>False</td>\n      <td>False</td>\n      <td>False</td>\n      <td>True</td>\n      <td>False</td>\n      <td>False</td>\n    </tr>\n    <tr>\n      <th>5038</th>\n      <td>0.000000</td>\n      <td>0.316667</td>\n      <td>False</td>\n      <td>True</td>\n      <td>False</td>\n      <td>False</td>\n      <td>True</td>\n      <td>False</td>\n      <td>False</td>\n      <td>False</td>\n      <td>True</td>\n      <td>False</td>\n      <td>False</td>\n      <td>False</td>\n      <td>False</td>\n      <td>True</td>\n      <td>False</td>\n      <td>False</td>\n    </tr>\n    <tr>\n      <th>8452</th>\n      <td>0.311475</td>\n      <td>0.250000</td>\n      <td>True</td>\n      <td>False</td>\n      <td>False</td>\n      <td>False</td>\n      <td>True</td>\n      <td>False</td>\n      <td>False</td>\n      <td>True</td>\n      <td>False</td>\n      <td>False</td>\n      <td>False</td>\n      <td>False</td>\n      <td>False</td>\n      <td>True</td>\n      <td>False</td>\n      <td>False</td>\n    </tr>\n    <tr>\n      <th>9573</th>\n      <td>0.540984</td>\n      <td>0.333333</td>\n      <td>False</td>\n      <td>True</td>\n      <td>False</td>\n      <td>False</td>\n      <td>True</td>\n      <td>True</td>\n      <td>False</td>\n      <td>False</td>\n      <td>False</td>\n      <td>False</td>\n      <td>False</td>\n      <td>False</td>\n      <td>False</td>\n      <td>True</td>\n      <td>False</td>\n      <td>False</td>\n    </tr>\n    <tr>\n      <th>22988</th>\n      <td>0.000000</td>\n      <td>0.183333</td>\n      <td>True</td>\n      <td>False</td>\n      <td>False</td>\n      <td>False</td>\n      <td>True</td>\n      <td>False</td>\n      <td>False</td>\n      <td>False</td>\n      <td>False</td>\n      <td>False</td>\n      <td>False</td>\n      <td>True</td>\n      <td>False</td>\n      <td>True</td>\n      <td>False</td>\n      <td>False</td>\n    </tr>\n    <tr>\n      <th>...</th>\n      <td>...</td>\n      <td>...</td>\n      <td>...</td>\n      <td>...</td>\n      <td>...</td>\n      <td>...</td>\n      <td>...</td>\n      <td>...</td>\n      <td>...</td>\n      <td>...</td>\n      <td>...</td>\n      <td>...</td>\n      <td>...</td>\n      <td>...</td>\n      <td>...</td>\n      <td>...</td>\n      <td>...</td>\n      <td>...</td>\n    </tr>\n    <tr>\n      <th>4291</th>\n      <td>0.262295</td>\n      <td>0.183333</td>\n      <td>True</td>\n      <td>False</td>\n      <td>False</td>\n      <td>False</td>\n      <td>True</td>\n      <td>True</td>\n      <td>False</td>\n      <td>False</td>\n      <td>False</td>\n      <td>False</td>\n      <td>False</td>\n      <td>False</td>\n      <td>False</td>\n      <td>True</td>\n      <td>False</td>\n      <td>False</td>\n    </tr>\n    <tr>\n      <th>1387</th>\n      <td>0.606557</td>\n      <td>0.300000</td>\n      <td>False</td>\n      <td>True</td>\n      <td>True</td>\n      <td>False</td>\n      <td>False</td>\n      <td>True</td>\n      <td>False</td>\n      <td>False</td>\n      <td>False</td>\n      <td>False</td>\n      <td>False</td>\n      <td>False</td>\n      <td>False</td>\n      <td>True</td>\n      <td>False</td>\n      <td>False</td>\n    </tr>\n    <tr>\n      <th>19061</th>\n      <td>0.377049</td>\n      <td>0.233333</td>\n      <td>False</td>\n      <td>True</td>\n      <td>True</td>\n      <td>False</td>\n      <td>False</td>\n      <td>False</td>\n      <td>False</td>\n      <td>True</td>\n      <td>False</td>\n      <td>False</td>\n      <td>False</td>\n      <td>False</td>\n      <td>False</td>\n      <td>True</td>\n      <td>False</td>\n      <td>False</td>\n    </tr>\n    <tr>\n      <th>3063</th>\n      <td>0.360656</td>\n      <td>0.166667</td>\n      <td>False</td>\n      <td>True</td>\n      <td>True</td>\n      <td>False</td>\n      <td>False</td>\n      <td>False</td>\n      <td>False</td>\n      <td>True</td>\n      <td>False</td>\n      <td>False</td>\n      <td>False</td>\n      <td>False</td>\n      <td>False</td>\n      <td>True</td>\n      <td>False</td>\n      <td>False</td>\n    </tr>\n    <tr>\n      <th>2782</th>\n      <td>0.327869</td>\n      <td>0.283333</td>\n      <td>True</td>\n      <td>False</td>\n      <td>False</td>\n      <td>False</td>\n      <td>True</td>\n      <td>False</td>\n      <td>False</td>\n      <td>False</td>\n      <td>False</td>\n      <td>False</td>\n      <td>False</td>\n      <td>True</td>\n      <td>False</td>\n      <td>True</td>\n      <td>False</td>\n      <td>False</td>\n    </tr>\n  </tbody>\n</table>\n<p>4693 rows × 18 columns</p>\n</div>"
     },
     "execution_count": 115,
     "metadata": {},
     "output_type": "execute_result"
    }
   ],
   "source": [
    "y_val"
   ],
   "metadata": {
    "collapsed": false,
    "ExecuteTime": {
     "end_time": "2023-11-01T16:07:33.482477700Z",
     "start_time": "2023-11-01T16:07:33.399751Z"
    }
   },
   "id": "c43562205f489dd5"
  },
  {
   "cell_type": "code",
   "execution_count": 111,
   "outputs": [
    {
     "data": {
      "text/plain": "       monto_tutoria  costo_programa  dep_inicial  siglaNoVersion  \\\n15964       0.000000        0.108738     0.100000        0.002266   \n5038        0.180952        0.118058     0.100000        0.026711   \n8452        0.535714        0.320388     0.100000        0.068326   \n9573        0.180952        0.118058     0.250000        0.115462   \n22988       0.535714        0.669903     0.100000        0.001755   \n...              ...             ...          ...             ...   \n4291        0.180952        0.118058     0.100000        0.037498   \n1387        0.000000        0.029903     0.545455        0.002904   \n19061       0.535714        0.689320     0.100000        0.004691   \n3063        0.180952        0.118058     0.250000        0.115462   \n2782        0.023810        0.013592     0.250000        0.115462   \n\n       iniciales_nombre_2_dip  iniciales_nombre_2_doc  iniciales_nombre_2_e  \\\n15964                    True                   False                 False   \n5038                     True                   False                 False   \n8452                    False                   False                 False   \n9573                     True                   False                 False   \n22988                   False                   False                 False   \n...                       ...                     ...                   ...   \n4291                     True                   False                 False   \n1387                    False                   False                 False   \n19061                   False                   False                 False   \n3063                     True                   False                 False   \n2782                     True                   False                 False   \n\n       iniciales_nombre_2_fc  iniciales_nombre_2_m  iniciales_nombre_2_n  \\\n15964                  False                 False                 False   \n5038                   False                 False                 False   \n8452                   False                  True                 False   \n9573                   False                 False                 False   \n22988                  False                  True                 False   \n...                      ...                   ...                   ...   \n4291                   False                 False                 False   \n1387                    True                 False                 False   \n19061                  False                  True                 False   \n3063                   False                 False                 False   \n2782                   False                 False                 False   \n\n       Areas_1  Areas_2  Areas_3  Areas_4  Areas_5  \n15964    False    False    False    False     True  \n5038     False    False     True    False    False  \n8452     False    False     True    False    False  \n9573     False    False     True    False    False  \n22988    False    False    False     True    False  \n...        ...      ...      ...      ...      ...  \n4291     False    False     True    False    False  \n1387     False    False     True    False    False  \n19061    False    False     True    False    False  \n3063     False    False     True    False    False  \n2782     False    False     True    False    False  \n\n[4693 rows x 15 columns]",
      "text/html": "<div>\n<style scoped>\n    .dataframe tbody tr th:only-of-type {\n        vertical-align: middle;\n    }\n\n    .dataframe tbody tr th {\n        vertical-align: top;\n    }\n\n    .dataframe thead th {\n        text-align: right;\n    }\n</style>\n<table border=\"1\" class=\"dataframe\">\n  <thead>\n    <tr style=\"text-align: right;\">\n      <th></th>\n      <th>monto_tutoria</th>\n      <th>costo_programa</th>\n      <th>dep_inicial</th>\n      <th>siglaNoVersion</th>\n      <th>iniciales_nombre_2_dip</th>\n      <th>iniciales_nombre_2_doc</th>\n      <th>iniciales_nombre_2_e</th>\n      <th>iniciales_nombre_2_fc</th>\n      <th>iniciales_nombre_2_m</th>\n      <th>iniciales_nombre_2_n</th>\n      <th>Areas_1</th>\n      <th>Areas_2</th>\n      <th>Areas_3</th>\n      <th>Areas_4</th>\n      <th>Areas_5</th>\n    </tr>\n  </thead>\n  <tbody>\n    <tr>\n      <th>15964</th>\n      <td>0.000000</td>\n      <td>0.108738</td>\n      <td>0.100000</td>\n      <td>0.002266</td>\n      <td>True</td>\n      <td>False</td>\n      <td>False</td>\n      <td>False</td>\n      <td>False</td>\n      <td>False</td>\n      <td>False</td>\n      <td>False</td>\n      <td>False</td>\n      <td>False</td>\n      <td>True</td>\n    </tr>\n    <tr>\n      <th>5038</th>\n      <td>0.180952</td>\n      <td>0.118058</td>\n      <td>0.100000</td>\n      <td>0.026711</td>\n      <td>True</td>\n      <td>False</td>\n      <td>False</td>\n      <td>False</td>\n      <td>False</td>\n      <td>False</td>\n      <td>False</td>\n      <td>False</td>\n      <td>True</td>\n      <td>False</td>\n      <td>False</td>\n    </tr>\n    <tr>\n      <th>8452</th>\n      <td>0.535714</td>\n      <td>0.320388</td>\n      <td>0.100000</td>\n      <td>0.068326</td>\n      <td>False</td>\n      <td>False</td>\n      <td>False</td>\n      <td>False</td>\n      <td>True</td>\n      <td>False</td>\n      <td>False</td>\n      <td>False</td>\n      <td>True</td>\n      <td>False</td>\n      <td>False</td>\n    </tr>\n    <tr>\n      <th>9573</th>\n      <td>0.180952</td>\n      <td>0.118058</td>\n      <td>0.250000</td>\n      <td>0.115462</td>\n      <td>True</td>\n      <td>False</td>\n      <td>False</td>\n      <td>False</td>\n      <td>False</td>\n      <td>False</td>\n      <td>False</td>\n      <td>False</td>\n      <td>True</td>\n      <td>False</td>\n      <td>False</td>\n    </tr>\n    <tr>\n      <th>22988</th>\n      <td>0.535714</td>\n      <td>0.669903</td>\n      <td>0.100000</td>\n      <td>0.001755</td>\n      <td>False</td>\n      <td>False</td>\n      <td>False</td>\n      <td>False</td>\n      <td>True</td>\n      <td>False</td>\n      <td>False</td>\n      <td>False</td>\n      <td>False</td>\n      <td>True</td>\n      <td>False</td>\n    </tr>\n    <tr>\n      <th>...</th>\n      <td>...</td>\n      <td>...</td>\n      <td>...</td>\n      <td>...</td>\n      <td>...</td>\n      <td>...</td>\n      <td>...</td>\n      <td>...</td>\n      <td>...</td>\n      <td>...</td>\n      <td>...</td>\n      <td>...</td>\n      <td>...</td>\n      <td>...</td>\n      <td>...</td>\n    </tr>\n    <tr>\n      <th>4291</th>\n      <td>0.180952</td>\n      <td>0.118058</td>\n      <td>0.100000</td>\n      <td>0.037498</td>\n      <td>True</td>\n      <td>False</td>\n      <td>False</td>\n      <td>False</td>\n      <td>False</td>\n      <td>False</td>\n      <td>False</td>\n      <td>False</td>\n      <td>True</td>\n      <td>False</td>\n      <td>False</td>\n    </tr>\n    <tr>\n      <th>1387</th>\n      <td>0.000000</td>\n      <td>0.029903</td>\n      <td>0.545455</td>\n      <td>0.002904</td>\n      <td>False</td>\n      <td>False</td>\n      <td>False</td>\n      <td>True</td>\n      <td>False</td>\n      <td>False</td>\n      <td>False</td>\n      <td>False</td>\n      <td>True</td>\n      <td>False</td>\n      <td>False</td>\n    </tr>\n    <tr>\n      <th>19061</th>\n      <td>0.535714</td>\n      <td>0.689320</td>\n      <td>0.100000</td>\n      <td>0.004691</td>\n      <td>False</td>\n      <td>False</td>\n      <td>False</td>\n      <td>False</td>\n      <td>True</td>\n      <td>False</td>\n      <td>False</td>\n      <td>False</td>\n      <td>True</td>\n      <td>False</td>\n      <td>False</td>\n    </tr>\n    <tr>\n      <th>3063</th>\n      <td>0.180952</td>\n      <td>0.118058</td>\n      <td>0.250000</td>\n      <td>0.115462</td>\n      <td>True</td>\n      <td>False</td>\n      <td>False</td>\n      <td>False</td>\n      <td>False</td>\n      <td>False</td>\n      <td>False</td>\n      <td>False</td>\n      <td>True</td>\n      <td>False</td>\n      <td>False</td>\n    </tr>\n    <tr>\n      <th>2782</th>\n      <td>0.023810</td>\n      <td>0.013592</td>\n      <td>0.250000</td>\n      <td>0.115462</td>\n      <td>True</td>\n      <td>False</td>\n      <td>False</td>\n      <td>False</td>\n      <td>False</td>\n      <td>False</td>\n      <td>False</td>\n      <td>False</td>\n      <td>True</td>\n      <td>False</td>\n      <td>False</td>\n    </tr>\n  </tbody>\n</table>\n<p>4693 rows × 15 columns</p>\n</div>"
     },
     "execution_count": 111,
     "metadata": {},
     "output_type": "execute_result"
    }
   ],
   "source": [
    "X_val"
   ],
   "metadata": {
    "collapsed": false,
    "ExecuteTime": {
     "end_time": "2023-11-01T15:43:54.944960500Z",
     "start_time": "2023-11-01T15:43:54.801739700Z"
    }
   },
   "id": "917e901829f02ab8"
  },
  {
   "cell_type": "code",
   "execution_count": 98,
   "outputs": [
    {
     "data": {
      "text/plain": "           edad  tiempo_titulacion  sexo_F  sexo_M  estado_civil_C  \\\n15964  0.295082           0.200000   False    True           False   \n5038   0.000000           0.316667   False    True           False   \n8452   0.311475           0.250000    True   False           False   \n9573   0.540984           0.333333   False    True           False   \n22988  0.000000           0.183333    True   False           False   \n...         ...                ...     ...     ...             ...   \n4291   0.262295           0.183333    True   False           False   \n1387   0.606557           0.300000   False    True            True   \n19061  0.377049           0.233333   False    True            True   \n3063   0.360656           0.166667   False    True            True   \n2782   0.327869           0.283333    True   False           False   \n\n       estado_civil_O  estado_civil_S  codigo_dpto_nacimiento_CH  \\\n15964           False            True                       True   \n5038            False            True                      False   \n8452            False            True                      False   \n9573            False            True                       True   \n22988           False            True                      False   \n...               ...             ...                        ...   \n4291            False            True                       True   \n1387            False           False                       True   \n19061           False           False                      False   \n3063            False           False                      False   \n2782            False            True                      False   \n\n       codigo_dpto_nacimiento_CO  codigo_dpto_nacimiento_LP  \\\n15964                      False                      False   \n5038                       False                      False   \n8452                       False                       True   \n9573                       False                      False   \n22988                      False                      False   \n...                          ...                        ...   \n4291                       False                      False   \n1387                       False                      False   \n19061                      False                       True   \n3063                       False                       True   \n2782                       False                      False   \n\n       codigo_dpto_nacimiento_OR  codigo_dpto_nacimiento_OTHER  \\\n15964                      False                         False   \n5038                        True                         False   \n8452                       False                         False   \n9573                       False                         False   \n22988                      False                         False   \n...                          ...                           ...   \n4291                       False                         False   \n1387                       False                         False   \n19061                      False                         False   \n3063                       False                         False   \n2782                       False                         False   \n\n       codigo_dpto_nacimiento_PO  codigo_dpto_nacimiento_SC  \\\n15964                      False                      False   \n5038                       False                      False   \n8452                       False                      False   \n9573                       False                      False   \n22988                      False                       True   \n...                          ...                        ...   \n4291                       False                      False   \n1387                       False                      False   \n19061                      False                      False   \n3063                       False                      False   \n2782                       False                       True   \n\n       codigo_pais_nacimiento_AR  codigo_pais_nacimiento_BO  \\\n15964                      False                       True   \n5038                       False                       True   \n8452                       False                       True   \n9573                       False                       True   \n22988                      False                       True   \n...                          ...                        ...   \n4291                       False                       True   \n1387                       False                       True   \n19061                      False                       True   \n3063                       False                       True   \n2782                       False                       True   \n\n       codigo_pais_nacimiento_LATE  codigo_pais_nacimiento_PE  \n15964                        False                      False  \n5038                         False                      False  \n8452                         False                      False  \n9573                         False                      False  \n22988                        False                      False  \n...                            ...                        ...  \n4291                         False                      False  \n1387                         False                      False  \n19061                        False                      False  \n3063                         False                      False  \n2782                         False                      False  \n\n[4693 rows x 18 columns]",
      "text/html": "<div>\n<style scoped>\n    .dataframe tbody tr th:only-of-type {\n        vertical-align: middle;\n    }\n\n    .dataframe tbody tr th {\n        vertical-align: top;\n    }\n\n    .dataframe thead th {\n        text-align: right;\n    }\n</style>\n<table border=\"1\" class=\"dataframe\">\n  <thead>\n    <tr style=\"text-align: right;\">\n      <th></th>\n      <th>edad</th>\n      <th>tiempo_titulacion</th>\n      <th>sexo_F</th>\n      <th>sexo_M</th>\n      <th>estado_civil_C</th>\n      <th>estado_civil_O</th>\n      <th>estado_civil_S</th>\n      <th>codigo_dpto_nacimiento_CH</th>\n      <th>codigo_dpto_nacimiento_CO</th>\n      <th>codigo_dpto_nacimiento_LP</th>\n      <th>codigo_dpto_nacimiento_OR</th>\n      <th>codigo_dpto_nacimiento_OTHER</th>\n      <th>codigo_dpto_nacimiento_PO</th>\n      <th>codigo_dpto_nacimiento_SC</th>\n      <th>codigo_pais_nacimiento_AR</th>\n      <th>codigo_pais_nacimiento_BO</th>\n      <th>codigo_pais_nacimiento_LATE</th>\n      <th>codigo_pais_nacimiento_PE</th>\n    </tr>\n  </thead>\n  <tbody>\n    <tr>\n      <th>15964</th>\n      <td>0.295082</td>\n      <td>0.200000</td>\n      <td>False</td>\n      <td>True</td>\n      <td>False</td>\n      <td>False</td>\n      <td>True</td>\n      <td>True</td>\n      <td>False</td>\n      <td>False</td>\n      <td>False</td>\n      <td>False</td>\n      <td>False</td>\n      <td>False</td>\n      <td>False</td>\n      <td>True</td>\n      <td>False</td>\n      <td>False</td>\n    </tr>\n    <tr>\n      <th>5038</th>\n      <td>0.000000</td>\n      <td>0.316667</td>\n      <td>False</td>\n      <td>True</td>\n      <td>False</td>\n      <td>False</td>\n      <td>True</td>\n      <td>False</td>\n      <td>False</td>\n      <td>False</td>\n      <td>True</td>\n      <td>False</td>\n      <td>False</td>\n      <td>False</td>\n      <td>False</td>\n      <td>True</td>\n      <td>False</td>\n      <td>False</td>\n    </tr>\n    <tr>\n      <th>8452</th>\n      <td>0.311475</td>\n      <td>0.250000</td>\n      <td>True</td>\n      <td>False</td>\n      <td>False</td>\n      <td>False</td>\n      <td>True</td>\n      <td>False</td>\n      <td>False</td>\n      <td>True</td>\n      <td>False</td>\n      <td>False</td>\n      <td>False</td>\n      <td>False</td>\n      <td>False</td>\n      <td>True</td>\n      <td>False</td>\n      <td>False</td>\n    </tr>\n    <tr>\n      <th>9573</th>\n      <td>0.540984</td>\n      <td>0.333333</td>\n      <td>False</td>\n      <td>True</td>\n      <td>False</td>\n      <td>False</td>\n      <td>True</td>\n      <td>True</td>\n      <td>False</td>\n      <td>False</td>\n      <td>False</td>\n      <td>False</td>\n      <td>False</td>\n      <td>False</td>\n      <td>False</td>\n      <td>True</td>\n      <td>False</td>\n      <td>False</td>\n    </tr>\n    <tr>\n      <th>22988</th>\n      <td>0.000000</td>\n      <td>0.183333</td>\n      <td>True</td>\n      <td>False</td>\n      <td>False</td>\n      <td>False</td>\n      <td>True</td>\n      <td>False</td>\n      <td>False</td>\n      <td>False</td>\n      <td>False</td>\n      <td>False</td>\n      <td>False</td>\n      <td>True</td>\n      <td>False</td>\n      <td>True</td>\n      <td>False</td>\n      <td>False</td>\n    </tr>\n    <tr>\n      <th>...</th>\n      <td>...</td>\n      <td>...</td>\n      <td>...</td>\n      <td>...</td>\n      <td>...</td>\n      <td>...</td>\n      <td>...</td>\n      <td>...</td>\n      <td>...</td>\n      <td>...</td>\n      <td>...</td>\n      <td>...</td>\n      <td>...</td>\n      <td>...</td>\n      <td>...</td>\n      <td>...</td>\n      <td>...</td>\n      <td>...</td>\n    </tr>\n    <tr>\n      <th>4291</th>\n      <td>0.262295</td>\n      <td>0.183333</td>\n      <td>True</td>\n      <td>False</td>\n      <td>False</td>\n      <td>False</td>\n      <td>True</td>\n      <td>True</td>\n      <td>False</td>\n      <td>False</td>\n      <td>False</td>\n      <td>False</td>\n      <td>False</td>\n      <td>False</td>\n      <td>False</td>\n      <td>True</td>\n      <td>False</td>\n      <td>False</td>\n    </tr>\n    <tr>\n      <th>1387</th>\n      <td>0.606557</td>\n      <td>0.300000</td>\n      <td>False</td>\n      <td>True</td>\n      <td>True</td>\n      <td>False</td>\n      <td>False</td>\n      <td>True</td>\n      <td>False</td>\n      <td>False</td>\n      <td>False</td>\n      <td>False</td>\n      <td>False</td>\n      <td>False</td>\n      <td>False</td>\n      <td>True</td>\n      <td>False</td>\n      <td>False</td>\n    </tr>\n    <tr>\n      <th>19061</th>\n      <td>0.377049</td>\n      <td>0.233333</td>\n      <td>False</td>\n      <td>True</td>\n      <td>True</td>\n      <td>False</td>\n      <td>False</td>\n      <td>False</td>\n      <td>False</td>\n      <td>True</td>\n      <td>False</td>\n      <td>False</td>\n      <td>False</td>\n      <td>False</td>\n      <td>False</td>\n      <td>True</td>\n      <td>False</td>\n      <td>False</td>\n    </tr>\n    <tr>\n      <th>3063</th>\n      <td>0.360656</td>\n      <td>0.166667</td>\n      <td>False</td>\n      <td>True</td>\n      <td>True</td>\n      <td>False</td>\n      <td>False</td>\n      <td>False</td>\n      <td>False</td>\n      <td>True</td>\n      <td>False</td>\n      <td>False</td>\n      <td>False</td>\n      <td>False</td>\n      <td>False</td>\n      <td>True</td>\n      <td>False</td>\n      <td>False</td>\n    </tr>\n    <tr>\n      <th>2782</th>\n      <td>0.327869</td>\n      <td>0.283333</td>\n      <td>True</td>\n      <td>False</td>\n      <td>False</td>\n      <td>False</td>\n      <td>True</td>\n      <td>False</td>\n      <td>False</td>\n      <td>False</td>\n      <td>False</td>\n      <td>False</td>\n      <td>False</td>\n      <td>True</td>\n      <td>False</td>\n      <td>True</td>\n      <td>False</td>\n      <td>False</td>\n    </tr>\n  </tbody>\n</table>\n<p>4693 rows × 18 columns</p>\n</div>"
     },
     "execution_count": 98,
     "metadata": {},
     "output_type": "execute_result"
    }
   ],
   "source": [
    "y_val"
   ],
   "metadata": {
    "collapsed": false,
    "ExecuteTime": {
     "end_time": "2023-11-01T15:33:18.833199Z",
     "start_time": "2023-11-01T15:33:18.786931200Z"
    }
   },
   "id": "af3a3304b165f4a2"
  },
  {
   "cell_type": "code",
   "execution_count": 93,
   "outputs": [
    {
     "data": {
      "text/plain": "(4693, 15)"
     },
     "execution_count": 93,
     "metadata": {},
     "output_type": "execute_result"
    }
   ],
   "source": [
    "X_test.shape"
   ],
   "metadata": {
    "collapsed": false,
    "ExecuteTime": {
     "end_time": "2023-11-01T15:10:48.665549Z",
     "start_time": "2023-11-01T15:10:48.632926Z"
    }
   },
   "id": "f1121c1bc7eb2a41"
  }
 ],
 "metadata": {
  "kernelspec": {
   "display_name": "Python 3",
   "language": "python",
   "name": "python3"
  },
  "language_info": {
   "codemirror_mode": {
    "name": "ipython",
    "version": 2
   },
   "file_extension": ".py",
   "mimetype": "text/x-python",
   "name": "python",
   "nbconvert_exporter": "python",
   "pygments_lexer": "ipython2",
   "version": "2.7.6"
  }
 },
 "nbformat": 4,
 "nbformat_minor": 5
}
