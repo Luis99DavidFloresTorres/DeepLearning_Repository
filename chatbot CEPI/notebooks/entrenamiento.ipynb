{
 "cells": [
  {
   "cell_type": "code",
   "execution_count": 1,
   "id": "initial_id",
   "metadata": {
    "collapsed": true,
    "ExecuteTime": {
     "end_time": "2023-11-03T15:54:47.296099900Z",
     "start_time": "2023-11-03T15:54:47.112266500Z"
    }
   },
   "outputs": [],
   "source": [
    "import pandas as pd\n",
    "dfC = 'E:/chatbot/data/dfClean.csv'\n",
    "dfClean = pd.read_csv(dfC)"
   ]
  },
  {
   "cell_type": "code",
   "execution_count": 2,
   "outputs": [
    {
     "data": {
      "text/plain": "Index(['id', 'monto_tutoria', 'costo_programa', 'dep_inicial',\n       'siglaNoVersion', 'siglaNoVersionNumero', 'nombre', 'edad',\n       'tiempo_titulacion', 'sexo_F', 'sexo_M', 'estado_civil_C',\n       'estado_civil_O', 'estado_civil_S', 'iniciales_nombre_2_dip',\n       'iniciales_nombre_2_doc', 'iniciales_nombre_2_e',\n       'iniciales_nombre_2_fc', 'iniciales_nombre_2_m', 'iniciales_nombre_2_n',\n       'Areas_1', 'Areas_2', 'Areas_3', 'Areas_4', 'Areas_5',\n       'codigo_dpto_nacimiento_CH', 'codigo_dpto_nacimiento_CO',\n       'codigo_dpto_nacimiento_LP', 'codigo_dpto_nacimiento_OR',\n       'codigo_dpto_nacimiento_OTHER', 'codigo_dpto_nacimiento_PO',\n       'codigo_dpto_nacimiento_SC', 'codigo_pais_nacimiento_AR',\n       'codigo_pais_nacimiento_BO', 'codigo_pais_nacimiento_LATE',\n       'codigo_pais_nacimiento_PE'],\n      dtype='object')"
     },
     "execution_count": 2,
     "metadata": {},
     "output_type": "execute_result"
    }
   ],
   "source": [
    "dfClean.columns"
   ],
   "metadata": {
    "collapsed": false,
    "ExecuteTime": {
     "end_time": "2023-11-03T15:54:47.312723400Z",
     "start_time": "2023-11-03T15:54:47.295109800Z"
    }
   },
   "id": "b8e7fa7c0aa8dd90"
  },
  {
   "cell_type": "code",
   "execution_count": 3,
   "outputs": [],
   "source": [
    "client_features_columns = ['edad','tiempo_titulacion','sexo_F','sexo_M','estado_civil_C','estado_civil_O','estado_civil_S','codigo_dpto_nacimiento_CH','codigo_dpto_nacimiento_CO','codigo_dpto_nacimiento_LP','codigo_dpto_nacimiento_OR','codigo_dpto_nacimiento_OTHER','codigo_dpto_nacimiento_PO','codigo_dpto_nacimiento_SC','codigo_pais_nacimiento_AR','codigo_pais_nacimiento_BO','codigo_pais_nacimiento_LATE','codigo_pais_nacimiento_PE']"
   ],
   "metadata": {
    "collapsed": false,
    "ExecuteTime": {
     "end_time": "2023-11-03T15:56:51.304413Z",
     "start_time": "2023-11-03T15:56:51.266910900Z"
    }
   },
   "id": "d1dd027eb0df2b21"
  },
  {
   "cell_type": "code",
   "execution_count": 4,
   "outputs": [
    {
     "data": {
      "text/plain": "Index(['edad', 'tiempo_titulacion', 'sexo_F', 'sexo_M', 'estado_civil_C',\n       'estado_civil_O', 'estado_civil_S', 'codigo_dpto_nacimiento_CH',\n       'codigo_dpto_nacimiento_CO', 'codigo_dpto_nacimiento_LP',\n       'codigo_dpto_nacimiento_OR', 'codigo_dpto_nacimiento_OTHER',\n       'codigo_dpto_nacimiento_PO', 'codigo_dpto_nacimiento_SC',\n       'codigo_pais_nacimiento_AR', 'codigo_pais_nacimiento_BO',\n       'codigo_pais_nacimiento_LATE', 'codigo_pais_nacimiento_PE'],\n      dtype='object')"
     },
     "execution_count": 4,
     "metadata": {},
     "output_type": "execute_result"
    }
   ],
   "source": [
    "client_features = dfClean[client_features_columns]\n",
    "client_features.columns"
   ],
   "metadata": {
    "collapsed": false,
    "ExecuteTime": {
     "end_time": "2023-11-03T15:56:51.619172200Z",
     "start_time": "2023-11-03T15:56:51.551850100Z"
    }
   },
   "id": "2731ada6e646ecbd"
  },
  {
   "cell_type": "code",
   "execution_count": 5,
   "outputs": [
    {
     "data": {
      "text/plain": "       monto_tutoria  costo_programa  dep_inicial  siglaNoVersion  \\\n0           0.071429        0.042718          0.2        0.068326   \n1           0.071429        0.042718          0.2        0.068326   \n2           0.071429        0.042718          0.2        0.068326   \n3           0.071429        0.042718          0.2        0.068326   \n4           0.071429        0.042718          0.2        0.068326   \n...              ...             ...          ...             ...   \n31330       0.000000        0.147573          0.1        0.000447   \n31331       0.589286        0.147573          0.1        0.000447   \n31332       0.535714        0.147573          0.1        0.000447   \n31333       0.589286        0.147573          0.1        0.000447   \n31334       0.589286        0.147573          0.1        0.000447   \n\n       iniciales_nombre_2_dip  iniciales_nombre_2_doc  iniciales_nombre_2_e  \\\n0                       False                   False                 False   \n1                       False                   False                 False   \n2                       False                   False                 False   \n3                       False                   False                 False   \n4                       False                   False                 False   \n...                       ...                     ...                   ...   \n31330                    True                   False                 False   \n31331                    True                   False                 False   \n31332                    True                   False                 False   \n31333                    True                   False                 False   \n31334                    True                   False                 False   \n\n       iniciales_nombre_2_fc  iniciales_nombre_2_m  iniciales_nombre_2_n  \\\n0                      False                  True                 False   \n1                      False                  True                 False   \n2                      False                  True                 False   \n3                      False                  True                 False   \n4                      False                  True                 False   \n...                      ...                   ...                   ...   \n31330                  False                 False                 False   \n31331                  False                 False                 False   \n31332                  False                 False                 False   \n31333                  False                 False                 False   \n31334                  False                 False                 False   \n\n       Areas_1  Areas_2  Areas_3  Areas_4  Areas_5  \n0        False    False     True    False    False  \n1        False    False     True    False    False  \n2        False    False     True    False    False  \n3        False    False     True    False    False  \n4        False    False     True    False    False  \n...        ...      ...      ...      ...      ...  \n31330    False     True    False    False    False  \n31331    False     True    False    False    False  \n31332    False     True    False    False    False  \n31333    False     True    False    False    False  \n31334    False     True    False    False    False  \n\n[31335 rows x 15 columns]",
      "text/html": "<div>\n<style scoped>\n    .dataframe tbody tr th:only-of-type {\n        vertical-align: middle;\n    }\n\n    .dataframe tbody tr th {\n        vertical-align: top;\n    }\n\n    .dataframe thead th {\n        text-align: right;\n    }\n</style>\n<table border=\"1\" class=\"dataframe\">\n  <thead>\n    <tr style=\"text-align: right;\">\n      <th></th>\n      <th>monto_tutoria</th>\n      <th>costo_programa</th>\n      <th>dep_inicial</th>\n      <th>siglaNoVersion</th>\n      <th>iniciales_nombre_2_dip</th>\n      <th>iniciales_nombre_2_doc</th>\n      <th>iniciales_nombre_2_e</th>\n      <th>iniciales_nombre_2_fc</th>\n      <th>iniciales_nombre_2_m</th>\n      <th>iniciales_nombre_2_n</th>\n      <th>Areas_1</th>\n      <th>Areas_2</th>\n      <th>Areas_3</th>\n      <th>Areas_4</th>\n      <th>Areas_5</th>\n    </tr>\n  </thead>\n  <tbody>\n    <tr>\n      <th>0</th>\n      <td>0.071429</td>\n      <td>0.042718</td>\n      <td>0.2</td>\n      <td>0.068326</td>\n      <td>False</td>\n      <td>False</td>\n      <td>False</td>\n      <td>False</td>\n      <td>True</td>\n      <td>False</td>\n      <td>False</td>\n      <td>False</td>\n      <td>True</td>\n      <td>False</td>\n      <td>False</td>\n    </tr>\n    <tr>\n      <th>1</th>\n      <td>0.071429</td>\n      <td>0.042718</td>\n      <td>0.2</td>\n      <td>0.068326</td>\n      <td>False</td>\n      <td>False</td>\n      <td>False</td>\n      <td>False</td>\n      <td>True</td>\n      <td>False</td>\n      <td>False</td>\n      <td>False</td>\n      <td>True</td>\n      <td>False</td>\n      <td>False</td>\n    </tr>\n    <tr>\n      <th>2</th>\n      <td>0.071429</td>\n      <td>0.042718</td>\n      <td>0.2</td>\n      <td>0.068326</td>\n      <td>False</td>\n      <td>False</td>\n      <td>False</td>\n      <td>False</td>\n      <td>True</td>\n      <td>False</td>\n      <td>False</td>\n      <td>False</td>\n      <td>True</td>\n      <td>False</td>\n      <td>False</td>\n    </tr>\n    <tr>\n      <th>3</th>\n      <td>0.071429</td>\n      <td>0.042718</td>\n      <td>0.2</td>\n      <td>0.068326</td>\n      <td>False</td>\n      <td>False</td>\n      <td>False</td>\n      <td>False</td>\n      <td>True</td>\n      <td>False</td>\n      <td>False</td>\n      <td>False</td>\n      <td>True</td>\n      <td>False</td>\n      <td>False</td>\n    </tr>\n    <tr>\n      <th>4</th>\n      <td>0.071429</td>\n      <td>0.042718</td>\n      <td>0.2</td>\n      <td>0.068326</td>\n      <td>False</td>\n      <td>False</td>\n      <td>False</td>\n      <td>False</td>\n      <td>True</td>\n      <td>False</td>\n      <td>False</td>\n      <td>False</td>\n      <td>True</td>\n      <td>False</td>\n      <td>False</td>\n    </tr>\n    <tr>\n      <th>...</th>\n      <td>...</td>\n      <td>...</td>\n      <td>...</td>\n      <td>...</td>\n      <td>...</td>\n      <td>...</td>\n      <td>...</td>\n      <td>...</td>\n      <td>...</td>\n      <td>...</td>\n      <td>...</td>\n      <td>...</td>\n      <td>...</td>\n      <td>...</td>\n      <td>...</td>\n    </tr>\n    <tr>\n      <th>31330</th>\n      <td>0.000000</td>\n      <td>0.147573</td>\n      <td>0.1</td>\n      <td>0.000447</td>\n      <td>True</td>\n      <td>False</td>\n      <td>False</td>\n      <td>False</td>\n      <td>False</td>\n      <td>False</td>\n      <td>False</td>\n      <td>True</td>\n      <td>False</td>\n      <td>False</td>\n      <td>False</td>\n    </tr>\n    <tr>\n      <th>31331</th>\n      <td>0.589286</td>\n      <td>0.147573</td>\n      <td>0.1</td>\n      <td>0.000447</td>\n      <td>True</td>\n      <td>False</td>\n      <td>False</td>\n      <td>False</td>\n      <td>False</td>\n      <td>False</td>\n      <td>False</td>\n      <td>True</td>\n      <td>False</td>\n      <td>False</td>\n      <td>False</td>\n    </tr>\n    <tr>\n      <th>31332</th>\n      <td>0.535714</td>\n      <td>0.147573</td>\n      <td>0.1</td>\n      <td>0.000447</td>\n      <td>True</td>\n      <td>False</td>\n      <td>False</td>\n      <td>False</td>\n      <td>False</td>\n      <td>False</td>\n      <td>False</td>\n      <td>True</td>\n      <td>False</td>\n      <td>False</td>\n      <td>False</td>\n    </tr>\n    <tr>\n      <th>31333</th>\n      <td>0.589286</td>\n      <td>0.147573</td>\n      <td>0.1</td>\n      <td>0.000447</td>\n      <td>True</td>\n      <td>False</td>\n      <td>False</td>\n      <td>False</td>\n      <td>False</td>\n      <td>False</td>\n      <td>False</td>\n      <td>True</td>\n      <td>False</td>\n      <td>False</td>\n      <td>False</td>\n    </tr>\n    <tr>\n      <th>31334</th>\n      <td>0.589286</td>\n      <td>0.147573</td>\n      <td>0.1</td>\n      <td>0.000447</td>\n      <td>True</td>\n      <td>False</td>\n      <td>False</td>\n      <td>False</td>\n      <td>False</td>\n      <td>False</td>\n      <td>False</td>\n      <td>True</td>\n      <td>False</td>\n      <td>False</td>\n      <td>False</td>\n    </tr>\n  </tbody>\n</table>\n<p>31335 rows × 15 columns</p>\n</div>"
     },
     "execution_count": 5,
     "metadata": {},
     "output_type": "execute_result"
    }
   ],
   "source": [
    "programa_features_columns =['monto_tutoria','costo_programa','dep_inicial','siglaNoVersion','iniciales_nombre_2_dip','iniciales_nombre_2_doc','iniciales_nombre_2_e','iniciales_nombre_2_fc','iniciales_nombre_2_m','iniciales_nombre_2_n','Areas_1','Areas_2','Areas_3','Areas_4','Areas_5']\n",
    "programa_features = dfClean[programa_features_columns]\n",
    "programa_features"
   ],
   "metadata": {
    "collapsed": false,
    "ExecuteTime": {
     "end_time": "2023-11-03T15:56:51.883001200Z",
     "start_time": "2023-11-03T15:56:51.788486200Z"
    }
   },
   "id": "b1fdeb2ed50f5c59"
  },
  {
   "cell_type": "code",
   "execution_count": 6,
   "outputs": [
    {
     "ename": "ValueError",
     "evalue": "Input contains NaN.",
     "output_type": "error",
     "traceback": [
      "\u001B[1;31m---------------------------------------------------------------------------\u001B[0m",
      "\u001B[1;31mValueError\u001B[0m                                Traceback (most recent call last)",
      "Cell \u001B[1;32mIn[6], line 8\u001B[0m\n\u001B[0;32m      2\u001B[0m \u001B[38;5;28;01mfrom\u001B[39;00m \u001B[38;5;21;01msklearn\u001B[39;00m\u001B[38;5;21;01m.\u001B[39;00m\u001B[38;5;21;01mmetrics\u001B[39;00m\u001B[38;5;21;01m.\u001B[39;00m\u001B[38;5;21;01mpairwise\u001B[39;00m \u001B[38;5;28;01mimport\u001B[39;00m cosine_similarity\n\u001B[0;32m      4\u001B[0m \u001B[38;5;66;03m# Supongamos que tienes un conjunto de características etiquetadas como se describió anteriormente\u001B[39;00m\n\u001B[0;32m      5\u001B[0m \u001B[38;5;66;03m# También supongamos que tienes un cliente específico con características\u001B[39;00m\n\u001B[0;32m      6\u001B[0m \n\u001B[0;32m      7\u001B[0m \u001B[38;5;66;03m# Calcular la similitud coseno entre las características del cliente y las características de los programas\u001B[39;00m\n\u001B[1;32m----> 8\u001B[0m similarities \u001B[38;5;241m=\u001B[39m \u001B[43mcosine_similarity\u001B[49m\u001B[43m(\u001B[49m\u001B[43mclient_features\u001B[49m\u001B[43m,\u001B[49m\u001B[43m \u001B[49m\u001B[43mprograma_features\u001B[49m\u001B[43m)\u001B[49m\n\u001B[0;32m     10\u001B[0m \u001B[38;5;66;03m# Obtener los índices de los programas ordenados por similitud descendente\u001B[39;00m\n\u001B[0;32m     11\u001B[0m program_indexes \u001B[38;5;241m=\u001B[39m np\u001B[38;5;241m.\u001B[39margsort(similarities[\u001B[38;5;241m0\u001B[39m])[::\u001B[38;5;241m-\u001B[39m\u001B[38;5;241m1\u001B[39m]\n",
      "File \u001B[1;32mE:\\chatbot\\venv\\Lib\\site-packages\\sklearn\\utils\\_param_validation.py:214\u001B[0m, in \u001B[0;36mvalidate_params.<locals>.decorator.<locals>.wrapper\u001B[1;34m(*args, **kwargs)\u001B[0m\n\u001B[0;32m    208\u001B[0m \u001B[38;5;28;01mtry\u001B[39;00m:\n\u001B[0;32m    209\u001B[0m     \u001B[38;5;28;01mwith\u001B[39;00m config_context(\n\u001B[0;32m    210\u001B[0m         skip_parameter_validation\u001B[38;5;241m=\u001B[39m(\n\u001B[0;32m    211\u001B[0m             prefer_skip_nested_validation \u001B[38;5;129;01mor\u001B[39;00m global_skip_validation\n\u001B[0;32m    212\u001B[0m         )\n\u001B[0;32m    213\u001B[0m     ):\n\u001B[1;32m--> 214\u001B[0m         \u001B[38;5;28;01mreturn\u001B[39;00m \u001B[43mfunc\u001B[49m\u001B[43m(\u001B[49m\u001B[38;5;241;43m*\u001B[39;49m\u001B[43margs\u001B[49m\u001B[43m,\u001B[49m\u001B[43m \u001B[49m\u001B[38;5;241;43m*\u001B[39;49m\u001B[38;5;241;43m*\u001B[39;49m\u001B[43mkwargs\u001B[49m\u001B[43m)\u001B[49m\n\u001B[0;32m    215\u001B[0m \u001B[38;5;28;01mexcept\u001B[39;00m InvalidParameterError \u001B[38;5;28;01mas\u001B[39;00m e:\n\u001B[0;32m    216\u001B[0m     \u001B[38;5;66;03m# When the function is just a wrapper around an estimator, we allow\u001B[39;00m\n\u001B[0;32m    217\u001B[0m     \u001B[38;5;66;03m# the function to delegate validation to the estimator, but we replace\u001B[39;00m\n\u001B[0;32m    218\u001B[0m     \u001B[38;5;66;03m# the name of the estimator by the name of the function in the error\u001B[39;00m\n\u001B[0;32m    219\u001B[0m     \u001B[38;5;66;03m# message to avoid confusion.\u001B[39;00m\n\u001B[0;32m    220\u001B[0m     msg \u001B[38;5;241m=\u001B[39m re\u001B[38;5;241m.\u001B[39msub(\n\u001B[0;32m    221\u001B[0m         \u001B[38;5;124mr\u001B[39m\u001B[38;5;124m\"\u001B[39m\u001B[38;5;124mparameter of \u001B[39m\u001B[38;5;124m\\\u001B[39m\u001B[38;5;124mw+ must be\u001B[39m\u001B[38;5;124m\"\u001B[39m,\n\u001B[0;32m    222\u001B[0m         \u001B[38;5;124mf\u001B[39m\u001B[38;5;124m\"\u001B[39m\u001B[38;5;124mparameter of \u001B[39m\u001B[38;5;132;01m{\u001B[39;00mfunc\u001B[38;5;241m.\u001B[39m\u001B[38;5;18m__qualname__\u001B[39m\u001B[38;5;132;01m}\u001B[39;00m\u001B[38;5;124m must be\u001B[39m\u001B[38;5;124m\"\u001B[39m,\n\u001B[0;32m    223\u001B[0m         \u001B[38;5;28mstr\u001B[39m(e),\n\u001B[0;32m    224\u001B[0m     )\n",
      "File \u001B[1;32mE:\\chatbot\\venv\\Lib\\site-packages\\sklearn\\metrics\\pairwise.py:1578\u001B[0m, in \u001B[0;36mcosine_similarity\u001B[1;34m(X, Y, dense_output)\u001B[0m\n\u001B[0;32m   1543\u001B[0m \u001B[38;5;250m\u001B[39m\u001B[38;5;124;03m\"\"\"Compute cosine similarity between samples in X and Y.\u001B[39;00m\n\u001B[0;32m   1544\u001B[0m \n\u001B[0;32m   1545\u001B[0m \u001B[38;5;124;03mCosine similarity, or the cosine kernel, computes similarity as the\u001B[39;00m\n\u001B[1;32m   (...)\u001B[0m\n\u001B[0;32m   1574\u001B[0m \u001B[38;5;124;03m    Returns the cosine similarity between samples in X and Y.\u001B[39;00m\n\u001B[0;32m   1575\u001B[0m \u001B[38;5;124;03m\"\"\"\u001B[39;00m\n\u001B[0;32m   1576\u001B[0m \u001B[38;5;66;03m# to avoid recursive import\u001B[39;00m\n\u001B[1;32m-> 1578\u001B[0m X, Y \u001B[38;5;241m=\u001B[39m \u001B[43mcheck_pairwise_arrays\u001B[49m\u001B[43m(\u001B[49m\u001B[43mX\u001B[49m\u001B[43m,\u001B[49m\u001B[43m \u001B[49m\u001B[43mY\u001B[49m\u001B[43m)\u001B[49m\n\u001B[0;32m   1580\u001B[0m X_normalized \u001B[38;5;241m=\u001B[39m normalize(X, copy\u001B[38;5;241m=\u001B[39m\u001B[38;5;28;01mTrue\u001B[39;00m)\n\u001B[0;32m   1581\u001B[0m \u001B[38;5;28;01mif\u001B[39;00m X \u001B[38;5;129;01mis\u001B[39;00m Y:\n",
      "File \u001B[1;32mE:\\chatbot\\venv\\Lib\\site-packages\\sklearn\\metrics\\pairwise.py:173\u001B[0m, in \u001B[0;36mcheck_pairwise_arrays\u001B[1;34m(X, Y, precomputed, dtype, accept_sparse, force_all_finite, copy)\u001B[0m\n\u001B[0;32m    164\u001B[0m \u001B[38;5;28;01melse\u001B[39;00m:\n\u001B[0;32m    165\u001B[0m     X \u001B[38;5;241m=\u001B[39m check_array(\n\u001B[0;32m    166\u001B[0m         X,\n\u001B[0;32m    167\u001B[0m         accept_sparse\u001B[38;5;241m=\u001B[39maccept_sparse,\n\u001B[1;32m   (...)\u001B[0m\n\u001B[0;32m    171\u001B[0m         estimator\u001B[38;5;241m=\u001B[39mestimator,\n\u001B[0;32m    172\u001B[0m     )\n\u001B[1;32m--> 173\u001B[0m     Y \u001B[38;5;241m=\u001B[39m \u001B[43mcheck_array\u001B[49m\u001B[43m(\u001B[49m\n\u001B[0;32m    174\u001B[0m \u001B[43m        \u001B[49m\u001B[43mY\u001B[49m\u001B[43m,\u001B[49m\n\u001B[0;32m    175\u001B[0m \u001B[43m        \u001B[49m\u001B[43maccept_sparse\u001B[49m\u001B[38;5;241;43m=\u001B[39;49m\u001B[43maccept_sparse\u001B[49m\u001B[43m,\u001B[49m\n\u001B[0;32m    176\u001B[0m \u001B[43m        \u001B[49m\u001B[43mdtype\u001B[49m\u001B[38;5;241;43m=\u001B[39;49m\u001B[43mdtype\u001B[49m\u001B[43m,\u001B[49m\n\u001B[0;32m    177\u001B[0m \u001B[43m        \u001B[49m\u001B[43mcopy\u001B[49m\u001B[38;5;241;43m=\u001B[39;49m\u001B[43mcopy\u001B[49m\u001B[43m,\u001B[49m\n\u001B[0;32m    178\u001B[0m \u001B[43m        \u001B[49m\u001B[43mforce_all_finite\u001B[49m\u001B[38;5;241;43m=\u001B[39;49m\u001B[43mforce_all_finite\u001B[49m\u001B[43m,\u001B[49m\n\u001B[0;32m    179\u001B[0m \u001B[43m        \u001B[49m\u001B[43mestimator\u001B[49m\u001B[38;5;241;43m=\u001B[39;49m\u001B[43mestimator\u001B[49m\u001B[43m,\u001B[49m\n\u001B[0;32m    180\u001B[0m \u001B[43m    \u001B[49m\u001B[43m)\u001B[49m\n\u001B[0;32m    182\u001B[0m \u001B[38;5;28;01mif\u001B[39;00m precomputed:\n\u001B[0;32m    183\u001B[0m     \u001B[38;5;28;01mif\u001B[39;00m X\u001B[38;5;241m.\u001B[39mshape[\u001B[38;5;241m1\u001B[39m] \u001B[38;5;241m!=\u001B[39m Y\u001B[38;5;241m.\u001B[39mshape[\u001B[38;5;241m0\u001B[39m]:\n",
      "File \u001B[1;32mE:\\chatbot\\venv\\Lib\\site-packages\\sklearn\\utils\\validation.py:957\u001B[0m, in \u001B[0;36mcheck_array\u001B[1;34m(array, accept_sparse, accept_large_sparse, dtype, order, copy, force_all_finite, ensure_2d, allow_nd, ensure_min_samples, ensure_min_features, estimator, input_name)\u001B[0m\n\u001B[0;32m    951\u001B[0m         \u001B[38;5;28;01mraise\u001B[39;00m \u001B[38;5;167;01mValueError\u001B[39;00m(\n\u001B[0;32m    952\u001B[0m             \u001B[38;5;124m\"\u001B[39m\u001B[38;5;124mFound array with dim \u001B[39m\u001B[38;5;132;01m%d\u001B[39;00m\u001B[38;5;124m. \u001B[39m\u001B[38;5;132;01m%s\u001B[39;00m\u001B[38;5;124m expected <= 2.\u001B[39m\u001B[38;5;124m\"\u001B[39m\n\u001B[0;32m    953\u001B[0m             \u001B[38;5;241m%\u001B[39m (array\u001B[38;5;241m.\u001B[39mndim, estimator_name)\n\u001B[0;32m    954\u001B[0m         )\n\u001B[0;32m    956\u001B[0m     \u001B[38;5;28;01mif\u001B[39;00m force_all_finite:\n\u001B[1;32m--> 957\u001B[0m         \u001B[43m_assert_all_finite\u001B[49m\u001B[43m(\u001B[49m\n\u001B[0;32m    958\u001B[0m \u001B[43m            \u001B[49m\u001B[43marray\u001B[49m\u001B[43m,\u001B[49m\n\u001B[0;32m    959\u001B[0m \u001B[43m            \u001B[49m\u001B[43minput_name\u001B[49m\u001B[38;5;241;43m=\u001B[39;49m\u001B[43minput_name\u001B[49m\u001B[43m,\u001B[49m\n\u001B[0;32m    960\u001B[0m \u001B[43m            \u001B[49m\u001B[43mestimator_name\u001B[49m\u001B[38;5;241;43m=\u001B[39;49m\u001B[43mestimator_name\u001B[49m\u001B[43m,\u001B[49m\n\u001B[0;32m    961\u001B[0m \u001B[43m            \u001B[49m\u001B[43mallow_nan\u001B[49m\u001B[38;5;241;43m=\u001B[39;49m\u001B[43mforce_all_finite\u001B[49m\u001B[43m \u001B[49m\u001B[38;5;241;43m==\u001B[39;49m\u001B[43m \u001B[49m\u001B[38;5;124;43m\"\u001B[39;49m\u001B[38;5;124;43mallow-nan\u001B[39;49m\u001B[38;5;124;43m\"\u001B[39;49m\u001B[43m,\u001B[49m\n\u001B[0;32m    962\u001B[0m \u001B[43m        \u001B[49m\u001B[43m)\u001B[49m\n\u001B[0;32m    964\u001B[0m \u001B[38;5;28;01mif\u001B[39;00m ensure_min_samples \u001B[38;5;241m>\u001B[39m \u001B[38;5;241m0\u001B[39m:\n\u001B[0;32m    965\u001B[0m     n_samples \u001B[38;5;241m=\u001B[39m _num_samples(array)\n",
      "File \u001B[1;32mE:\\chatbot\\venv\\Lib\\site-packages\\sklearn\\utils\\validation.py:122\u001B[0m, in \u001B[0;36m_assert_all_finite\u001B[1;34m(X, allow_nan, msg_dtype, estimator_name, input_name)\u001B[0m\n\u001B[0;32m    119\u001B[0m \u001B[38;5;28;01mif\u001B[39;00m first_pass_isfinite:\n\u001B[0;32m    120\u001B[0m     \u001B[38;5;28;01mreturn\u001B[39;00m\n\u001B[1;32m--> 122\u001B[0m \u001B[43m_assert_all_finite_element_wise\u001B[49m\u001B[43m(\u001B[49m\n\u001B[0;32m    123\u001B[0m \u001B[43m    \u001B[49m\u001B[43mX\u001B[49m\u001B[43m,\u001B[49m\n\u001B[0;32m    124\u001B[0m \u001B[43m    \u001B[49m\u001B[43mxp\u001B[49m\u001B[38;5;241;43m=\u001B[39;49m\u001B[43mxp\u001B[49m\u001B[43m,\u001B[49m\n\u001B[0;32m    125\u001B[0m \u001B[43m    \u001B[49m\u001B[43mallow_nan\u001B[49m\u001B[38;5;241;43m=\u001B[39;49m\u001B[43mallow_nan\u001B[49m\u001B[43m,\u001B[49m\n\u001B[0;32m    126\u001B[0m \u001B[43m    \u001B[49m\u001B[43mmsg_dtype\u001B[49m\u001B[38;5;241;43m=\u001B[39;49m\u001B[43mmsg_dtype\u001B[49m\u001B[43m,\u001B[49m\n\u001B[0;32m    127\u001B[0m \u001B[43m    \u001B[49m\u001B[43mestimator_name\u001B[49m\u001B[38;5;241;43m=\u001B[39;49m\u001B[43mestimator_name\u001B[49m\u001B[43m,\u001B[49m\n\u001B[0;32m    128\u001B[0m \u001B[43m    \u001B[49m\u001B[43minput_name\u001B[49m\u001B[38;5;241;43m=\u001B[39;49m\u001B[43minput_name\u001B[49m\u001B[43m,\u001B[49m\n\u001B[0;32m    129\u001B[0m \u001B[43m\u001B[49m\u001B[43m)\u001B[49m\n",
      "File \u001B[1;32mE:\\chatbot\\venv\\Lib\\site-packages\\sklearn\\utils\\validation.py:171\u001B[0m, in \u001B[0;36m_assert_all_finite_element_wise\u001B[1;34m(X, xp, allow_nan, msg_dtype, estimator_name, input_name)\u001B[0m\n\u001B[0;32m    154\u001B[0m \u001B[38;5;28;01mif\u001B[39;00m estimator_name \u001B[38;5;129;01mand\u001B[39;00m input_name \u001B[38;5;241m==\u001B[39m \u001B[38;5;124m\"\u001B[39m\u001B[38;5;124mX\u001B[39m\u001B[38;5;124m\"\u001B[39m \u001B[38;5;129;01mand\u001B[39;00m has_nan_error:\n\u001B[0;32m    155\u001B[0m     \u001B[38;5;66;03m# Improve the error message on how to handle missing values in\u001B[39;00m\n\u001B[0;32m    156\u001B[0m     \u001B[38;5;66;03m# scikit-learn.\u001B[39;00m\n\u001B[0;32m    157\u001B[0m     msg_err \u001B[38;5;241m+\u001B[39m\u001B[38;5;241m=\u001B[39m (\n\u001B[0;32m    158\u001B[0m         \u001B[38;5;124mf\u001B[39m\u001B[38;5;124m\"\u001B[39m\u001B[38;5;130;01m\\n\u001B[39;00m\u001B[38;5;132;01m{\u001B[39;00mestimator_name\u001B[38;5;132;01m}\u001B[39;00m\u001B[38;5;124m does not accept missing values\u001B[39m\u001B[38;5;124m\"\u001B[39m\n\u001B[0;32m    159\u001B[0m         \u001B[38;5;124m\"\u001B[39m\u001B[38;5;124m encoded as NaN natively. For supervised learning, you might want\u001B[39m\u001B[38;5;124m\"\u001B[39m\n\u001B[1;32m   (...)\u001B[0m\n\u001B[0;32m    169\u001B[0m         \u001B[38;5;124m\"\u001B[39m\u001B[38;5;124m#estimators-that-handle-nan-values\u001B[39m\u001B[38;5;124m\"\u001B[39m\n\u001B[0;32m    170\u001B[0m     )\n\u001B[1;32m--> 171\u001B[0m \u001B[38;5;28;01mraise\u001B[39;00m \u001B[38;5;167;01mValueError\u001B[39;00m(msg_err)\n",
      "\u001B[1;31mValueError\u001B[0m: Input contains NaN."
     ]
    }
   ],
   "source": [
    "import numpy as np\n",
    "from sklearn.metrics.pairwise import cosine_similarity\n",
    "\n",
    "# Supongamos que tienes un conjunto de características etiquetadas como se describió anteriormente\n",
    "# También supongamos que tienes un cliente específico con características\n",
    "\n",
    "# Calcular la similitud coseno entre las características del cliente y las características de los programas\n",
    "similarities = cosine_similarity(client_features, programa_features)\n",
    "\n",
    "# Obtener los índices de los programas ordenados por similitud descendente\n",
    "program_indexes = np.argsort(similarities[0])[::-1]\n",
    "\n",
    "# Recomendar los programas más similares al cliente\n",
    "num_recommendations = 5  # Puedes ajustar el número de recomendaciones\n",
    "recommended_programs = program_indexes[:num_recommendations]\n",
    "\n",
    "# Muestra los programas recomendados al cliente\n",
    "for i, program_index in enumerate(recommended_programs):\n",
    "    print(f\"Recomendación {i + 1}: Programa {program_index}\")"
   ],
   "metadata": {
    "collapsed": false,
    "ExecuteTime": {
     "end_time": "2023-11-03T15:56:53.899252400Z",
     "start_time": "2023-11-03T15:56:52.057704300Z"
    }
   },
   "id": "4de6ed1deb5cdbb9"
  },
  {
   "cell_type": "code",
   "execution_count": null,
   "outputs": [],
   "source": [
    "palabra = 'MES'\n",
    "dfClean.columns[0]"
   ],
   "metadata": {
    "collapsed": false,
    "ExecuteTime": {
     "start_time": "2023-11-03T15:56:53.875315900Z"
    }
   },
   "id": "c53a208a4efc313a"
  },
  {
   "cell_type": "code",
   "execution_count": null,
   "outputs": [],
   "source": [
    "for i in dfClean.columns:\n",
    "    if len(dfClean[dfClean[i]==palabra])>0:\n",
    "        print(i)\n",
    "        print('error')"
   ],
   "metadata": {
    "collapsed": false,
    "ExecuteTime": {
     "start_time": "2023-11-03T15:56:53.878309200Z"
    }
   },
   "id": "39d5ca8b77b9abdf"
  },
  {
   "cell_type": "code",
   "execution_count": null,
   "outputs": [],
   "source": [
    "dfClean[dfClean['siglaNoVersionNumero']=='MES'].loc[:,'siglaNoVersionNumero'] = 6"
   ],
   "metadata": {
    "collapsed": false,
    "ExecuteTime": {
     "start_time": "2023-11-03T15:56:53.880302500Z"
    }
   },
   "id": "2ef3a0ac1d2d5410"
  },
  {
   "cell_type": "code",
   "execution_count": null,
   "outputs": [],
   "source": [
    "dfClean[dfClean['siglaNoVersionNumero']=='MES']"
   ],
   "metadata": {
    "collapsed": false,
    "ExecuteTime": {
     "start_time": "2023-11-03T15:56:53.883293Z"
    }
   },
   "id": "2e03925e2e21051f"
  },
  {
   "cell_type": "code",
   "execution_count": null,
   "outputs": [],
   "source": [
    "def cambiar(p):\n",
    "    print(type(p)) \n",
    "    if isinstance(p,int):\n",
    "        return p\n",
    "    if p.isdigit():\n",
    "        return p\n",
    "    return 6"
   ],
   "metadata": {
    "collapsed": false,
    "ExecuteTime": {
     "start_time": "2023-11-03T15:56:53.887275Z"
    }
   },
   "id": "ba1ebb2d526683f0"
  },
  {
   "cell_type": "code",
   "execution_count": null,
   "outputs": [],
   "source": [
    "dfClean.siglaNoVersionNumero = dfClean['siglaNoVersionNumero'].apply(cambiar)"
   ],
   "metadata": {
    "collapsed": false,
    "ExecuteTime": {
     "start_time": "2023-11-03T15:56:53.889269500Z"
    }
   },
   "id": "97cfc41bbac8428b"
  },
  {
   "cell_type": "code",
   "execution_count": 7,
   "outputs": [
    {
     "data": {
      "text/plain": "             id  monto_tutoria  costo_programa  dep_inicial  siglaNoVersion  \\\n3541    3643710       0.535714        0.339806          0.1        0.068326   \n3542    1115871       0.535714        0.339806          0.1        0.068326   \n3543    3625016       0.535714        0.339806          0.1        0.068326   \n3544    4632280       0.535714        0.339806          0.1        0.068326   \n3545    5031567       0.535714        0.339806          0.1        0.068326   \n...         ...            ...             ...          ...             ...   \n15776   5955584       0.535714        0.553398          0.1        0.068326   \n15777   6686404       0.535714        0.553398          0.1        0.068326   \n15778   4085750       0.535714        0.553398          0.1        0.068326   \n15779   1147432       0.535714        0.553398          0.1        0.068326   \n15780  56507899       0.535714        0.553398          0.1        0.068326   \n\n      siglaNoVersionNumero                                      nombre  \\\n3541                   MES  Maestría en Educación Superior Virtual V.6   \n3542                   MES  Maestría en Educación Superior Virtual V.6   \n3543                   MES  Maestría en Educación Superior Virtual V.6   \n3544                   MES  Maestría en Educación Superior Virtual V.6   \n3545                   MES  Maestría en Educación Superior Virtual V.6   \n...                    ...                                         ...   \n15776                  MES   Maestría en Educación Superior, Versión X   \n15777                  MES   Maestría en Educación Superior, Versión X   \n15778                  MES   Maestría en Educación Superior, Versión X   \n15779                  MES   Maestría en Educación Superior, Versión X   \n15780                  MES   Maestría en Educación Superior, Versión X   \n\n           edad  tiempo_titulacion  sexo_F  ...  codigo_dpto_nacimiento_CO  \\\n3541   0.442623           0.383333   False  ...                      False   \n3542   0.524590           0.450000    True  ...                       True   \n3543   0.508197           0.333333   False  ...                      False   \n3544   0.491803           0.383333   False  ...                      False   \n3545   0.344262           0.266667    True  ...                      False   \n...         ...                ...     ...  ...                        ...   \n15776  0.262295           0.133333   False  ...                      False   \n15777  0.245902           0.200000    True  ...                      False   \n15778  0.000000           0.300000   False  ...                      False   \n15779  0.491803           0.366667   False  ...                      False   \n15780  0.000000           0.116667    True  ...                      False   \n\n       codigo_dpto_nacimiento_LP  codigo_dpto_nacimiento_OR  \\\n3541                       False                       True   \n3542                       False                      False   \n3543                       False                      False   \n3544                       False                      False   \n3545                       False                      False   \n...                          ...                        ...   \n15776                       True                      False   \n15777                      False                      False   \n15778                      False                      False   \n15779                      False                      False   \n15780                      False                      False   \n\n       codigo_dpto_nacimiento_OTHER  codigo_dpto_nacimiento_PO  \\\n3541                          False                      False   \n3542                          False                      False   \n3543                          False                      False   \n3544                          False                      False   \n3545                           True                      False   \n...                             ...                        ...   \n15776                         False                      False   \n15777                         False                       True   \n15778                         False                      False   \n15779                         False                      False   \n15780                         False                      False   \n\n       codigo_dpto_nacimiento_SC  codigo_pais_nacimiento_AR  \\\n3541                       False                      False   \n3542                       False                      False   \n3543                       False                      False   \n3544                       False                      False   \n3545                       False                      False   \n...                          ...                        ...   \n15776                      False                      False   \n15777                      False                      False   \n15778                      False                      False   \n15779                      False                      False   \n15780                      False                      False   \n\n       codigo_pais_nacimiento_BO  codigo_pais_nacimiento_LATE  \\\n3541                        True                        False   \n3542                        True                        False   \n3543                        True                        False   \n3544                        True                        False   \n3545                        True                        False   \n...                          ...                          ...   \n15776                       True                        False   \n15777                       True                        False   \n15778                       True                        False   \n15779                       True                        False   \n15780                       True                        False   \n\n       codigo_pais_nacimiento_PE  \n3541                       False  \n3542                       False  \n3543                       False  \n3544                       False  \n3545                       False  \n...                          ...  \n15776                      False  \n15777                      False  \n15778                      False  \n15779                      False  \n15780                      False  \n\n[1550 rows x 36 columns]",
      "text/html": "<div>\n<style scoped>\n    .dataframe tbody tr th:only-of-type {\n        vertical-align: middle;\n    }\n\n    .dataframe tbody tr th {\n        vertical-align: top;\n    }\n\n    .dataframe thead th {\n        text-align: right;\n    }\n</style>\n<table border=\"1\" class=\"dataframe\">\n  <thead>\n    <tr style=\"text-align: right;\">\n      <th></th>\n      <th>id</th>\n      <th>monto_tutoria</th>\n      <th>costo_programa</th>\n      <th>dep_inicial</th>\n      <th>siglaNoVersion</th>\n      <th>siglaNoVersionNumero</th>\n      <th>nombre</th>\n      <th>edad</th>\n      <th>tiempo_titulacion</th>\n      <th>sexo_F</th>\n      <th>...</th>\n      <th>codigo_dpto_nacimiento_CO</th>\n      <th>codigo_dpto_nacimiento_LP</th>\n      <th>codigo_dpto_nacimiento_OR</th>\n      <th>codigo_dpto_nacimiento_OTHER</th>\n      <th>codigo_dpto_nacimiento_PO</th>\n      <th>codigo_dpto_nacimiento_SC</th>\n      <th>codigo_pais_nacimiento_AR</th>\n      <th>codigo_pais_nacimiento_BO</th>\n      <th>codigo_pais_nacimiento_LATE</th>\n      <th>codigo_pais_nacimiento_PE</th>\n    </tr>\n  </thead>\n  <tbody>\n    <tr>\n      <th>3541</th>\n      <td>3643710</td>\n      <td>0.535714</td>\n      <td>0.339806</td>\n      <td>0.1</td>\n      <td>0.068326</td>\n      <td>MES</td>\n      <td>Maestría en Educación Superior Virtual V.6</td>\n      <td>0.442623</td>\n      <td>0.383333</td>\n      <td>False</td>\n      <td>...</td>\n      <td>False</td>\n      <td>False</td>\n      <td>True</td>\n      <td>False</td>\n      <td>False</td>\n      <td>False</td>\n      <td>False</td>\n      <td>True</td>\n      <td>False</td>\n      <td>False</td>\n    </tr>\n    <tr>\n      <th>3542</th>\n      <td>1115871</td>\n      <td>0.535714</td>\n      <td>0.339806</td>\n      <td>0.1</td>\n      <td>0.068326</td>\n      <td>MES</td>\n      <td>Maestría en Educación Superior Virtual V.6</td>\n      <td>0.524590</td>\n      <td>0.450000</td>\n      <td>True</td>\n      <td>...</td>\n      <td>True</td>\n      <td>False</td>\n      <td>False</td>\n      <td>False</td>\n      <td>False</td>\n      <td>False</td>\n      <td>False</td>\n      <td>True</td>\n      <td>False</td>\n      <td>False</td>\n    </tr>\n    <tr>\n      <th>3543</th>\n      <td>3625016</td>\n      <td>0.535714</td>\n      <td>0.339806</td>\n      <td>0.1</td>\n      <td>0.068326</td>\n      <td>MES</td>\n      <td>Maestría en Educación Superior Virtual V.6</td>\n      <td>0.508197</td>\n      <td>0.333333</td>\n      <td>False</td>\n      <td>...</td>\n      <td>False</td>\n      <td>False</td>\n      <td>False</td>\n      <td>False</td>\n      <td>False</td>\n      <td>False</td>\n      <td>False</td>\n      <td>True</td>\n      <td>False</td>\n      <td>False</td>\n    </tr>\n    <tr>\n      <th>3544</th>\n      <td>4632280</td>\n      <td>0.535714</td>\n      <td>0.339806</td>\n      <td>0.1</td>\n      <td>0.068326</td>\n      <td>MES</td>\n      <td>Maestría en Educación Superior Virtual V.6</td>\n      <td>0.491803</td>\n      <td>0.383333</td>\n      <td>False</td>\n      <td>...</td>\n      <td>False</td>\n      <td>False</td>\n      <td>False</td>\n      <td>False</td>\n      <td>False</td>\n      <td>False</td>\n      <td>False</td>\n      <td>True</td>\n      <td>False</td>\n      <td>False</td>\n    </tr>\n    <tr>\n      <th>3545</th>\n      <td>5031567</td>\n      <td>0.535714</td>\n      <td>0.339806</td>\n      <td>0.1</td>\n      <td>0.068326</td>\n      <td>MES</td>\n      <td>Maestría en Educación Superior Virtual V.6</td>\n      <td>0.344262</td>\n      <td>0.266667</td>\n      <td>True</td>\n      <td>...</td>\n      <td>False</td>\n      <td>False</td>\n      <td>False</td>\n      <td>True</td>\n      <td>False</td>\n      <td>False</td>\n      <td>False</td>\n      <td>True</td>\n      <td>False</td>\n      <td>False</td>\n    </tr>\n    <tr>\n      <th>...</th>\n      <td>...</td>\n      <td>...</td>\n      <td>...</td>\n      <td>...</td>\n      <td>...</td>\n      <td>...</td>\n      <td>...</td>\n      <td>...</td>\n      <td>...</td>\n      <td>...</td>\n      <td>...</td>\n      <td>...</td>\n      <td>...</td>\n      <td>...</td>\n      <td>...</td>\n      <td>...</td>\n      <td>...</td>\n      <td>...</td>\n      <td>...</td>\n      <td>...</td>\n      <td>...</td>\n    </tr>\n    <tr>\n      <th>15776</th>\n      <td>5955584</td>\n      <td>0.535714</td>\n      <td>0.553398</td>\n      <td>0.1</td>\n      <td>0.068326</td>\n      <td>MES</td>\n      <td>Maestría en Educación Superior, Versión X</td>\n      <td>0.262295</td>\n      <td>0.133333</td>\n      <td>False</td>\n      <td>...</td>\n      <td>False</td>\n      <td>True</td>\n      <td>False</td>\n      <td>False</td>\n      <td>False</td>\n      <td>False</td>\n      <td>False</td>\n      <td>True</td>\n      <td>False</td>\n      <td>False</td>\n    </tr>\n    <tr>\n      <th>15777</th>\n      <td>6686404</td>\n      <td>0.535714</td>\n      <td>0.553398</td>\n      <td>0.1</td>\n      <td>0.068326</td>\n      <td>MES</td>\n      <td>Maestría en Educación Superior, Versión X</td>\n      <td>0.245902</td>\n      <td>0.200000</td>\n      <td>True</td>\n      <td>...</td>\n      <td>False</td>\n      <td>False</td>\n      <td>False</td>\n      <td>False</td>\n      <td>True</td>\n      <td>False</td>\n      <td>False</td>\n      <td>True</td>\n      <td>False</td>\n      <td>False</td>\n    </tr>\n    <tr>\n      <th>15778</th>\n      <td>4085750</td>\n      <td>0.535714</td>\n      <td>0.553398</td>\n      <td>0.1</td>\n      <td>0.068326</td>\n      <td>MES</td>\n      <td>Maestría en Educación Superior, Versión X</td>\n      <td>0.000000</td>\n      <td>0.300000</td>\n      <td>False</td>\n      <td>...</td>\n      <td>False</td>\n      <td>False</td>\n      <td>False</td>\n      <td>False</td>\n      <td>False</td>\n      <td>False</td>\n      <td>False</td>\n      <td>True</td>\n      <td>False</td>\n      <td>False</td>\n    </tr>\n    <tr>\n      <th>15779</th>\n      <td>1147432</td>\n      <td>0.535714</td>\n      <td>0.553398</td>\n      <td>0.1</td>\n      <td>0.068326</td>\n      <td>MES</td>\n      <td>Maestría en Educación Superior, Versión X</td>\n      <td>0.491803</td>\n      <td>0.366667</td>\n      <td>False</td>\n      <td>...</td>\n      <td>False</td>\n      <td>False</td>\n      <td>False</td>\n      <td>False</td>\n      <td>False</td>\n      <td>False</td>\n      <td>False</td>\n      <td>True</td>\n      <td>False</td>\n      <td>False</td>\n    </tr>\n    <tr>\n      <th>15780</th>\n      <td>56507899</td>\n      <td>0.535714</td>\n      <td>0.553398</td>\n      <td>0.1</td>\n      <td>0.068326</td>\n      <td>MES</td>\n      <td>Maestría en Educación Superior, Versión X</td>\n      <td>0.000000</td>\n      <td>0.116667</td>\n      <td>True</td>\n      <td>...</td>\n      <td>False</td>\n      <td>False</td>\n      <td>False</td>\n      <td>False</td>\n      <td>False</td>\n      <td>False</td>\n      <td>False</td>\n      <td>True</td>\n      <td>False</td>\n      <td>False</td>\n    </tr>\n  </tbody>\n</table>\n<p>1550 rows × 36 columns</p>\n</div>"
     },
     "execution_count": 7,
     "metadata": {},
     "output_type": "execute_result"
    }
   ],
   "source": [
    "dfClean[dfClean['siglaNoVersionNumero']=='MES']"
   ],
   "metadata": {
    "collapsed": false,
    "ExecuteTime": {
     "end_time": "2023-11-03T15:56:54.275909200Z",
     "start_time": "2023-11-03T15:56:54.030853600Z"
    }
   },
   "id": "8db582a5ccf3ce33"
  },
  {
   "cell_type": "code",
   "execution_count": 8,
   "outputs": [
    {
     "data": {
      "text/plain": "array(['0', '8', '9', '2', '13', 'MES', '3', '1', '4', '5', '11', '6',\n       '413', '411', '412', '423', 'MI', 'MSP', '12', '14', 'DES', 'EDA',\n       'DEI', '7', 'DDMI', 'DN', '20', 'DM', 'MET', 'DSI', 'DIS', 'MAJ',\n       'DGP', 'DD', 'DPB', 'DAPFT', 'DDNC', 'ESU', 'DGC', 'DSP', 'MSIGA',\n       'DGM', '10', '16', 'CTIMS', 'MTJ', 'DOPMC', 'ESI', 'DPC', 'DDHT',\n       'MDI', 'DIHE', 'DCTD', '17', 'DRCPA', 'DGTC', 'DFEAP', 'DEE',\n       'DMD', 'DDERH', 'REO', 'DDEIU', '15', 'DAPG', 'ESDRI', 'DDA',\n       'DAIS', 'DCTCA', 'MSIGC', 'DPP', 'ESM', 'DPSTS', 'MPGPE', 'DOVST',\n       'MT', 'EDN', 'MDD', 'DAF', 'DBMGPC'], dtype=object)"
     },
     "execution_count": 8,
     "metadata": {},
     "output_type": "execute_result"
    }
   ],
   "source": [
    "dfClean.siglaNoVersionNumero.unique()"
   ],
   "metadata": {
    "collapsed": false,
    "ExecuteTime": {
     "end_time": "2023-11-03T15:56:54.572605500Z",
     "start_time": "2023-11-03T15:56:54.392424100Z"
    }
   },
   "id": "6dba3f81db786b30"
  },
  {
   "cell_type": "code",
   "execution_count": 9,
   "outputs": [
    {
     "data": {
      "text/plain": "id                               0\nmonto_tutoria                    0\ncosto_programa                   0\ndep_inicial                     51\nsiglaNoVersion                   0\nsiglaNoVersionNumero             0\nnombre                           0\nedad                             0\ntiempo_titulacion                0\nsexo_F                           0\nsexo_M                           0\nestado_civil_C                   0\nestado_civil_O                   0\nestado_civil_S                   0\niniciales_nombre_2_dip           0\niniciales_nombre_2_doc           0\niniciales_nombre_2_e             0\niniciales_nombre_2_fc            0\niniciales_nombre_2_m             0\niniciales_nombre_2_n             0\nAreas_1                          0\nAreas_2                          0\nAreas_3                          0\nAreas_4                          0\nAreas_5                          0\ncodigo_dpto_nacimiento_CH        0\ncodigo_dpto_nacimiento_CO        0\ncodigo_dpto_nacimiento_LP        0\ncodigo_dpto_nacimiento_OR        0\ncodigo_dpto_nacimiento_OTHER     0\ncodigo_dpto_nacimiento_PO        0\ncodigo_dpto_nacimiento_SC        0\ncodigo_pais_nacimiento_AR        0\ncodigo_pais_nacimiento_BO        0\ncodigo_pais_nacimiento_LATE      0\ncodigo_pais_nacimiento_PE        0\ndtype: int64"
     },
     "execution_count": 9,
     "metadata": {},
     "output_type": "execute_result"
    }
   ],
   "source": [
    "dfClean.isnull().sum()"
   ],
   "metadata": {
    "collapsed": false,
    "ExecuteTime": {
     "end_time": "2023-11-03T15:56:54.812904200Z",
     "start_time": "2023-11-03T15:56:54.608545600Z"
    }
   },
   "id": "54967c0804311706"
  },
  {
   "cell_type": "code",
   "execution_count": 10,
   "outputs": [],
   "source": [
    "\n",
    "dfClean=dfClean.dropna()\n",
    "client_features = dfClean[client_features_columns]\n",
    "programa_features = dfClean[programa_features_columns]"
   ],
   "metadata": {
    "collapsed": false,
    "ExecuteTime": {
     "end_time": "2023-11-03T15:56:54.965193700Z",
     "start_time": "2023-11-03T15:56:54.853765100Z"
    }
   },
   "id": "10ecd763951f5de4"
  },
  {
   "cell_type": "code",
   "execution_count": 11,
   "outputs": [
    {
     "ename": "ValueError",
     "evalue": "Incompatible dimension for X and Y matrices: X.shape[1] == 18 while Y.shape[1] == 15",
     "output_type": "error",
     "traceback": [
      "\u001B[1;31m---------------------------------------------------------------------------\u001B[0m",
      "\u001B[1;31mValueError\u001B[0m                                Traceback (most recent call last)",
      "Cell \u001B[1;32mIn[11], line 8\u001B[0m\n\u001B[0;32m      2\u001B[0m \u001B[38;5;28;01mfrom\u001B[39;00m \u001B[38;5;21;01msklearn\u001B[39;00m\u001B[38;5;21;01m.\u001B[39;00m\u001B[38;5;21;01mmetrics\u001B[39;00m\u001B[38;5;21;01m.\u001B[39;00m\u001B[38;5;21;01mpairwise\u001B[39;00m \u001B[38;5;28;01mimport\u001B[39;00m cosine_similarity\n\u001B[0;32m      4\u001B[0m \u001B[38;5;66;03m# Supongamos que tienes un conjunto de características etiquetadas como se describió anteriormente\u001B[39;00m\n\u001B[0;32m      5\u001B[0m \u001B[38;5;66;03m# También supongamos que tienes un cliente específico con características\u001B[39;00m\n\u001B[0;32m      6\u001B[0m \n\u001B[0;32m      7\u001B[0m \u001B[38;5;66;03m# Calcular la similitud coseno entre las características del cliente y las características de los programas\u001B[39;00m\n\u001B[1;32m----> 8\u001B[0m similarities \u001B[38;5;241m=\u001B[39m \u001B[43mcosine_similarity\u001B[49m\u001B[43m(\u001B[49m\u001B[43mclient_features\u001B[49m\u001B[43m,\u001B[49m\u001B[43m \u001B[49m\u001B[43mprograma_features\u001B[49m\u001B[43m)\u001B[49m\n\u001B[0;32m     10\u001B[0m \u001B[38;5;66;03m# Obtener los índices de los programas ordenados por similitud descendente\u001B[39;00m\n\u001B[0;32m     11\u001B[0m program_indexes \u001B[38;5;241m=\u001B[39m np\u001B[38;5;241m.\u001B[39margsort(similarities[\u001B[38;5;241m0\u001B[39m])[::\u001B[38;5;241m-\u001B[39m\u001B[38;5;241m1\u001B[39m]\n",
      "File \u001B[1;32mE:\\chatbot\\venv\\Lib\\site-packages\\sklearn\\utils\\_param_validation.py:214\u001B[0m, in \u001B[0;36mvalidate_params.<locals>.decorator.<locals>.wrapper\u001B[1;34m(*args, **kwargs)\u001B[0m\n\u001B[0;32m    208\u001B[0m \u001B[38;5;28;01mtry\u001B[39;00m:\n\u001B[0;32m    209\u001B[0m     \u001B[38;5;28;01mwith\u001B[39;00m config_context(\n\u001B[0;32m    210\u001B[0m         skip_parameter_validation\u001B[38;5;241m=\u001B[39m(\n\u001B[0;32m    211\u001B[0m             prefer_skip_nested_validation \u001B[38;5;129;01mor\u001B[39;00m global_skip_validation\n\u001B[0;32m    212\u001B[0m         )\n\u001B[0;32m    213\u001B[0m     ):\n\u001B[1;32m--> 214\u001B[0m         \u001B[38;5;28;01mreturn\u001B[39;00m \u001B[43mfunc\u001B[49m\u001B[43m(\u001B[49m\u001B[38;5;241;43m*\u001B[39;49m\u001B[43margs\u001B[49m\u001B[43m,\u001B[49m\u001B[43m \u001B[49m\u001B[38;5;241;43m*\u001B[39;49m\u001B[38;5;241;43m*\u001B[39;49m\u001B[43mkwargs\u001B[49m\u001B[43m)\u001B[49m\n\u001B[0;32m    215\u001B[0m \u001B[38;5;28;01mexcept\u001B[39;00m InvalidParameterError \u001B[38;5;28;01mas\u001B[39;00m e:\n\u001B[0;32m    216\u001B[0m     \u001B[38;5;66;03m# When the function is just a wrapper around an estimator, we allow\u001B[39;00m\n\u001B[0;32m    217\u001B[0m     \u001B[38;5;66;03m# the function to delegate validation to the estimator, but we replace\u001B[39;00m\n\u001B[0;32m    218\u001B[0m     \u001B[38;5;66;03m# the name of the estimator by the name of the function in the error\u001B[39;00m\n\u001B[0;32m    219\u001B[0m     \u001B[38;5;66;03m# message to avoid confusion.\u001B[39;00m\n\u001B[0;32m    220\u001B[0m     msg \u001B[38;5;241m=\u001B[39m re\u001B[38;5;241m.\u001B[39msub(\n\u001B[0;32m    221\u001B[0m         \u001B[38;5;124mr\u001B[39m\u001B[38;5;124m\"\u001B[39m\u001B[38;5;124mparameter of \u001B[39m\u001B[38;5;124m\\\u001B[39m\u001B[38;5;124mw+ must be\u001B[39m\u001B[38;5;124m\"\u001B[39m,\n\u001B[0;32m    222\u001B[0m         \u001B[38;5;124mf\u001B[39m\u001B[38;5;124m\"\u001B[39m\u001B[38;5;124mparameter of \u001B[39m\u001B[38;5;132;01m{\u001B[39;00mfunc\u001B[38;5;241m.\u001B[39m\u001B[38;5;18m__qualname__\u001B[39m\u001B[38;5;132;01m}\u001B[39;00m\u001B[38;5;124m must be\u001B[39m\u001B[38;5;124m\"\u001B[39m,\n\u001B[0;32m    223\u001B[0m         \u001B[38;5;28mstr\u001B[39m(e),\n\u001B[0;32m    224\u001B[0m     )\n",
      "File \u001B[1;32mE:\\chatbot\\venv\\Lib\\site-packages\\sklearn\\metrics\\pairwise.py:1578\u001B[0m, in \u001B[0;36mcosine_similarity\u001B[1;34m(X, Y, dense_output)\u001B[0m\n\u001B[0;32m   1543\u001B[0m \u001B[38;5;250m\u001B[39m\u001B[38;5;124;03m\"\"\"Compute cosine similarity between samples in X and Y.\u001B[39;00m\n\u001B[0;32m   1544\u001B[0m \n\u001B[0;32m   1545\u001B[0m \u001B[38;5;124;03mCosine similarity, or the cosine kernel, computes similarity as the\u001B[39;00m\n\u001B[1;32m   (...)\u001B[0m\n\u001B[0;32m   1574\u001B[0m \u001B[38;5;124;03m    Returns the cosine similarity between samples in X and Y.\u001B[39;00m\n\u001B[0;32m   1575\u001B[0m \u001B[38;5;124;03m\"\"\"\u001B[39;00m\n\u001B[0;32m   1576\u001B[0m \u001B[38;5;66;03m# to avoid recursive import\u001B[39;00m\n\u001B[1;32m-> 1578\u001B[0m X, Y \u001B[38;5;241m=\u001B[39m \u001B[43mcheck_pairwise_arrays\u001B[49m\u001B[43m(\u001B[49m\u001B[43mX\u001B[49m\u001B[43m,\u001B[49m\u001B[43m \u001B[49m\u001B[43mY\u001B[49m\u001B[43m)\u001B[49m\n\u001B[0;32m   1580\u001B[0m X_normalized \u001B[38;5;241m=\u001B[39m normalize(X, copy\u001B[38;5;241m=\u001B[39m\u001B[38;5;28;01mTrue\u001B[39;00m)\n\u001B[0;32m   1581\u001B[0m \u001B[38;5;28;01mif\u001B[39;00m X \u001B[38;5;129;01mis\u001B[39;00m Y:\n",
      "File \u001B[1;32mE:\\chatbot\\venv\\Lib\\site-packages\\sklearn\\metrics\\pairwise.py:190\u001B[0m, in \u001B[0;36mcheck_pairwise_arrays\u001B[1;34m(X, Y, precomputed, dtype, accept_sparse, force_all_finite, copy)\u001B[0m\n\u001B[0;32m    184\u001B[0m         \u001B[38;5;28;01mraise\u001B[39;00m \u001B[38;5;167;01mValueError\u001B[39;00m(\n\u001B[0;32m    185\u001B[0m             \u001B[38;5;124m\"\u001B[39m\u001B[38;5;124mPrecomputed metric requires shape \u001B[39m\u001B[38;5;124m\"\u001B[39m\n\u001B[0;32m    186\u001B[0m             \u001B[38;5;124m\"\u001B[39m\u001B[38;5;124m(n_queries, n_indexed). Got (\u001B[39m\u001B[38;5;132;01m%d\u001B[39;00m\u001B[38;5;124m, \u001B[39m\u001B[38;5;132;01m%d\u001B[39;00m\u001B[38;5;124m) \u001B[39m\u001B[38;5;124m\"\u001B[39m\n\u001B[0;32m    187\u001B[0m             \u001B[38;5;124m\"\u001B[39m\u001B[38;5;124mfor \u001B[39m\u001B[38;5;132;01m%d\u001B[39;00m\u001B[38;5;124m indexed.\u001B[39m\u001B[38;5;124m\"\u001B[39m \u001B[38;5;241m%\u001B[39m (X\u001B[38;5;241m.\u001B[39mshape[\u001B[38;5;241m0\u001B[39m], X\u001B[38;5;241m.\u001B[39mshape[\u001B[38;5;241m1\u001B[39m], Y\u001B[38;5;241m.\u001B[39mshape[\u001B[38;5;241m0\u001B[39m])\n\u001B[0;32m    188\u001B[0m         )\n\u001B[0;32m    189\u001B[0m \u001B[38;5;28;01melif\u001B[39;00m X\u001B[38;5;241m.\u001B[39mshape[\u001B[38;5;241m1\u001B[39m] \u001B[38;5;241m!=\u001B[39m Y\u001B[38;5;241m.\u001B[39mshape[\u001B[38;5;241m1\u001B[39m]:\n\u001B[1;32m--> 190\u001B[0m     \u001B[38;5;28;01mraise\u001B[39;00m \u001B[38;5;167;01mValueError\u001B[39;00m(\n\u001B[0;32m    191\u001B[0m         \u001B[38;5;124m\"\u001B[39m\u001B[38;5;124mIncompatible dimension for X and Y matrices: \u001B[39m\u001B[38;5;124m\"\u001B[39m\n\u001B[0;32m    192\u001B[0m         \u001B[38;5;124m\"\u001B[39m\u001B[38;5;124mX.shape[1] == \u001B[39m\u001B[38;5;132;01m%d\u001B[39;00m\u001B[38;5;124m while Y.shape[1] == \u001B[39m\u001B[38;5;132;01m%d\u001B[39;00m\u001B[38;5;124m\"\u001B[39m \u001B[38;5;241m%\u001B[39m (X\u001B[38;5;241m.\u001B[39mshape[\u001B[38;5;241m1\u001B[39m], Y\u001B[38;5;241m.\u001B[39mshape[\u001B[38;5;241m1\u001B[39m])\n\u001B[0;32m    193\u001B[0m     )\n\u001B[0;32m    195\u001B[0m \u001B[38;5;28;01mreturn\u001B[39;00m X, Y\n",
      "\u001B[1;31mValueError\u001B[0m: Incompatible dimension for X and Y matrices: X.shape[1] == 18 while Y.shape[1] == 15"
     ]
    }
   ],
   "source": [
    "import numpy as np\n",
    "from sklearn.metrics.pairwise import cosine_similarity\n",
    "\n",
    "# Supongamos que tienes un conjunto de características etiquetadas como se describió anteriormente\n",
    "# También supongamos que tienes un cliente específico con características\n",
    "\n",
    "# Calcular la similitud coseno entre las características del cliente y las características de los programas\n",
    "similarities = cosine_similarity(client_features, programa_features)\n",
    "\n",
    "# Obtener los índices de los programas ordenados por similitud descendente\n",
    "program_indexes = np.argsort(similarities[0])[::-1]\n",
    "\n",
    "# Recomendar los programas más similares al cliente\n",
    "num_recommendations = 5  # Puedes ajustar el número de recomendaciones\n",
    "recommended_programs = program_indexes[:num_recommendations]\n",
    "\n",
    "# Muestra los programas recomendados al cliente\n",
    "for i, program_index in enumerate(recommended_programs):\n",
    "    print(f\"Recomendación {i + 1}: Programa {program_index}\")"
   ],
   "metadata": {
    "collapsed": false,
    "ExecuteTime": {
     "end_time": "2023-11-03T15:56:55.222347400Z",
     "start_time": "2023-11-03T15:56:55.090421700Z"
    }
   },
   "id": "41c103894eb0400b"
  },
  {
   "cell_type": "code",
   "execution_count": 12,
   "outputs": [
    {
     "ename": "NameError",
     "evalue": "name 'df' is not defined",
     "output_type": "error",
     "traceback": [
      "\u001B[1;31m---------------------------------------------------------------------------\u001B[0m",
      "\u001B[1;31mNameError\u001B[0m                                 Traceback (most recent call last)",
      "Cell \u001B[1;32mIn[12], line 9\u001B[0m\n\u001B[0;32m      7\u001B[0m \u001B[38;5;66;03m# Define la estructura del conjunto de datos (puedes ajustarla según tus datos)\u001B[39;00m\n\u001B[0;32m      8\u001B[0m reader \u001B[38;5;241m=\u001B[39m Reader(rating_scale\u001B[38;5;241m=\u001B[39m(\u001B[38;5;241m1\u001B[39m, \u001B[38;5;241m5\u001B[39m))\n\u001B[1;32m----> 9\u001B[0m data \u001B[38;5;241m=\u001B[39m Dataset\u001B[38;5;241m.\u001B[39mload_from_df(\u001B[43mdf\u001B[49m[[\u001B[38;5;124m'\u001B[39m\u001B[38;5;124muser\u001B[39m\u001B[38;5;124m'\u001B[39m, \u001B[38;5;124m'\u001B[39m\u001B[38;5;124mitem\u001B[39m\u001B[38;5;124m'\u001B[39m, \u001B[38;5;124m'\u001B[39m\u001B[38;5;124mrating\u001B[39m\u001B[38;5;124m'\u001B[39m]], reader)\n\u001B[0;32m     11\u001B[0m \u001B[38;5;66;03m# Dividir el conjunto de datos en entrenamiento y prueba\u001B[39;00m\n\u001B[0;32m     12\u001B[0m trainset, testset \u001B[38;5;241m=\u001B[39m train_test_split(data, test_size\u001B[38;5;241m=\u001B[39m\u001B[38;5;241m0.2\u001B[39m)\n",
      "\u001B[1;31mNameError\u001B[0m: name 'df' is not defined"
     ]
    }
   ],
   "source": [
    "from surprise import Dataset\n",
    "from surprise import Reader\n",
    "from surprise.model_selection import train_test_split\n",
    "from surprise import KNNBasic\n",
    "from surprise import accuracy\n",
    "\n",
    "# Define la estructura del conjunto de datos (puedes ajustarla según tus datos)\n",
    "reader = Reader(rating_scale=(1, 5))\n",
    "data = Dataset.load_from_df(df[['user', 'item', 'rating']], reader)\n",
    "\n",
    "# Dividir el conjunto de datos en entrenamiento y prueba\n",
    "trainset, testset = train_test_split(data, test_size=0.2)\n",
    "\n",
    "# Crear un modelo de filtrado colaborativo basado en usuario\n",
    "sim_options = {\n",
    "    'name': 'cosine',\n",
    "    'user_based': True\n",
    "}\n",
    "model = KNNBasic(sim_options=sim_options)\n",
    "\n",
    "# Entrenar el modelo\n",
    "model.fit(trainset)\n",
    "\n",
    "# Realizar predicciones en el conjunto de prueba\n",
    "predictions = model.test(testset)\n",
    "\n",
    "# Calcular la precisión del modelo\n",
    "accuracy.rmse(predictions)"
   ],
   "metadata": {
    "collapsed": false,
    "ExecuteTime": {
     "end_time": "2023-11-03T15:56:55.716477900Z",
     "start_time": "2023-11-03T15:56:55.363626300Z"
    }
   },
   "id": "44307207de6af775"
  },
  {
   "cell_type": "code",
   "execution_count": null,
   "outputs": [],
   "source": [
    "from sklearn.cluster import KMeans\n",
    "# Paso 1: Clustering de Cursos\n",
    "kmeans_courses = KMeans(n_clusters=5)  # Ajusta el número de clústeres según tus datos\n",
    "courses_clusters = kmeans_courses.fit_predict(programa_features).tolist()\n",
    "\n",
    "# Paso 2: Clustering de Estudiantes\n",
    "kmeans_students = KMeans(n_clusters=5)  # Ajusta el número de clústeres según tus datos\n",
    "students_clusters = kmeans_students.fit_predict(client_features).tolist()\n",
    "\n",
    "# Paso 3: Etiquetado Indirecto\n",
    "dfClean['etiqueta'] = 'No interesado'  # Etiqueta predeterminada\n",
    "students_clusters = np.array(students_clusters)\n",
    "courses_clusters = np.array(courses_clusters)\n",
    "# Define reglas de etiquetado indirecto en función de la pertenencia a clústeres\n",
    "for student_cluster in range(len(students_clusters)):\n",
    "    student_cluster_indices = dfClean.index[students_clusters == student_cluster]\n",
    "    for course_cluster in range(len(courses_clusters)):\n",
    "        course_cluster_indices = dfClean.index[courses_clusters == course_cluster]\n",
    "        student_cluster_indices = list(student_cluster_indices)\n",
    "        course_cluster_indices = list(course_cluster_indices)\n",
    "        student_cluster_indices = set(student_cluster_indices)\n",
    "        course_cluster_indices  = set(course_cluster_indices)\n",
    "        common_indices = student_cluster_indices.intersection(course_cluster_indices)\n",
    "        if common_indices:\n",
    "            dfClean.loc[list(common_indices), 'etiqueta'] = 'Interesado'\n"
   ],
   "metadata": {
    "collapsed": false,
    "ExecuteTime": {
     "start_time": "2023-11-03T15:56:55.715482100Z"
    }
   },
   "id": "4d1f414e69eb22ea"
  },
  {
   "cell_type": "code",
   "execution_count": 13,
   "outputs": [
    {
     "name": "stdout",
     "output_type": "stream",
     "text": [
      "{1, 3, 4, 5, 10}\n"
     ]
    }
   ],
   "source": [
    "set1 = {1, 2, 3, 4, 5,10}\n",
    "set2 = {3, 4, 5, 6, 7,1,1,10}\n",
    "intersection_set = set1.intersection(set2)\n",
    "print(intersection_set)  # Salida: {3, 4, 5}"
   ],
   "metadata": {
    "collapsed": false,
    "ExecuteTime": {
     "end_time": "2023-11-03T15:56:56.374868200Z",
     "start_time": "2023-11-03T15:56:56.323527300Z"
    }
   },
   "id": "66529b495dc4375d"
  },
  {
   "cell_type": "code",
   "execution_count": 14,
   "outputs": [
    {
     "name": "stdout",
     "output_type": "stream",
     "text": [
      "(31284, 15)\n",
      "(31284, 18)\n"
     ]
    }
   ],
   "source": [
    "print(programa_features.shape)\n",
    "print(client_features.shape)"
   ],
   "metadata": {
    "collapsed": false,
    "ExecuteTime": {
     "end_time": "2023-11-03T15:56:57.238950900Z",
     "start_time": "2023-11-03T15:56:57.211520700Z"
    }
   },
   "id": "3f090d7222db98f4"
  },
  {
   "cell_type": "code",
   "execution_count": 15,
   "outputs": [],
   "source": [
    "from keras.layers import Input, Dense\n",
    "from keras.models import Model\n",
    "\n",
    "\n",
    "input_course_features = Input(shape=(1,16,))\n",
    "encoded = Dense(32, activation='relu')(input_course_features)\n",
    "encoder = Model(input_course_features, encoded)"
   ],
   "metadata": {
    "collapsed": false,
    "ExecuteTime": {
     "end_time": "2023-11-03T15:57:01.388646800Z",
     "start_time": "2023-11-03T15:56:57.459190700Z"
    }
   },
   "id": "66000a7289442ce2"
  },
  {
   "cell_type": "code",
   "execution_count": 16,
   "outputs": [],
   "source": [
    "input_encoded = Input(shape=(32,))\n",
    "decoded = Dense(32, activation='sigmoid')(input_encoded)\n",
    "decoder = Model(input_encoded, decoded)"
   ],
   "metadata": {
    "collapsed": false,
    "ExecuteTime": {
     "end_time": "2023-11-03T15:57:01.412811Z",
     "start_time": "2023-11-03T15:57:01.398607500Z"
    }
   },
   "id": "987f3d312893ce70"
  },
  {
   "cell_type": "code",
   "execution_count": 17,
   "outputs": [
    {
     "ename": "ValueError",
     "evalue": "Failed to convert a NumPy array to a Tensor (Unsupported object type float).",
     "output_type": "error",
     "traceback": [
      "\u001B[1;31m---------------------------------------------------------------------------\u001B[0m",
      "\u001B[1;31mValueError\u001B[0m                                Traceback (most recent call last)",
      "Cell \u001B[1;32mIn[17], line 3\u001B[0m\n\u001B[0;32m      1\u001B[0m autoencoder \u001B[38;5;241m=\u001B[39m Model(input_course_features, decoder(encoder(input_course_features)))\n\u001B[0;32m      2\u001B[0m autoencoder\u001B[38;5;241m.\u001B[39mcompile(optimizer\u001B[38;5;241m=\u001B[39m\u001B[38;5;124m'\u001B[39m\u001B[38;5;124madam\u001B[39m\u001B[38;5;124m'\u001B[39m, loss\u001B[38;5;241m=\u001B[39m\u001B[38;5;124m'\u001B[39m\u001B[38;5;124mmean_squared_error\u001B[39m\u001B[38;5;124m'\u001B[39m)\n\u001B[1;32m----> 3\u001B[0m \u001B[43mautoencoder\u001B[49m\u001B[38;5;241;43m.\u001B[39;49m\u001B[43mfit\u001B[49m\u001B[43m(\u001B[49m\u001B[43mprograma_features\u001B[49m\u001B[43m,\u001B[49m\u001B[43m \u001B[49m\u001B[43mprograma_features\u001B[49m\u001B[43m,\u001B[49m\u001B[43m \u001B[49m\u001B[43mepochs\u001B[49m\u001B[38;5;241;43m=\u001B[39;49m\u001B[38;5;241;43m1\u001B[39;49m\u001B[43m,\u001B[49m\u001B[43m \u001B[49m\u001B[43mbatch_size\u001B[49m\u001B[38;5;241;43m=\u001B[39;49m\u001B[38;5;241;43m64\u001B[39;49m\u001B[43m)\u001B[49m\n",
      "File \u001B[1;32mE:\\chatbot\\venv\\Lib\\site-packages\\keras\\src\\utils\\traceback_utils.py:70\u001B[0m, in \u001B[0;36mfilter_traceback.<locals>.error_handler\u001B[1;34m(*args, **kwargs)\u001B[0m\n\u001B[0;32m     67\u001B[0m     filtered_tb \u001B[38;5;241m=\u001B[39m _process_traceback_frames(e\u001B[38;5;241m.\u001B[39m__traceback__)\n\u001B[0;32m     68\u001B[0m     \u001B[38;5;66;03m# To get the full stack trace, call:\u001B[39;00m\n\u001B[0;32m     69\u001B[0m     \u001B[38;5;66;03m# `tf.debugging.disable_traceback_filtering()`\u001B[39;00m\n\u001B[1;32m---> 70\u001B[0m     \u001B[38;5;28;01mraise\u001B[39;00m e\u001B[38;5;241m.\u001B[39mwith_traceback(filtered_tb) \u001B[38;5;28;01mfrom\u001B[39;00m \u001B[38;5;28;01mNone\u001B[39;00m\n\u001B[0;32m     71\u001B[0m \u001B[38;5;28;01mfinally\u001B[39;00m:\n\u001B[0;32m     72\u001B[0m     \u001B[38;5;28;01mdel\u001B[39;00m filtered_tb\n",
      "File \u001B[1;32mE:\\chatbot\\venv\\Lib\\site-packages\\tensorflow\\python\\framework\\constant_op.py:102\u001B[0m, in \u001B[0;36mconvert_to_eager_tensor\u001B[1;34m(value, ctx, dtype)\u001B[0m\n\u001B[0;32m    100\u001B[0m     dtype \u001B[38;5;241m=\u001B[39m dtypes\u001B[38;5;241m.\u001B[39mas_dtype(dtype)\u001B[38;5;241m.\u001B[39mas_datatype_enum\n\u001B[0;32m    101\u001B[0m ctx\u001B[38;5;241m.\u001B[39mensure_initialized()\n\u001B[1;32m--> 102\u001B[0m \u001B[38;5;28;01mreturn\u001B[39;00m \u001B[43mops\u001B[49m\u001B[38;5;241;43m.\u001B[39;49m\u001B[43mEagerTensor\u001B[49m\u001B[43m(\u001B[49m\u001B[43mvalue\u001B[49m\u001B[43m,\u001B[49m\u001B[43m \u001B[49m\u001B[43mctx\u001B[49m\u001B[38;5;241;43m.\u001B[39;49m\u001B[43mdevice_name\u001B[49m\u001B[43m,\u001B[49m\u001B[43m \u001B[49m\u001B[43mdtype\u001B[49m\u001B[43m)\u001B[49m\n",
      "\u001B[1;31mValueError\u001B[0m: Failed to convert a NumPy array to a Tensor (Unsupported object type float)."
     ]
    }
   ],
   "source": [
    "autoencoder = Model(input_course_features, decoder(encoder(input_course_features)))\n",
    "autoencoder.compile(optimizer='adam', loss='mean_squared_error')\n",
    "autoencoder.fit(programa_features, programa_features, epochs=1, batch_size=64)"
   ],
   "metadata": {
    "collapsed": false,
    "ExecuteTime": {
     "end_time": "2023-11-03T15:57:02.080199500Z",
     "start_time": "2023-11-03T15:57:01.413807700Z"
    }
   },
   "id": "ae9356a0521b83bf"
  },
  {
   "cell_type": "code",
   "execution_count": 20,
   "outputs": [],
   "source": [
    "from sklearn.model_selection import train_test_split"
   ],
   "metadata": {
    "collapsed": false,
    "ExecuteTime": {
     "end_time": "2023-11-03T15:57:27.135086300Z",
     "start_time": "2023-11-03T15:57:27.045879Z"
    }
   },
   "id": "42b8cb2bc15615e9"
  },
  {
   "cell_type": "code",
   "execution_count": 21,
   "outputs": [],
   "source": [
    "X_train, X_test, y_train, y_test = train_test_split(programa_features, client_features, test_size=0.3, random_state=42)\n",
    "\n",
    "# Divide el conjunto de prueba en validación y prueba (50% validación, 50% prueba)\n",
    "X_val, X_test, y_val, y_test = train_test_split(X_test, y_test, test_size=0.5, random_state=42)\n"
   ],
   "metadata": {
    "collapsed": false,
    "ExecuteTime": {
     "end_time": "2023-11-03T15:57:27.381931400Z",
     "start_time": "2023-11-03T15:57:27.306116600Z"
    }
   },
   "id": "4b32142198568122"
  },
  {
   "cell_type": "code",
   "execution_count": 22,
   "outputs": [
    {
     "data": {
      "text/plain": "(21898, 18)"
     },
     "execution_count": 22,
     "metadata": {},
     "output_type": "execute_result"
    }
   ],
   "source": [
    "y_train.shape"
   ],
   "metadata": {
    "collapsed": false,
    "ExecuteTime": {
     "end_time": "2023-11-03T15:57:29.024356500Z",
     "start_time": "2023-11-03T15:57:29.004982500Z"
    }
   },
   "id": "fdefb3a019164665"
  },
  {
   "cell_type": "code",
   "execution_count": 103,
   "outputs": [
    {
     "data": {
      "text/plain": "'import numpy as np\\nimport tensorflow as tf\\nfrom tensorflow import keras\\nfrom tensorflow.keras import layers\\n\\n# Dimensión de las características de los cursos y de los estudiantes\\ncurso_dim = 15 # Dimensión de las características del curso\\nestudiante_dim =  18# Dimensión de las características del estudiante\\n\\n# Codificador\\n\\ninput_cursos = keras.Input(shape=(curso_dim,))\\nx = layers.Dense(128, activation=\"relu\")(input_cursos)\\n\\nx = layers.Dense(64, activation=\"relu\")(x)\\n\\nencoded = layers.Dense(32, activation=\"relu\")(x)\\n\\n# Decodificador\\ndecoded = layers.Dense(32, activation=\"relu\")(encoded)\\ndecoded = layers.Dense(128, activation=\"relu\")(decoded)\\noutput_estudiantes = layers.Dense(estudiante_dim, activation=\"linear\")(decoded)\\n# Modelos del codificador y decodificador\\n\\nencoder = keras.Model(input_cursos, encoded, name=\"encoder\")\\ndecoder = keras.Model(input_cursos, output_estudiantes, name=\"decoder\")\\nprint(\"hola\")\\n# Modelo Autoencoder completo\\nautoencoder = keras.Model(input_cursos, decoder(encoder(input_cursos)), name=\"autoencoder\")\\nprint(\"hola\")\\nautoencoder.compile(optimizer=\\'adam\\', loss=\\'mean_squared_error\\')\\nprint(\"hola\")\\n# Entrenar el modelo Autoencoder con tus datos\\n# X_cursos es tu conjunto de datos de entrada (características del curso)\\n\\nautoencoder.fit(X_train, y_train, epochs=100, batch_size=64)\\n\\n# Generar características de estudiantes\\n# Proporciona las características de un curso como entrada al decodificador\\n# Obtendrás las características estimadas de los estudiantes\\n'"
     },
     "execution_count": 103,
     "metadata": {},
     "output_type": "execute_result"
    }
   ],
   "source": [
    "'''import numpy as np\n",
    "import tensorflow as tf\n",
    "from tensorflow import keras\n",
    "from tensorflow.keras import layers\n",
    "\n",
    "# Dimensión de las características de los cursos y de los estudiantes\n",
    "curso_dim = 15 # Dimensión de las características del curso\n",
    "estudiante_dim =  18# Dimensión de las características del estudiante\n",
    "\n",
    "# Codificador\n",
    "\n",
    "input_cursos = keras.Input(shape=(curso_dim,))\n",
    "x = layers.Dense(128, activation=\"relu\")(input_cursos)\n",
    "\n",
    "x = layers.Dense(64, activation=\"relu\")(x)\n",
    "\n",
    "encoded = layers.Dense(32, activation=\"relu\")(x)\n",
    "\n",
    "# Decodificador\n",
    "decoded = layers.Dense(32, activation=\"relu\")(encoded)\n",
    "decoded = layers.Dense(128, activation=\"relu\")(decoded)\n",
    "output_estudiantes = layers.Dense(estudiante_dim, activation=\"linear\")(decoded)\n",
    "# Modelos del codificador y decodificador\n",
    "\n",
    "encoder = keras.Model(input_cursos, encoded, name=\"encoder\")\n",
    "decoder = keras.Model(input_cursos, output_estudiantes, name=\"decoder\")\n",
    "print(\"hola\")\n",
    "# Modelo Autoencoder completo\n",
    "autoencoder = keras.Model(input_cursos, decoder(encoder(input_cursos)), name=\"autoencoder\")\n",
    "print(\"hola\")\n",
    "autoencoder.compile(optimizer='adam', loss='mean_squared_error')\n",
    "print(\"hola\")\n",
    "# Entrenar el modelo Autoencoder con tus datos\n",
    "# X_cursos es tu conjunto de datos de entrada (características del curso)\n",
    "\n",
    "autoencoder.fit(X_train, y_train, epochs=100, batch_size=64)\n",
    "\n",
    "# Generar características de estudiantes\n",
    "# Proporciona las características de un curso como entrada al decodificador\n",
    "# Obtendrás las características estimadas de los estudiantes\n",
    "'''"
   ],
   "metadata": {
    "collapsed": false,
    "ExecuteTime": {
     "end_time": "2023-11-01T15:35:27.715158600Z",
     "start_time": "2023-11-01T15:35:27.675816900Z"
    }
   },
   "id": "93f1d4e0271a82ab"
  },
  {
   "cell_type": "code",
   "execution_count": 23,
   "outputs": [
    {
     "ename": "NameError",
     "evalue": "name 'keras' is not defined",
     "output_type": "error",
     "traceback": [
      "\u001B[1;31m---------------------------------------------------------------------------\u001B[0m",
      "\u001B[1;31mNameError\u001B[0m                                 Traceback (most recent call last)",
      "Cell \u001B[1;32mIn[23], line 4\u001B[0m\n\u001B[0;32m      2\u001B[0m curso_dim \u001B[38;5;241m=\u001B[39m \u001B[38;5;241m15\u001B[39m \u001B[38;5;66;03m# Dimensión de las características del curso\u001B[39;00m\n\u001B[0;32m      3\u001B[0m estudiante_dim \u001B[38;5;241m=\u001B[39m  \u001B[38;5;241m18\u001B[39m\n\u001B[1;32m----> 4\u001B[0m input_cursos \u001B[38;5;241m=\u001B[39m \u001B[43mkeras\u001B[49m\u001B[38;5;241m.\u001B[39mInput(shape\u001B[38;5;241m=\u001B[39m(curso_dim,))\n\u001B[0;32m      5\u001B[0m x \u001B[38;5;241m=\u001B[39m layers\u001B[38;5;241m.\u001B[39mDense(\u001B[38;5;241m128\u001B[39m, activation\u001B[38;5;241m=\u001B[39m\u001B[38;5;124m\"\u001B[39m\u001B[38;5;124mrelu\u001B[39m\u001B[38;5;124m\"\u001B[39m)(input_cursos)\n\u001B[0;32m      6\u001B[0m x \u001B[38;5;241m=\u001B[39m layers\u001B[38;5;241m.\u001B[39mDense(\u001B[38;5;241m64\u001B[39m, activation\u001B[38;5;241m=\u001B[39m\u001B[38;5;124m\"\u001B[39m\u001B[38;5;124mrelu\u001B[39m\u001B[38;5;124m\"\u001B[39m)(x)\n",
      "\u001B[1;31mNameError\u001B[0m: name 'keras' is not defined"
     ]
    }
   ],
   "source": [
    "# Modelo del encoder\n",
    "curso_dim = 15 # Dimensión de las características del curso\n",
    "estudiante_dim =  18\n",
    "input_cursos = keras.Input(shape=(curso_dim,))\n",
    "x = layers.Dense(128, activation=\"relu\")(input_cursos)\n",
    "x = layers.Dense(64, activation=\"relu\")(x)\n",
    "encoded = layers.Dense(32, activation=\"relu\")(x)\n",
    "encoder = keras.Model(input_cursos, encoded, name=\"encoder\")\n",
    "\n",
    "# Modelo del decoder\n",
    "input_encoded = keras.Input(shape=(32,))  # Usamos la dimensión del encoder\n",
    "decoded = layers.Dense(32, activation=\"relu\")(input_encoded)\n",
    "decoded = layers.Dense(128, activation=\"relu\")(decoded)\n",
    "output_estudiantes = layers.Dense(estudiante_dim, activation=\"linear\")(decoded)\n",
    "decoder = keras.Model(input_encoded, output_estudiantes, name=\"decoder\")\n",
    "\n",
    "# Modelo Autoencoder completo\n",
    "input_cursos = keras.Input(shape=(curso_dim,))\n",
    "encoded = encoder(input_cursos)\n",
    "decoded_output = decoder(encoded)\n",
    "autoencoder = keras.Model(input_cursos, decoded_output, name=\"autoencoder\")\n"
   ],
   "metadata": {
    "collapsed": false,
    "ExecuteTime": {
     "end_time": "2023-11-03T15:57:37.701576300Z",
     "start_time": "2023-11-03T15:57:37.660277900Z"
    }
   },
   "id": "5a72ea99dccd97e0"
  },
  {
   "cell_type": "code",
   "execution_count": 105,
   "outputs": [],
   "source": [
    "X_train = X_train.values\n",
    "y_train = y_train.values"
   ],
   "metadata": {
    "collapsed": false,
    "ExecuteTime": {
     "end_time": "2023-11-01T15:35:28.895587800Z",
     "start_time": "2023-11-01T15:35:28.863749500Z"
    }
   },
   "id": "6a1eaaaaa6d6aa88"
  },
  {
   "cell_type": "code",
   "execution_count": 106,
   "outputs": [],
   "source": [
    "X_train = X_train.astype('float32')\n",
    "y_train = y_train.astype('float32')"
   ],
   "metadata": {
    "collapsed": false,
    "ExecuteTime": {
     "end_time": "2023-11-01T15:35:32.403207700Z",
     "start_time": "2023-11-01T15:35:32.375838300Z"
    }
   },
   "id": "a6e1eee2380ca14e"
  },
  {
   "cell_type": "code",
   "execution_count": 28,
   "outputs": [
    {
     "ename": "ValueError",
     "evalue": "Failed to convert a NumPy array to a Tensor (Unsupported object type float).",
     "output_type": "error",
     "traceback": [
      "\u001B[1;31m---------------------------------------------------------------------------\u001B[0m",
      "\u001B[1;31mValueError\u001B[0m                                Traceback (most recent call last)",
      "Cell \u001B[1;32mIn[28], line 5\u001B[0m\n\u001B[0;32m      1\u001B[0m autoencoder\u001B[38;5;241m.\u001B[39mcompile(optimizer\u001B[38;5;241m=\u001B[39m\u001B[38;5;124m'\u001B[39m\u001B[38;5;124madam\u001B[39m\u001B[38;5;124m'\u001B[39m, loss\u001B[38;5;241m=\u001B[39m\u001B[38;5;124m'\u001B[39m\u001B[38;5;124mmean_squared_error\u001B[39m\u001B[38;5;124m'\u001B[39m)\n\u001B[0;32m      2\u001B[0m \u001B[38;5;66;03m# Entrenar el modelo Autoencoder con tus datos\u001B[39;00m\n\u001B[0;32m      3\u001B[0m \u001B[38;5;66;03m# X_cursos es tu conjunto de datos de entrada (características del curso)\u001B[39;00m\n\u001B[1;32m----> 5\u001B[0m \u001B[43mautoencoder\u001B[49m\u001B[38;5;241;43m.\u001B[39;49m\u001B[43mfit\u001B[49m\u001B[43m(\u001B[49m\u001B[43mX_train\u001B[49m\u001B[43m,\u001B[49m\u001B[43m \u001B[49m\u001B[43my_train\u001B[49m\u001B[43m,\u001B[49m\u001B[43m \u001B[49m\u001B[43mepochs\u001B[49m\u001B[38;5;241;43m=\u001B[39;49m\u001B[38;5;241;43m300\u001B[39;49m\u001B[43m,\u001B[49m\u001B[43m \u001B[49m\u001B[43mbatch_size\u001B[49m\u001B[38;5;241;43m=\u001B[39;49m\u001B[38;5;241;43m64\u001B[39;49m\u001B[43m)\u001B[49m\n",
      "File \u001B[1;32mE:\\chatbot\\venv\\Lib\\site-packages\\keras\\src\\utils\\traceback_utils.py:70\u001B[0m, in \u001B[0;36mfilter_traceback.<locals>.error_handler\u001B[1;34m(*args, **kwargs)\u001B[0m\n\u001B[0;32m     67\u001B[0m     filtered_tb \u001B[38;5;241m=\u001B[39m _process_traceback_frames(e\u001B[38;5;241m.\u001B[39m__traceback__)\n\u001B[0;32m     68\u001B[0m     \u001B[38;5;66;03m# To get the full stack trace, call:\u001B[39;00m\n\u001B[0;32m     69\u001B[0m     \u001B[38;5;66;03m# `tf.debugging.disable_traceback_filtering()`\u001B[39;00m\n\u001B[1;32m---> 70\u001B[0m     \u001B[38;5;28;01mraise\u001B[39;00m e\u001B[38;5;241m.\u001B[39mwith_traceback(filtered_tb) \u001B[38;5;28;01mfrom\u001B[39;00m \u001B[38;5;28;01mNone\u001B[39;00m\n\u001B[0;32m     71\u001B[0m \u001B[38;5;28;01mfinally\u001B[39;00m:\n\u001B[0;32m     72\u001B[0m     \u001B[38;5;28;01mdel\u001B[39;00m filtered_tb\n",
      "File \u001B[1;32mE:\\chatbot\\venv\\Lib\\site-packages\\tensorflow\\python\\framework\\constant_op.py:102\u001B[0m, in \u001B[0;36mconvert_to_eager_tensor\u001B[1;34m(value, ctx, dtype)\u001B[0m\n\u001B[0;32m    100\u001B[0m     dtype \u001B[38;5;241m=\u001B[39m dtypes\u001B[38;5;241m.\u001B[39mas_dtype(dtype)\u001B[38;5;241m.\u001B[39mas_datatype_enum\n\u001B[0;32m    101\u001B[0m ctx\u001B[38;5;241m.\u001B[39mensure_initialized()\n\u001B[1;32m--> 102\u001B[0m \u001B[38;5;28;01mreturn\u001B[39;00m \u001B[43mops\u001B[49m\u001B[38;5;241;43m.\u001B[39;49m\u001B[43mEagerTensor\u001B[49m\u001B[43m(\u001B[49m\u001B[43mvalue\u001B[49m\u001B[43m,\u001B[49m\u001B[43m \u001B[49m\u001B[43mctx\u001B[49m\u001B[38;5;241;43m.\u001B[39;49m\u001B[43mdevice_name\u001B[49m\u001B[43m,\u001B[49m\u001B[43m \u001B[49m\u001B[43mdtype\u001B[49m\u001B[43m)\u001B[49m\n",
      "\u001B[1;31mValueError\u001B[0m: Failed to convert a NumPy array to a Tensor (Unsupported object type float)."
     ]
    }
   ],
   "source": [
    "autoencoder.compile(optimizer='adam', loss='mean_squared_error')\n",
    "# Entrenar el modelo Autoencoder con tus datos\n",
    "# X_cursos es tu conjunto de datos de entrada (características del curso)\n",
    "\n",
    "autoencoder.fit(X_train, y_train, epochs=300, batch_size=64)"
   ],
   "metadata": {
    "collapsed": false,
    "ExecuteTime": {
     "end_time": "2023-11-03T16:08:49.152119200Z",
     "start_time": "2023-11-03T16:08:49.046296400Z"
    }
   },
   "id": "3be92fad9a05e5f2"
  },
  {
   "cell_type": "code",
   "execution_count": 29,
   "outputs": [],
   "source": [
    "import joblib\n",
    "autoencoder = joblib.load('modelo_entrenado3.pkl')"
   ],
   "metadata": {
    "collapsed": false,
    "ExecuteTime": {
     "end_time": "2023-11-03T16:09:19.899907200Z",
     "start_time": "2023-11-03T16:09:19.652098100Z"
    }
   },
   "id": "5e5b1cb826802593"
  },
  {
   "cell_type": "code",
   "execution_count": 31,
   "outputs": [
    {
     "data": {
      "text/plain": "       monto_tutoria  costo_programa  dep_inicial  siglaNoVersion  \\\n20922       0.535714        0.582524         0.10        0.000415   \n26698       0.180952        0.155340         0.10        0.004564   \n29100       0.589286        0.190291         0.10        0.000128   \n11909       0.180952        0.118058         0.25        0.115462   \n15741       0.535714        0.553398         0.10        0.068326   \n...              ...             ...          ...             ...   \n21196       0.000000        0.000000         0.00        0.001596   \n44          0.071429        0.042718         0.20        0.068326   \n13915       0.180952        0.102524         0.10        0.037498   \n9826        0.180952        0.118058         0.25        0.115462   \n10322       0.535714        0.320388         0.10        0.068326   \n\n       iniciales_nombre_2_dip  iniciales_nombre_2_doc  iniciales_nombre_2_e  \\\n20922                   False                   False                 False   \n26698                    True                   False                 False   \n29100                    True                   False                 False   \n11909                    True                   False                 False   \n15741                   False                   False                 False   \n...                       ...                     ...                   ...   \n21196                   False                   False                 False   \n44                      False                   False                 False   \n13915                    True                   False                 False   \n9826                     True                   False                 False   \n10322                   False                   False                 False   \n\n       iniciales_nombre_2_fc  iniciales_nombre_2_m  iniciales_nombre_2_n  \\\n20922                  False                  True                 False   \n26698                  False                 False                 False   \n29100                  False                 False                 False   \n11909                  False                 False                 False   \n15741                  False                  True                 False   \n...                      ...                   ...                   ...   \n21196                  False                  True                 False   \n44                     False                  True                 False   \n13915                  False                 False                 False   \n9826                   False                 False                 False   \n10322                  False                  True                 False   \n\n       Areas_1  Areas_2  Areas_3  Areas_4  Areas_5  \n20922    False    False    False     True    False  \n26698    False    False    False     True    False  \n29100    False    False    False    False     True  \n11909    False    False     True    False    False  \n15741    False    False     True    False    False  \n...        ...      ...      ...      ...      ...  \n21196    False    False    False     True    False  \n44       False    False     True    False    False  \n13915    False    False     True    False    False  \n9826     False    False     True    False    False  \n10322    False    False     True    False    False  \n\n[4693 rows x 15 columns]",
      "text/html": "<div>\n<style scoped>\n    .dataframe tbody tr th:only-of-type {\n        vertical-align: middle;\n    }\n\n    .dataframe tbody tr th {\n        vertical-align: top;\n    }\n\n    .dataframe thead th {\n        text-align: right;\n    }\n</style>\n<table border=\"1\" class=\"dataframe\">\n  <thead>\n    <tr style=\"text-align: right;\">\n      <th></th>\n      <th>monto_tutoria</th>\n      <th>costo_programa</th>\n      <th>dep_inicial</th>\n      <th>siglaNoVersion</th>\n      <th>iniciales_nombre_2_dip</th>\n      <th>iniciales_nombre_2_doc</th>\n      <th>iniciales_nombre_2_e</th>\n      <th>iniciales_nombre_2_fc</th>\n      <th>iniciales_nombre_2_m</th>\n      <th>iniciales_nombre_2_n</th>\n      <th>Areas_1</th>\n      <th>Areas_2</th>\n      <th>Areas_3</th>\n      <th>Areas_4</th>\n      <th>Areas_5</th>\n    </tr>\n  </thead>\n  <tbody>\n    <tr>\n      <th>20922</th>\n      <td>0.535714</td>\n      <td>0.582524</td>\n      <td>0.10</td>\n      <td>0.000415</td>\n      <td>False</td>\n      <td>False</td>\n      <td>False</td>\n      <td>False</td>\n      <td>True</td>\n      <td>False</td>\n      <td>False</td>\n      <td>False</td>\n      <td>False</td>\n      <td>True</td>\n      <td>False</td>\n    </tr>\n    <tr>\n      <th>26698</th>\n      <td>0.180952</td>\n      <td>0.155340</td>\n      <td>0.10</td>\n      <td>0.004564</td>\n      <td>True</td>\n      <td>False</td>\n      <td>False</td>\n      <td>False</td>\n      <td>False</td>\n      <td>False</td>\n      <td>False</td>\n      <td>False</td>\n      <td>False</td>\n      <td>True</td>\n      <td>False</td>\n    </tr>\n    <tr>\n      <th>29100</th>\n      <td>0.589286</td>\n      <td>0.190291</td>\n      <td>0.10</td>\n      <td>0.000128</td>\n      <td>True</td>\n      <td>False</td>\n      <td>False</td>\n      <td>False</td>\n      <td>False</td>\n      <td>False</td>\n      <td>False</td>\n      <td>False</td>\n      <td>False</td>\n      <td>False</td>\n      <td>True</td>\n    </tr>\n    <tr>\n      <th>11909</th>\n      <td>0.180952</td>\n      <td>0.118058</td>\n      <td>0.25</td>\n      <td>0.115462</td>\n      <td>True</td>\n      <td>False</td>\n      <td>False</td>\n      <td>False</td>\n      <td>False</td>\n      <td>False</td>\n      <td>False</td>\n      <td>False</td>\n      <td>True</td>\n      <td>False</td>\n      <td>False</td>\n    </tr>\n    <tr>\n      <th>15741</th>\n      <td>0.535714</td>\n      <td>0.553398</td>\n      <td>0.10</td>\n      <td>0.068326</td>\n      <td>False</td>\n      <td>False</td>\n      <td>False</td>\n      <td>False</td>\n      <td>True</td>\n      <td>False</td>\n      <td>False</td>\n      <td>False</td>\n      <td>True</td>\n      <td>False</td>\n      <td>False</td>\n    </tr>\n    <tr>\n      <th>...</th>\n      <td>...</td>\n      <td>...</td>\n      <td>...</td>\n      <td>...</td>\n      <td>...</td>\n      <td>...</td>\n      <td>...</td>\n      <td>...</td>\n      <td>...</td>\n      <td>...</td>\n      <td>...</td>\n      <td>...</td>\n      <td>...</td>\n      <td>...</td>\n      <td>...</td>\n    </tr>\n    <tr>\n      <th>21196</th>\n      <td>0.000000</td>\n      <td>0.000000</td>\n      <td>0.00</td>\n      <td>0.001596</td>\n      <td>False</td>\n      <td>False</td>\n      <td>False</td>\n      <td>False</td>\n      <td>True</td>\n      <td>False</td>\n      <td>False</td>\n      <td>False</td>\n      <td>False</td>\n      <td>True</td>\n      <td>False</td>\n    </tr>\n    <tr>\n      <th>44</th>\n      <td>0.071429</td>\n      <td>0.042718</td>\n      <td>0.20</td>\n      <td>0.068326</td>\n      <td>False</td>\n      <td>False</td>\n      <td>False</td>\n      <td>False</td>\n      <td>True</td>\n      <td>False</td>\n      <td>False</td>\n      <td>False</td>\n      <td>True</td>\n      <td>False</td>\n      <td>False</td>\n    </tr>\n    <tr>\n      <th>13915</th>\n      <td>0.180952</td>\n      <td>0.102524</td>\n      <td>0.10</td>\n      <td>0.037498</td>\n      <td>True</td>\n      <td>False</td>\n      <td>False</td>\n      <td>False</td>\n      <td>False</td>\n      <td>False</td>\n      <td>False</td>\n      <td>False</td>\n      <td>True</td>\n      <td>False</td>\n      <td>False</td>\n    </tr>\n    <tr>\n      <th>9826</th>\n      <td>0.180952</td>\n      <td>0.118058</td>\n      <td>0.25</td>\n      <td>0.115462</td>\n      <td>True</td>\n      <td>False</td>\n      <td>False</td>\n      <td>False</td>\n      <td>False</td>\n      <td>False</td>\n      <td>False</td>\n      <td>False</td>\n      <td>True</td>\n      <td>False</td>\n      <td>False</td>\n    </tr>\n    <tr>\n      <th>10322</th>\n      <td>0.535714</td>\n      <td>0.320388</td>\n      <td>0.10</td>\n      <td>0.068326</td>\n      <td>False</td>\n      <td>False</td>\n      <td>False</td>\n      <td>False</td>\n      <td>True</td>\n      <td>False</td>\n      <td>False</td>\n      <td>False</td>\n      <td>True</td>\n      <td>False</td>\n      <td>False</td>\n    </tr>\n  </tbody>\n</table>\n<p>4693 rows × 15 columns</p>\n</div>"
     },
     "execution_count": 31,
     "metadata": {},
     "output_type": "execute_result"
    }
   ],
   "source": [
    "X_test"
   ],
   "metadata": {
    "collapsed": false,
    "ExecuteTime": {
     "end_time": "2023-11-03T16:09:52.757602400Z",
     "start_time": "2023-11-03T16:09:52.700122300Z"
    }
   },
   "id": "610da25ca97b2a05"
  },
  {
   "cell_type": "code",
   "execution_count": 30,
   "outputs": [
    {
     "name": "stdout",
     "output_type": "stream",
     "text": [
      "147/147 [==============================] - 0s 2ms/step\n"
     ]
    },
    {
     "data": {
      "text/plain": "array([[ 4.10171002e-01,  2.83259451e-01,  4.84568238e-01, ...,\n         9.72463727e-01,  1.32796941e-02, -7.42347632e-03],\n       [ 2.34146282e-01,  1.16759576e-01,  5.93545854e-01, ...,\n         9.62081492e-01,  2.28246637e-02, -2.16809777e-03],\n       [ 1.58624977e-01,  6.02914393e-02,  5.22360682e-01, ...,\n         9.95564342e-01,  1.70679600e-03, -1.02975615e-03],\n       ...,\n       [ 2.93674529e-01,  1.76745653e-01,  5.02760410e-01, ...,\n         1.00188541e+00,  4.90374863e-04, -1.95000577e-03],\n       [ 4.17835236e-01,  2.87037283e-01,  4.51333880e-01, ...,\n         9.87340808e-01,  5.31176804e-03,  4.83222888e-04],\n       [ 4.64938879e-01,  3.12930286e-01,  4.48805690e-01, ...,\n         9.91218567e-01,  3.64239980e-03, -2.36882409e-03]], dtype=float32)"
     },
     "execution_count": 30,
     "metadata": {},
     "output_type": "execute_result"
    }
   ],
   "source": [
    "prediccion = autoencoder.predict(X_test.values.astype('float32'))\n",
    "prediccion"
   ],
   "metadata": {
    "collapsed": false,
    "ExecuteTime": {
     "end_time": "2023-11-03T16:09:21.250150100Z",
     "start_time": "2023-11-03T16:09:20.685385300Z"
    }
   },
   "id": "818cef69334b319b"
  },
  {
   "cell_type": "code",
   "execution_count": 33,
   "outputs": [
    {
     "data": {
      "text/plain": "           edad  tiempo_titulacion  sexo_F  sexo_M  estado_civil_C  \\\n20922  0.409836           0.300000   False    True           False   \n26698  0.229508           0.150000    True   False           False   \n29100  0.213115           0.116667    True   False           False   \n11909  0.360656           0.283333    True   False            True   \n15741  0.262295           0.133333   False    True           False   \n...         ...                ...     ...     ...             ...   \n21196  0.295082           0.266667    True   False            True   \n44     0.344262           0.266667    True   False           False   \n13915  0.131148           0.100000    True   False           False   \n9826   0.344262           0.300000    True   False           False   \n10322  0.393443           0.333333    True   False           False   \n\n       estado_civil_O  estado_civil_S  codigo_dpto_nacimiento_CH  \\\n20922           False            True                      False   \n26698           False            True                       True   \n29100           False            True                      False   \n11909           False           False                       True   \n15741           False            True                      False   \n...               ...             ...                        ...   \n21196           False           False                      False   \n44              False            True                      False   \n13915           False            True                       True   \n9826            False            True                       True   \n10322           False            True                      False   \n\n       codigo_dpto_nacimiento_CO  codigo_dpto_nacimiento_LP  \\\n20922                       True                      False   \n26698                      False                      False   \n29100                      False                      False   \n11909                      False                      False   \n15741                      False                      False   \n...                          ...                        ...   \n21196                      False                      False   \n44                         False                      False   \n13915                      False                      False   \n9826                       False                      False   \n10322                      False                      False   \n\n       codigo_dpto_nacimiento_OR  codigo_dpto_nacimiento_OTHER  \\\n20922                      False                         False   \n26698                      False                         False   \n29100                      False                         False   \n11909                      False                         False   \n15741                      False                         False   \n...                          ...                           ...   \n21196                      False                         False   \n44                         False                          True   \n13915                      False                         False   \n9826                       False                         False   \n10322                      False                         False   \n\n       codigo_dpto_nacimiento_PO  codigo_dpto_nacimiento_SC  \\\n20922                      False                      False   \n26698                      False                      False   \n29100                      False                       True   \n11909                      False                      False   \n15741                       True                      False   \n...                          ...                        ...   \n21196                      False                       True   \n44                         False                      False   \n13915                      False                      False   \n9826                       False                      False   \n10322                       True                      False   \n\n       codigo_pais_nacimiento_AR  codigo_pais_nacimiento_BO  \\\n20922                      False                       True   \n26698                      False                       True   \n29100                      False                       True   \n11909                      False                       True   \n15741                      False                       True   \n...                          ...                        ...   \n21196                      False                       True   \n44                         False                       True   \n13915                      False                       True   \n9826                       False                       True   \n10322                      False                       True   \n\n       codigo_pais_nacimiento_LATE  codigo_pais_nacimiento_PE  \n20922                        False                      False  \n26698                        False                      False  \n29100                        False                      False  \n11909                        False                      False  \n15741                        False                      False  \n...                            ...                        ...  \n21196                        False                      False  \n44                           False                      False  \n13915                        False                      False  \n9826                         False                      False  \n10322                        False                      False  \n\n[4693 rows x 18 columns]",
      "text/html": "<div>\n<style scoped>\n    .dataframe tbody tr th:only-of-type {\n        vertical-align: middle;\n    }\n\n    .dataframe tbody tr th {\n        vertical-align: top;\n    }\n\n    .dataframe thead th {\n        text-align: right;\n    }\n</style>\n<table border=\"1\" class=\"dataframe\">\n  <thead>\n    <tr style=\"text-align: right;\">\n      <th></th>\n      <th>edad</th>\n      <th>tiempo_titulacion</th>\n      <th>sexo_F</th>\n      <th>sexo_M</th>\n      <th>estado_civil_C</th>\n      <th>estado_civil_O</th>\n      <th>estado_civil_S</th>\n      <th>codigo_dpto_nacimiento_CH</th>\n      <th>codigo_dpto_nacimiento_CO</th>\n      <th>codigo_dpto_nacimiento_LP</th>\n      <th>codigo_dpto_nacimiento_OR</th>\n      <th>codigo_dpto_nacimiento_OTHER</th>\n      <th>codigo_dpto_nacimiento_PO</th>\n      <th>codigo_dpto_nacimiento_SC</th>\n      <th>codigo_pais_nacimiento_AR</th>\n      <th>codigo_pais_nacimiento_BO</th>\n      <th>codigo_pais_nacimiento_LATE</th>\n      <th>codigo_pais_nacimiento_PE</th>\n    </tr>\n  </thead>\n  <tbody>\n    <tr>\n      <th>20922</th>\n      <td>0.409836</td>\n      <td>0.300000</td>\n      <td>False</td>\n      <td>True</td>\n      <td>False</td>\n      <td>False</td>\n      <td>True</td>\n      <td>False</td>\n      <td>True</td>\n      <td>False</td>\n      <td>False</td>\n      <td>False</td>\n      <td>False</td>\n      <td>False</td>\n      <td>False</td>\n      <td>True</td>\n      <td>False</td>\n      <td>False</td>\n    </tr>\n    <tr>\n      <th>26698</th>\n      <td>0.229508</td>\n      <td>0.150000</td>\n      <td>True</td>\n      <td>False</td>\n      <td>False</td>\n      <td>False</td>\n      <td>True</td>\n      <td>True</td>\n      <td>False</td>\n      <td>False</td>\n      <td>False</td>\n      <td>False</td>\n      <td>False</td>\n      <td>False</td>\n      <td>False</td>\n      <td>True</td>\n      <td>False</td>\n      <td>False</td>\n    </tr>\n    <tr>\n      <th>29100</th>\n      <td>0.213115</td>\n      <td>0.116667</td>\n      <td>True</td>\n      <td>False</td>\n      <td>False</td>\n      <td>False</td>\n      <td>True</td>\n      <td>False</td>\n      <td>False</td>\n      <td>False</td>\n      <td>False</td>\n      <td>False</td>\n      <td>False</td>\n      <td>True</td>\n      <td>False</td>\n      <td>True</td>\n      <td>False</td>\n      <td>False</td>\n    </tr>\n    <tr>\n      <th>11909</th>\n      <td>0.360656</td>\n      <td>0.283333</td>\n      <td>True</td>\n      <td>False</td>\n      <td>True</td>\n      <td>False</td>\n      <td>False</td>\n      <td>True</td>\n      <td>False</td>\n      <td>False</td>\n      <td>False</td>\n      <td>False</td>\n      <td>False</td>\n      <td>False</td>\n      <td>False</td>\n      <td>True</td>\n      <td>False</td>\n      <td>False</td>\n    </tr>\n    <tr>\n      <th>15741</th>\n      <td>0.262295</td>\n      <td>0.133333</td>\n      <td>False</td>\n      <td>True</td>\n      <td>False</td>\n      <td>False</td>\n      <td>True</td>\n      <td>False</td>\n      <td>False</td>\n      <td>False</td>\n      <td>False</td>\n      <td>False</td>\n      <td>True</td>\n      <td>False</td>\n      <td>False</td>\n      <td>True</td>\n      <td>False</td>\n      <td>False</td>\n    </tr>\n    <tr>\n      <th>...</th>\n      <td>...</td>\n      <td>...</td>\n      <td>...</td>\n      <td>...</td>\n      <td>...</td>\n      <td>...</td>\n      <td>...</td>\n      <td>...</td>\n      <td>...</td>\n      <td>...</td>\n      <td>...</td>\n      <td>...</td>\n      <td>...</td>\n      <td>...</td>\n      <td>...</td>\n      <td>...</td>\n      <td>...</td>\n      <td>...</td>\n    </tr>\n    <tr>\n      <th>21196</th>\n      <td>0.295082</td>\n      <td>0.266667</td>\n      <td>True</td>\n      <td>False</td>\n      <td>True</td>\n      <td>False</td>\n      <td>False</td>\n      <td>False</td>\n      <td>False</td>\n      <td>False</td>\n      <td>False</td>\n      <td>False</td>\n      <td>False</td>\n      <td>True</td>\n      <td>False</td>\n      <td>True</td>\n      <td>False</td>\n      <td>False</td>\n    </tr>\n    <tr>\n      <th>44</th>\n      <td>0.344262</td>\n      <td>0.266667</td>\n      <td>True</td>\n      <td>False</td>\n      <td>False</td>\n      <td>False</td>\n      <td>True</td>\n      <td>False</td>\n      <td>False</td>\n      <td>False</td>\n      <td>False</td>\n      <td>True</td>\n      <td>False</td>\n      <td>False</td>\n      <td>False</td>\n      <td>True</td>\n      <td>False</td>\n      <td>False</td>\n    </tr>\n    <tr>\n      <th>13915</th>\n      <td>0.131148</td>\n      <td>0.100000</td>\n      <td>True</td>\n      <td>False</td>\n      <td>False</td>\n      <td>False</td>\n      <td>True</td>\n      <td>True</td>\n      <td>False</td>\n      <td>False</td>\n      <td>False</td>\n      <td>False</td>\n      <td>False</td>\n      <td>False</td>\n      <td>False</td>\n      <td>True</td>\n      <td>False</td>\n      <td>False</td>\n    </tr>\n    <tr>\n      <th>9826</th>\n      <td>0.344262</td>\n      <td>0.300000</td>\n      <td>True</td>\n      <td>False</td>\n      <td>False</td>\n      <td>False</td>\n      <td>True</td>\n      <td>True</td>\n      <td>False</td>\n      <td>False</td>\n      <td>False</td>\n      <td>False</td>\n      <td>False</td>\n      <td>False</td>\n      <td>False</td>\n      <td>True</td>\n      <td>False</td>\n      <td>False</td>\n    </tr>\n    <tr>\n      <th>10322</th>\n      <td>0.393443</td>\n      <td>0.333333</td>\n      <td>True</td>\n      <td>False</td>\n      <td>False</td>\n      <td>False</td>\n      <td>True</td>\n      <td>False</td>\n      <td>False</td>\n      <td>False</td>\n      <td>False</td>\n      <td>False</td>\n      <td>True</td>\n      <td>False</td>\n      <td>False</td>\n      <td>True</td>\n      <td>False</td>\n      <td>False</td>\n    </tr>\n  </tbody>\n</table>\n<p>4693 rows × 18 columns</p>\n</div>"
     },
     "execution_count": 33,
     "metadata": {},
     "output_type": "execute_result"
    }
   ],
   "source": [
    "y_test"
   ],
   "metadata": {
    "collapsed": false,
    "ExecuteTime": {
     "end_time": "2023-11-03T18:23:17.779655600Z",
     "start_time": "2023-11-03T18:23:17.720326900Z"
    }
   },
   "id": "1b154356bf895e34"
  },
  {
   "cell_type": "code",
   "execution_count": 25,
   "outputs": [
    {
     "data": {
      "text/plain": "       monto_tutoria  costo_programa  dep_inicial  siglaNoVersion  \\\n20922       0.535714        0.582524         0.10        0.000415   \n26698       0.180952        0.155340         0.10        0.004564   \n29100       0.589286        0.190291         0.10        0.000128   \n11909       0.180952        0.118058         0.25        0.115462   \n15741       0.535714        0.553398         0.10        0.068326   \n...              ...             ...          ...             ...   \n21196       0.000000        0.000000         0.00        0.001596   \n44          0.071429        0.042718         0.20        0.068326   \n13915       0.180952        0.102524         0.10        0.037498   \n9826        0.180952        0.118058         0.25        0.115462   \n10322       0.535714        0.320388         0.10        0.068326   \n\n       iniciales_nombre_2_dip  iniciales_nombre_2_doc  iniciales_nombre_2_e  \\\n20922                   False                   False                 False   \n26698                    True                   False                 False   \n29100                    True                   False                 False   \n11909                    True                   False                 False   \n15741                   False                   False                 False   \n...                       ...                     ...                   ...   \n21196                   False                   False                 False   \n44                      False                   False                 False   \n13915                    True                   False                 False   \n9826                     True                   False                 False   \n10322                   False                   False                 False   \n\n       iniciales_nombre_2_fc  iniciales_nombre_2_m  iniciales_nombre_2_n  \\\n20922                  False                  True                 False   \n26698                  False                 False                 False   \n29100                  False                 False                 False   \n11909                  False                 False                 False   \n15741                  False                  True                 False   \n...                      ...                   ...                   ...   \n21196                  False                  True                 False   \n44                     False                  True                 False   \n13915                  False                 False                 False   \n9826                   False                 False                 False   \n10322                  False                  True                 False   \n\n       Areas_1  Areas_2  Areas_3  Areas_4  Areas_5  \n20922    False    False    False     True    False  \n26698    False    False    False     True    False  \n29100    False    False    False    False     True  \n11909    False    False     True    False    False  \n15741    False    False     True    False    False  \n...        ...      ...      ...      ...      ...  \n21196    False    False    False     True    False  \n44       False    False     True    False    False  \n13915    False    False     True    False    False  \n9826     False    False     True    False    False  \n10322    False    False     True    False    False  \n\n[4693 rows x 15 columns]",
      "text/html": "<div>\n<style scoped>\n    .dataframe tbody tr th:only-of-type {\n        vertical-align: middle;\n    }\n\n    .dataframe tbody tr th {\n        vertical-align: top;\n    }\n\n    .dataframe thead th {\n        text-align: right;\n    }\n</style>\n<table border=\"1\" class=\"dataframe\">\n  <thead>\n    <tr style=\"text-align: right;\">\n      <th></th>\n      <th>monto_tutoria</th>\n      <th>costo_programa</th>\n      <th>dep_inicial</th>\n      <th>siglaNoVersion</th>\n      <th>iniciales_nombre_2_dip</th>\n      <th>iniciales_nombre_2_doc</th>\n      <th>iniciales_nombre_2_e</th>\n      <th>iniciales_nombre_2_fc</th>\n      <th>iniciales_nombre_2_m</th>\n      <th>iniciales_nombre_2_n</th>\n      <th>Areas_1</th>\n      <th>Areas_2</th>\n      <th>Areas_3</th>\n      <th>Areas_4</th>\n      <th>Areas_5</th>\n    </tr>\n  </thead>\n  <tbody>\n    <tr>\n      <th>20922</th>\n      <td>0.535714</td>\n      <td>0.582524</td>\n      <td>0.10</td>\n      <td>0.000415</td>\n      <td>False</td>\n      <td>False</td>\n      <td>False</td>\n      <td>False</td>\n      <td>True</td>\n      <td>False</td>\n      <td>False</td>\n      <td>False</td>\n      <td>False</td>\n      <td>True</td>\n      <td>False</td>\n    </tr>\n    <tr>\n      <th>26698</th>\n      <td>0.180952</td>\n      <td>0.155340</td>\n      <td>0.10</td>\n      <td>0.004564</td>\n      <td>True</td>\n      <td>False</td>\n      <td>False</td>\n      <td>False</td>\n      <td>False</td>\n      <td>False</td>\n      <td>False</td>\n      <td>False</td>\n      <td>False</td>\n      <td>True</td>\n      <td>False</td>\n    </tr>\n    <tr>\n      <th>29100</th>\n      <td>0.589286</td>\n      <td>0.190291</td>\n      <td>0.10</td>\n      <td>0.000128</td>\n      <td>True</td>\n      <td>False</td>\n      <td>False</td>\n      <td>False</td>\n      <td>False</td>\n      <td>False</td>\n      <td>False</td>\n      <td>False</td>\n      <td>False</td>\n      <td>False</td>\n      <td>True</td>\n    </tr>\n    <tr>\n      <th>11909</th>\n      <td>0.180952</td>\n      <td>0.118058</td>\n      <td>0.25</td>\n      <td>0.115462</td>\n      <td>True</td>\n      <td>False</td>\n      <td>False</td>\n      <td>False</td>\n      <td>False</td>\n      <td>False</td>\n      <td>False</td>\n      <td>False</td>\n      <td>True</td>\n      <td>False</td>\n      <td>False</td>\n    </tr>\n    <tr>\n      <th>15741</th>\n      <td>0.535714</td>\n      <td>0.553398</td>\n      <td>0.10</td>\n      <td>0.068326</td>\n      <td>False</td>\n      <td>False</td>\n      <td>False</td>\n      <td>False</td>\n      <td>True</td>\n      <td>False</td>\n      <td>False</td>\n      <td>False</td>\n      <td>True</td>\n      <td>False</td>\n      <td>False</td>\n    </tr>\n    <tr>\n      <th>...</th>\n      <td>...</td>\n      <td>...</td>\n      <td>...</td>\n      <td>...</td>\n      <td>...</td>\n      <td>...</td>\n      <td>...</td>\n      <td>...</td>\n      <td>...</td>\n      <td>...</td>\n      <td>...</td>\n      <td>...</td>\n      <td>...</td>\n      <td>...</td>\n      <td>...</td>\n    </tr>\n    <tr>\n      <th>21196</th>\n      <td>0.000000</td>\n      <td>0.000000</td>\n      <td>0.00</td>\n      <td>0.001596</td>\n      <td>False</td>\n      <td>False</td>\n      <td>False</td>\n      <td>False</td>\n      <td>True</td>\n      <td>False</td>\n      <td>False</td>\n      <td>False</td>\n      <td>False</td>\n      <td>True</td>\n      <td>False</td>\n    </tr>\n    <tr>\n      <th>44</th>\n      <td>0.071429</td>\n      <td>0.042718</td>\n      <td>0.20</td>\n      <td>0.068326</td>\n      <td>False</td>\n      <td>False</td>\n      <td>False</td>\n      <td>False</td>\n      <td>True</td>\n      <td>False</td>\n      <td>False</td>\n      <td>False</td>\n      <td>True</td>\n      <td>False</td>\n      <td>False</td>\n    </tr>\n    <tr>\n      <th>13915</th>\n      <td>0.180952</td>\n      <td>0.102524</td>\n      <td>0.10</td>\n      <td>0.037498</td>\n      <td>True</td>\n      <td>False</td>\n      <td>False</td>\n      <td>False</td>\n      <td>False</td>\n      <td>False</td>\n      <td>False</td>\n      <td>False</td>\n      <td>True</td>\n      <td>False</td>\n      <td>False</td>\n    </tr>\n    <tr>\n      <th>9826</th>\n      <td>0.180952</td>\n      <td>0.118058</td>\n      <td>0.25</td>\n      <td>0.115462</td>\n      <td>True</td>\n      <td>False</td>\n      <td>False</td>\n      <td>False</td>\n      <td>False</td>\n      <td>False</td>\n      <td>False</td>\n      <td>False</td>\n      <td>True</td>\n      <td>False</td>\n      <td>False</td>\n    </tr>\n    <tr>\n      <th>10322</th>\n      <td>0.535714</td>\n      <td>0.320388</td>\n      <td>0.10</td>\n      <td>0.068326</td>\n      <td>False</td>\n      <td>False</td>\n      <td>False</td>\n      <td>False</td>\n      <td>True</td>\n      <td>False</td>\n      <td>False</td>\n      <td>False</td>\n      <td>True</td>\n      <td>False</td>\n      <td>False</td>\n    </tr>\n  </tbody>\n</table>\n<p>4693 rows × 15 columns</p>\n</div>"
     },
     "execution_count": 25,
     "metadata": {},
     "output_type": "execute_result"
    }
   ],
   "source": [
    "X_test"
   ],
   "metadata": {
    "collapsed": false,
    "ExecuteTime": {
     "end_time": "2023-11-03T16:00:54.298498900Z",
     "start_time": "2023-11-03T16:00:54.205091300Z"
    }
   },
   "id": "6e63fb049212735d"
  },
  {
   "cell_type": "code",
   "execution_count": 81,
   "outputs": [],
   "source": [
    "\n",
    "edad_original = 0.409836 * (81-20)+20\n",
    "titulacion_tiempo_original = 0.165577 * (60-0)+0"
   ],
   "metadata": {
    "collapsed": false,
    "ExecuteTime": {
     "end_time": "2023-11-01T14:28:36.252602500Z",
     "start_time": "2023-11-01T14:28:36.212452300Z"
    }
   },
   "id": "a8168da34122ce95"
  },
  {
   "cell_type": "code",
   "execution_count": 82,
   "outputs": [
    {
     "data": {
      "text/plain": "array([[4.5314339e-01, 3.4021220e-01, 4.1541117e-01, ..., 9.7256732e-01,\n        9.9041648e-03, 9.0521406e-03],\n       [2.6400664e-01, 1.5428698e-01, 6.3493884e-01, ..., 9.5996338e-01,\n        1.7650241e-02, 1.0157289e-02],\n       [1.7022003e-01, 7.7573419e-02, 5.6875193e-01, ..., 9.7670370e-01,\n        9.8947901e-03, 4.3038558e-04],\n       ...,\n       [2.9800814e-01, 1.9453345e-01, 4.8663539e-01, ..., 9.8858690e-01,\n        4.3438096e-04, 1.5749303e-03],\n       [4.3639129e-01, 3.0860880e-01, 4.7295412e-01, ..., 9.7819614e-01,\n        4.3590600e-03, 3.8441306e-03],\n       [4.8775387e-01, 3.4118539e-01, 4.7269708e-01, ..., 9.8360443e-01,\n        8.5175373e-03, 4.1378057e-03]], dtype=float32)"
     },
     "execution_count": 82,
     "metadata": {},
     "output_type": "execute_result"
    }
   ],
   "source": [
    "prediccion"
   ],
   "metadata": {
    "collapsed": false,
    "ExecuteTime": {
     "end_time": "2023-11-01T14:28:37.529854500Z",
     "start_time": "2023-11-01T14:28:37.493874100Z"
    }
   },
   "id": "e3270331adb373d"
  },
  {
   "cell_type": "code",
   "execution_count": 83,
   "outputs": [
    {
     "data": {
      "text/plain": "array([False,  True, False, False, False,  True, False, False, False,\n       False, False, False, False,  True, False, False])"
     },
     "execution_count": 83,
     "metadata": {},
     "output_type": "execute_result"
    }
   ],
   "source": [
    "a =  prediccion[7][2:]>0.5\n",
    "a"
   ],
   "metadata": {
    "collapsed": false,
    "ExecuteTime": {
     "end_time": "2023-11-01T14:28:38.159822400Z",
     "start_time": "2023-11-01T14:28:38.122897600Z"
    }
   },
   "id": "904de8e194d59fc4"
  },
  {
   "cell_type": "code",
   "execution_count": 84,
   "outputs": [
    {
     "data": {
      "text/plain": "array([[0.4098360655737705, 0.3, False, ..., True, False, False],\n       [0.2295081967213115, 0.15, True, ..., True, False, False],\n       [0.2131147540983606, 0.1166666666666666, True, ..., True, False,\n        False],\n       ...,\n       [0.1311475409836065, 0.1, True, ..., True, False, False],\n       [0.3442622950819672, 0.3, True, ..., True, False, False],\n       [0.3934426229508196, 0.3333333333333333, True, ..., True, False,\n        False]], dtype=object)"
     },
     "execution_count": 84,
     "metadata": {},
     "output_type": "execute_result"
    }
   ],
   "source": [
    "y_test.values"
   ],
   "metadata": {
    "collapsed": false,
    "ExecuteTime": {
     "end_time": "2023-11-01T14:28:38.792181900Z",
     "start_time": "2023-11-01T14:28:38.737636Z"
    }
   },
   "id": "6cce4378d74ea5a8"
  },
  {
   "cell_type": "code",
   "execution_count": 85,
   "outputs": [
    {
     "data": {
      "text/plain": "       monto_tutoria  costo_programa  dep_inicial  siglaNoVersion  \\\n20922       0.535714        0.582524         0.10        0.000415   \n26698       0.180952        0.155340         0.10        0.004564   \n29100       0.589286        0.190291         0.10        0.000128   \n11909       0.180952        0.118058         0.25        0.115462   \n15741       0.535714        0.553398         0.10        0.068326   \n...              ...             ...          ...             ...   \n21196       0.000000        0.000000         0.00        0.001596   \n44          0.071429        0.042718         0.20        0.068326   \n13915       0.180952        0.102524         0.10        0.037498   \n9826        0.180952        0.118058         0.25        0.115462   \n10322       0.535714        0.320388         0.10        0.068326   \n\n       iniciales_nombre_2_dip  iniciales_nombre_2_doc  iniciales_nombre_2_e  \\\n20922                   False                   False                 False   \n26698                    True                   False                 False   \n29100                    True                   False                 False   \n11909                    True                   False                 False   \n15741                   False                   False                 False   \n...                       ...                     ...                   ...   \n21196                   False                   False                 False   \n44                      False                   False                 False   \n13915                    True                   False                 False   \n9826                     True                   False                 False   \n10322                   False                   False                 False   \n\n       iniciales_nombre_2_fc  iniciales_nombre_2_m  iniciales_nombre_2_n  \\\n20922                  False                  True                 False   \n26698                  False                 False                 False   \n29100                  False                 False                 False   \n11909                  False                 False                 False   \n15741                  False                  True                 False   \n...                      ...                   ...                   ...   \n21196                  False                  True                 False   \n44                     False                  True                 False   \n13915                  False                 False                 False   \n9826                   False                 False                 False   \n10322                  False                  True                 False   \n\n       Areas_1  Areas_2  Areas_3  Areas_4  Areas_5  \n20922    False    False    False     True    False  \n26698    False    False    False     True    False  \n29100    False    False    False    False     True  \n11909    False    False     True    False    False  \n15741    False    False     True    False    False  \n...        ...      ...      ...      ...      ...  \n21196    False    False    False     True    False  \n44       False    False     True    False    False  \n13915    False    False     True    False    False  \n9826     False    False     True    False    False  \n10322    False    False     True    False    False  \n\n[4693 rows x 15 columns]",
      "text/html": "<div>\n<style scoped>\n    .dataframe tbody tr th:only-of-type {\n        vertical-align: middle;\n    }\n\n    .dataframe tbody tr th {\n        vertical-align: top;\n    }\n\n    .dataframe thead th {\n        text-align: right;\n    }\n</style>\n<table border=\"1\" class=\"dataframe\">\n  <thead>\n    <tr style=\"text-align: right;\">\n      <th></th>\n      <th>monto_tutoria</th>\n      <th>costo_programa</th>\n      <th>dep_inicial</th>\n      <th>siglaNoVersion</th>\n      <th>iniciales_nombre_2_dip</th>\n      <th>iniciales_nombre_2_doc</th>\n      <th>iniciales_nombre_2_e</th>\n      <th>iniciales_nombre_2_fc</th>\n      <th>iniciales_nombre_2_m</th>\n      <th>iniciales_nombre_2_n</th>\n      <th>Areas_1</th>\n      <th>Areas_2</th>\n      <th>Areas_3</th>\n      <th>Areas_4</th>\n      <th>Areas_5</th>\n    </tr>\n  </thead>\n  <tbody>\n    <tr>\n      <th>20922</th>\n      <td>0.535714</td>\n      <td>0.582524</td>\n      <td>0.10</td>\n      <td>0.000415</td>\n      <td>False</td>\n      <td>False</td>\n      <td>False</td>\n      <td>False</td>\n      <td>True</td>\n      <td>False</td>\n      <td>False</td>\n      <td>False</td>\n      <td>False</td>\n      <td>True</td>\n      <td>False</td>\n    </tr>\n    <tr>\n      <th>26698</th>\n      <td>0.180952</td>\n      <td>0.155340</td>\n      <td>0.10</td>\n      <td>0.004564</td>\n      <td>True</td>\n      <td>False</td>\n      <td>False</td>\n      <td>False</td>\n      <td>False</td>\n      <td>False</td>\n      <td>False</td>\n      <td>False</td>\n      <td>False</td>\n      <td>True</td>\n      <td>False</td>\n    </tr>\n    <tr>\n      <th>29100</th>\n      <td>0.589286</td>\n      <td>0.190291</td>\n      <td>0.10</td>\n      <td>0.000128</td>\n      <td>True</td>\n      <td>False</td>\n      <td>False</td>\n      <td>False</td>\n      <td>False</td>\n      <td>False</td>\n      <td>False</td>\n      <td>False</td>\n      <td>False</td>\n      <td>False</td>\n      <td>True</td>\n    </tr>\n    <tr>\n      <th>11909</th>\n      <td>0.180952</td>\n      <td>0.118058</td>\n      <td>0.25</td>\n      <td>0.115462</td>\n      <td>True</td>\n      <td>False</td>\n      <td>False</td>\n      <td>False</td>\n      <td>False</td>\n      <td>False</td>\n      <td>False</td>\n      <td>False</td>\n      <td>True</td>\n      <td>False</td>\n      <td>False</td>\n    </tr>\n    <tr>\n      <th>15741</th>\n      <td>0.535714</td>\n      <td>0.553398</td>\n      <td>0.10</td>\n      <td>0.068326</td>\n      <td>False</td>\n      <td>False</td>\n      <td>False</td>\n      <td>False</td>\n      <td>True</td>\n      <td>False</td>\n      <td>False</td>\n      <td>False</td>\n      <td>True</td>\n      <td>False</td>\n      <td>False</td>\n    </tr>\n    <tr>\n      <th>...</th>\n      <td>...</td>\n      <td>...</td>\n      <td>...</td>\n      <td>...</td>\n      <td>...</td>\n      <td>...</td>\n      <td>...</td>\n      <td>...</td>\n      <td>...</td>\n      <td>...</td>\n      <td>...</td>\n      <td>...</td>\n      <td>...</td>\n      <td>...</td>\n      <td>...</td>\n    </tr>\n    <tr>\n      <th>21196</th>\n      <td>0.000000</td>\n      <td>0.000000</td>\n      <td>0.00</td>\n      <td>0.001596</td>\n      <td>False</td>\n      <td>False</td>\n      <td>False</td>\n      <td>False</td>\n      <td>True</td>\n      <td>False</td>\n      <td>False</td>\n      <td>False</td>\n      <td>False</td>\n      <td>True</td>\n      <td>False</td>\n    </tr>\n    <tr>\n      <th>44</th>\n      <td>0.071429</td>\n      <td>0.042718</td>\n      <td>0.20</td>\n      <td>0.068326</td>\n      <td>False</td>\n      <td>False</td>\n      <td>False</td>\n      <td>False</td>\n      <td>True</td>\n      <td>False</td>\n      <td>False</td>\n      <td>False</td>\n      <td>True</td>\n      <td>False</td>\n      <td>False</td>\n    </tr>\n    <tr>\n      <th>13915</th>\n      <td>0.180952</td>\n      <td>0.102524</td>\n      <td>0.10</td>\n      <td>0.037498</td>\n      <td>True</td>\n      <td>False</td>\n      <td>False</td>\n      <td>False</td>\n      <td>False</td>\n      <td>False</td>\n      <td>False</td>\n      <td>False</td>\n      <td>True</td>\n      <td>False</td>\n      <td>False</td>\n    </tr>\n    <tr>\n      <th>9826</th>\n      <td>0.180952</td>\n      <td>0.118058</td>\n      <td>0.25</td>\n      <td>0.115462</td>\n      <td>True</td>\n      <td>False</td>\n      <td>False</td>\n      <td>False</td>\n      <td>False</td>\n      <td>False</td>\n      <td>False</td>\n      <td>False</td>\n      <td>True</td>\n      <td>False</td>\n      <td>False</td>\n    </tr>\n    <tr>\n      <th>10322</th>\n      <td>0.535714</td>\n      <td>0.320388</td>\n      <td>0.10</td>\n      <td>0.068326</td>\n      <td>False</td>\n      <td>False</td>\n      <td>False</td>\n      <td>False</td>\n      <td>True</td>\n      <td>False</td>\n      <td>False</td>\n      <td>False</td>\n      <td>True</td>\n      <td>False</td>\n      <td>False</td>\n    </tr>\n  </tbody>\n</table>\n<p>4693 rows × 15 columns</p>\n</div>"
     },
     "execution_count": 85,
     "metadata": {},
     "output_type": "execute_result"
    }
   ],
   "source": [
    "X_test"
   ],
   "metadata": {
    "collapsed": false,
    "ExecuteTime": {
     "end_time": "2023-11-01T14:28:39.464115300Z",
     "start_time": "2023-11-01T14:28:39.423054800Z"
    }
   },
   "id": "d6117ab6b06cc99"
  },
  {
   "cell_type": "code",
   "execution_count": 86,
   "outputs": [
    {
     "data": {
      "text/plain": "47.606038"
     },
     "execution_count": 86,
     "metadata": {},
     "output_type": "execute_result"
    }
   ],
   "source": [
    "0.452558* (81-20)+20"
   ],
   "metadata": {
    "collapsed": false,
    "ExecuteTime": {
     "end_time": "2023-11-01T14:28:40.167397200Z",
     "start_time": "2023-11-01T14:28:40.133827700Z"
    }
   },
   "id": "797b73259a7f981b"
  },
  {
   "cell_type": "code",
   "execution_count": 87,
   "outputs": [
    {
     "data": {
      "text/plain": "10"
     },
     "execution_count": 87,
     "metadata": {},
     "output_type": "execute_result"
    }
   ],
   "source": [
    "round(titulacion_tiempo_original)"
   ],
   "metadata": {
    "collapsed": false,
    "ExecuteTime": {
     "end_time": "2023-11-01T14:28:41.193223600Z",
     "start_time": "2023-11-01T14:28:41.158372800Z"
    }
   },
   "id": "fffed8eecf635cbe"
  },
  {
   "cell_type": "code",
   "execution_count": 113,
   "outputs": [
    {
     "name": "stdout",
     "output_type": "stream",
     "text": [
      "147/147 [==============================] - 0s 1ms/step\n"
     ]
    }
   ],
   "source": [
    "import joblib\n",
    "\n",
    "# Supongamos que tienes un modelo llamado 'modelo' que deseas exportar\n",
    "# y también tienes datos llamados 'datos' para entrenar el modelo.\n",
    "\n",
    "# Exportar el modelo a un archivo\n",
    "joblib.dump(autoencoder, 'modelo_entrenado3.pkl')\n",
    "\n",
    "# Cargar el modelo desde el archivo\n",
    "modelo_cargado = joblib.load('modelo_entrenado3.pkl')\n",
    "\n",
    "# Ahora puedes usar 'modelo_cargado' para hacer predicciones\n",
    "predicciones = modelo_cargado.predict(X_val.values.astype('float32'))"
   ],
   "metadata": {
    "collapsed": false,
    "ExecuteTime": {
     "end_time": "2023-11-01T16:06:45.326737500Z",
     "start_time": "2023-11-01T16:06:44.742531400Z"
    }
   },
   "id": "187416a74c22d6c5"
  },
  {
   "cell_type": "code",
   "execution_count": 114,
   "outputs": [
    {
     "data": {
      "text/plain": "array([[ 2.5935775e-01,  1.4532384e-01,  4.9040604e-01, ...,\n         9.9910444e-01,  2.0746572e-03, -2.9854015e-03],\n       [ 3.5629299e-01,  2.3628587e-01,  4.7666022e-01, ...,\n         9.9272746e-01,  4.5529827e-03, -5.6041870e-04],\n       [ 4.6493888e-01,  3.1293029e-01,  4.4880569e-01, ...,\n         9.9121857e-01,  3.6423998e-03, -2.3688241e-03],\n       ...,\n       [ 3.9136255e-01,  2.4564242e-01,  3.6907327e-01, ...,\n         1.0034961e+00, -1.4120149e-03, -1.2017521e-03],\n       [ 4.1783524e-01,  2.8703728e-01,  4.5133388e-01, ...,\n         9.8734081e-01,  5.3117680e-03,  4.8322289e-04],\n       [ 4.8269433e-01,  3.4422800e-01,  4.3224484e-01, ...,\n         9.9948579e-01,  1.2088334e-04, -4.9553639e-03]], dtype=float32)"
     },
     "execution_count": 114,
     "metadata": {},
     "output_type": "execute_result"
    }
   ],
   "source": [
    "predicciones"
   ],
   "metadata": {
    "collapsed": false,
    "ExecuteTime": {
     "end_time": "2023-11-01T16:06:48.092418300Z",
     "start_time": "2023-11-01T16:06:48.057635Z"
    }
   },
   "id": "de13c22f49096ec6"
  },
  {
   "cell_type": "code",
   "execution_count": 115,
   "outputs": [
    {
     "data": {
      "text/plain": "           edad  tiempo_titulacion  sexo_F  sexo_M  estado_civil_C  \\\n15964  0.295082           0.200000   False    True           False   \n5038   0.000000           0.316667   False    True           False   \n8452   0.311475           0.250000    True   False           False   \n9573   0.540984           0.333333   False    True           False   \n22988  0.000000           0.183333    True   False           False   \n...         ...                ...     ...     ...             ...   \n4291   0.262295           0.183333    True   False           False   \n1387   0.606557           0.300000   False    True            True   \n19061  0.377049           0.233333   False    True            True   \n3063   0.360656           0.166667   False    True            True   \n2782   0.327869           0.283333    True   False           False   \n\n       estado_civil_O  estado_civil_S  codigo_dpto_nacimiento_CH  \\\n15964           False            True                       True   \n5038            False            True                      False   \n8452            False            True                      False   \n9573            False            True                       True   \n22988           False            True                      False   \n...               ...             ...                        ...   \n4291            False            True                       True   \n1387            False           False                       True   \n19061           False           False                      False   \n3063            False           False                      False   \n2782            False            True                      False   \n\n       codigo_dpto_nacimiento_CO  codigo_dpto_nacimiento_LP  \\\n15964                      False                      False   \n5038                       False                      False   \n8452                       False                       True   \n9573                       False                      False   \n22988                      False                      False   \n...                          ...                        ...   \n4291                       False                      False   \n1387                       False                      False   \n19061                      False                       True   \n3063                       False                       True   \n2782                       False                      False   \n\n       codigo_dpto_nacimiento_OR  codigo_dpto_nacimiento_OTHER  \\\n15964                      False                         False   \n5038                        True                         False   \n8452                       False                         False   \n9573                       False                         False   \n22988                      False                         False   \n...                          ...                           ...   \n4291                       False                         False   \n1387                       False                         False   \n19061                      False                         False   \n3063                       False                         False   \n2782                       False                         False   \n\n       codigo_dpto_nacimiento_PO  codigo_dpto_nacimiento_SC  \\\n15964                      False                      False   \n5038                       False                      False   \n8452                       False                      False   \n9573                       False                      False   \n22988                      False                       True   \n...                          ...                        ...   \n4291                       False                      False   \n1387                       False                      False   \n19061                      False                      False   \n3063                       False                      False   \n2782                       False                       True   \n\n       codigo_pais_nacimiento_AR  codigo_pais_nacimiento_BO  \\\n15964                      False                       True   \n5038                       False                       True   \n8452                       False                       True   \n9573                       False                       True   \n22988                      False                       True   \n...                          ...                        ...   \n4291                       False                       True   \n1387                       False                       True   \n19061                      False                       True   \n3063                       False                       True   \n2782                       False                       True   \n\n       codigo_pais_nacimiento_LATE  codigo_pais_nacimiento_PE  \n15964                        False                      False  \n5038                         False                      False  \n8452                         False                      False  \n9573                         False                      False  \n22988                        False                      False  \n...                            ...                        ...  \n4291                         False                      False  \n1387                         False                      False  \n19061                        False                      False  \n3063                         False                      False  \n2782                         False                      False  \n\n[4693 rows x 18 columns]",
      "text/html": "<div>\n<style scoped>\n    .dataframe tbody tr th:only-of-type {\n        vertical-align: middle;\n    }\n\n    .dataframe tbody tr th {\n        vertical-align: top;\n    }\n\n    .dataframe thead th {\n        text-align: right;\n    }\n</style>\n<table border=\"1\" class=\"dataframe\">\n  <thead>\n    <tr style=\"text-align: right;\">\n      <th></th>\n      <th>edad</th>\n      <th>tiempo_titulacion</th>\n      <th>sexo_F</th>\n      <th>sexo_M</th>\n      <th>estado_civil_C</th>\n      <th>estado_civil_O</th>\n      <th>estado_civil_S</th>\n      <th>codigo_dpto_nacimiento_CH</th>\n      <th>codigo_dpto_nacimiento_CO</th>\n      <th>codigo_dpto_nacimiento_LP</th>\n      <th>codigo_dpto_nacimiento_OR</th>\n      <th>codigo_dpto_nacimiento_OTHER</th>\n      <th>codigo_dpto_nacimiento_PO</th>\n      <th>codigo_dpto_nacimiento_SC</th>\n      <th>codigo_pais_nacimiento_AR</th>\n      <th>codigo_pais_nacimiento_BO</th>\n      <th>codigo_pais_nacimiento_LATE</th>\n      <th>codigo_pais_nacimiento_PE</th>\n    </tr>\n  </thead>\n  <tbody>\n    <tr>\n      <th>15964</th>\n      <td>0.295082</td>\n      <td>0.200000</td>\n      <td>False</td>\n      <td>True</td>\n      <td>False</td>\n      <td>False</td>\n      <td>True</td>\n      <td>True</td>\n      <td>False</td>\n      <td>False</td>\n      <td>False</td>\n      <td>False</td>\n      <td>False</td>\n      <td>False</td>\n      <td>False</td>\n      <td>True</td>\n      <td>False</td>\n      <td>False</td>\n    </tr>\n    <tr>\n      <th>5038</th>\n      <td>0.000000</td>\n      <td>0.316667</td>\n      <td>False</td>\n      <td>True</td>\n      <td>False</td>\n      <td>False</td>\n      <td>True</td>\n      <td>False</td>\n      <td>False</td>\n      <td>False</td>\n      <td>True</td>\n      <td>False</td>\n      <td>False</td>\n      <td>False</td>\n      <td>False</td>\n      <td>True</td>\n      <td>False</td>\n      <td>False</td>\n    </tr>\n    <tr>\n      <th>8452</th>\n      <td>0.311475</td>\n      <td>0.250000</td>\n      <td>True</td>\n      <td>False</td>\n      <td>False</td>\n      <td>False</td>\n      <td>True</td>\n      <td>False</td>\n      <td>False</td>\n      <td>True</td>\n      <td>False</td>\n      <td>False</td>\n      <td>False</td>\n      <td>False</td>\n      <td>False</td>\n      <td>True</td>\n      <td>False</td>\n      <td>False</td>\n    </tr>\n    <tr>\n      <th>9573</th>\n      <td>0.540984</td>\n      <td>0.333333</td>\n      <td>False</td>\n      <td>True</td>\n      <td>False</td>\n      <td>False</td>\n      <td>True</td>\n      <td>True</td>\n      <td>False</td>\n      <td>False</td>\n      <td>False</td>\n      <td>False</td>\n      <td>False</td>\n      <td>False</td>\n      <td>False</td>\n      <td>True</td>\n      <td>False</td>\n      <td>False</td>\n    </tr>\n    <tr>\n      <th>22988</th>\n      <td>0.000000</td>\n      <td>0.183333</td>\n      <td>True</td>\n      <td>False</td>\n      <td>False</td>\n      <td>False</td>\n      <td>True</td>\n      <td>False</td>\n      <td>False</td>\n      <td>False</td>\n      <td>False</td>\n      <td>False</td>\n      <td>False</td>\n      <td>True</td>\n      <td>False</td>\n      <td>True</td>\n      <td>False</td>\n      <td>False</td>\n    </tr>\n    <tr>\n      <th>...</th>\n      <td>...</td>\n      <td>...</td>\n      <td>...</td>\n      <td>...</td>\n      <td>...</td>\n      <td>...</td>\n      <td>...</td>\n      <td>...</td>\n      <td>...</td>\n      <td>...</td>\n      <td>...</td>\n      <td>...</td>\n      <td>...</td>\n      <td>...</td>\n      <td>...</td>\n      <td>...</td>\n      <td>...</td>\n      <td>...</td>\n    </tr>\n    <tr>\n      <th>4291</th>\n      <td>0.262295</td>\n      <td>0.183333</td>\n      <td>True</td>\n      <td>False</td>\n      <td>False</td>\n      <td>False</td>\n      <td>True</td>\n      <td>True</td>\n      <td>False</td>\n      <td>False</td>\n      <td>False</td>\n      <td>False</td>\n      <td>False</td>\n      <td>False</td>\n      <td>False</td>\n      <td>True</td>\n      <td>False</td>\n      <td>False</td>\n    </tr>\n    <tr>\n      <th>1387</th>\n      <td>0.606557</td>\n      <td>0.300000</td>\n      <td>False</td>\n      <td>True</td>\n      <td>True</td>\n      <td>False</td>\n      <td>False</td>\n      <td>True</td>\n      <td>False</td>\n      <td>False</td>\n      <td>False</td>\n      <td>False</td>\n      <td>False</td>\n      <td>False</td>\n      <td>False</td>\n      <td>True</td>\n      <td>False</td>\n      <td>False</td>\n    </tr>\n    <tr>\n      <th>19061</th>\n      <td>0.377049</td>\n      <td>0.233333</td>\n      <td>False</td>\n      <td>True</td>\n      <td>True</td>\n      <td>False</td>\n      <td>False</td>\n      <td>False</td>\n      <td>False</td>\n      <td>True</td>\n      <td>False</td>\n      <td>False</td>\n      <td>False</td>\n      <td>False</td>\n      <td>False</td>\n      <td>True</td>\n      <td>False</td>\n      <td>False</td>\n    </tr>\n    <tr>\n      <th>3063</th>\n      <td>0.360656</td>\n      <td>0.166667</td>\n      <td>False</td>\n      <td>True</td>\n      <td>True</td>\n      <td>False</td>\n      <td>False</td>\n      <td>False</td>\n      <td>False</td>\n      <td>True</td>\n      <td>False</td>\n      <td>False</td>\n      <td>False</td>\n      <td>False</td>\n      <td>False</td>\n      <td>True</td>\n      <td>False</td>\n      <td>False</td>\n    </tr>\n    <tr>\n      <th>2782</th>\n      <td>0.327869</td>\n      <td>0.283333</td>\n      <td>True</td>\n      <td>False</td>\n      <td>False</td>\n      <td>False</td>\n      <td>True</td>\n      <td>False</td>\n      <td>False</td>\n      <td>False</td>\n      <td>False</td>\n      <td>False</td>\n      <td>False</td>\n      <td>True</td>\n      <td>False</td>\n      <td>True</td>\n      <td>False</td>\n      <td>False</td>\n    </tr>\n  </tbody>\n</table>\n<p>4693 rows × 18 columns</p>\n</div>"
     },
     "execution_count": 115,
     "metadata": {},
     "output_type": "execute_result"
    }
   ],
   "source": [
    "y_val"
   ],
   "metadata": {
    "collapsed": false,
    "ExecuteTime": {
     "end_time": "2023-11-01T16:07:33.482477700Z",
     "start_time": "2023-11-01T16:07:33.399751Z"
    }
   },
   "id": "c43562205f489dd5"
  },
  {
   "cell_type": "code",
   "execution_count": 111,
   "outputs": [
    {
     "data": {
      "text/plain": "       monto_tutoria  costo_programa  dep_inicial  siglaNoVersion  \\\n15964       0.000000        0.108738     0.100000        0.002266   \n5038        0.180952        0.118058     0.100000        0.026711   \n8452        0.535714        0.320388     0.100000        0.068326   \n9573        0.180952        0.118058     0.250000        0.115462   \n22988       0.535714        0.669903     0.100000        0.001755   \n...              ...             ...          ...             ...   \n4291        0.180952        0.118058     0.100000        0.037498   \n1387        0.000000        0.029903     0.545455        0.002904   \n19061       0.535714        0.689320     0.100000        0.004691   \n3063        0.180952        0.118058     0.250000        0.115462   \n2782        0.023810        0.013592     0.250000        0.115462   \n\n       iniciales_nombre_2_dip  iniciales_nombre_2_doc  iniciales_nombre_2_e  \\\n15964                    True                   False                 False   \n5038                     True                   False                 False   \n8452                    False                   False                 False   \n9573                     True                   False                 False   \n22988                   False                   False                 False   \n...                       ...                     ...                   ...   \n4291                     True                   False                 False   \n1387                    False                   False                 False   \n19061                   False                   False                 False   \n3063                     True                   False                 False   \n2782                     True                   False                 False   \n\n       iniciales_nombre_2_fc  iniciales_nombre_2_m  iniciales_nombre_2_n  \\\n15964                  False                 False                 False   \n5038                   False                 False                 False   \n8452                   False                  True                 False   \n9573                   False                 False                 False   \n22988                  False                  True                 False   \n...                      ...                   ...                   ...   \n4291                   False                 False                 False   \n1387                    True                 False                 False   \n19061                  False                  True                 False   \n3063                   False                 False                 False   \n2782                   False                 False                 False   \n\n       Areas_1  Areas_2  Areas_3  Areas_4  Areas_5  \n15964    False    False    False    False     True  \n5038     False    False     True    False    False  \n8452     False    False     True    False    False  \n9573     False    False     True    False    False  \n22988    False    False    False     True    False  \n...        ...      ...      ...      ...      ...  \n4291     False    False     True    False    False  \n1387     False    False     True    False    False  \n19061    False    False     True    False    False  \n3063     False    False     True    False    False  \n2782     False    False     True    False    False  \n\n[4693 rows x 15 columns]",
      "text/html": "<div>\n<style scoped>\n    .dataframe tbody tr th:only-of-type {\n        vertical-align: middle;\n    }\n\n    .dataframe tbody tr th {\n        vertical-align: top;\n    }\n\n    .dataframe thead th {\n        text-align: right;\n    }\n</style>\n<table border=\"1\" class=\"dataframe\">\n  <thead>\n    <tr style=\"text-align: right;\">\n      <th></th>\n      <th>monto_tutoria</th>\n      <th>costo_programa</th>\n      <th>dep_inicial</th>\n      <th>siglaNoVersion</th>\n      <th>iniciales_nombre_2_dip</th>\n      <th>iniciales_nombre_2_doc</th>\n      <th>iniciales_nombre_2_e</th>\n      <th>iniciales_nombre_2_fc</th>\n      <th>iniciales_nombre_2_m</th>\n      <th>iniciales_nombre_2_n</th>\n      <th>Areas_1</th>\n      <th>Areas_2</th>\n      <th>Areas_3</th>\n      <th>Areas_4</th>\n      <th>Areas_5</th>\n    </tr>\n  </thead>\n  <tbody>\n    <tr>\n      <th>15964</th>\n      <td>0.000000</td>\n      <td>0.108738</td>\n      <td>0.100000</td>\n      <td>0.002266</td>\n      <td>True</td>\n      <td>False</td>\n      <td>False</td>\n      <td>False</td>\n      <td>False</td>\n      <td>False</td>\n      <td>False</td>\n      <td>False</td>\n      <td>False</td>\n      <td>False</td>\n      <td>True</td>\n    </tr>\n    <tr>\n      <th>5038</th>\n      <td>0.180952</td>\n      <td>0.118058</td>\n      <td>0.100000</td>\n      <td>0.026711</td>\n      <td>True</td>\n      <td>False</td>\n      <td>False</td>\n      <td>False</td>\n      <td>False</td>\n      <td>False</td>\n      <td>False</td>\n      <td>False</td>\n      <td>True</td>\n      <td>False</td>\n      <td>False</td>\n    </tr>\n    <tr>\n      <th>8452</th>\n      <td>0.535714</td>\n      <td>0.320388</td>\n      <td>0.100000</td>\n      <td>0.068326</td>\n      <td>False</td>\n      <td>False</td>\n      <td>False</td>\n      <td>False</td>\n      <td>True</td>\n      <td>False</td>\n      <td>False</td>\n      <td>False</td>\n      <td>True</td>\n      <td>False</td>\n      <td>False</td>\n    </tr>\n    <tr>\n      <th>9573</th>\n      <td>0.180952</td>\n      <td>0.118058</td>\n      <td>0.250000</td>\n      <td>0.115462</td>\n      <td>True</td>\n      <td>False</td>\n      <td>False</td>\n      <td>False</td>\n      <td>False</td>\n      <td>False</td>\n      <td>False</td>\n      <td>False</td>\n      <td>True</td>\n      <td>False</td>\n      <td>False</td>\n    </tr>\n    <tr>\n      <th>22988</th>\n      <td>0.535714</td>\n      <td>0.669903</td>\n      <td>0.100000</td>\n      <td>0.001755</td>\n      <td>False</td>\n      <td>False</td>\n      <td>False</td>\n      <td>False</td>\n      <td>True</td>\n      <td>False</td>\n      <td>False</td>\n      <td>False</td>\n      <td>False</td>\n      <td>True</td>\n      <td>False</td>\n    </tr>\n    <tr>\n      <th>...</th>\n      <td>...</td>\n      <td>...</td>\n      <td>...</td>\n      <td>...</td>\n      <td>...</td>\n      <td>...</td>\n      <td>...</td>\n      <td>...</td>\n      <td>...</td>\n      <td>...</td>\n      <td>...</td>\n      <td>...</td>\n      <td>...</td>\n      <td>...</td>\n      <td>...</td>\n    </tr>\n    <tr>\n      <th>4291</th>\n      <td>0.180952</td>\n      <td>0.118058</td>\n      <td>0.100000</td>\n      <td>0.037498</td>\n      <td>True</td>\n      <td>False</td>\n      <td>False</td>\n      <td>False</td>\n      <td>False</td>\n      <td>False</td>\n      <td>False</td>\n      <td>False</td>\n      <td>True</td>\n      <td>False</td>\n      <td>False</td>\n    </tr>\n    <tr>\n      <th>1387</th>\n      <td>0.000000</td>\n      <td>0.029903</td>\n      <td>0.545455</td>\n      <td>0.002904</td>\n      <td>False</td>\n      <td>False</td>\n      <td>False</td>\n      <td>True</td>\n      <td>False</td>\n      <td>False</td>\n      <td>False</td>\n      <td>False</td>\n      <td>True</td>\n      <td>False</td>\n      <td>False</td>\n    </tr>\n    <tr>\n      <th>19061</th>\n      <td>0.535714</td>\n      <td>0.689320</td>\n      <td>0.100000</td>\n      <td>0.004691</td>\n      <td>False</td>\n      <td>False</td>\n      <td>False</td>\n      <td>False</td>\n      <td>True</td>\n      <td>False</td>\n      <td>False</td>\n      <td>False</td>\n      <td>True</td>\n      <td>False</td>\n      <td>False</td>\n    </tr>\n    <tr>\n      <th>3063</th>\n      <td>0.180952</td>\n      <td>0.118058</td>\n      <td>0.250000</td>\n      <td>0.115462</td>\n      <td>True</td>\n      <td>False</td>\n      <td>False</td>\n      <td>False</td>\n      <td>False</td>\n      <td>False</td>\n      <td>False</td>\n      <td>False</td>\n      <td>True</td>\n      <td>False</td>\n      <td>False</td>\n    </tr>\n    <tr>\n      <th>2782</th>\n      <td>0.023810</td>\n      <td>0.013592</td>\n      <td>0.250000</td>\n      <td>0.115462</td>\n      <td>True</td>\n      <td>False</td>\n      <td>False</td>\n      <td>False</td>\n      <td>False</td>\n      <td>False</td>\n      <td>False</td>\n      <td>False</td>\n      <td>True</td>\n      <td>False</td>\n      <td>False</td>\n    </tr>\n  </tbody>\n</table>\n<p>4693 rows × 15 columns</p>\n</div>"
     },
     "execution_count": 111,
     "metadata": {},
     "output_type": "execute_result"
    }
   ],
   "source": [
    "X_val"
   ],
   "metadata": {
    "collapsed": false,
    "ExecuteTime": {
     "end_time": "2023-11-01T15:43:54.944960500Z",
     "start_time": "2023-11-01T15:43:54.801739700Z"
    }
   },
   "id": "917e901829f02ab8"
  },
  {
   "cell_type": "code",
   "execution_count": 98,
   "outputs": [
    {
     "data": {
      "text/plain": "           edad  tiempo_titulacion  sexo_F  sexo_M  estado_civil_C  \\\n15964  0.295082           0.200000   False    True           False   \n5038   0.000000           0.316667   False    True           False   \n8452   0.311475           0.250000    True   False           False   \n9573   0.540984           0.333333   False    True           False   \n22988  0.000000           0.183333    True   False           False   \n...         ...                ...     ...     ...             ...   \n4291   0.262295           0.183333    True   False           False   \n1387   0.606557           0.300000   False    True            True   \n19061  0.377049           0.233333   False    True            True   \n3063   0.360656           0.166667   False    True            True   \n2782   0.327869           0.283333    True   False           False   \n\n       estado_civil_O  estado_civil_S  codigo_dpto_nacimiento_CH  \\\n15964           False            True                       True   \n5038            False            True                      False   \n8452            False            True                      False   \n9573            False            True                       True   \n22988           False            True                      False   \n...               ...             ...                        ...   \n4291            False            True                       True   \n1387            False           False                       True   \n19061           False           False                      False   \n3063            False           False                      False   \n2782            False            True                      False   \n\n       codigo_dpto_nacimiento_CO  codigo_dpto_nacimiento_LP  \\\n15964                      False                      False   \n5038                       False                      False   \n8452                       False                       True   \n9573                       False                      False   \n22988                      False                      False   \n...                          ...                        ...   \n4291                       False                      False   \n1387                       False                      False   \n19061                      False                       True   \n3063                       False                       True   \n2782                       False                      False   \n\n       codigo_dpto_nacimiento_OR  codigo_dpto_nacimiento_OTHER  \\\n15964                      False                         False   \n5038                        True                         False   \n8452                       False                         False   \n9573                       False                         False   \n22988                      False                         False   \n...                          ...                           ...   \n4291                       False                         False   \n1387                       False                         False   \n19061                      False                         False   \n3063                       False                         False   \n2782                       False                         False   \n\n       codigo_dpto_nacimiento_PO  codigo_dpto_nacimiento_SC  \\\n15964                      False                      False   \n5038                       False                      False   \n8452                       False                      False   \n9573                       False                      False   \n22988                      False                       True   \n...                          ...                        ...   \n4291                       False                      False   \n1387                       False                      False   \n19061                      False                      False   \n3063                       False                      False   \n2782                       False                       True   \n\n       codigo_pais_nacimiento_AR  codigo_pais_nacimiento_BO  \\\n15964                      False                       True   \n5038                       False                       True   \n8452                       False                       True   \n9573                       False                       True   \n22988                      False                       True   \n...                          ...                        ...   \n4291                       False                       True   \n1387                       False                       True   \n19061                      False                       True   \n3063                       False                       True   \n2782                       False                       True   \n\n       codigo_pais_nacimiento_LATE  codigo_pais_nacimiento_PE  \n15964                        False                      False  \n5038                         False                      False  \n8452                         False                      False  \n9573                         False                      False  \n22988                        False                      False  \n...                            ...                        ...  \n4291                         False                      False  \n1387                         False                      False  \n19061                        False                      False  \n3063                         False                      False  \n2782                         False                      False  \n\n[4693 rows x 18 columns]",
      "text/html": "<div>\n<style scoped>\n    .dataframe tbody tr th:only-of-type {\n        vertical-align: middle;\n    }\n\n    .dataframe tbody tr th {\n        vertical-align: top;\n    }\n\n    .dataframe thead th {\n        text-align: right;\n    }\n</style>\n<table border=\"1\" class=\"dataframe\">\n  <thead>\n    <tr style=\"text-align: right;\">\n      <th></th>\n      <th>edad</th>\n      <th>tiempo_titulacion</th>\n      <th>sexo_F</th>\n      <th>sexo_M</th>\n      <th>estado_civil_C</th>\n      <th>estado_civil_O</th>\n      <th>estado_civil_S</th>\n      <th>codigo_dpto_nacimiento_CH</th>\n      <th>codigo_dpto_nacimiento_CO</th>\n      <th>codigo_dpto_nacimiento_LP</th>\n      <th>codigo_dpto_nacimiento_OR</th>\n      <th>codigo_dpto_nacimiento_OTHER</th>\n      <th>codigo_dpto_nacimiento_PO</th>\n      <th>codigo_dpto_nacimiento_SC</th>\n      <th>codigo_pais_nacimiento_AR</th>\n      <th>codigo_pais_nacimiento_BO</th>\n      <th>codigo_pais_nacimiento_LATE</th>\n      <th>codigo_pais_nacimiento_PE</th>\n    </tr>\n  </thead>\n  <tbody>\n    <tr>\n      <th>15964</th>\n      <td>0.295082</td>\n      <td>0.200000</td>\n      <td>False</td>\n      <td>True</td>\n      <td>False</td>\n      <td>False</td>\n      <td>True</td>\n      <td>True</td>\n      <td>False</td>\n      <td>False</td>\n      <td>False</td>\n      <td>False</td>\n      <td>False</td>\n      <td>False</td>\n      <td>False</td>\n      <td>True</td>\n      <td>False</td>\n      <td>False</td>\n    </tr>\n    <tr>\n      <th>5038</th>\n      <td>0.000000</td>\n      <td>0.316667</td>\n      <td>False</td>\n      <td>True</td>\n      <td>False</td>\n      <td>False</td>\n      <td>True</td>\n      <td>False</td>\n      <td>False</td>\n      <td>False</td>\n      <td>True</td>\n      <td>False</td>\n      <td>False</td>\n      <td>False</td>\n      <td>False</td>\n      <td>True</td>\n      <td>False</td>\n      <td>False</td>\n    </tr>\n    <tr>\n      <th>8452</th>\n      <td>0.311475</td>\n      <td>0.250000</td>\n      <td>True</td>\n      <td>False</td>\n      <td>False</td>\n      <td>False</td>\n      <td>True</td>\n      <td>False</td>\n      <td>False</td>\n      <td>True</td>\n      <td>False</td>\n      <td>False</td>\n      <td>False</td>\n      <td>False</td>\n      <td>False</td>\n      <td>True</td>\n      <td>False</td>\n      <td>False</td>\n    </tr>\n    <tr>\n      <th>9573</th>\n      <td>0.540984</td>\n      <td>0.333333</td>\n      <td>False</td>\n      <td>True</td>\n      <td>False</td>\n      <td>False</td>\n      <td>True</td>\n      <td>True</td>\n      <td>False</td>\n      <td>False</td>\n      <td>False</td>\n      <td>False</td>\n      <td>False</td>\n      <td>False</td>\n      <td>False</td>\n      <td>True</td>\n      <td>False</td>\n      <td>False</td>\n    </tr>\n    <tr>\n      <th>22988</th>\n      <td>0.000000</td>\n      <td>0.183333</td>\n      <td>True</td>\n      <td>False</td>\n      <td>False</td>\n      <td>False</td>\n      <td>True</td>\n      <td>False</td>\n      <td>False</td>\n      <td>False</td>\n      <td>False</td>\n      <td>False</td>\n      <td>False</td>\n      <td>True</td>\n      <td>False</td>\n      <td>True</td>\n      <td>False</td>\n      <td>False</td>\n    </tr>\n    <tr>\n      <th>...</th>\n      <td>...</td>\n      <td>...</td>\n      <td>...</td>\n      <td>...</td>\n      <td>...</td>\n      <td>...</td>\n      <td>...</td>\n      <td>...</td>\n      <td>...</td>\n      <td>...</td>\n      <td>...</td>\n      <td>...</td>\n      <td>...</td>\n      <td>...</td>\n      <td>...</td>\n      <td>...</td>\n      <td>...</td>\n      <td>...</td>\n    </tr>\n    <tr>\n      <th>4291</th>\n      <td>0.262295</td>\n      <td>0.183333</td>\n      <td>True</td>\n      <td>False</td>\n      <td>False</td>\n      <td>False</td>\n      <td>True</td>\n      <td>True</td>\n      <td>False</td>\n      <td>False</td>\n      <td>False</td>\n      <td>False</td>\n      <td>False</td>\n      <td>False</td>\n      <td>False</td>\n      <td>True</td>\n      <td>False</td>\n      <td>False</td>\n    </tr>\n    <tr>\n      <th>1387</th>\n      <td>0.606557</td>\n      <td>0.300000</td>\n      <td>False</td>\n      <td>True</td>\n      <td>True</td>\n      <td>False</td>\n      <td>False</td>\n      <td>True</td>\n      <td>False</td>\n      <td>False</td>\n      <td>False</td>\n      <td>False</td>\n      <td>False</td>\n      <td>False</td>\n      <td>False</td>\n      <td>True</td>\n      <td>False</td>\n      <td>False</td>\n    </tr>\n    <tr>\n      <th>19061</th>\n      <td>0.377049</td>\n      <td>0.233333</td>\n      <td>False</td>\n      <td>True</td>\n      <td>True</td>\n      <td>False</td>\n      <td>False</td>\n      <td>False</td>\n      <td>False</td>\n      <td>True</td>\n      <td>False</td>\n      <td>False</td>\n      <td>False</td>\n      <td>False</td>\n      <td>False</td>\n      <td>True</td>\n      <td>False</td>\n      <td>False</td>\n    </tr>\n    <tr>\n      <th>3063</th>\n      <td>0.360656</td>\n      <td>0.166667</td>\n      <td>False</td>\n      <td>True</td>\n      <td>True</td>\n      <td>False</td>\n      <td>False</td>\n      <td>False</td>\n      <td>False</td>\n      <td>True</td>\n      <td>False</td>\n      <td>False</td>\n      <td>False</td>\n      <td>False</td>\n      <td>False</td>\n      <td>True</td>\n      <td>False</td>\n      <td>False</td>\n    </tr>\n    <tr>\n      <th>2782</th>\n      <td>0.327869</td>\n      <td>0.283333</td>\n      <td>True</td>\n      <td>False</td>\n      <td>False</td>\n      <td>False</td>\n      <td>True</td>\n      <td>False</td>\n      <td>False</td>\n      <td>False</td>\n      <td>False</td>\n      <td>False</td>\n      <td>False</td>\n      <td>True</td>\n      <td>False</td>\n      <td>True</td>\n      <td>False</td>\n      <td>False</td>\n    </tr>\n  </tbody>\n</table>\n<p>4693 rows × 18 columns</p>\n</div>"
     },
     "execution_count": 98,
     "metadata": {},
     "output_type": "execute_result"
    }
   ],
   "source": [
    "y_val"
   ],
   "metadata": {
    "collapsed": false,
    "ExecuteTime": {
     "end_time": "2023-11-01T15:33:18.833199Z",
     "start_time": "2023-11-01T15:33:18.786931200Z"
    }
   },
   "id": "af3a3304b165f4a2"
  },
  {
   "cell_type": "code",
   "execution_count": 93,
   "outputs": [
    {
     "data": {
      "text/plain": "(4693, 15)"
     },
     "execution_count": 93,
     "metadata": {},
     "output_type": "execute_result"
    }
   ],
   "source": [
    "X_test.shape"
   ],
   "metadata": {
    "collapsed": false,
    "ExecuteTime": {
     "end_time": "2023-11-01T15:10:48.665549Z",
     "start_time": "2023-11-01T15:10:48.632926Z"
    }
   },
   "id": "f1121c1bc7eb2a41"
  },
  {
   "cell_type": "code",
   "execution_count": null,
   "outputs": [],
   "source": [],
   "metadata": {
    "collapsed": false
   },
   "id": "c9e5f41b5a8029ec"
  },
  {
   "cell_type": "code",
   "execution_count": 43,
   "outputs": [
    {
     "data": {
      "text/plain": "array([1, 5])"
     },
     "execution_count": 43,
     "metadata": {},
     "output_type": "execute_result"
    }
   ],
   "source": [
    "np.array()"
   ],
   "metadata": {
    "collapsed": false,
    "ExecuteTime": {
     "end_time": "2023-11-01T10:33:32.306258400Z",
     "start_time": "2023-11-01T10:33:32.220745200Z"
    }
   },
   "id": "99017edb056f47d5"
  },
  {
   "cell_type": "code",
   "execution_count": null,
   "outputs": [],
   "source": [],
   "metadata": {
    "collapsed": false
   },
   "id": "7caf38dd87ab52c8"
  }
 ],
 "metadata": {
  "kernelspec": {
   "display_name": "Python 3",
   "language": "python",
   "name": "python3"
  },
  "language_info": {
   "codemirror_mode": {
    "name": "ipython",
    "version": 2
   },
   "file_extension": ".py",
   "mimetype": "text/x-python",
   "name": "python",
   "nbconvert_exporter": "python",
   "pygments_lexer": "ipython2",
   "version": "2.7.6"
  }
 },
 "nbformat": 4,
 "nbformat_minor": 5
}
