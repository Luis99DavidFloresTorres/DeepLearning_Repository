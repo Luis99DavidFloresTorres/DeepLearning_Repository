{
 "cells": [
  {
   "cell_type": "code",
   "execution_count": null,
   "id": "initial_id",
   "metadata": {
    "collapsed": true
   },
   "outputs": [],
   "source": []
  },
  {
   "cell_type": "code",
   "execution_count": 68,
   "outputs": [],
   "source": [
    "import random\n",
    "\n",
    "import pandas as pd\n",
    "\n",
    "# Especifica la ruta al archivo CSV que deseas importar\n",
    "carreras = 'E:/chatbot/data/carreras.csv'\n",
    "personas = 'E:/chatbot/data/personas.csv'\n",
    "universitarios = 'E:/chatbot/data/universitarios.csv'\n",
    "tiposareasacademicas = 'E:/chatbot/data/tiposareasacademicas.csv'\n",
    "datosactualizables = 'E:/chatbot/data/datosactualizables.csv'\n",
    "personasDatosAcademicos = 'E:/chatbot/data/personasDatosAcademicos.csv'\n",
    "# Usa la función read_csv() para cargar el archivo CSV en un DataFrame\n",
    "dfCarreras = pd.read_csv(carreras)\n",
    "dfPersonas = pd.read_csv(personas)\n",
    "dfUniversitarios = pd.read_csv(universitarios)\n",
    "dfTiposareasacademicas = pd.read_csv(tiposareasacademicas)\n",
    "dfDatosactualizables = pd.read_csv(datosactualizables)\n",
    "dfPersonasDatosAcademicos = pd.read_csv(personasDatosAcademicos)"
   ],
   "metadata": {
    "collapsed": false,
    "ExecuteTime": {
     "end_time": "2023-11-01T13:59:53.122435200Z",
     "start_time": "2023-11-01T13:59:52.718752700Z"
    }
   },
   "id": "4f72fc8290d7f0ec"
  },
  {
   "cell_type": "code",
   "execution_count": 69,
   "outputs": [
    {
     "data": {
      "text/plain": "     codigo                                             nombre  \\\n0        99            Aeropuertos en el Sistema de Transporte   \n1       100  Diplomado en Metodologías de Investigación Cua...   \n2       101                         Especialidad en Ortodoncia   \n3       102                 Maestría en Educación Superior V.3   \n4       103                Diplomado en Educación Superior V.7   \n..      ...                                                ...   \n941    1075  Diplomado en Bim Modelado y Gestión de Proyect...   \n942    1076  Diplomado en Diseño Mecánico Industrial CAD-CA...   \n943    1077  Diplomado en Diseño Mecánico Industrial CAD-CA...   \n944    1079  Diplomado en Obras Viales en Suelos Tropicales...   \n945    1080  Maestría en Derecho de Género, Violencia y Adm...   \n\n                                          nombre_corto      sigla  \\\n0              Aeropuertos en el Sistema de Transporte        ASA   \n1                     Dip. en Met. de Inv. Cualitativa        DME   \n2                                   Esp. en Ortodoncia        EEO   \n3                           Maestría en Educ. Sup. V.3        MES   \n4                          Diplomado en Educ. Sup. V.7        DES   \n..                                                 ...        ...   \n941  Dipl. en Bim Modelado y Gestión de Proyectos C...   DBMGPCV1   \n942  Dipl. en Diseño Mecánico Industrial CAD-CAE-CN...     DDMIV2   \n943  Dipl. en Diseño Mecánico Industrial CAD-CAE-CN...  DDMIV2-MG   \n944  Dipl. en Obras Viales en Suelos Tropicales, V....    DOVSTV1   \n945  Regularización - Maestría en Derecho de Género...      RMDGJ   \n\n                                                titulo  numero_planes_estudio  \\\n0                                            Asistente                    1.0   \n1    Diplomado en Metodologías de Investigación Cua...                    1.0   \n2                           Especialista en Ortodoncia                    1.0   \n3                       Magister en Educación Superior                    1.0   \n4                        Diploma en Educación Superior                    1.0   \n..                                                 ...                    ...   \n941  Diplomado en Bim Modelado y Gestión de Proyect...                    1.0   \n942  Diplomado en Diseño Mecánico Industrial CAD-CA...                    1.0   \n943  Diplomado en Diseño Mecánico Industrial CAD-CA...                    1.0   \n944     Diplomado en Obras Viales en Suelos Tropicales                    1.0   \n945                                                NaN                    1.0   \n\n    codigo_estado tipo_grupo  monto_tutoria  costo_programa  dep_inicial  \\\n0               V          T            0.0             200        100.0   \n1               V          T          100.0             250         40.0   \n2               V          T          200.0            4700         10.0   \n3               V          T          300.0            1100         20.0   \n4               V          A          100.0             350         25.0   \n..            ...        ...            ...             ...          ...   \n941             V          T            NaN            3800         10.0   \n942             V          T            NaN            5000         10.0   \n943             V          T          450.0            4550         10.0   \n944             V          T            NaN            5000         10.0   \n945             V          T            NaN               0         10.0   \n\n    siglaNoVersion siglaNoVersionNumero  \n0              ASA                    0  \n1              DME                    0  \n2              EEO                    0  \n3              MES                    0  \n4              DES                    0  \n..             ...                  ...  \n941         DBMGPC               DBMGPC  \n942           DDMI                 DDMI  \n943      DDMIV2-MG                    0  \n944          DOVST                DOVST  \n945          RMDGJ                    0  \n\n[946 rows x 13 columns]",
      "text/html": "<div>\n<style scoped>\n    .dataframe tbody tr th:only-of-type {\n        vertical-align: middle;\n    }\n\n    .dataframe tbody tr th {\n        vertical-align: top;\n    }\n\n    .dataframe thead th {\n        text-align: right;\n    }\n</style>\n<table border=\"1\" class=\"dataframe\">\n  <thead>\n    <tr style=\"text-align: right;\">\n      <th></th>\n      <th>codigo</th>\n      <th>nombre</th>\n      <th>nombre_corto</th>\n      <th>sigla</th>\n      <th>titulo</th>\n      <th>numero_planes_estudio</th>\n      <th>codigo_estado</th>\n      <th>tipo_grupo</th>\n      <th>monto_tutoria</th>\n      <th>costo_programa</th>\n      <th>dep_inicial</th>\n      <th>siglaNoVersion</th>\n      <th>siglaNoVersionNumero</th>\n    </tr>\n  </thead>\n  <tbody>\n    <tr>\n      <th>0</th>\n      <td>99</td>\n      <td>Aeropuertos en el Sistema de Transporte</td>\n      <td>Aeropuertos en el Sistema de Transporte</td>\n      <td>ASA</td>\n      <td>Asistente</td>\n      <td>1.0</td>\n      <td>V</td>\n      <td>T</td>\n      <td>0.0</td>\n      <td>200</td>\n      <td>100.0</td>\n      <td>ASA</td>\n      <td>0</td>\n    </tr>\n    <tr>\n      <th>1</th>\n      <td>100</td>\n      <td>Diplomado en Metodologías de Investigación Cua...</td>\n      <td>Dip. en Met. de Inv. Cualitativa</td>\n      <td>DME</td>\n      <td>Diplomado en Metodologías de Investigación Cua...</td>\n      <td>1.0</td>\n      <td>V</td>\n      <td>T</td>\n      <td>100.0</td>\n      <td>250</td>\n      <td>40.0</td>\n      <td>DME</td>\n      <td>0</td>\n    </tr>\n    <tr>\n      <th>2</th>\n      <td>101</td>\n      <td>Especialidad en Ortodoncia</td>\n      <td>Esp. en Ortodoncia</td>\n      <td>EEO</td>\n      <td>Especialista en Ortodoncia</td>\n      <td>1.0</td>\n      <td>V</td>\n      <td>T</td>\n      <td>200.0</td>\n      <td>4700</td>\n      <td>10.0</td>\n      <td>EEO</td>\n      <td>0</td>\n    </tr>\n    <tr>\n      <th>3</th>\n      <td>102</td>\n      <td>Maestría en Educación Superior V.3</td>\n      <td>Maestría en Educ. Sup. V.3</td>\n      <td>MES</td>\n      <td>Magister en Educación Superior</td>\n      <td>1.0</td>\n      <td>V</td>\n      <td>T</td>\n      <td>300.0</td>\n      <td>1100</td>\n      <td>20.0</td>\n      <td>MES</td>\n      <td>0</td>\n    </tr>\n    <tr>\n      <th>4</th>\n      <td>103</td>\n      <td>Diplomado en Educación Superior V.7</td>\n      <td>Diplomado en Educ. Sup. V.7</td>\n      <td>DES</td>\n      <td>Diploma en Educación Superior</td>\n      <td>1.0</td>\n      <td>V</td>\n      <td>A</td>\n      <td>100.0</td>\n      <td>350</td>\n      <td>25.0</td>\n      <td>DES</td>\n      <td>0</td>\n    </tr>\n    <tr>\n      <th>...</th>\n      <td>...</td>\n      <td>...</td>\n      <td>...</td>\n      <td>...</td>\n      <td>...</td>\n      <td>...</td>\n      <td>...</td>\n      <td>...</td>\n      <td>...</td>\n      <td>...</td>\n      <td>...</td>\n      <td>...</td>\n      <td>...</td>\n    </tr>\n    <tr>\n      <th>941</th>\n      <td>1075</td>\n      <td>Diplomado en Bim Modelado y Gestión de Proyect...</td>\n      <td>Dipl. en Bim Modelado y Gestión de Proyectos C...</td>\n      <td>DBMGPCV1</td>\n      <td>Diplomado en Bim Modelado y Gestión de Proyect...</td>\n      <td>1.0</td>\n      <td>V</td>\n      <td>T</td>\n      <td>NaN</td>\n      <td>3800</td>\n      <td>10.0</td>\n      <td>DBMGPC</td>\n      <td>DBMGPC</td>\n    </tr>\n    <tr>\n      <th>942</th>\n      <td>1076</td>\n      <td>Diplomado en Diseño Mecánico Industrial CAD-CA...</td>\n      <td>Dipl. en Diseño Mecánico Industrial CAD-CAE-CN...</td>\n      <td>DDMIV2</td>\n      <td>Diplomado en Diseño Mecánico Industrial CAD-CA...</td>\n      <td>1.0</td>\n      <td>V</td>\n      <td>T</td>\n      <td>NaN</td>\n      <td>5000</td>\n      <td>10.0</td>\n      <td>DDMI</td>\n      <td>DDMI</td>\n    </tr>\n    <tr>\n      <th>943</th>\n      <td>1077</td>\n      <td>Diplomado en Diseño Mecánico Industrial CAD-CA...</td>\n      <td>Dipl. en Diseño Mecánico Industrial CAD-CAE-CN...</td>\n      <td>DDMIV2-MG</td>\n      <td>Diplomado en Diseño Mecánico Industrial CAD-CA...</td>\n      <td>1.0</td>\n      <td>V</td>\n      <td>T</td>\n      <td>450.0</td>\n      <td>4550</td>\n      <td>10.0</td>\n      <td>DDMIV2-MG</td>\n      <td>0</td>\n    </tr>\n    <tr>\n      <th>944</th>\n      <td>1079</td>\n      <td>Diplomado en Obras Viales en Suelos Tropicales...</td>\n      <td>Dipl. en Obras Viales en Suelos Tropicales, V....</td>\n      <td>DOVSTV1</td>\n      <td>Diplomado en Obras Viales en Suelos Tropicales</td>\n      <td>1.0</td>\n      <td>V</td>\n      <td>T</td>\n      <td>NaN</td>\n      <td>5000</td>\n      <td>10.0</td>\n      <td>DOVST</td>\n      <td>DOVST</td>\n    </tr>\n    <tr>\n      <th>945</th>\n      <td>1080</td>\n      <td>Maestría en Derecho de Género, Violencia y Adm...</td>\n      <td>Regularización - Maestría en Derecho de Género...</td>\n      <td>RMDGJ</td>\n      <td>NaN</td>\n      <td>1.0</td>\n      <td>V</td>\n      <td>T</td>\n      <td>NaN</td>\n      <td>0</td>\n      <td>10.0</td>\n      <td>RMDGJ</td>\n      <td>0</td>\n    </tr>\n  </tbody>\n</table>\n<p>946 rows × 13 columns</p>\n</div>"
     },
     "execution_count": 69,
     "metadata": {},
     "output_type": "execute_result"
    }
   ],
   "source": [
    "dfCarreras"
   ],
   "metadata": {
    "collapsed": false,
    "ExecuteTime": {
     "end_time": "2023-11-01T13:59:53.123937600Z",
     "start_time": "2023-11-01T13:59:53.077458400Z"
    }
   },
   "id": "29d4dd27a20be358"
  },
  {
   "cell_type": "markdown",
   "source": [
    "Feature Selection"
   ],
   "metadata": {
    "collapsed": false
   },
   "id": "4ab45be043796a03"
  },
  {
   "cell_type": "markdown",
   "source": [
    "Carreras"
   ],
   "metadata": {
    "collapsed": false
   },
   "id": "88514715883f4489"
  },
  {
   "cell_type": "markdown",
   "source": [],
   "metadata": {
    "collapsed": false
   },
   "id": "d01ba1718c9c8540"
  },
  {
   "cell_type": "code",
   "execution_count": 70,
   "outputs": [
    {
     "data": {
      "text/plain": "tipo_grupo\nT    931\nA      8\nV      2\nt      1\n1      1\nP      1\nName: count, dtype: int64"
     },
     "execution_count": 70,
     "metadata": {},
     "output_type": "execute_result"
    }
   ],
   "source": [
    "dfCarreras.tipo_grupo.value_counts()"
   ],
   "metadata": {
    "collapsed": false,
    "ExecuteTime": {
     "end_time": "2023-11-01T13:59:53.883381100Z",
     "start_time": "2023-11-01T13:59:53.796391Z"
    }
   },
   "id": "2c2f5676968dc66b"
  },
  {
   "cell_type": "code",
   "execution_count": 71,
   "outputs": [
    {
     "data": {
      "text/plain": "numero_planes_estudio\n1.0    943\n3.0      2\nName: count, dtype: int64"
     },
     "execution_count": 71,
     "metadata": {},
     "output_type": "execute_result"
    }
   ],
   "source": [
    "dfCarreras.numero_planes_estudio.value_counts()"
   ],
   "metadata": {
    "collapsed": false,
    "ExecuteTime": {
     "end_time": "2023-11-01T13:59:53.913874300Z",
     "start_time": "2023-11-01T13:59:53.838309600Z"
    }
   },
   "id": "d63cbeab84da7d90"
  },
  {
   "cell_type": "code",
   "execution_count": 72,
   "outputs": [
    {
     "data": {
      "text/plain": "     codigo                                             nombre  \\\n0        99            Aeropuertos en el Sistema de Transporte   \n1       100  Diplomado en Metodologías de Investigación Cua...   \n2       101                         Especialidad en Ortodoncia   \n3       102                 Maestría en Educación Superior V.3   \n4       103                Diplomado en Educación Superior V.7   \n..      ...                                                ...   \n941    1075  Diplomado en Bim Modelado y Gestión de Proyect...   \n942    1076  Diplomado en Diseño Mecánico Industrial CAD-CA...   \n943    1077  Diplomado en Diseño Mecánico Industrial CAD-CA...   \n944    1079  Diplomado en Obras Viales en Suelos Tropicales...   \n945    1080  Maestría en Derecho de Género, Violencia y Adm...   \n\n                                          nombre_corto      sigla  \\\n0              Aeropuertos en el Sistema de Transporte        ASA   \n1                     Dip. en Met. de Inv. Cualitativa        DME   \n2                                   Esp. en Ortodoncia        EEO   \n3                           Maestría en Educ. Sup. V.3        MES   \n4                          Diplomado en Educ. Sup. V.7        DES   \n..                                                 ...        ...   \n941  Dipl. en Bim Modelado y Gestión de Proyectos C...   DBMGPCV1   \n942  Dipl. en Diseño Mecánico Industrial CAD-CAE-CN...     DDMIV2   \n943  Dipl. en Diseño Mecánico Industrial CAD-CAE-CN...  DDMIV2-MG   \n944  Dipl. en Obras Viales en Suelos Tropicales, V....    DOVSTV1   \n945  Regularización - Maestría en Derecho de Género...      RMDGJ   \n\n                                                titulo  numero_planes_estudio  \\\n0                                            Asistente                    1.0   \n1    Diplomado en Metodologías de Investigación Cua...                    1.0   \n2                           Especialista en Ortodoncia                    1.0   \n3                       Magister en Educación Superior                    1.0   \n4                        Diploma en Educación Superior                    1.0   \n..                                                 ...                    ...   \n941  Diplomado en Bim Modelado y Gestión de Proyect...                    1.0   \n942  Diplomado en Diseño Mecánico Industrial CAD-CA...                    1.0   \n943  Diplomado en Diseño Mecánico Industrial CAD-CA...                    1.0   \n944     Diplomado en Obras Viales en Suelos Tropicales                    1.0   \n945                                                NaN                    1.0   \n\n    codigo_estado tipo_grupo  monto_tutoria  costo_programa  dep_inicial  \\\n0               V          T            0.0             200        100.0   \n1               V          T          100.0             250         40.0   \n2               V          T          200.0            4700         10.0   \n3               V          T          300.0            1100         20.0   \n4               V          A          100.0             350         25.0   \n..            ...        ...            ...             ...          ...   \n941             V          T            NaN            3800         10.0   \n942             V          T            NaN            5000         10.0   \n943             V          T          450.0            4550         10.0   \n944             V          T            NaN            5000         10.0   \n945             V          T            NaN               0         10.0   \n\n    siglaNoVersion siglaNoVersionNumero  \n0              ASA                    0  \n1              DME                    0  \n2              EEO                    0  \n3              MES                    0  \n4              DES                    0  \n..             ...                  ...  \n941         DBMGPC               DBMGPC  \n942           DDMI                 DDMI  \n943      DDMIV2-MG                    0  \n944          DOVST                DOVST  \n945          RMDGJ                    0  \n\n[946 rows x 13 columns]",
      "text/html": "<div>\n<style scoped>\n    .dataframe tbody tr th:only-of-type {\n        vertical-align: middle;\n    }\n\n    .dataframe tbody tr th {\n        vertical-align: top;\n    }\n\n    .dataframe thead th {\n        text-align: right;\n    }\n</style>\n<table border=\"1\" class=\"dataframe\">\n  <thead>\n    <tr style=\"text-align: right;\">\n      <th></th>\n      <th>codigo</th>\n      <th>nombre</th>\n      <th>nombre_corto</th>\n      <th>sigla</th>\n      <th>titulo</th>\n      <th>numero_planes_estudio</th>\n      <th>codigo_estado</th>\n      <th>tipo_grupo</th>\n      <th>monto_tutoria</th>\n      <th>costo_programa</th>\n      <th>dep_inicial</th>\n      <th>siglaNoVersion</th>\n      <th>siglaNoVersionNumero</th>\n    </tr>\n  </thead>\n  <tbody>\n    <tr>\n      <th>0</th>\n      <td>99</td>\n      <td>Aeropuertos en el Sistema de Transporte</td>\n      <td>Aeropuertos en el Sistema de Transporte</td>\n      <td>ASA</td>\n      <td>Asistente</td>\n      <td>1.0</td>\n      <td>V</td>\n      <td>T</td>\n      <td>0.0</td>\n      <td>200</td>\n      <td>100.0</td>\n      <td>ASA</td>\n      <td>0</td>\n    </tr>\n    <tr>\n      <th>1</th>\n      <td>100</td>\n      <td>Diplomado en Metodologías de Investigación Cua...</td>\n      <td>Dip. en Met. de Inv. Cualitativa</td>\n      <td>DME</td>\n      <td>Diplomado en Metodologías de Investigación Cua...</td>\n      <td>1.0</td>\n      <td>V</td>\n      <td>T</td>\n      <td>100.0</td>\n      <td>250</td>\n      <td>40.0</td>\n      <td>DME</td>\n      <td>0</td>\n    </tr>\n    <tr>\n      <th>2</th>\n      <td>101</td>\n      <td>Especialidad en Ortodoncia</td>\n      <td>Esp. en Ortodoncia</td>\n      <td>EEO</td>\n      <td>Especialista en Ortodoncia</td>\n      <td>1.0</td>\n      <td>V</td>\n      <td>T</td>\n      <td>200.0</td>\n      <td>4700</td>\n      <td>10.0</td>\n      <td>EEO</td>\n      <td>0</td>\n    </tr>\n    <tr>\n      <th>3</th>\n      <td>102</td>\n      <td>Maestría en Educación Superior V.3</td>\n      <td>Maestría en Educ. Sup. V.3</td>\n      <td>MES</td>\n      <td>Magister en Educación Superior</td>\n      <td>1.0</td>\n      <td>V</td>\n      <td>T</td>\n      <td>300.0</td>\n      <td>1100</td>\n      <td>20.0</td>\n      <td>MES</td>\n      <td>0</td>\n    </tr>\n    <tr>\n      <th>4</th>\n      <td>103</td>\n      <td>Diplomado en Educación Superior V.7</td>\n      <td>Diplomado en Educ. Sup. V.7</td>\n      <td>DES</td>\n      <td>Diploma en Educación Superior</td>\n      <td>1.0</td>\n      <td>V</td>\n      <td>A</td>\n      <td>100.0</td>\n      <td>350</td>\n      <td>25.0</td>\n      <td>DES</td>\n      <td>0</td>\n    </tr>\n    <tr>\n      <th>...</th>\n      <td>...</td>\n      <td>...</td>\n      <td>...</td>\n      <td>...</td>\n      <td>...</td>\n      <td>...</td>\n      <td>...</td>\n      <td>...</td>\n      <td>...</td>\n      <td>...</td>\n      <td>...</td>\n      <td>...</td>\n      <td>...</td>\n    </tr>\n    <tr>\n      <th>941</th>\n      <td>1075</td>\n      <td>Diplomado en Bim Modelado y Gestión de Proyect...</td>\n      <td>Dipl. en Bim Modelado y Gestión de Proyectos C...</td>\n      <td>DBMGPCV1</td>\n      <td>Diplomado en Bim Modelado y Gestión de Proyect...</td>\n      <td>1.0</td>\n      <td>V</td>\n      <td>T</td>\n      <td>NaN</td>\n      <td>3800</td>\n      <td>10.0</td>\n      <td>DBMGPC</td>\n      <td>DBMGPC</td>\n    </tr>\n    <tr>\n      <th>942</th>\n      <td>1076</td>\n      <td>Diplomado en Diseño Mecánico Industrial CAD-CA...</td>\n      <td>Dipl. en Diseño Mecánico Industrial CAD-CAE-CN...</td>\n      <td>DDMIV2</td>\n      <td>Diplomado en Diseño Mecánico Industrial CAD-CA...</td>\n      <td>1.0</td>\n      <td>V</td>\n      <td>T</td>\n      <td>NaN</td>\n      <td>5000</td>\n      <td>10.0</td>\n      <td>DDMI</td>\n      <td>DDMI</td>\n    </tr>\n    <tr>\n      <th>943</th>\n      <td>1077</td>\n      <td>Diplomado en Diseño Mecánico Industrial CAD-CA...</td>\n      <td>Dipl. en Diseño Mecánico Industrial CAD-CAE-CN...</td>\n      <td>DDMIV2-MG</td>\n      <td>Diplomado en Diseño Mecánico Industrial CAD-CA...</td>\n      <td>1.0</td>\n      <td>V</td>\n      <td>T</td>\n      <td>450.0</td>\n      <td>4550</td>\n      <td>10.0</td>\n      <td>DDMIV2-MG</td>\n      <td>0</td>\n    </tr>\n    <tr>\n      <th>944</th>\n      <td>1079</td>\n      <td>Diplomado en Obras Viales en Suelos Tropicales...</td>\n      <td>Dipl. en Obras Viales en Suelos Tropicales, V....</td>\n      <td>DOVSTV1</td>\n      <td>Diplomado en Obras Viales en Suelos Tropicales</td>\n      <td>1.0</td>\n      <td>V</td>\n      <td>T</td>\n      <td>NaN</td>\n      <td>5000</td>\n      <td>10.0</td>\n      <td>DOVST</td>\n      <td>DOVST</td>\n    </tr>\n    <tr>\n      <th>945</th>\n      <td>1080</td>\n      <td>Maestría en Derecho de Género, Violencia y Adm...</td>\n      <td>Regularización - Maestría en Derecho de Género...</td>\n      <td>RMDGJ</td>\n      <td>NaN</td>\n      <td>1.0</td>\n      <td>V</td>\n      <td>T</td>\n      <td>NaN</td>\n      <td>0</td>\n      <td>10.0</td>\n      <td>RMDGJ</td>\n      <td>0</td>\n    </tr>\n  </tbody>\n</table>\n<p>946 rows × 13 columns</p>\n</div>"
     },
     "execution_count": 72,
     "metadata": {},
     "output_type": "execute_result"
    }
   ],
   "source": [
    "dfCarreras"
   ],
   "metadata": {
    "collapsed": false,
    "ExecuteTime": {
     "end_time": "2023-11-01T13:59:54.221371700Z",
     "start_time": "2023-11-01T13:59:53.992365Z"
    }
   },
   "id": "3265780ae9a6639f"
  },
  {
   "cell_type": "code",
   "execution_count": 73,
   "outputs": [
    {
     "data": {
      "text/plain": "     monto_tutoria  costo_programa  dep_inicial siglaNoVersion  \\\n0              0.0             200        100.0            ASA   \n1            100.0             250         40.0            DME   \n2            200.0            4700         10.0            EEO   \n3            300.0            1100         20.0            MES   \n4            100.0             350         25.0            DES   \n..             ...             ...          ...            ...   \n941            NaN            3800         10.0         DBMGPC   \n942            NaN            5000         10.0           DDMI   \n943          450.0            4550         10.0      DDMIV2-MG   \n944            NaN            5000         10.0          DOVST   \n945            NaN               0         10.0          RMDGJ   \n\n    siglaNoVersionNumero  codigo  \\\n0                      0      99   \n1                      0     100   \n2                      0     101   \n3                      0     102   \n4                      0     103   \n..                   ...     ...   \n941               DBMGPC    1075   \n942                 DDMI    1076   \n943                    0    1077   \n944                DOVST    1079   \n945                    0    1080   \n\n                                                nombre  \n0              Aeropuertos en el Sistema de Transporte  \n1    Diplomado en Metodologías de Investigación Cua...  \n2                           Especialidad en Ortodoncia  \n3                   Maestría en Educación Superior V.3  \n4                  Diplomado en Educación Superior V.7  \n..                                                 ...  \n941  Diplomado en Bim Modelado y Gestión de Proyect...  \n942  Diplomado en Diseño Mecánico Industrial CAD-CA...  \n943  Diplomado en Diseño Mecánico Industrial CAD-CA...  \n944  Diplomado en Obras Viales en Suelos Tropicales...  \n945  Maestría en Derecho de Género, Violencia y Adm...  \n\n[946 rows x 7 columns]",
      "text/html": "<div>\n<style scoped>\n    .dataframe tbody tr th:only-of-type {\n        vertical-align: middle;\n    }\n\n    .dataframe tbody tr th {\n        vertical-align: top;\n    }\n\n    .dataframe thead th {\n        text-align: right;\n    }\n</style>\n<table border=\"1\" class=\"dataframe\">\n  <thead>\n    <tr style=\"text-align: right;\">\n      <th></th>\n      <th>monto_tutoria</th>\n      <th>costo_programa</th>\n      <th>dep_inicial</th>\n      <th>siglaNoVersion</th>\n      <th>siglaNoVersionNumero</th>\n      <th>codigo</th>\n      <th>nombre</th>\n    </tr>\n  </thead>\n  <tbody>\n    <tr>\n      <th>0</th>\n      <td>0.0</td>\n      <td>200</td>\n      <td>100.0</td>\n      <td>ASA</td>\n      <td>0</td>\n      <td>99</td>\n      <td>Aeropuertos en el Sistema de Transporte</td>\n    </tr>\n    <tr>\n      <th>1</th>\n      <td>100.0</td>\n      <td>250</td>\n      <td>40.0</td>\n      <td>DME</td>\n      <td>0</td>\n      <td>100</td>\n      <td>Diplomado en Metodologías de Investigación Cua...</td>\n    </tr>\n    <tr>\n      <th>2</th>\n      <td>200.0</td>\n      <td>4700</td>\n      <td>10.0</td>\n      <td>EEO</td>\n      <td>0</td>\n      <td>101</td>\n      <td>Especialidad en Ortodoncia</td>\n    </tr>\n    <tr>\n      <th>3</th>\n      <td>300.0</td>\n      <td>1100</td>\n      <td>20.0</td>\n      <td>MES</td>\n      <td>0</td>\n      <td>102</td>\n      <td>Maestría en Educación Superior V.3</td>\n    </tr>\n    <tr>\n      <th>4</th>\n      <td>100.0</td>\n      <td>350</td>\n      <td>25.0</td>\n      <td>DES</td>\n      <td>0</td>\n      <td>103</td>\n      <td>Diplomado en Educación Superior V.7</td>\n    </tr>\n    <tr>\n      <th>...</th>\n      <td>...</td>\n      <td>...</td>\n      <td>...</td>\n      <td>...</td>\n      <td>...</td>\n      <td>...</td>\n      <td>...</td>\n    </tr>\n    <tr>\n      <th>941</th>\n      <td>NaN</td>\n      <td>3800</td>\n      <td>10.0</td>\n      <td>DBMGPC</td>\n      <td>DBMGPC</td>\n      <td>1075</td>\n      <td>Diplomado en Bim Modelado y Gestión de Proyect...</td>\n    </tr>\n    <tr>\n      <th>942</th>\n      <td>NaN</td>\n      <td>5000</td>\n      <td>10.0</td>\n      <td>DDMI</td>\n      <td>DDMI</td>\n      <td>1076</td>\n      <td>Diplomado en Diseño Mecánico Industrial CAD-CA...</td>\n    </tr>\n    <tr>\n      <th>943</th>\n      <td>450.0</td>\n      <td>4550</td>\n      <td>10.0</td>\n      <td>DDMIV2-MG</td>\n      <td>0</td>\n      <td>1077</td>\n      <td>Diplomado en Diseño Mecánico Industrial CAD-CA...</td>\n    </tr>\n    <tr>\n      <th>944</th>\n      <td>NaN</td>\n      <td>5000</td>\n      <td>10.0</td>\n      <td>DOVST</td>\n      <td>DOVST</td>\n      <td>1079</td>\n      <td>Diplomado en Obras Viales en Suelos Tropicales...</td>\n    </tr>\n    <tr>\n      <th>945</th>\n      <td>NaN</td>\n      <td>0</td>\n      <td>10.0</td>\n      <td>RMDGJ</td>\n      <td>0</td>\n      <td>1080</td>\n      <td>Maestría en Derecho de Género, Violencia y Adm...</td>\n    </tr>\n  </tbody>\n</table>\n<p>946 rows × 7 columns</p>\n</div>"
     },
     "execution_count": 73,
     "metadata": {},
     "output_type": "execute_result"
    }
   ],
   "source": [
    "dfCarreras.numero_planes_estudio.value_counts() #guardaremos el nombre solo para luego ser usado y lo volveremos a sacar \n",
    "#ya que es irrelevante para nuestro estudio\n",
    "columnas=[\"monto_tutoria\",\"costo_programa\",\"dep_inicial\",\"siglaNoVersion\",\"siglaNoVersionNumero\",\"codigo\",'nombre']\n",
    "dfCarrerasColumnasElegidas = dfCarreras[columnas]\n",
    "dfCarrerasColumnasElegidas"
   ],
   "metadata": {
    "collapsed": false,
    "ExecuteTime": {
     "end_time": "2023-11-01T13:59:54.500810600Z",
     "start_time": "2023-11-01T13:59:54.128154800Z"
    }
   },
   "id": "3dacc0de8b0142b4"
  },
  {
   "cell_type": "markdown",
   "source": [
    "Universitarios"
   ],
   "metadata": {
    "collapsed": false
   },
   "id": "9ab9dc4f8aec5929"
  },
  {
   "cell_type": "code",
   "execution_count": 74,
   "outputs": [
    {
     "data": {
      "text/plain": "             id  codigo_carrera       fecha_registro  matriculado  revisado\n0      10641198             861  2022-06-16 09:23:11            1         0\n1       1147006             101  2007-05-23 18:44:22            0         0\n2       3909889             101  2007-05-24 11:23:19            1         0\n3       1273894             103  2007-05-28 12:05:18            1         0\n4       1392422             103  2007-05-29 06:28:45            0         0\n...         ...             ...                  ...          ...       ...\n38781   7477355            1068  2023-10-24 11:37:51            0         0\n38782   7477355            1078  2023-10-24 11:46:11            0         0\n38783   4106146            1078  2023-10-24 17:05:27            0         0\n38784   7470875            1077  2023-10-25 05:46:42            0         0\n38785   1920491             944  2023-10-24 17:31:41            1         0\n\n[38786 rows x 5 columns]",
      "text/html": "<div>\n<style scoped>\n    .dataframe tbody tr th:only-of-type {\n        vertical-align: middle;\n    }\n\n    .dataframe tbody tr th {\n        vertical-align: top;\n    }\n\n    .dataframe thead th {\n        text-align: right;\n    }\n</style>\n<table border=\"1\" class=\"dataframe\">\n  <thead>\n    <tr style=\"text-align: right;\">\n      <th></th>\n      <th>id</th>\n      <th>codigo_carrera</th>\n      <th>fecha_registro</th>\n      <th>matriculado</th>\n      <th>revisado</th>\n    </tr>\n  </thead>\n  <tbody>\n    <tr>\n      <th>0</th>\n      <td>10641198</td>\n      <td>861</td>\n      <td>2022-06-16 09:23:11</td>\n      <td>1</td>\n      <td>0</td>\n    </tr>\n    <tr>\n      <th>1</th>\n      <td>1147006</td>\n      <td>101</td>\n      <td>2007-05-23 18:44:22</td>\n      <td>0</td>\n      <td>0</td>\n    </tr>\n    <tr>\n      <th>2</th>\n      <td>3909889</td>\n      <td>101</td>\n      <td>2007-05-24 11:23:19</td>\n      <td>1</td>\n      <td>0</td>\n    </tr>\n    <tr>\n      <th>3</th>\n      <td>1273894</td>\n      <td>103</td>\n      <td>2007-05-28 12:05:18</td>\n      <td>1</td>\n      <td>0</td>\n    </tr>\n    <tr>\n      <th>4</th>\n      <td>1392422</td>\n      <td>103</td>\n      <td>2007-05-29 06:28:45</td>\n      <td>0</td>\n      <td>0</td>\n    </tr>\n    <tr>\n      <th>...</th>\n      <td>...</td>\n      <td>...</td>\n      <td>...</td>\n      <td>...</td>\n      <td>...</td>\n    </tr>\n    <tr>\n      <th>38781</th>\n      <td>7477355</td>\n      <td>1068</td>\n      <td>2023-10-24 11:37:51</td>\n      <td>0</td>\n      <td>0</td>\n    </tr>\n    <tr>\n      <th>38782</th>\n      <td>7477355</td>\n      <td>1078</td>\n      <td>2023-10-24 11:46:11</td>\n      <td>0</td>\n      <td>0</td>\n    </tr>\n    <tr>\n      <th>38783</th>\n      <td>4106146</td>\n      <td>1078</td>\n      <td>2023-10-24 17:05:27</td>\n      <td>0</td>\n      <td>0</td>\n    </tr>\n    <tr>\n      <th>38784</th>\n      <td>7470875</td>\n      <td>1077</td>\n      <td>2023-10-25 05:46:42</td>\n      <td>0</td>\n      <td>0</td>\n    </tr>\n    <tr>\n      <th>38785</th>\n      <td>1920491</td>\n      <td>944</td>\n      <td>2023-10-24 17:31:41</td>\n      <td>1</td>\n      <td>0</td>\n    </tr>\n  </tbody>\n</table>\n<p>38786 rows × 5 columns</p>\n</div>"
     },
     "execution_count": 74,
     "metadata": {},
     "output_type": "execute_result"
    }
   ],
   "source": [
    "dfUniversitarios"
   ],
   "metadata": {
    "collapsed": false,
    "ExecuteTime": {
     "end_time": "2023-11-01T13:59:54.720541500Z",
     "start_time": "2023-11-01T13:59:54.441268200Z"
    }
   },
   "id": "3424be8f21ac83a8"
  },
  {
   "cell_type": "code",
   "execution_count": 75,
   "outputs": [],
   "source": [
    "\n",
    "columnasUniversitario = [\"codigo_carrera\",\"id\"]\n",
    "dfUniversitariosColumnasElegidas = dfUniversitarios[columnasUniversitario]"
   ],
   "metadata": {
    "collapsed": false,
    "ExecuteTime": {
     "end_time": "2023-11-01T13:59:55.004075300Z",
     "start_time": "2023-11-01T13:59:54.651782Z"
    }
   },
   "id": "759b70cc039818a0"
  },
  {
   "cell_type": "markdown",
   "source": [
    "Personas"
   ],
   "metadata": {
    "collapsed": false
   },
   "id": "2847999fecbe453f"
  },
  {
   "cell_type": "code",
   "execution_count": 76,
   "outputs": [
    {
     "data": {
      "text/plain": "             id   paterno    materno        nombres   fecha_nac sexo  \\\n0       1115413   GUILLEN      BARJA   LUIS ALBERTO  1985-05-13    M   \n1       3971480    MEDINA       SOTO     RUTH DEYSI  1975-09-18    F   \n2       5496566     PICHA     PAREJA         MAGALI  1982-05-27    F   \n3       3909889    FLORES      DURAN  MAURO ESTEBAN  1976-09-20    M   \n4       3643710      CRUZ     PINEDO  OSCAR RICHARD  1975-12-06    M   \n...         ...       ...        ...            ...         ...  ...   \n25221  13123996   CAMACHO   CALLEJAS   MELANI LAURA  1998-04-02    F   \n25222  10324458   TABOADA      DURAN          DAVID  1993-10-29    M   \n25223   5696801    CASTRO  RODRIGUEZ   PAOLA SUSANA  1987-08-28    M   \n25224   7477355  SAAVEDRA  CONTRERAS   MARIA ISABEL  1987-09-10    F   \n25225   4106146   MAIDANA       URIA   JOSE ANTONIO  1981-12-25    M   \n\n      codigo_pais_nacimiento codigo_dpto_nacimiento       fecha_registro  \\\n0                         BO                     CH  2014-07-08 15:05:47   \n1                         BO                     PO  2008-05-13 19:11:49   \n2                         BO                     CH  2007-06-15 11:02:01   \n3                         BO                     SC  2022-07-15 17:51:15   \n4                         BO                     OR  2023-10-09 15:33:07   \n...                      ...                    ...                  ...   \n25221                     BO                     CH  2023-08-31 23:25:26   \n25222                     BO                     CH  2023-10-23 15:45:41   \n25223                     BO                     OR  2023-10-24 11:06:41   \n25224                     BO                     CH  2023-10-24 12:03:46   \n25225                     BO                     CH  2023-10-24 17:27:30   \n\n      lugar_exp  \n0            CH  \n1            PO  \n2            CH  \n3            SC  \n4            CH  \n...         ...  \n25221        CH  \n25222        CH  \n25223        CH  \n25224        CH  \n25225        CH  \n\n[25226 rows x 10 columns]",
      "text/html": "<div>\n<style scoped>\n    .dataframe tbody tr th:only-of-type {\n        vertical-align: middle;\n    }\n\n    .dataframe tbody tr th {\n        vertical-align: top;\n    }\n\n    .dataframe thead th {\n        text-align: right;\n    }\n</style>\n<table border=\"1\" class=\"dataframe\">\n  <thead>\n    <tr style=\"text-align: right;\">\n      <th></th>\n      <th>id</th>\n      <th>paterno</th>\n      <th>materno</th>\n      <th>nombres</th>\n      <th>fecha_nac</th>\n      <th>sexo</th>\n      <th>codigo_pais_nacimiento</th>\n      <th>codigo_dpto_nacimiento</th>\n      <th>fecha_registro</th>\n      <th>lugar_exp</th>\n    </tr>\n  </thead>\n  <tbody>\n    <tr>\n      <th>0</th>\n      <td>1115413</td>\n      <td>GUILLEN</td>\n      <td>BARJA</td>\n      <td>LUIS ALBERTO</td>\n      <td>1985-05-13</td>\n      <td>M</td>\n      <td>BO</td>\n      <td>CH</td>\n      <td>2014-07-08 15:05:47</td>\n      <td>CH</td>\n    </tr>\n    <tr>\n      <th>1</th>\n      <td>3971480</td>\n      <td>MEDINA</td>\n      <td>SOTO</td>\n      <td>RUTH DEYSI</td>\n      <td>1975-09-18</td>\n      <td>F</td>\n      <td>BO</td>\n      <td>PO</td>\n      <td>2008-05-13 19:11:49</td>\n      <td>PO</td>\n    </tr>\n    <tr>\n      <th>2</th>\n      <td>5496566</td>\n      <td>PICHA</td>\n      <td>PAREJA</td>\n      <td>MAGALI</td>\n      <td>1982-05-27</td>\n      <td>F</td>\n      <td>BO</td>\n      <td>CH</td>\n      <td>2007-06-15 11:02:01</td>\n      <td>CH</td>\n    </tr>\n    <tr>\n      <th>3</th>\n      <td>3909889</td>\n      <td>FLORES</td>\n      <td>DURAN</td>\n      <td>MAURO ESTEBAN</td>\n      <td>1976-09-20</td>\n      <td>M</td>\n      <td>BO</td>\n      <td>SC</td>\n      <td>2022-07-15 17:51:15</td>\n      <td>SC</td>\n    </tr>\n    <tr>\n      <th>4</th>\n      <td>3643710</td>\n      <td>CRUZ</td>\n      <td>PINEDO</td>\n      <td>OSCAR RICHARD</td>\n      <td>1975-12-06</td>\n      <td>M</td>\n      <td>BO</td>\n      <td>OR</td>\n      <td>2023-10-09 15:33:07</td>\n      <td>CH</td>\n    </tr>\n    <tr>\n      <th>...</th>\n      <td>...</td>\n      <td>...</td>\n      <td>...</td>\n      <td>...</td>\n      <td>...</td>\n      <td>...</td>\n      <td>...</td>\n      <td>...</td>\n      <td>...</td>\n      <td>...</td>\n    </tr>\n    <tr>\n      <th>25221</th>\n      <td>13123996</td>\n      <td>CAMACHO</td>\n      <td>CALLEJAS</td>\n      <td>MELANI LAURA</td>\n      <td>1998-04-02</td>\n      <td>F</td>\n      <td>BO</td>\n      <td>CH</td>\n      <td>2023-08-31 23:25:26</td>\n      <td>CH</td>\n    </tr>\n    <tr>\n      <th>25222</th>\n      <td>10324458</td>\n      <td>TABOADA</td>\n      <td>DURAN</td>\n      <td>DAVID</td>\n      <td>1993-10-29</td>\n      <td>M</td>\n      <td>BO</td>\n      <td>CH</td>\n      <td>2023-10-23 15:45:41</td>\n      <td>CH</td>\n    </tr>\n    <tr>\n      <th>25223</th>\n      <td>5696801</td>\n      <td>CASTRO</td>\n      <td>RODRIGUEZ</td>\n      <td>PAOLA SUSANA</td>\n      <td>1987-08-28</td>\n      <td>M</td>\n      <td>BO</td>\n      <td>OR</td>\n      <td>2023-10-24 11:06:41</td>\n      <td>CH</td>\n    </tr>\n    <tr>\n      <th>25224</th>\n      <td>7477355</td>\n      <td>SAAVEDRA</td>\n      <td>CONTRERAS</td>\n      <td>MARIA ISABEL</td>\n      <td>1987-09-10</td>\n      <td>F</td>\n      <td>BO</td>\n      <td>CH</td>\n      <td>2023-10-24 12:03:46</td>\n      <td>CH</td>\n    </tr>\n    <tr>\n      <th>25225</th>\n      <td>4106146</td>\n      <td>MAIDANA</td>\n      <td>URIA</td>\n      <td>JOSE ANTONIO</td>\n      <td>1981-12-25</td>\n      <td>M</td>\n      <td>BO</td>\n      <td>CH</td>\n      <td>2023-10-24 17:27:30</td>\n      <td>CH</td>\n    </tr>\n  </tbody>\n</table>\n<p>25226 rows × 10 columns</p>\n</div>"
     },
     "execution_count": 76,
     "metadata": {},
     "output_type": "execute_result"
    }
   ],
   "source": [
    "dfPersonas"
   ],
   "metadata": {
    "collapsed": false,
    "ExecuteTime": {
     "end_time": "2023-11-01T13:59:55.219111800Z",
     "start_time": "2023-11-01T13:59:54.916878600Z"
    }
   },
   "id": "a4ef2de75b48e683"
  },
  {
   "cell_type": "code",
   "execution_count": 77,
   "outputs": [
    {
     "data": {
      "text/plain": "             id   fecha_nac sexo codigo_pais_nacimiento codigo_dpto_nacimiento\n0       1115413  1985-05-13    M                     BO                     CH\n1       3971480  1975-09-18    F                     BO                     PO\n2       5496566  1982-05-27    F                     BO                     CH\n3       3909889  1976-09-20    M                     BO                     SC\n4       3643710  1975-12-06    M                     BO                     OR\n...         ...         ...  ...                    ...                    ...\n25221  13123996  1998-04-02    F                     BO                     CH\n25222  10324458  1993-10-29    M                     BO                     CH\n25223   5696801  1987-08-28    M                     BO                     OR\n25224   7477355  1987-09-10    F                     BO                     CH\n25225   4106146  1981-12-25    M                     BO                     CH\n\n[25226 rows x 5 columns]",
      "text/html": "<div>\n<style scoped>\n    .dataframe tbody tr th:only-of-type {\n        vertical-align: middle;\n    }\n\n    .dataframe tbody tr th {\n        vertical-align: top;\n    }\n\n    .dataframe thead th {\n        text-align: right;\n    }\n</style>\n<table border=\"1\" class=\"dataframe\">\n  <thead>\n    <tr style=\"text-align: right;\">\n      <th></th>\n      <th>id</th>\n      <th>fecha_nac</th>\n      <th>sexo</th>\n      <th>codigo_pais_nacimiento</th>\n      <th>codigo_dpto_nacimiento</th>\n    </tr>\n  </thead>\n  <tbody>\n    <tr>\n      <th>0</th>\n      <td>1115413</td>\n      <td>1985-05-13</td>\n      <td>M</td>\n      <td>BO</td>\n      <td>CH</td>\n    </tr>\n    <tr>\n      <th>1</th>\n      <td>3971480</td>\n      <td>1975-09-18</td>\n      <td>F</td>\n      <td>BO</td>\n      <td>PO</td>\n    </tr>\n    <tr>\n      <th>2</th>\n      <td>5496566</td>\n      <td>1982-05-27</td>\n      <td>F</td>\n      <td>BO</td>\n      <td>CH</td>\n    </tr>\n    <tr>\n      <th>3</th>\n      <td>3909889</td>\n      <td>1976-09-20</td>\n      <td>M</td>\n      <td>BO</td>\n      <td>SC</td>\n    </tr>\n    <tr>\n      <th>4</th>\n      <td>3643710</td>\n      <td>1975-12-06</td>\n      <td>M</td>\n      <td>BO</td>\n      <td>OR</td>\n    </tr>\n    <tr>\n      <th>...</th>\n      <td>...</td>\n      <td>...</td>\n      <td>...</td>\n      <td>...</td>\n      <td>...</td>\n    </tr>\n    <tr>\n      <th>25221</th>\n      <td>13123996</td>\n      <td>1998-04-02</td>\n      <td>F</td>\n      <td>BO</td>\n      <td>CH</td>\n    </tr>\n    <tr>\n      <th>25222</th>\n      <td>10324458</td>\n      <td>1993-10-29</td>\n      <td>M</td>\n      <td>BO</td>\n      <td>CH</td>\n    </tr>\n    <tr>\n      <th>25223</th>\n      <td>5696801</td>\n      <td>1987-08-28</td>\n      <td>M</td>\n      <td>BO</td>\n      <td>OR</td>\n    </tr>\n    <tr>\n      <th>25224</th>\n      <td>7477355</td>\n      <td>1987-09-10</td>\n      <td>F</td>\n      <td>BO</td>\n      <td>CH</td>\n    </tr>\n    <tr>\n      <th>25225</th>\n      <td>4106146</td>\n      <td>1981-12-25</td>\n      <td>M</td>\n      <td>BO</td>\n      <td>CH</td>\n    </tr>\n  </tbody>\n</table>\n<p>25226 rows × 5 columns</p>\n</div>"
     },
     "execution_count": 77,
     "metadata": {},
     "output_type": "execute_result"
    }
   ],
   "source": [
    "columnasPersonas = [\"id\",\"fecha_nac\",\"sexo\",\"codigo_pais_nacimiento\",\"codigo_dpto_nacimiento\"]\n",
    "dfPersonasColumnasElegidas = dfPersonas[columnasPersonas]\n",
    "dfPersonasColumnasElegidas"
   ],
   "metadata": {
    "collapsed": false,
    "ExecuteTime": {
     "end_time": "2023-11-01T13:59:55.417104Z",
     "start_time": "2023-11-01T13:59:55.085739800Z"
    }
   },
   "id": "de617de6d6d2326f"
  },
  {
   "cell_type": "markdown",
   "source": [
    "Datos Actualizables"
   ],
   "metadata": {
    "collapsed": false
   },
   "id": "f9c692d659a8be22"
  },
  {
   "cell_type": "code",
   "execution_count": 78,
   "outputs": [
    {
     "data": {
      "text/plain": "             id estado_civil sede             direccion  telefono   celular  \\\n0       1115413            S   CH           EE.UU.#1129   6440132  75777777   \n1       3971480            C   PO         SAAVEDRA  100   6229024       NaN   \n2       5496566            S   CH  29 DE SEPTIEMBRE 337   6420226  76116062   \n3       3909889            S   SC    Calle tte. Vega 24  33333201  76112121   \n4       3643710            C   CH   AV. 6 de Agosto S/N   6432193  69676103   \n...         ...          ...  ...                   ...       ...       ...   \n25257  13123996            S   CH    CORNELIO DURAN #30       NaN  65260481   \n25258  10324458            S   CH     B. Villa Rosa S/N       NaN  75787095   \n25259   5696801            C   CH           ZONA SANCHO   6456209  67628340   \n25260   7477355            S   CH  pasaje churuquella n  71157337  71157337   \n25261   4106146            S   CH  av Jaime Mendoza1022   6452120  72865677   \n\n                                email  \n0            luis.guillen.b@gmail.com  \n1               ruthdeysi@hotmail.com  \n2            maguicita_pp@hotmail.com  \n3                  Eidanf64@gmail.com  \n4               richyscti@hotmail.com  \n...                               ...  \n25257            melanic684@gmail.com  \n25258         dvdtaboada747@gmail.com  \n25259               pscr.87@gmail.com  \n25260  saavedraisabel100987@gmail.com  \n25261   jamaidanaingenieria@gmail.com  \n\n[25262 rows x 7 columns]",
      "text/html": "<div>\n<style scoped>\n    .dataframe tbody tr th:only-of-type {\n        vertical-align: middle;\n    }\n\n    .dataframe tbody tr th {\n        vertical-align: top;\n    }\n\n    .dataframe thead th {\n        text-align: right;\n    }\n</style>\n<table border=\"1\" class=\"dataframe\">\n  <thead>\n    <tr style=\"text-align: right;\">\n      <th></th>\n      <th>id</th>\n      <th>estado_civil</th>\n      <th>sede</th>\n      <th>direccion</th>\n      <th>telefono</th>\n      <th>celular</th>\n      <th>email</th>\n    </tr>\n  </thead>\n  <tbody>\n    <tr>\n      <th>0</th>\n      <td>1115413</td>\n      <td>S</td>\n      <td>CH</td>\n      <td>EE.UU.#1129</td>\n      <td>6440132</td>\n      <td>75777777</td>\n      <td>luis.guillen.b@gmail.com</td>\n    </tr>\n    <tr>\n      <th>1</th>\n      <td>3971480</td>\n      <td>C</td>\n      <td>PO</td>\n      <td>SAAVEDRA  100</td>\n      <td>6229024</td>\n      <td>NaN</td>\n      <td>ruthdeysi@hotmail.com</td>\n    </tr>\n    <tr>\n      <th>2</th>\n      <td>5496566</td>\n      <td>S</td>\n      <td>CH</td>\n      <td>29 DE SEPTIEMBRE 337</td>\n      <td>6420226</td>\n      <td>76116062</td>\n      <td>maguicita_pp@hotmail.com</td>\n    </tr>\n    <tr>\n      <th>3</th>\n      <td>3909889</td>\n      <td>S</td>\n      <td>SC</td>\n      <td>Calle tte. Vega 24</td>\n      <td>33333201</td>\n      <td>76112121</td>\n      <td>Eidanf64@gmail.com</td>\n    </tr>\n    <tr>\n      <th>4</th>\n      <td>3643710</td>\n      <td>C</td>\n      <td>CH</td>\n      <td>AV. 6 de Agosto S/N</td>\n      <td>6432193</td>\n      <td>69676103</td>\n      <td>richyscti@hotmail.com</td>\n    </tr>\n    <tr>\n      <th>...</th>\n      <td>...</td>\n      <td>...</td>\n      <td>...</td>\n      <td>...</td>\n      <td>...</td>\n      <td>...</td>\n      <td>...</td>\n    </tr>\n    <tr>\n      <th>25257</th>\n      <td>13123996</td>\n      <td>S</td>\n      <td>CH</td>\n      <td>CORNELIO DURAN #30</td>\n      <td>NaN</td>\n      <td>65260481</td>\n      <td>melanic684@gmail.com</td>\n    </tr>\n    <tr>\n      <th>25258</th>\n      <td>10324458</td>\n      <td>S</td>\n      <td>CH</td>\n      <td>B. Villa Rosa S/N</td>\n      <td>NaN</td>\n      <td>75787095</td>\n      <td>dvdtaboada747@gmail.com</td>\n    </tr>\n    <tr>\n      <th>25259</th>\n      <td>5696801</td>\n      <td>C</td>\n      <td>CH</td>\n      <td>ZONA SANCHO</td>\n      <td>6456209</td>\n      <td>67628340</td>\n      <td>pscr.87@gmail.com</td>\n    </tr>\n    <tr>\n      <th>25260</th>\n      <td>7477355</td>\n      <td>S</td>\n      <td>CH</td>\n      <td>pasaje churuquella n</td>\n      <td>71157337</td>\n      <td>71157337</td>\n      <td>saavedraisabel100987@gmail.com</td>\n    </tr>\n    <tr>\n      <th>25261</th>\n      <td>4106146</td>\n      <td>S</td>\n      <td>CH</td>\n      <td>av Jaime Mendoza1022</td>\n      <td>6452120</td>\n      <td>72865677</td>\n      <td>jamaidanaingenieria@gmail.com</td>\n    </tr>\n  </tbody>\n</table>\n<p>25262 rows × 7 columns</p>\n</div>"
     },
     "execution_count": 78,
     "metadata": {},
     "output_type": "execute_result"
    }
   ],
   "source": [
    "\n",
    "dfDatosactualizables"
   ],
   "metadata": {
    "collapsed": false,
    "ExecuteTime": {
     "end_time": "2023-11-01T13:59:55.875839400Z",
     "start_time": "2023-11-01T13:59:55.449470200Z"
    }
   },
   "id": "b6302fbb6c4d15ce"
  },
  {
   "cell_type": "code",
   "execution_count": 79,
   "outputs": [
    {
     "data": {
      "text/plain": "             id estado_civil\n0       1115413            S\n1       3971480            C\n2       5496566            S\n3       3909889            S\n4       3643710            C\n...         ...          ...\n25257  13123996            S\n25258  10324458            S\n25259   5696801            C\n25260   7477355            S\n25261   4106146            S\n\n[25262 rows x 2 columns]",
      "text/html": "<div>\n<style scoped>\n    .dataframe tbody tr th:only-of-type {\n        vertical-align: middle;\n    }\n\n    .dataframe tbody tr th {\n        vertical-align: top;\n    }\n\n    .dataframe thead th {\n        text-align: right;\n    }\n</style>\n<table border=\"1\" class=\"dataframe\">\n  <thead>\n    <tr style=\"text-align: right;\">\n      <th></th>\n      <th>id</th>\n      <th>estado_civil</th>\n    </tr>\n  </thead>\n  <tbody>\n    <tr>\n      <th>0</th>\n      <td>1115413</td>\n      <td>S</td>\n    </tr>\n    <tr>\n      <th>1</th>\n      <td>3971480</td>\n      <td>C</td>\n    </tr>\n    <tr>\n      <th>2</th>\n      <td>5496566</td>\n      <td>S</td>\n    </tr>\n    <tr>\n      <th>3</th>\n      <td>3909889</td>\n      <td>S</td>\n    </tr>\n    <tr>\n      <th>4</th>\n      <td>3643710</td>\n      <td>C</td>\n    </tr>\n    <tr>\n      <th>...</th>\n      <td>...</td>\n      <td>...</td>\n    </tr>\n    <tr>\n      <th>25257</th>\n      <td>13123996</td>\n      <td>S</td>\n    </tr>\n    <tr>\n      <th>25258</th>\n      <td>10324458</td>\n      <td>S</td>\n    </tr>\n    <tr>\n      <th>25259</th>\n      <td>5696801</td>\n      <td>C</td>\n    </tr>\n    <tr>\n      <th>25260</th>\n      <td>7477355</td>\n      <td>S</td>\n    </tr>\n    <tr>\n      <th>25261</th>\n      <td>4106146</td>\n      <td>S</td>\n    </tr>\n  </tbody>\n</table>\n<p>25262 rows × 2 columns</p>\n</div>"
     },
     "execution_count": 79,
     "metadata": {},
     "output_type": "execute_result"
    }
   ],
   "source": [
    "valoresDatosActualizables = [\"id\",\"estado_civil\"]\n",
    "dfDatosActualizablesColumnasElegidas = dfDatosactualizables[valoresDatosActualizables]\n",
    "dfDatosActualizablesColumnasElegidas"
   ],
   "metadata": {
    "collapsed": false,
    "ExecuteTime": {
     "end_time": "2023-11-01T13:59:56.024553600Z",
     "start_time": "2023-11-01T13:59:55.585232500Z"
    }
   },
   "id": "d718d22a4277b4f7"
  },
  {
   "cell_type": "markdown",
   "source": [
    "Personas datos academicos"
   ],
   "metadata": {
    "collapsed": false
   },
   "id": "78d49b3baddb08e"
  },
  {
   "cell_type": "code",
   "execution_count": 80,
   "outputs": [
    {
     "data": {
      "text/plain": "       Unnamed: 0        id  codig_universidad  codigo_tituloAcademico  \\\n0               0   1115413                 19                      22   \n1               1   3971480                 19                      74   \n2               2   5496566                 19                      77   \n3               3   3909889                 19                      77   \n4               4   3643710                 19                      22   \n...           ...       ...                ...                     ...   \n25252       25252  13123996                 19                      22   \n25253       25253  10324458                 19                      27   \n25254       25254   5696801                 33                      83   \n25255       25255   7477355                 19                      76   \n25256       25256   4106146                 19                      18   \n\n      fecha_titulacion_academica fecha_titulacion  \n0                     2006-12-15       2007-02-28  \n1                     1999-12-10       2000-11-30  \n2                     2005-06-10       2005-10-12  \n3                     2006-02-16       2006-04-26  \n4                     2000-04-28       2002-01-18  \n...                          ...              ...  \n25252                 2023-12-05       2023-12-05  \n25253                 2023-12-18       2023-10-20  \n25254                 2010-12-10       2014-12-11  \n25255                 2012-03-09       2012-07-31  \n25256                 2009-04-17       2009-04-30  \n\n[25257 rows x 6 columns]",
      "text/html": "<div>\n<style scoped>\n    .dataframe tbody tr th:only-of-type {\n        vertical-align: middle;\n    }\n\n    .dataframe tbody tr th {\n        vertical-align: top;\n    }\n\n    .dataframe thead th {\n        text-align: right;\n    }\n</style>\n<table border=\"1\" class=\"dataframe\">\n  <thead>\n    <tr style=\"text-align: right;\">\n      <th></th>\n      <th>Unnamed: 0</th>\n      <th>id</th>\n      <th>codig_universidad</th>\n      <th>codigo_tituloAcademico</th>\n      <th>fecha_titulacion_academica</th>\n      <th>fecha_titulacion</th>\n    </tr>\n  </thead>\n  <tbody>\n    <tr>\n      <th>0</th>\n      <td>0</td>\n      <td>1115413</td>\n      <td>19</td>\n      <td>22</td>\n      <td>2006-12-15</td>\n      <td>2007-02-28</td>\n    </tr>\n    <tr>\n      <th>1</th>\n      <td>1</td>\n      <td>3971480</td>\n      <td>19</td>\n      <td>74</td>\n      <td>1999-12-10</td>\n      <td>2000-11-30</td>\n    </tr>\n    <tr>\n      <th>2</th>\n      <td>2</td>\n      <td>5496566</td>\n      <td>19</td>\n      <td>77</td>\n      <td>2005-06-10</td>\n      <td>2005-10-12</td>\n    </tr>\n    <tr>\n      <th>3</th>\n      <td>3</td>\n      <td>3909889</td>\n      <td>19</td>\n      <td>77</td>\n      <td>2006-02-16</td>\n      <td>2006-04-26</td>\n    </tr>\n    <tr>\n      <th>4</th>\n      <td>4</td>\n      <td>3643710</td>\n      <td>19</td>\n      <td>22</td>\n      <td>2000-04-28</td>\n      <td>2002-01-18</td>\n    </tr>\n    <tr>\n      <th>...</th>\n      <td>...</td>\n      <td>...</td>\n      <td>...</td>\n      <td>...</td>\n      <td>...</td>\n      <td>...</td>\n    </tr>\n    <tr>\n      <th>25252</th>\n      <td>25252</td>\n      <td>13123996</td>\n      <td>19</td>\n      <td>22</td>\n      <td>2023-12-05</td>\n      <td>2023-12-05</td>\n    </tr>\n    <tr>\n      <th>25253</th>\n      <td>25253</td>\n      <td>10324458</td>\n      <td>19</td>\n      <td>27</td>\n      <td>2023-12-18</td>\n      <td>2023-10-20</td>\n    </tr>\n    <tr>\n      <th>25254</th>\n      <td>25254</td>\n      <td>5696801</td>\n      <td>33</td>\n      <td>83</td>\n      <td>2010-12-10</td>\n      <td>2014-12-11</td>\n    </tr>\n    <tr>\n      <th>25255</th>\n      <td>25255</td>\n      <td>7477355</td>\n      <td>19</td>\n      <td>76</td>\n      <td>2012-03-09</td>\n      <td>2012-07-31</td>\n    </tr>\n    <tr>\n      <th>25256</th>\n      <td>25256</td>\n      <td>4106146</td>\n      <td>19</td>\n      <td>18</td>\n      <td>2009-04-17</td>\n      <td>2009-04-30</td>\n    </tr>\n  </tbody>\n</table>\n<p>25257 rows × 6 columns</p>\n</div>"
     },
     "execution_count": 80,
     "metadata": {},
     "output_type": "execute_result"
    }
   ],
   "source": [
    "dfPersonasDatosAcademicos"
   ],
   "metadata": {
    "collapsed": false,
    "ExecuteTime": {
     "end_time": "2023-11-01T13:59:56.612853500Z",
     "start_time": "2023-11-01T13:59:56.032639500Z"
    }
   },
   "id": "3818333bdf0b077c"
  },
  {
   "cell_type": "code",
   "execution_count": 81,
   "outputs": [
    {
     "data": {
      "text/plain": "             id fecha_titulacion_academica  codigo_tituloAcademico\n0       1115413                 2006-12-15                      22\n1       3971480                 1999-12-10                      74\n2       5496566                 2005-06-10                      77\n3       3909889                 2006-02-16                      77\n4       3643710                 2000-04-28                      22\n...         ...                        ...                     ...\n25252  13123996                 2023-12-05                      22\n25253  10324458                 2023-12-18                      27\n25254   5696801                 2010-12-10                      83\n25255   7477355                 2012-03-09                      76\n25256   4106146                 2009-04-17                      18\n\n[25257 rows x 3 columns]",
      "text/html": "<div>\n<style scoped>\n    .dataframe tbody tr th:only-of-type {\n        vertical-align: middle;\n    }\n\n    .dataframe tbody tr th {\n        vertical-align: top;\n    }\n\n    .dataframe thead th {\n        text-align: right;\n    }\n</style>\n<table border=\"1\" class=\"dataframe\">\n  <thead>\n    <tr style=\"text-align: right;\">\n      <th></th>\n      <th>id</th>\n      <th>fecha_titulacion_academica</th>\n      <th>codigo_tituloAcademico</th>\n    </tr>\n  </thead>\n  <tbody>\n    <tr>\n      <th>0</th>\n      <td>1115413</td>\n      <td>2006-12-15</td>\n      <td>22</td>\n    </tr>\n    <tr>\n      <th>1</th>\n      <td>3971480</td>\n      <td>1999-12-10</td>\n      <td>74</td>\n    </tr>\n    <tr>\n      <th>2</th>\n      <td>5496566</td>\n      <td>2005-06-10</td>\n      <td>77</td>\n    </tr>\n    <tr>\n      <th>3</th>\n      <td>3909889</td>\n      <td>2006-02-16</td>\n      <td>77</td>\n    </tr>\n    <tr>\n      <th>4</th>\n      <td>3643710</td>\n      <td>2000-04-28</td>\n      <td>22</td>\n    </tr>\n    <tr>\n      <th>...</th>\n      <td>...</td>\n      <td>...</td>\n      <td>...</td>\n    </tr>\n    <tr>\n      <th>25252</th>\n      <td>13123996</td>\n      <td>2023-12-05</td>\n      <td>22</td>\n    </tr>\n    <tr>\n      <th>25253</th>\n      <td>10324458</td>\n      <td>2023-12-18</td>\n      <td>27</td>\n    </tr>\n    <tr>\n      <th>25254</th>\n      <td>5696801</td>\n      <td>2010-12-10</td>\n      <td>83</td>\n    </tr>\n    <tr>\n      <th>25255</th>\n      <td>7477355</td>\n      <td>2012-03-09</td>\n      <td>76</td>\n    </tr>\n    <tr>\n      <th>25256</th>\n      <td>4106146</td>\n      <td>2009-04-17</td>\n      <td>18</td>\n    </tr>\n  </tbody>\n</table>\n<p>25257 rows × 3 columns</p>\n</div>"
     },
     "execution_count": 81,
     "metadata": {},
     "output_type": "execute_result"
    }
   ],
   "source": [
    "valoresDatosAcademicos = [\"id\",\"fecha_titulacion_academica\",\"codigo_tituloAcademico\"]\n",
    "dfDatosAcademicosColumnasElegidas = dfPersonasDatosAcademicos[valoresDatosAcademicos]\n",
    "dfDatosAcademicosColumnasElegidas"
   ],
   "metadata": {
    "collapsed": false,
    "ExecuteTime": {
     "end_time": "2023-11-01T13:59:56.857024300Z",
     "start_time": "2023-11-01T13:59:56.171173800Z"
    }
   },
   "id": "a6c5225d512102bc"
  },
  {
   "cell_type": "code",
   "execution_count": 82,
   "outputs": [],
   "source": [
    "dfCarrerasColumnasElegidas = dfCarrerasColumnasElegidas.rename(columns={'codigo':'codigo_carrera'})"
   ],
   "metadata": {
    "collapsed": false,
    "ExecuteTime": {
     "end_time": "2023-11-01T13:59:57.034489500Z",
     "start_time": "2023-11-01T13:59:56.306372900Z"
    }
   },
   "id": "769f8959991b094a"
  },
  {
   "cell_type": "markdown",
   "source": [
    "Join Dataframes By Id"
   ],
   "metadata": {
    "collapsed": false
   },
   "id": "6b940d0313d53710"
  },
  {
   "cell_type": "code",
   "execution_count": 83,
   "outputs": [],
   "source": [
    "xDf = pd.merge(dfPersonasColumnasElegidas,dfUniversitariosColumnasElegidas,on=(\"id\"))\n",
    "xDf = pd.merge(xDf,dfDatosActualizablesColumnasElegidas,on=(\"id\"))\n",
    "xDf = pd.merge(xDf, dfDatosAcademicosColumnasElegidas, on=(\"id\"))\n",
    "xDf = pd.merge(xDf, dfCarrerasColumnasElegidas, on=\"codigo_carrera\")"
   ],
   "metadata": {
    "collapsed": false,
    "ExecuteTime": {
     "end_time": "2023-11-01T13:59:57.460695500Z",
     "start_time": "2023-11-01T13:59:56.601995200Z"
    }
   },
   "id": "58525bef3fd5d52"
  },
  {
   "cell_type": "code",
   "execution_count": 84,
   "outputs": [
    {
     "name": "stdout",
     "output_type": "stream",
     "text": [
      "Index(['id', 'fecha_nac', 'sexo', 'codigo_pais_nacimiento',\n",
      "       'codigo_dpto_nacimiento', 'codigo_carrera', 'estado_civil',\n",
      "       'fecha_titulacion_academica', 'codigo_tituloAcademico', 'monto_tutoria',\n",
      "       'costo_programa', 'dep_inicial', 'siglaNoVersion',\n",
      "       'siglaNoVersionNumero', 'nombre'],\n",
      "      dtype='object')\n"
     ]
    }
   ],
   "source": [
    "#print(dfPersonasColumnasElegidas)\n",
    "#print(dfUniversitariosColumnasElegidas[dfUniversitariosColumnasElegidas.id=='1115413'])\n",
    "#print(dfPersonasColumnasElegidas[dfPersonasColumnasElegidas.id=='1115413'])\n",
    "print(xDf.columns)"
   ],
   "metadata": {
    "collapsed": false,
    "ExecuteTime": {
     "end_time": "2023-11-01T13:59:57.555648800Z",
     "start_time": "2023-11-01T13:59:56.781511200Z"
    }
   },
   "id": "c3670576f08d1a9"
  },
  {
   "cell_type": "code",
   "execution_count": 85,
   "outputs": [
    {
     "data": {
      "text/plain": "             id fecha_titulacion_academica  codigo_tituloAcademico\n0       1115413                 2006-12-15                      22\n1       3971480                 1999-12-10                      74\n2       5496566                 2005-06-10                      77\n3       3909889                 2006-02-16                      77\n4       3643710                 2000-04-28                      22\n...         ...                        ...                     ...\n25252  13123996                 2023-12-05                      22\n25253  10324458                 2023-12-18                      27\n25254   5696801                 2010-12-10                      83\n25255   7477355                 2012-03-09                      76\n25256   4106146                 2009-04-17                      18\n\n[25257 rows x 3 columns]",
      "text/html": "<div>\n<style scoped>\n    .dataframe tbody tr th:only-of-type {\n        vertical-align: middle;\n    }\n\n    .dataframe tbody tr th {\n        vertical-align: top;\n    }\n\n    .dataframe thead th {\n        text-align: right;\n    }\n</style>\n<table border=\"1\" class=\"dataframe\">\n  <thead>\n    <tr style=\"text-align: right;\">\n      <th></th>\n      <th>id</th>\n      <th>fecha_titulacion_academica</th>\n      <th>codigo_tituloAcademico</th>\n    </tr>\n  </thead>\n  <tbody>\n    <tr>\n      <th>0</th>\n      <td>1115413</td>\n      <td>2006-12-15</td>\n      <td>22</td>\n    </tr>\n    <tr>\n      <th>1</th>\n      <td>3971480</td>\n      <td>1999-12-10</td>\n      <td>74</td>\n    </tr>\n    <tr>\n      <th>2</th>\n      <td>5496566</td>\n      <td>2005-06-10</td>\n      <td>77</td>\n    </tr>\n    <tr>\n      <th>3</th>\n      <td>3909889</td>\n      <td>2006-02-16</td>\n      <td>77</td>\n    </tr>\n    <tr>\n      <th>4</th>\n      <td>3643710</td>\n      <td>2000-04-28</td>\n      <td>22</td>\n    </tr>\n    <tr>\n      <th>...</th>\n      <td>...</td>\n      <td>...</td>\n      <td>...</td>\n    </tr>\n    <tr>\n      <th>25252</th>\n      <td>13123996</td>\n      <td>2023-12-05</td>\n      <td>22</td>\n    </tr>\n    <tr>\n      <th>25253</th>\n      <td>10324458</td>\n      <td>2023-12-18</td>\n      <td>27</td>\n    </tr>\n    <tr>\n      <th>25254</th>\n      <td>5696801</td>\n      <td>2010-12-10</td>\n      <td>83</td>\n    </tr>\n    <tr>\n      <th>25255</th>\n      <td>7477355</td>\n      <td>2012-03-09</td>\n      <td>76</td>\n    </tr>\n    <tr>\n      <th>25256</th>\n      <td>4106146</td>\n      <td>2009-04-17</td>\n      <td>18</td>\n    </tr>\n  </tbody>\n</table>\n<p>25257 rows × 3 columns</p>\n</div>"
     },
     "execution_count": 85,
     "metadata": {},
     "output_type": "execute_result"
    }
   ],
   "source": [
    "dfDatosAcademicosColumnasElegidas"
   ],
   "metadata": {
    "collapsed": false,
    "ExecuteTime": {
     "end_time": "2023-11-01T13:59:57.751814400Z",
     "start_time": "2023-11-01T13:59:56.977937300Z"
    }
   },
   "id": "11ab9112e7e574da"
  },
  {
   "cell_type": "markdown",
   "source": [
    "Feature Engineer"
   ],
   "metadata": {
    "collapsed": false
   },
   "id": "241e67b7f5a8abf9"
  },
  {
   "cell_type": "markdown",
   "source": [
    "Sacaremos los diferentes tipos de titulo que dan, como:\n",
    "Maestria, Diplomado, Doctorado, Especialidad"
   ],
   "metadata": {
    "collapsed": false
   },
   "id": "a446dd94894d563b"
  },
  {
   "cell_type": "code",
   "execution_count": 86,
   "outputs": [
    {
     "data": {
      "text/plain": "     codigo                                             nombre  \\\n0        99            Aeropuertos en el Sistema de Transporte   \n1       100  Diplomado en Metodologías de Investigación Cua...   \n2       101                         Especialidad en Ortodoncia   \n3       102                 Maestría en Educación Superior V.3   \n4       103                Diplomado en Educación Superior V.7   \n..      ...                                                ...   \n941    1075  Diplomado en Bim Modelado y Gestión de Proyect...   \n942    1076  Diplomado en Diseño Mecánico Industrial CAD-CA...   \n943    1077  Diplomado en Diseño Mecánico Industrial CAD-CA...   \n944    1079  Diplomado en Obras Viales en Suelos Tropicales...   \n945    1080  Maestría en Derecho de Género, Violencia y Adm...   \n\n                                          nombre_corto      sigla  \\\n0              Aeropuertos en el Sistema de Transporte        ASA   \n1                     Dip. en Met. de Inv. Cualitativa        DME   \n2                                   Esp. en Ortodoncia        EEO   \n3                           Maestría en Educ. Sup. V.3        MES   \n4                          Diplomado en Educ. Sup. V.7        DES   \n..                                                 ...        ...   \n941  Dipl. en Bim Modelado y Gestión de Proyectos C...   DBMGPCV1   \n942  Dipl. en Diseño Mecánico Industrial CAD-CAE-CN...     DDMIV2   \n943  Dipl. en Diseño Mecánico Industrial CAD-CAE-CN...  DDMIV2-MG   \n944  Dipl. en Obras Viales en Suelos Tropicales, V....    DOVSTV1   \n945  Regularización - Maestría en Derecho de Género...      RMDGJ   \n\n                                                titulo  numero_planes_estudio  \\\n0                                            Asistente                    1.0   \n1    Diplomado en Metodologías de Investigación Cua...                    1.0   \n2                           Especialista en Ortodoncia                    1.0   \n3                       Magister en Educación Superior                    1.0   \n4                        Diploma en Educación Superior                    1.0   \n..                                                 ...                    ...   \n941  Diplomado en Bim Modelado y Gestión de Proyect...                    1.0   \n942  Diplomado en Diseño Mecánico Industrial CAD-CA...                    1.0   \n943  Diplomado en Diseño Mecánico Industrial CAD-CA...                    1.0   \n944     Diplomado en Obras Viales en Suelos Tropicales                    1.0   \n945                                                NaN                    1.0   \n\n    codigo_estado tipo_grupo  monto_tutoria  costo_programa  dep_inicial  \\\n0               V          T            0.0             200        100.0   \n1               V          T          100.0             250         40.0   \n2               V          T          200.0            4700         10.0   \n3               V          T          300.0            1100         20.0   \n4               V          A          100.0             350         25.0   \n..            ...        ...            ...             ...          ...   \n941             V          T            NaN            3800         10.0   \n942             V          T            NaN            5000         10.0   \n943             V          T          450.0            4550         10.0   \n944             V          T            NaN            5000         10.0   \n945             V          T            NaN               0         10.0   \n\n    siglaNoVersion siglaNoVersionNumero  \n0              ASA                    0  \n1              DME                    0  \n2              EEO                    0  \n3              MES                    0  \n4              DES                    0  \n..             ...                  ...  \n941         DBMGPC               DBMGPC  \n942           DDMI                 DDMI  \n943      DDMIV2-MG                    0  \n944          DOVST                DOVST  \n945          RMDGJ                    0  \n\n[946 rows x 13 columns]",
      "text/html": "<div>\n<style scoped>\n    .dataframe tbody tr th:only-of-type {\n        vertical-align: middle;\n    }\n\n    .dataframe tbody tr th {\n        vertical-align: top;\n    }\n\n    .dataframe thead th {\n        text-align: right;\n    }\n</style>\n<table border=\"1\" class=\"dataframe\">\n  <thead>\n    <tr style=\"text-align: right;\">\n      <th></th>\n      <th>codigo</th>\n      <th>nombre</th>\n      <th>nombre_corto</th>\n      <th>sigla</th>\n      <th>titulo</th>\n      <th>numero_planes_estudio</th>\n      <th>codigo_estado</th>\n      <th>tipo_grupo</th>\n      <th>monto_tutoria</th>\n      <th>costo_programa</th>\n      <th>dep_inicial</th>\n      <th>siglaNoVersion</th>\n      <th>siglaNoVersionNumero</th>\n    </tr>\n  </thead>\n  <tbody>\n    <tr>\n      <th>0</th>\n      <td>99</td>\n      <td>Aeropuertos en el Sistema de Transporte</td>\n      <td>Aeropuertos en el Sistema de Transporte</td>\n      <td>ASA</td>\n      <td>Asistente</td>\n      <td>1.0</td>\n      <td>V</td>\n      <td>T</td>\n      <td>0.0</td>\n      <td>200</td>\n      <td>100.0</td>\n      <td>ASA</td>\n      <td>0</td>\n    </tr>\n    <tr>\n      <th>1</th>\n      <td>100</td>\n      <td>Diplomado en Metodologías de Investigación Cua...</td>\n      <td>Dip. en Met. de Inv. Cualitativa</td>\n      <td>DME</td>\n      <td>Diplomado en Metodologías de Investigación Cua...</td>\n      <td>1.0</td>\n      <td>V</td>\n      <td>T</td>\n      <td>100.0</td>\n      <td>250</td>\n      <td>40.0</td>\n      <td>DME</td>\n      <td>0</td>\n    </tr>\n    <tr>\n      <th>2</th>\n      <td>101</td>\n      <td>Especialidad en Ortodoncia</td>\n      <td>Esp. en Ortodoncia</td>\n      <td>EEO</td>\n      <td>Especialista en Ortodoncia</td>\n      <td>1.0</td>\n      <td>V</td>\n      <td>T</td>\n      <td>200.0</td>\n      <td>4700</td>\n      <td>10.0</td>\n      <td>EEO</td>\n      <td>0</td>\n    </tr>\n    <tr>\n      <th>3</th>\n      <td>102</td>\n      <td>Maestría en Educación Superior V.3</td>\n      <td>Maestría en Educ. Sup. V.3</td>\n      <td>MES</td>\n      <td>Magister en Educación Superior</td>\n      <td>1.0</td>\n      <td>V</td>\n      <td>T</td>\n      <td>300.0</td>\n      <td>1100</td>\n      <td>20.0</td>\n      <td>MES</td>\n      <td>0</td>\n    </tr>\n    <tr>\n      <th>4</th>\n      <td>103</td>\n      <td>Diplomado en Educación Superior V.7</td>\n      <td>Diplomado en Educ. Sup. V.7</td>\n      <td>DES</td>\n      <td>Diploma en Educación Superior</td>\n      <td>1.0</td>\n      <td>V</td>\n      <td>A</td>\n      <td>100.0</td>\n      <td>350</td>\n      <td>25.0</td>\n      <td>DES</td>\n      <td>0</td>\n    </tr>\n    <tr>\n      <th>...</th>\n      <td>...</td>\n      <td>...</td>\n      <td>...</td>\n      <td>...</td>\n      <td>...</td>\n      <td>...</td>\n      <td>...</td>\n      <td>...</td>\n      <td>...</td>\n      <td>...</td>\n      <td>...</td>\n      <td>...</td>\n      <td>...</td>\n    </tr>\n    <tr>\n      <th>941</th>\n      <td>1075</td>\n      <td>Diplomado en Bim Modelado y Gestión de Proyect...</td>\n      <td>Dipl. en Bim Modelado y Gestión de Proyectos C...</td>\n      <td>DBMGPCV1</td>\n      <td>Diplomado en Bim Modelado y Gestión de Proyect...</td>\n      <td>1.0</td>\n      <td>V</td>\n      <td>T</td>\n      <td>NaN</td>\n      <td>3800</td>\n      <td>10.0</td>\n      <td>DBMGPC</td>\n      <td>DBMGPC</td>\n    </tr>\n    <tr>\n      <th>942</th>\n      <td>1076</td>\n      <td>Diplomado en Diseño Mecánico Industrial CAD-CA...</td>\n      <td>Dipl. en Diseño Mecánico Industrial CAD-CAE-CN...</td>\n      <td>DDMIV2</td>\n      <td>Diplomado en Diseño Mecánico Industrial CAD-CA...</td>\n      <td>1.0</td>\n      <td>V</td>\n      <td>T</td>\n      <td>NaN</td>\n      <td>5000</td>\n      <td>10.0</td>\n      <td>DDMI</td>\n      <td>DDMI</td>\n    </tr>\n    <tr>\n      <th>943</th>\n      <td>1077</td>\n      <td>Diplomado en Diseño Mecánico Industrial CAD-CA...</td>\n      <td>Dipl. en Diseño Mecánico Industrial CAD-CAE-CN...</td>\n      <td>DDMIV2-MG</td>\n      <td>Diplomado en Diseño Mecánico Industrial CAD-CA...</td>\n      <td>1.0</td>\n      <td>V</td>\n      <td>T</td>\n      <td>450.0</td>\n      <td>4550</td>\n      <td>10.0</td>\n      <td>DDMIV2-MG</td>\n      <td>0</td>\n    </tr>\n    <tr>\n      <th>944</th>\n      <td>1079</td>\n      <td>Diplomado en Obras Viales en Suelos Tropicales...</td>\n      <td>Dipl. en Obras Viales en Suelos Tropicales, V....</td>\n      <td>DOVSTV1</td>\n      <td>Diplomado en Obras Viales en Suelos Tropicales</td>\n      <td>1.0</td>\n      <td>V</td>\n      <td>T</td>\n      <td>NaN</td>\n      <td>5000</td>\n      <td>10.0</td>\n      <td>DOVST</td>\n      <td>DOVST</td>\n    </tr>\n    <tr>\n      <th>945</th>\n      <td>1080</td>\n      <td>Maestría en Derecho de Género, Violencia y Adm...</td>\n      <td>Regularización - Maestría en Derecho de Género...</td>\n      <td>RMDGJ</td>\n      <td>NaN</td>\n      <td>1.0</td>\n      <td>V</td>\n      <td>T</td>\n      <td>NaN</td>\n      <td>0</td>\n      <td>10.0</td>\n      <td>RMDGJ</td>\n      <td>0</td>\n    </tr>\n  </tbody>\n</table>\n<p>946 rows × 13 columns</p>\n</div>"
     },
     "execution_count": 86,
     "metadata": {},
     "output_type": "execute_result"
    }
   ],
   "source": [
    "dfCarreras"
   ],
   "metadata": {
    "collapsed": false,
    "ExecuteTime": {
     "end_time": "2023-11-01T13:59:57.927947300Z",
     "start_time": "2023-11-01T13:59:57.368415800Z"
    }
   },
   "id": "3d00a328ec12b324"
  },
  {
   "cell_type": "code",
   "execution_count": 87,
   "outputs": [],
   "source": [
    "def verValores(p):\n",
    "    p = p.lower()\n",
    "    return p[0:2]"
   ],
   "metadata": {
    "collapsed": false,
    "ExecuteTime": {
     "end_time": "2023-11-01T13:59:58.097295100Z",
     "start_time": "2023-11-01T13:59:57.507721Z"
    }
   },
   "id": "d7583b37a0f94541"
  },
  {
   "cell_type": "code",
   "execution_count": 88,
   "outputs": [
    {
     "data": {
      "text/plain": "nombre\ndi    367\nma    287\nes    150\ncu     69\ndo     45\npr     15\nte      2\nre      2\nae      1\n m      1\n(a      1\nus      1\nac      1\nin      1\nfe      1\nen      1\n2d      1\nName: count, dtype: int64"
     },
     "execution_count": 88,
     "metadata": {},
     "output_type": "execute_result"
    }
   ],
   "source": [
    "(dfCarreras.nombre.apply(verValores).value_counts())"
   ],
   "metadata": {
    "collapsed": false,
    "ExecuteTime": {
     "end_time": "2023-11-01T13:59:58.156315300Z",
     "start_time": "2023-11-01T13:59:57.706233Z"
    }
   },
   "id": "ee6d5bf614c5f195"
  },
  {
   "cell_type": "code",
   "execution_count": 89,
   "outputs": [],
   "source": [
    "def tipo_programa(nombre):\n",
    "    nombre = nombre.lower()\n",
    "    primeraLetra = nombre[0]\n",
    "    if primeraLetra == 'd':\n",
    "        if nombre[1]=='i':\n",
    "            return \"dip\"\n",
    "        if nombre[1]=='o':\n",
    "            return \"doc\"\n",
    "    if primeraLetra =='m':\n",
    "        return \"m\"\n",
    "    if primeraLetra=='e':\n",
    "        return \"e\"\n",
    "    return \"n\"\n",
    "    "
   ],
   "metadata": {
    "collapsed": false,
    "ExecuteTime": {
     "end_time": "2023-11-01T13:59:58.355538700Z",
     "start_time": "2023-11-01T13:59:57.914583100Z"
    }
   },
   "id": "7bc77aa44a42a477"
  },
  {
   "cell_type": "code",
   "execution_count": 90,
   "outputs": [],
   "source": [
    "\n",
    "xDf.loc[:,\"iniciales_nombre\"]=xDf.nombre.apply(tipo_programa)"
   ],
   "metadata": {
    "collapsed": false,
    "ExecuteTime": {
     "end_time": "2023-11-01T13:59:58.702314700Z",
     "start_time": "2023-11-01T13:59:58.059073200Z"
    }
   },
   "id": "1dd807b6adc2861e"
  },
  {
   "cell_type": "code",
   "execution_count": 91,
   "outputs": [
    {
     "data": {
      "text/plain": "iniciales_nombre\ndip    19527\nm      10286\nn       4108\ne       2788\ndoc     1348\nName: count, dtype: int64"
     },
     "execution_count": 91,
     "metadata": {},
     "output_type": "execute_result"
    }
   ],
   "source": [
    "xDf.iniciales_nombre.value_counts()"
   ],
   "metadata": {
    "collapsed": false,
    "ExecuteTime": {
     "end_time": "2023-11-01T13:59:58.977280800Z",
     "start_time": "2023-11-01T13:59:58.208165100Z"
    }
   },
   "id": "5044ab0adc7cb642"
  },
  {
   "cell_type": "markdown",
   "source": [
    "n = valores los cuales fueron mal ingresados y no sabemos que tipos de programas son\n",
    "Al ver que nuestra letra n tiene mucha relevancia, realizaremos una revisión de tal variable"
   ],
   "metadata": {
    "collapsed": false
   },
   "id": "80c70cf5390f6949"
  },
  {
   "cell_type": "code",
   "execution_count": 92,
   "outputs": [
    {
     "data": {
      "text/plain": "             id   fecha_nac sexo codigo_pais_nacimiento  \\\n1135    1115413  1985-05-13    M                     BO   \n1136    1108498  1974-12-19    M                     BO   \n1137    1115720  1980-09-09    M                     BO   \n1138    3651099  1975-05-02    F                     BO   \n1139    4008889  1980-09-07    M                     BO   \n...         ...         ...  ...                    ...   \n37953   7109265  1987-09-24    M                     BO   \n37954   7475229  1989-02-19    M                     BO   \n38006   6530596  2021-02-16    M                     BO   \n38007   5631710  1984-11-13    M                     BO   \n38008  12834269  1998-12-19    M                     BO   \n\n      codigo_dpto_nacimiento  codigo_carrera estado_civil  \\\n1135                      CH             136            S   \n1136                      CH             136            C   \n1137                      CH             136            S   \n1138                      CH             136            S   \n1139                      PO             136            C   \n...                      ...             ...          ...   \n37953                     LP             942            S   \n37954                     CH             942            S   \n38006                     CH             929            S   \n38007                     CH             929            S   \n38008                     PO             929            S   \n\n      fecha_titulacion_academica  codigo_tituloAcademico  monto_tutoria  \\\n1135                  2006-12-15                      22            0.0   \n1136                  1998-03-11                     234            0.0   \n1137                  2004-03-19                      50            0.0   \n1138                  2009-02-06                      50            0.0   \n1139                  2004-07-23                      50            0.0   \n...                          ...                     ...            ...   \n37953                 2010-07-22                      18            NaN   \n37954                 2018-10-30                      18            NaN   \n38006                 2014-03-27                      50            NaN   \n38007                 2023-12-05                      22            NaN   \n38008                 2022-02-11                      59            NaN   \n\n       costo_programa  dep_inicial siglaNoVersion siglaNoVersionNumero  \\\n1135              200        100.0           CPFT                    0   \n1136              200        100.0           CPFT                    0   \n1137              200        100.0           CPFT                    0   \n1138              200        100.0           CPFT                    0   \n1139              200        100.0           CPFT                    0   \n...               ...          ...            ...                  ...   \n37953               0         10.0           RMIE                    7   \n37954               0         10.0           RMIE                    7   \n38006             150         10.0           JICC                    2   \n38007             150         10.0           JICC                    2   \n38008             150         10.0           JICC                    2   \n\n                                                  nombre iniciales_nombre  \n1135   Curso Para la Formación de Tutores de Programa...                n  \n1136   Curso Para la Formación de Tutores de Programa...                n  \n1137   Curso Para la Formación de Tutores de Programa...                n  \n1138   Curso Para la Formación de Tutores de Programa...                n  \n1139   Curso Para la Formación de Tutores de Programa...                n  \n...                                                  ...              ...  \n37953  Programa de Regularización de la Maestría en I...                n  \n37954  Programa de Regularización de la Maestría en I...                n  \n38006  Curso de Formación Continua: Segunda Jornada I...                n  \n38007  Curso de Formación Continua: Segunda Jornada I...                n  \n38008  Curso de Formación Continua: Segunda Jornada I...                n  \n\n[4108 rows x 16 columns]",
      "text/html": "<div>\n<style scoped>\n    .dataframe tbody tr th:only-of-type {\n        vertical-align: middle;\n    }\n\n    .dataframe tbody tr th {\n        vertical-align: top;\n    }\n\n    .dataframe thead th {\n        text-align: right;\n    }\n</style>\n<table border=\"1\" class=\"dataframe\">\n  <thead>\n    <tr style=\"text-align: right;\">\n      <th></th>\n      <th>id</th>\n      <th>fecha_nac</th>\n      <th>sexo</th>\n      <th>codigo_pais_nacimiento</th>\n      <th>codigo_dpto_nacimiento</th>\n      <th>codigo_carrera</th>\n      <th>estado_civil</th>\n      <th>fecha_titulacion_academica</th>\n      <th>codigo_tituloAcademico</th>\n      <th>monto_tutoria</th>\n      <th>costo_programa</th>\n      <th>dep_inicial</th>\n      <th>siglaNoVersion</th>\n      <th>siglaNoVersionNumero</th>\n      <th>nombre</th>\n      <th>iniciales_nombre</th>\n    </tr>\n  </thead>\n  <tbody>\n    <tr>\n      <th>1135</th>\n      <td>1115413</td>\n      <td>1985-05-13</td>\n      <td>M</td>\n      <td>BO</td>\n      <td>CH</td>\n      <td>136</td>\n      <td>S</td>\n      <td>2006-12-15</td>\n      <td>22</td>\n      <td>0.0</td>\n      <td>200</td>\n      <td>100.0</td>\n      <td>CPFT</td>\n      <td>0</td>\n      <td>Curso Para la Formación de Tutores de Programa...</td>\n      <td>n</td>\n    </tr>\n    <tr>\n      <th>1136</th>\n      <td>1108498</td>\n      <td>1974-12-19</td>\n      <td>M</td>\n      <td>BO</td>\n      <td>CH</td>\n      <td>136</td>\n      <td>C</td>\n      <td>1998-03-11</td>\n      <td>234</td>\n      <td>0.0</td>\n      <td>200</td>\n      <td>100.0</td>\n      <td>CPFT</td>\n      <td>0</td>\n      <td>Curso Para la Formación de Tutores de Programa...</td>\n      <td>n</td>\n    </tr>\n    <tr>\n      <th>1137</th>\n      <td>1115720</td>\n      <td>1980-09-09</td>\n      <td>M</td>\n      <td>BO</td>\n      <td>CH</td>\n      <td>136</td>\n      <td>S</td>\n      <td>2004-03-19</td>\n      <td>50</td>\n      <td>0.0</td>\n      <td>200</td>\n      <td>100.0</td>\n      <td>CPFT</td>\n      <td>0</td>\n      <td>Curso Para la Formación de Tutores de Programa...</td>\n      <td>n</td>\n    </tr>\n    <tr>\n      <th>1138</th>\n      <td>3651099</td>\n      <td>1975-05-02</td>\n      <td>F</td>\n      <td>BO</td>\n      <td>CH</td>\n      <td>136</td>\n      <td>S</td>\n      <td>2009-02-06</td>\n      <td>50</td>\n      <td>0.0</td>\n      <td>200</td>\n      <td>100.0</td>\n      <td>CPFT</td>\n      <td>0</td>\n      <td>Curso Para la Formación de Tutores de Programa...</td>\n      <td>n</td>\n    </tr>\n    <tr>\n      <th>1139</th>\n      <td>4008889</td>\n      <td>1980-09-07</td>\n      <td>M</td>\n      <td>BO</td>\n      <td>PO</td>\n      <td>136</td>\n      <td>C</td>\n      <td>2004-07-23</td>\n      <td>50</td>\n      <td>0.0</td>\n      <td>200</td>\n      <td>100.0</td>\n      <td>CPFT</td>\n      <td>0</td>\n      <td>Curso Para la Formación de Tutores de Programa...</td>\n      <td>n</td>\n    </tr>\n    <tr>\n      <th>...</th>\n      <td>...</td>\n      <td>...</td>\n      <td>...</td>\n      <td>...</td>\n      <td>...</td>\n      <td>...</td>\n      <td>...</td>\n      <td>...</td>\n      <td>...</td>\n      <td>...</td>\n      <td>...</td>\n      <td>...</td>\n      <td>...</td>\n      <td>...</td>\n      <td>...</td>\n      <td>...</td>\n    </tr>\n    <tr>\n      <th>37953</th>\n      <td>7109265</td>\n      <td>1987-09-24</td>\n      <td>M</td>\n      <td>BO</td>\n      <td>LP</td>\n      <td>942</td>\n      <td>S</td>\n      <td>2010-07-22</td>\n      <td>18</td>\n      <td>NaN</td>\n      <td>0</td>\n      <td>10.0</td>\n      <td>RMIE</td>\n      <td>7</td>\n      <td>Programa de Regularización de la Maestría en I...</td>\n      <td>n</td>\n    </tr>\n    <tr>\n      <th>37954</th>\n      <td>7475229</td>\n      <td>1989-02-19</td>\n      <td>M</td>\n      <td>BO</td>\n      <td>CH</td>\n      <td>942</td>\n      <td>S</td>\n      <td>2018-10-30</td>\n      <td>18</td>\n      <td>NaN</td>\n      <td>0</td>\n      <td>10.0</td>\n      <td>RMIE</td>\n      <td>7</td>\n      <td>Programa de Regularización de la Maestría en I...</td>\n      <td>n</td>\n    </tr>\n    <tr>\n      <th>38006</th>\n      <td>6530596</td>\n      <td>2021-02-16</td>\n      <td>M</td>\n      <td>BO</td>\n      <td>CH</td>\n      <td>929</td>\n      <td>S</td>\n      <td>2014-03-27</td>\n      <td>50</td>\n      <td>NaN</td>\n      <td>150</td>\n      <td>10.0</td>\n      <td>JICC</td>\n      <td>2</td>\n      <td>Curso de Formación Continua: Segunda Jornada I...</td>\n      <td>n</td>\n    </tr>\n    <tr>\n      <th>38007</th>\n      <td>5631710</td>\n      <td>1984-11-13</td>\n      <td>M</td>\n      <td>BO</td>\n      <td>CH</td>\n      <td>929</td>\n      <td>S</td>\n      <td>2023-12-05</td>\n      <td>22</td>\n      <td>NaN</td>\n      <td>150</td>\n      <td>10.0</td>\n      <td>JICC</td>\n      <td>2</td>\n      <td>Curso de Formación Continua: Segunda Jornada I...</td>\n      <td>n</td>\n    </tr>\n    <tr>\n      <th>38008</th>\n      <td>12834269</td>\n      <td>1998-12-19</td>\n      <td>M</td>\n      <td>BO</td>\n      <td>PO</td>\n      <td>929</td>\n      <td>S</td>\n      <td>2022-02-11</td>\n      <td>59</td>\n      <td>NaN</td>\n      <td>150</td>\n      <td>10.0</td>\n      <td>JICC</td>\n      <td>2</td>\n      <td>Curso de Formación Continua: Segunda Jornada I...</td>\n      <td>n</td>\n    </tr>\n  </tbody>\n</table>\n<p>4108 rows × 16 columns</p>\n</div>"
     },
     "execution_count": 92,
     "metadata": {},
     "output_type": "execute_result"
    }
   ],
   "source": [
    "xDf[xDf.iniciales_nombre=='n']"
   ],
   "metadata": {
    "collapsed": false,
    "ExecuteTime": {
     "end_time": "2023-11-01T13:59:59.286015100Z",
     "start_time": "2023-11-01T13:59:58.584730Z"
    }
   },
   "id": "d019764edab364a0"
  },
  {
   "cell_type": "markdown",
   "source": [
    "al ver algunos patrones, entendemos que hay una área más que es la de \"formacion continua\" y agregaremos a nuestra busqueda dicho valor"
   ],
   "metadata": {
    "collapsed": false
   },
   "id": "74e7e82e0cec134d"
  },
  {
   "cell_type": "code",
   "execution_count": 93,
   "outputs": [],
   "source": [
    "doctorado = [\"doctorado\",\"(doctorado)\"]\n",
    "diplomado = [\"diplomado\",\"diplomado:\"]\n",
    "especialidad = [\"especialidad\",\"especialidad:\",\"especialización\",\"espacializacion\"]\n",
    "maestria = [\"maestria\",\"maestría\",\"maestria:\",\"maestría:\",\"maestríaen\",\"maestriaen\"]\n",
    "\n",
    "def tipo_programa(nombre):\n",
    "    nombre = nombre.lower()\n",
    "    primeraLetra = nombre[0]\n",
    "    if primeraLetra == 'c':\n",
    "        vector_n = nombre.split()\n",
    "        if (vector_n[3][0:8]=='continua') or (vector_n[3][0:8]=='contínua'):\n",
    "            return 'fc'\n",
    "        if (vector_n[4][0:8]=='continua') or (vector_n[4][0:8]=='contínua'):\n",
    "            return 'fc'\n",
    "    vector_n = nombre.split()\n",
    "    for i in vector_n:\n",
    "        if i in diplomado:\n",
    "            return \"dip\"\n",
    "        if i in doctorado:\n",
    "            return \"doc\"\n",
    "        \n",
    "        if i in maestria:\n",
    "            return \"m\"\n",
    "        if i in especialidad:\n",
    "            return \"e\"\n",
    "    return \"n\"\n"
   ],
   "metadata": {
    "collapsed": false,
    "ExecuteTime": {
     "end_time": "2023-11-01T13:59:59.478539800Z",
     "start_time": "2023-11-01T13:59:58.845803200Z"
    }
   },
   "id": "ce55e6bd52a50236"
  },
  {
   "cell_type": "code",
   "execution_count": 94,
   "outputs": [],
   "source": [
    "xDf.loc[:,\"iniciales_nombre_2\"]=xDf.nombre.apply(tipo_programa)"
   ],
   "metadata": {
    "collapsed": false,
    "ExecuteTime": {
     "end_time": "2023-11-01T13:59:59.575282Z",
     "start_time": "2023-11-01T13:59:59.062066Z"
    }
   },
   "id": "855db22fb776355"
  },
  {
   "cell_type": "code",
   "execution_count": 95,
   "outputs": [
    {
     "data": {
      "text/plain": "iniciales_nombre_2\ndip    19635\nm      10564\ne       2795\nfc      2295\ndoc     1507\nn       1261\nName: count, dtype: int64"
     },
     "execution_count": 95,
     "metadata": {},
     "output_type": "execute_result"
    }
   ],
   "source": [
    "xDf.iniciales_nombre_2.value_counts()"
   ],
   "metadata": {
    "collapsed": false,
    "ExecuteTime": {
     "end_time": "2023-11-01T13:59:59.620828Z",
     "start_time": "2023-11-01T13:59:59.215282400Z"
    }
   },
   "id": "67e823b9b26a37e8"
  },
  {
   "cell_type": "markdown",
   "source": [
    "##    Eliminar nulos"
   ],
   "metadata": {
    "collapsed": false
   },
   "id": "3e54aa1ba559b3ef"
  },
  {
   "cell_type": "code",
   "execution_count": 96,
   "outputs": [
    {
     "data": {
      "text/plain": "id                                0\nfecha_nac                        11\nsexo                              0\ncodigo_pais_nacimiento            0\ncodigo_dpto_nacimiento          112\ncodigo_carrera                    0\nestado_civil                      0\nfecha_titulacion_academica       25\ncodigo_tituloAcademico            0\nmonto_tutoria                 12144\ncosto_programa                    0\ndep_inicial                      65\nsiglaNoVersion                    0\nsiglaNoVersionNumero              0\nnombre                            0\niniciales_nombre                  0\niniciales_nombre_2                0\ndtype: int64"
     },
     "execution_count": 96,
     "metadata": {},
     "output_type": "execute_result"
    }
   ],
   "source": [
    "xDf.isnull().sum()"
   ],
   "metadata": {
    "collapsed": false,
    "ExecuteTime": {
     "end_time": "2023-11-01T13:59:59.795927100Z",
     "start_time": "2023-11-01T13:59:59.565763100Z"
    }
   },
   "id": "a68a2f6a1c2de339"
  },
  {
   "cell_type": "code",
   "execution_count": 97,
   "outputs": [
    {
     "data": {
      "text/plain": "38057"
     },
     "execution_count": 97,
     "metadata": {},
     "output_type": "execute_result"
    }
   ],
   "source": [
    "len(xDf)"
   ],
   "metadata": {
    "collapsed": false,
    "ExecuteTime": {
     "end_time": "2023-11-01T14:00:00.361816100Z",
     "start_time": "2023-11-01T13:59:59.950490800Z"
    }
   },
   "id": "c729890e415b3556"
  },
  {
   "cell_type": "code",
   "execution_count": 98,
   "outputs": [],
   "source": [
    "columnas = ['codigo_dpto_nacimiento','estado_civil','fecha_nac', 'fecha_titulacion_academica']\n",
    "xDf = xDf.dropna(subset=columnas)"
   ],
   "metadata": {
    "collapsed": false,
    "ExecuteTime": {
     "end_time": "2023-11-01T14:00:00.807003100Z",
     "start_time": "2023-11-01T14:00:00.333217800Z"
    }
   },
   "id": "ce8de561c989666a"
  },
  {
   "cell_type": "code",
   "execution_count": 99,
   "outputs": [
    {
     "data": {
      "text/plain": "id                                0\nfecha_nac                         0\nsexo                              0\ncodigo_pais_nacimiento            0\ncodigo_dpto_nacimiento            0\ncodigo_carrera                    0\nestado_civil                      0\nfecha_titulacion_academica        0\ncodigo_tituloAcademico            0\nmonto_tutoria                 12106\ncosto_programa                    0\ndep_inicial                      65\nsiglaNoVersion                    0\nsiglaNoVersionNumero              0\nnombre                            0\niniciales_nombre                  0\niniciales_nombre_2                0\ndtype: int64"
     },
     "execution_count": 99,
     "metadata": {},
     "output_type": "execute_result"
    }
   ],
   "source": [
    "xDf.isnull().sum()"
   ],
   "metadata": {
    "collapsed": false,
    "ExecuteTime": {
     "end_time": "2023-11-01T14:00:00.850025100Z",
     "start_time": "2023-11-01T14:00:00.392059Z"
    }
   },
   "id": "3a1804df997d0863"
  },
  {
   "cell_type": "code",
   "execution_count": 100,
   "outputs": [
    {
     "data": {
      "text/plain": "<bound method Series.unique of 0        300.0\n1        300.0\n2        300.0\n3        300.0\n4        300.0\n         ...  \n38052      NaN\n38053      NaN\n38054      NaN\n38055      NaN\n38056      NaN\nName: monto_tutoria, Length: 37922, dtype: float64>"
     },
     "execution_count": 100,
     "metadata": {},
     "output_type": "execute_result"
    }
   ],
   "source": [
    "xDf.monto_tutoria.unique"
   ],
   "metadata": {
    "collapsed": false,
    "ExecuteTime": {
     "end_time": "2023-11-01T14:00:01.114594900Z",
     "start_time": "2023-11-01T14:00:00.583960200Z"
    }
   },
   "id": "4f244e697e029046"
  },
  {
   "cell_type": "code",
   "execution_count": 101,
   "outputs": [
    {
     "name": "stdout",
     "output_type": "stream",
     "text": [
      "37922\n",
      "37922\n"
     ]
    }
   ],
   "source": [
    "xDf.loc[:,'monto_tutoria_no_null']= xDf.dropna(subset=[\"monto_tutoria\"]).monto_tutoria\n",
    "print(len(xDf[['monto_tutoria_no_null']]))\n",
    "print(len(xDf[['monto_tutoria']]))"
   ],
   "metadata": {
    "collapsed": false,
    "ExecuteTime": {
     "end_time": "2023-11-01T14:00:01.418281100Z",
     "start_time": "2023-11-01T14:00:00.685833400Z"
    }
   },
   "id": "25ca91fa8fda4eb9"
  },
  {
   "cell_type": "code",
   "execution_count": 102,
   "outputs": [],
   "source": [
    "monto_no_null = xDf.dropna(subset=[\"monto_tutoria\"])\n"
   ],
   "metadata": {
    "collapsed": false,
    "ExecuteTime": {
     "end_time": "2023-11-01T14:00:01.651662300Z",
     "start_time": "2023-11-01T14:00:00.827356500Z"
    }
   },
   "id": "9cac1080125db40d"
  },
  {
   "cell_type": "code",
   "execution_count": 103,
   "outputs": [
    {
     "data": {
      "text/plain": "<Figure size 800x600 with 1 Axes>",
      "image/png": "[encoded data removed]"
     },
     "metadata": {},
     "output_type": "display_data"
    }
   ],
   "source": [
    "import matplotlib.pyplot as plt\n",
    "plt.figure(figsize=(8, 6))\n",
    "plt.boxplot(monto_no_null['monto_tutoria'])\n",
    "plt.title('Caja de Bigotes')\n",
    "plt.ylabel('Variable de Interés')\n",
    "plt.show()"
   ],
   "metadata": {
    "collapsed": false,
    "ExecuteTime": {
     "end_time": "2023-11-01T14:00:01.970286700Z",
     "start_time": "2023-11-01T14:00:01.004652900Z"
    }
   },
   "id": "835efbf4446aa4f6"
  },
  {
   "cell_type": "code",
   "execution_count": 104,
   "outputs": [
    {
     "data": {
      "text/plain": "<Figure size 800x600 with 1 Axes>",
      "image/png": "[encoded data removed]"
     },
     "metadata": {},
     "output_type": "display_data"
    }
   ],
   "source": [
    "import seaborn as sns\n",
    "plt.figure(figsize=(8, 6))\n",
    "sns.histplot(monto_no_null['monto_tutoria'], bins=30, color='blue', kde=True)\n",
    "plt.title('Distribución de Datos')\n",
    "plt.xlabel('Valor')\n",
    "plt.ylabel('Frecuencia')\n",
    "plt.show()"
   ],
   "metadata": {
    "collapsed": false,
    "ExecuteTime": {
     "end_time": "2023-11-01T14:00:02.400958400Z",
     "start_time": "2023-11-01T14:00:01.171389900Z"
    }
   },
   "id": "ddc0898da9f9b4d"
  },
  {
   "cell_type": "code",
   "execution_count": 105,
   "outputs": [
    {
     "data": {
      "text/plain": "0    2250.0\nName: monto_tutoria, dtype: float64"
     },
     "execution_count": 105,
     "metadata": {},
     "output_type": "execute_result"
    }
   ],
   "source": [
    "moda = monto_no_null['monto_tutoria'].mode()\n",
    "moda"
   ],
   "metadata": {
    "collapsed": false,
    "ExecuteTime": {
     "end_time": "2023-11-01T14:00:02.466391600Z",
     "start_time": "2023-11-01T14:00:01.697031Z"
    }
   },
   "id": "77e8cbddba291a29"
  },
  {
   "cell_type": "code",
   "execution_count": 106,
   "outputs": [
    {
     "data": {
      "text/plain": "760.0"
     },
     "execution_count": 106,
     "metadata": {},
     "output_type": "execute_result"
    }
   ],
   "source": [
    "\n",
    "\n",
    "sin_moda = monto_no_null[monto_no_null['monto_tutoria'] != moda[0]]\n",
    "segunda_moda = sin_moda['monto_tutoria'].mode()\n",
    "segunda_moda[0]"
   ],
   "metadata": {
    "collapsed": false,
    "ExecuteTime": {
     "end_time": "2023-11-01T14:00:02.466391600Z",
     "start_time": "2023-11-01T14:00:01.704441900Z"
    }
   },
   "id": "840de672fab7830f"
  },
  {
   "cell_type": "code",
   "execution_count": 107,
   "outputs": [
    {
     "data": {
      "text/plain": "0    0.0\nName: monto_tutoria, dtype: float64"
     },
     "execution_count": 107,
     "metadata": {},
     "output_type": "execute_result"
    }
   ],
   "source": [
    "sin_moda2 = sin_moda[sin_moda['monto_tutoria'] != segunda_moda[0]]\n",
    "tercera_moda = sin_moda2['monto_tutoria'].mode()\n",
    "tercera_moda"
   ],
   "metadata": {
    "collapsed": false,
    "ExecuteTime": {
     "end_time": "2023-11-01T14:00:02.518097800Z",
     "start_time": "2023-11-01T14:00:01.783244200Z"
    }
   },
   "id": "cad86f235184d5b9"
  },
  {
   "cell_type": "code",
   "execution_count": 108,
   "outputs": [
    {
     "data": {
      "text/plain": "0    2475.0\nName: monto_tutoria, dtype: float64"
     },
     "execution_count": 108,
     "metadata": {},
     "output_type": "execute_result"
    }
   ],
   "source": [
    "sin_moda3 = sin_moda2[sin_moda2['monto_tutoria'] != tercera_moda[0]]\n",
    "cuarta_moda = sin_moda3['monto_tutoria'].mode()\n",
    "cuarta_moda"
   ],
   "metadata": {
    "collapsed": false,
    "ExecuteTime": {
     "end_time": "2023-11-01T14:00:02.618049800Z",
     "start_time": "2023-11-01T14:00:01.880393600Z"
    }
   },
   "id": "1c4a888b7530dc60"
  },
  {
   "cell_type": "code",
   "execution_count": 109,
   "outputs": [],
   "source": [
    "import random\n",
    "modaV = [moda[0], segunda_moda[0],tercera_moda[0],cuarta_moda[0]]\n",
    "for index, row in xDf[xDf['monto_tutoria'].isnull()].iterrows():\n",
    "    moda = random.choice(modaV)\n",
    "    xDf.at[index, 'monto_tutoria'] = moda\n",
    "    "
   ],
   "metadata": {
    "collapsed": false,
    "ExecuteTime": {
     "end_time": "2023-11-01T14:00:02.998977800Z",
     "start_time": "2023-11-01T14:00:02.084173200Z"
    }
   },
   "id": "811be60511e4fcef"
  },
  {
   "cell_type": "code",
   "execution_count": 110,
   "outputs": [
    {
     "data": {
      "text/plain": "id                                0\nfecha_nac                         0\nsexo                              0\ncodigo_pais_nacimiento            0\ncodigo_dpto_nacimiento            0\ncodigo_carrera                    0\nestado_civil                      0\nfecha_titulacion_academica        0\ncodigo_tituloAcademico            0\nmonto_tutoria                     0\ncosto_programa                    0\ndep_inicial                      65\nsiglaNoVersion                    0\nsiglaNoVersionNumero              0\nnombre                            0\niniciales_nombre                  0\niniciales_nombre_2                0\nmonto_tutoria_no_null         12106\ndtype: int64"
     },
     "execution_count": 110,
     "metadata": {},
     "output_type": "execute_result"
    }
   ],
   "source": [
    "xDf.isnull().sum()"
   ],
   "metadata": {
    "collapsed": false,
    "ExecuteTime": {
     "end_time": "2023-11-01T14:00:03.036087Z",
     "start_time": "2023-11-01T14:00:02.852336700Z"
    }
   },
   "id": "cb0de674e0f439f3"
  },
  {
   "cell_type": "code",
   "execution_count": 111,
   "outputs": [
    {
     "data": {
      "text/plain": "<Figure size 800x600 with 1 Axes>",
      "image/png": "[encoded data removed]"
     },
     "metadata": {},
     "output_type": "display_data"
    }
   ],
   "source": [
    "plt.figure(figsize=(8, 6))\n",
    "sns.histplot(xDf['monto_tutoria'], bins=30, color='blue', kde=True)\n",
    "plt.title('Distribución de Datos')\n",
    "plt.xlabel('Valor')\n",
    "plt.ylabel('Frecuencia')\n",
    "plt.show()"
   ],
   "metadata": {
    "collapsed": false,
    "ExecuteTime": {
     "end_time": "2023-11-01T14:00:03.495692800Z",
     "start_time": "2023-11-01T14:00:02.870903600Z"
    }
   },
   "id": "ae794fb2de8818c5"
  },
  {
   "cell_type": "code",
   "execution_count": 112,
   "outputs": [
    {
     "data": {
      "text/plain": "<Figure size 800x600 with 1 Axes>",
      "image/png": "[encoded data removed]"
     },
     "metadata": {},
     "output_type": "display_data"
    }
   ],
   "source": [
    "plt.figure(figsize=(8, 6))\n",
    "plt.boxplot(xDf['monto_tutoria'])\n",
    "plt.title('Caja de Bigotes')\n",
    "plt.ylabel('Variable de Interés')\n",
    "plt.show()"
   ],
   "metadata": {
    "collapsed": false,
    "ExecuteTime": {
     "end_time": "2023-11-01T14:00:03.609003100Z",
     "start_time": "2023-11-01T14:00:03.493695900Z"
    }
   },
   "id": "5b2387288b80b52d"
  },
  {
   "cell_type": "markdown",
   "source": [
    "# Eliminar mis valores Atipicos en la columna monto tutoria"
   ],
   "metadata": {
    "collapsed": false
   },
   "id": "7863127dd4d5be65"
  },
  {
   "cell_type": "code",
   "execution_count": 113,
   "outputs": [
    {
     "name": "stdout",
     "output_type": "stream",
     "text": [
      "37810\n",
      "37922\n"
     ]
    }
   ],
   "source": [
    "Q1 = xDf['monto_tutoria'].quantile(0.25)\n",
    "Q3 = xDf['monto_tutoria'].quantile(0.75)\n",
    "IQR = Q3 - Q1\n",
    "limite_inferior = Q1 - 1.5 * IQR\n",
    "limite_superior = Q3 + 1.5 * IQR\n",
    "df_filtrado = xDf[(xDf['monto_tutoria'] >= limite_inferior) & (xDf['monto_tutoria'] <= limite_superior)]\n",
    "print(len(df_filtrado))\n",
    "print(len(xDf))"
   ],
   "metadata": {
    "collapsed": false,
    "ExecuteTime": {
     "end_time": "2023-11-01T14:00:06.437878Z",
     "start_time": "2023-11-01T14:00:06.391588Z"
    }
   },
   "id": "338073299752236e"
  },
  {
   "cell_type": "code",
   "execution_count": 114,
   "outputs": [
    {
     "data": {
      "text/plain": "Index(['id', 'fecha_nac', 'sexo', 'codigo_pais_nacimiento',\n       'codigo_dpto_nacimiento', 'codigo_carrera', 'estado_civil',\n       'fecha_titulacion_academica', 'codigo_tituloAcademico', 'monto_tutoria',\n       'costo_programa', 'dep_inicial', 'siglaNoVersion',\n       'siglaNoVersionNumero', 'nombre', 'iniciales_nombre',\n       'iniciales_nombre_2', 'monto_tutoria_no_null'],\n      dtype='object')"
     },
     "execution_count": 114,
     "metadata": {},
     "output_type": "execute_result"
    }
   ],
   "source": [
    "df_filtrado.columns"
   ],
   "metadata": {
    "collapsed": false,
    "ExecuteTime": {
     "end_time": "2023-11-01T14:00:06.933572300Z",
     "start_time": "2023-11-01T14:00:06.878152400Z"
    }
   },
   "id": "d10841b24297a662"
  },
  {
   "cell_type": "markdown",
   "source": [
    "# Costo de programa"
   ],
   "metadata": {
    "collapsed": false
   },
   "id": "9963b470dd1410fe"
  },
  {
   "cell_type": "code",
   "execution_count": 115,
   "outputs": [
    {
     "data": {
      "text/plain": "<Figure size 800x600 with 1 Axes>",
      "image/png": "[encoded data removed]"
     },
     "metadata": {},
     "output_type": "display_data"
    }
   ],
   "source": [
    "plt.figure(figsize=(8, 6))\n",
    "plt.boxplot(df_filtrado['costo_programa'])\n",
    "plt.title('Caja de Bigotes')\n",
    "plt.ylabel('Variable de Interés')\n",
    "plt.show()"
   ],
   "metadata": {
    "collapsed": false,
    "ExecuteTime": {
     "end_time": "2023-11-01T14:00:07.877476400Z",
     "start_time": "2023-11-01T14:00:07.768516700Z"
    }
   },
   "id": "d8d592f412dad579"
  },
  {
   "cell_type": "code",
   "execution_count": 124,
   "outputs": [
    {
     "name": "stdout",
     "output_type": "stream",
     "text": [
      "35507\n",
      "37810\n"
     ]
    }
   ],
   "source": [
    "Q1 = df_filtrado['costo_programa'].quantile(0.25)\n",
    "Q3 = df_filtrado['costo_programa'].quantile(0.75)\n",
    "IQR = Q3 - Q1\n",
    "limite_inferior = Q1 - 1.5 * IQR\n",
    "limite_superior = Q3 + 1.5 * IQR\n",
    "df_filtrado2 = df_filtrado[(df_filtrado['costo_programa'] >= limite_inferior) & (df_filtrado['costo_programa'] <= limite_superior)]\n",
    "print(len(df_filtrado2))\n",
    "print(len(df_filtrado))"
   ],
   "metadata": {
    "collapsed": false,
    "ExecuteTime": {
     "end_time": "2023-11-01T14:04:19.025088900Z",
     "start_time": "2023-11-01T14:04:18.989200400Z"
    }
   },
   "id": "fa11408d87b20fe8"
  },
  {
   "cell_type": "code",
   "execution_count": 124,
   "outputs": [],
   "source": [],
   "metadata": {
    "collapsed": false,
    "ExecuteTime": {
     "end_time": "2023-11-01T14:04:19.879583100Z",
     "start_time": "2023-11-01T14:04:19.828500800Z"
    }
   },
   "id": "b0ae82d536dfbb2f"
  },
  {
   "cell_type": "markdown",
   "source": [
    "# Agregar variable edad y tiempo de titulado"
   ],
   "metadata": {
    "collapsed": false
   },
   "id": "b6ea7a1d63ad744c"
  },
  {
   "cell_type": "code",
   "execution_count": 125,
   "outputs": [],
   "source": [
    "from datetime import datetime\n",
    "fecha_actual = datetime.now()"
   ],
   "metadata": {
    "collapsed": false,
    "ExecuteTime": {
     "end_time": "2023-11-01T14:04:21.202875400Z",
     "start_time": "2023-11-01T14:04:21.166907600Z"
    }
   },
   "id": "4e1fe4631aee8692"
  },
  {
   "cell_type": "code",
   "execution_count": 126,
   "outputs": [],
   "source": [
    "\n",
    "def diferenciaFechaPasadaConActual(fecha_pasada):\n",
    "    fecha_nacimiento = fecha_pasada\n",
    "    diferencia = fecha_actual - datetime.strptime(fecha_nacimiento, \"%Y-%m-%d\")\n",
    "    edad = int(diferencia.days / 365.25)\n",
    "    return edad"
   ],
   "metadata": {
    "collapsed": false,
    "ExecuteTime": {
     "end_time": "2023-11-01T14:04:23.049621800Z",
     "start_time": "2023-11-01T14:04:23.017464300Z"
    }
   },
   "id": "7f89e0f2fced019e"
  },
  {
   "cell_type": "code",
   "execution_count": 127,
   "outputs": [
    {
     "name": "stderr",
     "output_type": "stream",
     "text": [
      "C:\\Users\\Usuario\\AppData\\Local\\Temp\\ipykernel_15668\\4252368431.py:1: SettingWithCopyWarning: \n",
      "A value is trying to be set on a copy of a slice from a DataFrame.\n",
      "Try using .loc[row_indexer,col_indexer] = value instead\n",
      "\n",
      "See the caveats in the documentation: https://pandas.pydata.org/pandas-docs/stable/user_guide/indexing.html#returning-a-view-versus-a-copy\n",
      "  df_filtrado2.loc[:,'edad'] = df_filtrado2.fecha_nac.apply(diferenciaFechaPasadaConActual)\n"
     ]
    }
   ],
   "source": [
    "df_filtrado2.loc[:,'edad'] = df_filtrado2.fecha_nac.apply(diferenciaFechaPasadaConActual)\n"
   ],
   "metadata": {
    "collapsed": false,
    "ExecuteTime": {
     "end_time": "2023-11-01T14:04:23.781945600Z",
     "start_time": "2023-11-01T14:04:23.514548200Z"
    }
   },
   "id": "70d716d74bfaa040"
  },
  {
   "cell_type": "code",
   "execution_count": 138,
   "outputs": [
    {
     "name": "stdout",
     "output_type": "stream",
     "text": [
      "estado_civil\n",
      "S    24997\n",
      "C     9500\n",
      "D      719\n",
      "O      192\n",
      "V       94\n",
      "s        5\n",
      "Name: count, dtype: int64\n",
      "estado_civil\n",
      "S    24997\n",
      "C     9500\n",
      "O     1010\n",
      "Name: count, dtype: int64\n"
     ]
    }
   ],
   "source": [
    "print(df_filtrado2.estado_civil.value_counts())\n",
    "def otro(e):\n",
    "    estado_civil = ['S','C']\n",
    "    if e in estado_civil:\n",
    "        return e\n",
    "    return 'O'\n",
    "df_filtrado2.loc[:,'estado_civil'] = df_filtrado2.estado_civil.apply(otro)\n",
    "print(df_filtrado2.estado_civil.value_counts())"
   ],
   "metadata": {
    "collapsed": false,
    "ExecuteTime": {
     "end_time": "2023-11-01T14:06:44.629383300Z",
     "start_time": "2023-11-01T14:06:44.573718Z"
    }
   },
   "id": "4733067a48883afa"
  },
  {
   "cell_type": "code",
   "execution_count": 140,
   "outputs": [
    {
     "data": {
      "text/plain": "estado_civil\nS    24997\nC     9500\nO     1010\nName: count, dtype: int64"
     },
     "execution_count": 140,
     "metadata": {},
     "output_type": "execute_result"
    }
   ],
   "source": [
    "df_filtrado2.estado_civil.value_counts()"
   ],
   "metadata": {
    "collapsed": false,
    "ExecuteTime": {
     "end_time": "2023-11-01T14:06:46.108463800Z",
     "start_time": "2023-11-01T14:06:46.041801200Z"
    }
   },
   "id": "ace8bc2879ebc93"
  },
  {
   "cell_type": "code",
   "execution_count": 141,
   "outputs": [
    {
     "name": "stderr",
     "output_type": "stream",
     "text": [
      "C:\\Users\\Usuario\\AppData\\Local\\Temp\\ipykernel_15668\\2025197643.py:2: SettingWithCopyWarning: \n",
      "A value is trying to be set on a copy of a slice from a DataFrame.\n",
      "Try using .loc[row_indexer,col_indexer] = value instead\n",
      "\n",
      "See the caveats in the documentation: https://pandas.pydata.org/pandas-docs/stable/user_guide/indexing.html#returning-a-view-versus-a-copy\n",
      "  df_filtrado2.loc[:,'tiempo_titulacion'] = df_filtrado2.fecha_titulacion_academica.apply(diferenciaFechaPasadaConActual)\n"
     ]
    }
   ],
   "source": [
    "df_filtrado2.loc[:,'edad'] = df_filtrado2.fecha_nac.apply(diferenciaFechaPasadaConActual)\n",
    "df_filtrado2.loc[:,'tiempo_titulacion'] = df_filtrado2.fecha_titulacion_academica.apply(diferenciaFechaPasadaConActual)"
   ],
   "metadata": {
    "collapsed": false,
    "ExecuteTime": {
     "end_time": "2023-11-01T14:06:59.304972300Z",
     "start_time": "2023-11-01T14:06:58.612295800Z"
    }
   },
   "id": "d1bd70bc8dcaeb03"
  },
  {
   "cell_type": "code",
   "execution_count": 142,
   "outputs": [
    {
     "data": {
      "text/plain": "             id   fecha_nac sexo codigo_pais_nacimiento  \\\n0       1115413  1985-05-13    M                     BO   \n1       3643710  1975-12-06    M                     BO   \n2       3650609  1975-06-05    M                     BO   \n3       1144923  1965-10-06    M                     BO   \n4       4014046  1979-01-10    M                     BO   \n...         ...         ...  ...                    ...   \n38052  10388635  1998-04-09    M                     BO   \n38053   8585588  1994-03-26    M                     BO   \n38054  10659876  1995-11-01    M                     BO   \n38055   9407241  1997-11-18    F                     BO   \n38056   8508622  1997-06-26    F                     BO   \n\n      codigo_dpto_nacimiento  codigo_carrera estado_civil  \\\n0                         CH             102            S   \n1                         OR             102            C   \n2                         CH             102            S   \n3                         CH             102            C   \n4                         PO             102            C   \n...                      ...             ...          ...   \n38052                     CH            1053            S   \n38053                     PO            1053            S   \n38054                     OR            1053            S   \n38055                     CO            1053            S   \n38056                     PO            1053            S   \n\n      fecha_titulacion_academica  codigo_tituloAcademico  monto_tutoria  \\\n0                     2006-12-15                      22          300.0   \n1                     2000-04-28                      22          300.0   \n2                     2001-12-21                      54          300.0   \n3                     1999-07-09                      56          300.0   \n4                     2004-04-16                       1          300.0   \n...                          ...                     ...            ...   \n38052                 2023-01-01                      20         2475.0   \n38053                 2023-04-21                     277          760.0   \n38054                 2021-06-04                     278         2475.0   \n38055                 2023-02-28                      26            0.0   \n38056                 2023-04-14                      25          760.0   \n\n       costo_programa  dep_inicial siglaNoVersion siglaNoVersionNumero  \\\n0                1100         20.0            MES                    0   \n1                1100         20.0            MES                    0   \n2                1100         20.0            MES                    0   \n3                1100         20.0            MES                    0   \n4                1100         20.0            MES                    0   \n...               ...          ...            ...                  ...   \n38052            4800         10.0          DSIRS                    2   \n38053            4800         10.0          DSIRS                    2   \n38054            4800         10.0          DSIRS                    2   \n38055            4800         10.0          DSIRS                    2   \n38056            4800         10.0          DSIRS                    2   \n\n                                                  nombre iniciales_nombre  \\\n0                     Maestría en Educación Superior V.3                m   \n1                     Maestría en Educación Superior V.3                m   \n2                     Maestría en Educación Superior V.3                m   \n3                     Maestría en Educación Superior V.3                m   \n4                     Maestría en Educación Superior V.3                m   \n...                                                  ...              ...   \n38052  Diplomado en Seguridad Industrial, Salud en el...              dip   \n38053  Diplomado en Seguridad Industrial, Salud en el...              dip   \n38054  Diplomado en Seguridad Industrial, Salud en el...              dip   \n38055  Diplomado en Seguridad Industrial, Salud en el...              dip   \n38056  Diplomado en Seguridad Industrial, Salud en el...              dip   \n\n      iniciales_nombre_2  monto_tutoria_no_null  edad  tiempo_titulacion  \n0                      m                  300.0    38                 16  \n1                      m                  300.0    47                 23  \n2                      m                  300.0    48                 21  \n3                      m                  300.0    58                 24  \n4                      m                  300.0    44                 19  \n...                  ...                    ...   ...                ...  \n38052                dip                    NaN    25                  0  \n38053                dip                    NaN    29                  0  \n38054                dip                    NaN    28                  2  \n38055                dip                    NaN    25                  0  \n38056                dip                    NaN    26                  0  \n\n[35507 rows x 20 columns]",
      "text/html": "<div>\n<style scoped>\n    .dataframe tbody tr th:only-of-type {\n        vertical-align: middle;\n    }\n\n    .dataframe tbody tr th {\n        vertical-align: top;\n    }\n\n    .dataframe thead th {\n        text-align: right;\n    }\n</style>\n<table border=\"1\" class=\"dataframe\">\n  <thead>\n    <tr style=\"text-align: right;\">\n      <th></th>\n      <th>id</th>\n      <th>fecha_nac</th>\n      <th>sexo</th>\n      <th>codigo_pais_nacimiento</th>\n      <th>codigo_dpto_nacimiento</th>\n      <th>codigo_carrera</th>\n      <th>estado_civil</th>\n      <th>fecha_titulacion_academica</th>\n      <th>codigo_tituloAcademico</th>\n      <th>monto_tutoria</th>\n      <th>costo_programa</th>\n      <th>dep_inicial</th>\n      <th>siglaNoVersion</th>\n      <th>siglaNoVersionNumero</th>\n      <th>nombre</th>\n      <th>iniciales_nombre</th>\n      <th>iniciales_nombre_2</th>\n      <th>monto_tutoria_no_null</th>\n      <th>edad</th>\n      <th>tiempo_titulacion</th>\n    </tr>\n  </thead>\n  <tbody>\n    <tr>\n      <th>0</th>\n      <td>1115413</td>\n      <td>1985-05-13</td>\n      <td>M</td>\n      <td>BO</td>\n      <td>CH</td>\n      <td>102</td>\n      <td>S</td>\n      <td>2006-12-15</td>\n      <td>22</td>\n      <td>300.0</td>\n      <td>1100</td>\n      <td>20.0</td>\n      <td>MES</td>\n      <td>0</td>\n      <td>Maestría en Educación Superior V.3</td>\n      <td>m</td>\n      <td>m</td>\n      <td>300.0</td>\n      <td>38</td>\n      <td>16</td>\n    </tr>\n    <tr>\n      <th>1</th>\n      <td>3643710</td>\n      <td>1975-12-06</td>\n      <td>M</td>\n      <td>BO</td>\n      <td>OR</td>\n      <td>102</td>\n      <td>C</td>\n      <td>2000-04-28</td>\n      <td>22</td>\n      <td>300.0</td>\n      <td>1100</td>\n      <td>20.0</td>\n      <td>MES</td>\n      <td>0</td>\n      <td>Maestría en Educación Superior V.3</td>\n      <td>m</td>\n      <td>m</td>\n      <td>300.0</td>\n      <td>47</td>\n      <td>23</td>\n    </tr>\n    <tr>\n      <th>2</th>\n      <td>3650609</td>\n      <td>1975-06-05</td>\n      <td>M</td>\n      <td>BO</td>\n      <td>CH</td>\n      <td>102</td>\n      <td>S</td>\n      <td>2001-12-21</td>\n      <td>54</td>\n      <td>300.0</td>\n      <td>1100</td>\n      <td>20.0</td>\n      <td>MES</td>\n      <td>0</td>\n      <td>Maestría en Educación Superior V.3</td>\n      <td>m</td>\n      <td>m</td>\n      <td>300.0</td>\n      <td>48</td>\n      <td>21</td>\n    </tr>\n    <tr>\n      <th>3</th>\n      <td>1144923</td>\n      <td>1965-10-06</td>\n      <td>M</td>\n      <td>BO</td>\n      <td>CH</td>\n      <td>102</td>\n      <td>C</td>\n      <td>1999-07-09</td>\n      <td>56</td>\n      <td>300.0</td>\n      <td>1100</td>\n      <td>20.0</td>\n      <td>MES</td>\n      <td>0</td>\n      <td>Maestría en Educación Superior V.3</td>\n      <td>m</td>\n      <td>m</td>\n      <td>300.0</td>\n      <td>58</td>\n      <td>24</td>\n    </tr>\n    <tr>\n      <th>4</th>\n      <td>4014046</td>\n      <td>1979-01-10</td>\n      <td>M</td>\n      <td>BO</td>\n      <td>PO</td>\n      <td>102</td>\n      <td>C</td>\n      <td>2004-04-16</td>\n      <td>1</td>\n      <td>300.0</td>\n      <td>1100</td>\n      <td>20.0</td>\n      <td>MES</td>\n      <td>0</td>\n      <td>Maestría en Educación Superior V.3</td>\n      <td>m</td>\n      <td>m</td>\n      <td>300.0</td>\n      <td>44</td>\n      <td>19</td>\n    </tr>\n    <tr>\n      <th>...</th>\n      <td>...</td>\n      <td>...</td>\n      <td>...</td>\n      <td>...</td>\n      <td>...</td>\n      <td>...</td>\n      <td>...</td>\n      <td>...</td>\n      <td>...</td>\n      <td>...</td>\n      <td>...</td>\n      <td>...</td>\n      <td>...</td>\n      <td>...</td>\n      <td>...</td>\n      <td>...</td>\n      <td>...</td>\n      <td>...</td>\n      <td>...</td>\n      <td>...</td>\n    </tr>\n    <tr>\n      <th>38052</th>\n      <td>10388635</td>\n      <td>1998-04-09</td>\n      <td>M</td>\n      <td>BO</td>\n      <td>CH</td>\n      <td>1053</td>\n      <td>S</td>\n      <td>2023-01-01</td>\n      <td>20</td>\n      <td>2475.0</td>\n      <td>4800</td>\n      <td>10.0</td>\n      <td>DSIRS</td>\n      <td>2</td>\n      <td>Diplomado en Seguridad Industrial, Salud en el...</td>\n      <td>dip</td>\n      <td>dip</td>\n      <td>NaN</td>\n      <td>25</td>\n      <td>0</td>\n    </tr>\n    <tr>\n      <th>38053</th>\n      <td>8585588</td>\n      <td>1994-03-26</td>\n      <td>M</td>\n      <td>BO</td>\n      <td>PO</td>\n      <td>1053</td>\n      <td>S</td>\n      <td>2023-04-21</td>\n      <td>277</td>\n      <td>760.0</td>\n      <td>4800</td>\n      <td>10.0</td>\n      <td>DSIRS</td>\n      <td>2</td>\n      <td>Diplomado en Seguridad Industrial, Salud en el...</td>\n      <td>dip</td>\n      <td>dip</td>\n      <td>NaN</td>\n      <td>29</td>\n      <td>0</td>\n    </tr>\n    <tr>\n      <th>38054</th>\n      <td>10659876</td>\n      <td>1995-11-01</td>\n      <td>M</td>\n      <td>BO</td>\n      <td>OR</td>\n      <td>1053</td>\n      <td>S</td>\n      <td>2021-06-04</td>\n      <td>278</td>\n      <td>2475.0</td>\n      <td>4800</td>\n      <td>10.0</td>\n      <td>DSIRS</td>\n      <td>2</td>\n      <td>Diplomado en Seguridad Industrial, Salud en el...</td>\n      <td>dip</td>\n      <td>dip</td>\n      <td>NaN</td>\n      <td>28</td>\n      <td>2</td>\n    </tr>\n    <tr>\n      <th>38055</th>\n      <td>9407241</td>\n      <td>1997-11-18</td>\n      <td>F</td>\n      <td>BO</td>\n      <td>CO</td>\n      <td>1053</td>\n      <td>S</td>\n      <td>2023-02-28</td>\n      <td>26</td>\n      <td>0.0</td>\n      <td>4800</td>\n      <td>10.0</td>\n      <td>DSIRS</td>\n      <td>2</td>\n      <td>Diplomado en Seguridad Industrial, Salud en el...</td>\n      <td>dip</td>\n      <td>dip</td>\n      <td>NaN</td>\n      <td>25</td>\n      <td>0</td>\n    </tr>\n    <tr>\n      <th>38056</th>\n      <td>8508622</td>\n      <td>1997-06-26</td>\n      <td>F</td>\n      <td>BO</td>\n      <td>PO</td>\n      <td>1053</td>\n      <td>S</td>\n      <td>2023-04-14</td>\n      <td>25</td>\n      <td>760.0</td>\n      <td>4800</td>\n      <td>10.0</td>\n      <td>DSIRS</td>\n      <td>2</td>\n      <td>Diplomado en Seguridad Industrial, Salud en el...</td>\n      <td>dip</td>\n      <td>dip</td>\n      <td>NaN</td>\n      <td>26</td>\n      <td>0</td>\n    </tr>\n  </tbody>\n</table>\n<p>35507 rows × 20 columns</p>\n</div>"
     },
     "execution_count": 142,
     "metadata": {},
     "output_type": "execute_result"
    }
   ],
   "source": [
    "df_filtrado2"
   ],
   "metadata": {
    "collapsed": false,
    "ExecuteTime": {
     "end_time": "2023-11-01T14:07:44.970450Z",
     "start_time": "2023-11-01T14:07:44.897964200Z"
    }
   },
   "id": "fc8738b018aac47c"
  },
  {
   "cell_type": "code",
   "execution_count": 143,
   "outputs": [
    {
     "data": {
      "text/plain": "             id   fecha_nac sexo codigo_pais_nacimiento  \\\n0       1115413  1985-05-13    M                     BO   \n1       3643710  1975-12-06    M                     BO   \n2       3650609  1975-06-05    M                     BO   \n3       1144923  1965-10-06    M                     BO   \n4       4014046  1979-01-10    M                     BO   \n...         ...         ...  ...                    ...   \n38052  10388635  1998-04-09    M                     BO   \n38053   8585588  1994-03-26    M                     BO   \n38054  10659876  1995-11-01    M                     BO   \n38055   9407241  1997-11-18    F                     BO   \n38056   8508622  1997-06-26    F                     BO   \n\n      codigo_dpto_nacimiento  codigo_carrera estado_civil  \\\n0                         CH             102            S   \n1                         OR             102            C   \n2                         CH             102            S   \n3                         CH             102            C   \n4                         PO             102            C   \n...                      ...             ...          ...   \n38052                     CH            1053            S   \n38053                     PO            1053            S   \n38054                     OR            1053            S   \n38055                     CO            1053            S   \n38056                     PO            1053            S   \n\n      fecha_titulacion_academica  codigo_tituloAcademico  monto_tutoria  \\\n0                     2006-12-15                      22          300.0   \n1                     2000-04-28                      22          300.0   \n2                     2001-12-21                      54          300.0   \n3                     1999-07-09                      56          300.0   \n4                     2004-04-16                       1          300.0   \n...                          ...                     ...            ...   \n38052                 2023-01-01                      20         2475.0   \n38053                 2023-04-21                     277          760.0   \n38054                 2021-06-04                     278         2475.0   \n38055                 2023-02-28                      26            0.0   \n38056                 2023-04-14                      25          760.0   \n\n       costo_programa  dep_inicial siglaNoVersion siglaNoVersionNumero  \\\n0                1100         20.0            MES                    0   \n1                1100         20.0            MES                    0   \n2                1100         20.0            MES                    0   \n3                1100         20.0            MES                    0   \n4                1100         20.0            MES                    0   \n...               ...          ...            ...                  ...   \n38052            4800         10.0          DSIRS                    2   \n38053            4800         10.0          DSIRS                    2   \n38054            4800         10.0          DSIRS                    2   \n38055            4800         10.0          DSIRS                    2   \n38056            4800         10.0          DSIRS                    2   \n\n                                                  nombre iniciales_nombre  \\\n0                     Maestría en Educación Superior V.3                m   \n1                     Maestría en Educación Superior V.3                m   \n2                     Maestría en Educación Superior V.3                m   \n3                     Maestría en Educación Superior V.3                m   \n4                     Maestría en Educación Superior V.3                m   \n...                                                  ...              ...   \n38052  Diplomado en Seguridad Industrial, Salud en el...              dip   \n38053  Diplomado en Seguridad Industrial, Salud en el...              dip   \n38054  Diplomado en Seguridad Industrial, Salud en el...              dip   \n38055  Diplomado en Seguridad Industrial, Salud en el...              dip   \n38056  Diplomado en Seguridad Industrial, Salud en el...              dip   \n\n      iniciales_nombre_2  monto_tutoria_no_null  edad  tiempo_titulacion  \n0                      m                  300.0    38                 16  \n1                      m                  300.0    47                 23  \n2                      m                  300.0    48                 21  \n3                      m                  300.0    58                 24  \n4                      m                  300.0    44                 19  \n...                  ...                    ...   ...                ...  \n38052                dip                    NaN    25                  0  \n38053                dip                    NaN    29                  0  \n38054                dip                    NaN    28                  2  \n38055                dip                    NaN    25                  0  \n38056                dip                    NaN    26                  0  \n\n[35507 rows x 20 columns]",
      "text/html": "<div>\n<style scoped>\n    .dataframe tbody tr th:only-of-type {\n        vertical-align: middle;\n    }\n\n    .dataframe tbody tr th {\n        vertical-align: top;\n    }\n\n    .dataframe thead th {\n        text-align: right;\n    }\n</style>\n<table border=\"1\" class=\"dataframe\">\n  <thead>\n    <tr style=\"text-align: right;\">\n      <th></th>\n      <th>id</th>\n      <th>fecha_nac</th>\n      <th>sexo</th>\n      <th>codigo_pais_nacimiento</th>\n      <th>codigo_dpto_nacimiento</th>\n      <th>codigo_carrera</th>\n      <th>estado_civil</th>\n      <th>fecha_titulacion_academica</th>\n      <th>codigo_tituloAcademico</th>\n      <th>monto_tutoria</th>\n      <th>costo_programa</th>\n      <th>dep_inicial</th>\n      <th>siglaNoVersion</th>\n      <th>siglaNoVersionNumero</th>\n      <th>nombre</th>\n      <th>iniciales_nombre</th>\n      <th>iniciales_nombre_2</th>\n      <th>monto_tutoria_no_null</th>\n      <th>edad</th>\n      <th>tiempo_titulacion</th>\n    </tr>\n  </thead>\n  <tbody>\n    <tr>\n      <th>0</th>\n      <td>1115413</td>\n      <td>1985-05-13</td>\n      <td>M</td>\n      <td>BO</td>\n      <td>CH</td>\n      <td>102</td>\n      <td>S</td>\n      <td>2006-12-15</td>\n      <td>22</td>\n      <td>300.0</td>\n      <td>1100</td>\n      <td>20.0</td>\n      <td>MES</td>\n      <td>0</td>\n      <td>Maestría en Educación Superior V.3</td>\n      <td>m</td>\n      <td>m</td>\n      <td>300.0</td>\n      <td>38</td>\n      <td>16</td>\n    </tr>\n    <tr>\n      <th>1</th>\n      <td>3643710</td>\n      <td>1975-12-06</td>\n      <td>M</td>\n      <td>BO</td>\n      <td>OR</td>\n      <td>102</td>\n      <td>C</td>\n      <td>2000-04-28</td>\n      <td>22</td>\n      <td>300.0</td>\n      <td>1100</td>\n      <td>20.0</td>\n      <td>MES</td>\n      <td>0</td>\n      <td>Maestría en Educación Superior V.3</td>\n      <td>m</td>\n      <td>m</td>\n      <td>300.0</td>\n      <td>47</td>\n      <td>23</td>\n    </tr>\n    <tr>\n      <th>2</th>\n      <td>3650609</td>\n      <td>1975-06-05</td>\n      <td>M</td>\n      <td>BO</td>\n      <td>CH</td>\n      <td>102</td>\n      <td>S</td>\n      <td>2001-12-21</td>\n      <td>54</td>\n      <td>300.0</td>\n      <td>1100</td>\n      <td>20.0</td>\n      <td>MES</td>\n      <td>0</td>\n      <td>Maestría en Educación Superior V.3</td>\n      <td>m</td>\n      <td>m</td>\n      <td>300.0</td>\n      <td>48</td>\n      <td>21</td>\n    </tr>\n    <tr>\n      <th>3</th>\n      <td>1144923</td>\n      <td>1965-10-06</td>\n      <td>M</td>\n      <td>BO</td>\n      <td>CH</td>\n      <td>102</td>\n      <td>C</td>\n      <td>1999-07-09</td>\n      <td>56</td>\n      <td>300.0</td>\n      <td>1100</td>\n      <td>20.0</td>\n      <td>MES</td>\n      <td>0</td>\n      <td>Maestría en Educación Superior V.3</td>\n      <td>m</td>\n      <td>m</td>\n      <td>300.0</td>\n      <td>58</td>\n      <td>24</td>\n    </tr>\n    <tr>\n      <th>4</th>\n      <td>4014046</td>\n      <td>1979-01-10</td>\n      <td>M</td>\n      <td>BO</td>\n      <td>PO</td>\n      <td>102</td>\n      <td>C</td>\n      <td>2004-04-16</td>\n      <td>1</td>\n      <td>300.0</td>\n      <td>1100</td>\n      <td>20.0</td>\n      <td>MES</td>\n      <td>0</td>\n      <td>Maestría en Educación Superior V.3</td>\n      <td>m</td>\n      <td>m</td>\n      <td>300.0</td>\n      <td>44</td>\n      <td>19</td>\n    </tr>\n    <tr>\n      <th>...</th>\n      <td>...</td>\n      <td>...</td>\n      <td>...</td>\n      <td>...</td>\n      <td>...</td>\n      <td>...</td>\n      <td>...</td>\n      <td>...</td>\n      <td>...</td>\n      <td>...</td>\n      <td>...</td>\n      <td>...</td>\n      <td>...</td>\n      <td>...</td>\n      <td>...</td>\n      <td>...</td>\n      <td>...</td>\n      <td>...</td>\n      <td>...</td>\n      <td>...</td>\n    </tr>\n    <tr>\n      <th>38052</th>\n      <td>10388635</td>\n      <td>1998-04-09</td>\n      <td>M</td>\n      <td>BO</td>\n      <td>CH</td>\n      <td>1053</td>\n      <td>S</td>\n      <td>2023-01-01</td>\n      <td>20</td>\n      <td>2475.0</td>\n      <td>4800</td>\n      <td>10.0</td>\n      <td>DSIRS</td>\n      <td>2</td>\n      <td>Diplomado en Seguridad Industrial, Salud en el...</td>\n      <td>dip</td>\n      <td>dip</td>\n      <td>NaN</td>\n      <td>25</td>\n      <td>0</td>\n    </tr>\n    <tr>\n      <th>38053</th>\n      <td>8585588</td>\n      <td>1994-03-26</td>\n      <td>M</td>\n      <td>BO</td>\n      <td>PO</td>\n      <td>1053</td>\n      <td>S</td>\n      <td>2023-04-21</td>\n      <td>277</td>\n      <td>760.0</td>\n      <td>4800</td>\n      <td>10.0</td>\n      <td>DSIRS</td>\n      <td>2</td>\n      <td>Diplomado en Seguridad Industrial, Salud en el...</td>\n      <td>dip</td>\n      <td>dip</td>\n      <td>NaN</td>\n      <td>29</td>\n      <td>0</td>\n    </tr>\n    <tr>\n      <th>38054</th>\n      <td>10659876</td>\n      <td>1995-11-01</td>\n      <td>M</td>\n      <td>BO</td>\n      <td>OR</td>\n      <td>1053</td>\n      <td>S</td>\n      <td>2021-06-04</td>\n      <td>278</td>\n      <td>2475.0</td>\n      <td>4800</td>\n      <td>10.0</td>\n      <td>DSIRS</td>\n      <td>2</td>\n      <td>Diplomado en Seguridad Industrial, Salud en el...</td>\n      <td>dip</td>\n      <td>dip</td>\n      <td>NaN</td>\n      <td>28</td>\n      <td>2</td>\n    </tr>\n    <tr>\n      <th>38055</th>\n      <td>9407241</td>\n      <td>1997-11-18</td>\n      <td>F</td>\n      <td>BO</td>\n      <td>CO</td>\n      <td>1053</td>\n      <td>S</td>\n      <td>2023-02-28</td>\n      <td>26</td>\n      <td>0.0</td>\n      <td>4800</td>\n      <td>10.0</td>\n      <td>DSIRS</td>\n      <td>2</td>\n      <td>Diplomado en Seguridad Industrial, Salud en el...</td>\n      <td>dip</td>\n      <td>dip</td>\n      <td>NaN</td>\n      <td>25</td>\n      <td>0</td>\n    </tr>\n    <tr>\n      <th>38056</th>\n      <td>8508622</td>\n      <td>1997-06-26</td>\n      <td>F</td>\n      <td>BO</td>\n      <td>PO</td>\n      <td>1053</td>\n      <td>S</td>\n      <td>2023-04-14</td>\n      <td>25</td>\n      <td>760.0</td>\n      <td>4800</td>\n      <td>10.0</td>\n      <td>DSIRS</td>\n      <td>2</td>\n      <td>Diplomado en Seguridad Industrial, Salud en el...</td>\n      <td>dip</td>\n      <td>dip</td>\n      <td>NaN</td>\n      <td>26</td>\n      <td>0</td>\n    </tr>\n  </tbody>\n</table>\n<p>35507 rows × 20 columns</p>\n</div>"
     },
     "execution_count": 143,
     "metadata": {},
     "output_type": "execute_result"
    }
   ],
   "source": [
    "df_filtrado2"
   ],
   "metadata": {
    "collapsed": false,
    "ExecuteTime": {
     "end_time": "2023-11-01T14:08:00.906182300Z",
     "start_time": "2023-11-01T14:08:00.839575400Z"
    }
   },
   "id": "7482fe26868c50e9"
  },
  {
   "cell_type": "code",
   "execution_count": 180,
   "outputs": [],
   "source": [
    "carreras_areas = 'E:/chatbot/data/carreras_areas.xlsx'\n",
    "carreras_areasDf = pd.read_excel(carreras_areas)"
   ],
   "metadata": {
    "collapsed": false,
    "ExecuteTime": {
     "end_time": "2023-11-01T14:36:07.023233200Z",
     "start_time": "2023-11-01T14:36:06.914979Z"
    }
   },
   "id": "fd15fa9a77bd9e06"
  },
  {
   "cell_type": "code",
   "execution_count": 181,
   "outputs": [
    {
     "data": {
      "text/plain": "     Unnamed: 0                                             nombre  Areas  \\\n0             0            Aeropuertos en el Sistema de Transporte      2   \n1             1  Diplomado en Metodologías de Investigación Cua...      3   \n2             2                         Especialidad en Ortodoncia      4   \n3             3                 Maestría en Educación Superior V.3      3   \n4             4                Diplomado en Educación Superior V.7      3   \n..          ...                                                ...    ...   \n941         941  Diplomado en Bim Modelado y Gestión de Proyect...      2   \n942         942  Diplomado en Diseño Mecánico Industrial CAD-CA...      2   \n943         943  Diplomado en Diseño Mecánico Industrial CAD-CA...      2   \n944         944  Diplomado en Obras Viales en Suelos Tropicales...      2   \n945         945  Maestría en Derecho de Género, Violencia y Adm...      3   \n\n     Unnamed: 3  Unnamed: 4  Unnamed: 5 Unnamed: 6  \n0           NaN         NaN         NaN        NaN  \n1           NaN         NaN         NaN        NaN  \n2           NaN         NaN         NaN        NaN  \n3           NaN         NaN         NaN        NaN  \n4           NaN         NaN         NaN        NaN  \n..          ...         ...         ...        ...  \n941         NaN         NaN         NaN        NaN  \n942         NaN         NaN         NaN        NaN  \n943         NaN         NaN         NaN        NaN  \n944         NaN         NaN         NaN        NaN  \n945         NaN         NaN         NaN        NaN  \n\n[946 rows x 7 columns]",
      "text/html": "<div>\n<style scoped>\n    .dataframe tbody tr th:only-of-type {\n        vertical-align: middle;\n    }\n\n    .dataframe tbody tr th {\n        vertical-align: top;\n    }\n\n    .dataframe thead th {\n        text-align: right;\n    }\n</style>\n<table border=\"1\" class=\"dataframe\">\n  <thead>\n    <tr style=\"text-align: right;\">\n      <th></th>\n      <th>Unnamed: 0</th>\n      <th>nombre</th>\n      <th>Areas</th>\n      <th>Unnamed: 3</th>\n      <th>Unnamed: 4</th>\n      <th>Unnamed: 5</th>\n      <th>Unnamed: 6</th>\n    </tr>\n  </thead>\n  <tbody>\n    <tr>\n      <th>0</th>\n      <td>0</td>\n      <td>Aeropuertos en el Sistema de Transporte</td>\n      <td>2</td>\n      <td>NaN</td>\n      <td>NaN</td>\n      <td>NaN</td>\n      <td>NaN</td>\n    </tr>\n    <tr>\n      <th>1</th>\n      <td>1</td>\n      <td>Diplomado en Metodologías de Investigación Cua...</td>\n      <td>3</td>\n      <td>NaN</td>\n      <td>NaN</td>\n      <td>NaN</td>\n      <td>NaN</td>\n    </tr>\n    <tr>\n      <th>2</th>\n      <td>2</td>\n      <td>Especialidad en Ortodoncia</td>\n      <td>4</td>\n      <td>NaN</td>\n      <td>NaN</td>\n      <td>NaN</td>\n      <td>NaN</td>\n    </tr>\n    <tr>\n      <th>3</th>\n      <td>3</td>\n      <td>Maestría en Educación Superior V.3</td>\n      <td>3</td>\n      <td>NaN</td>\n      <td>NaN</td>\n      <td>NaN</td>\n      <td>NaN</td>\n    </tr>\n    <tr>\n      <th>4</th>\n      <td>4</td>\n      <td>Diplomado en Educación Superior V.7</td>\n      <td>3</td>\n      <td>NaN</td>\n      <td>NaN</td>\n      <td>NaN</td>\n      <td>NaN</td>\n    </tr>\n    <tr>\n      <th>...</th>\n      <td>...</td>\n      <td>...</td>\n      <td>...</td>\n      <td>...</td>\n      <td>...</td>\n      <td>...</td>\n      <td>...</td>\n    </tr>\n    <tr>\n      <th>941</th>\n      <td>941</td>\n      <td>Diplomado en Bim Modelado y Gestión de Proyect...</td>\n      <td>2</td>\n      <td>NaN</td>\n      <td>NaN</td>\n      <td>NaN</td>\n      <td>NaN</td>\n    </tr>\n    <tr>\n      <th>942</th>\n      <td>942</td>\n      <td>Diplomado en Diseño Mecánico Industrial CAD-CA...</td>\n      <td>2</td>\n      <td>NaN</td>\n      <td>NaN</td>\n      <td>NaN</td>\n      <td>NaN</td>\n    </tr>\n    <tr>\n      <th>943</th>\n      <td>943</td>\n      <td>Diplomado en Diseño Mecánico Industrial CAD-CA...</td>\n      <td>2</td>\n      <td>NaN</td>\n      <td>NaN</td>\n      <td>NaN</td>\n      <td>NaN</td>\n    </tr>\n    <tr>\n      <th>944</th>\n      <td>944</td>\n      <td>Diplomado en Obras Viales en Suelos Tropicales...</td>\n      <td>2</td>\n      <td>NaN</td>\n      <td>NaN</td>\n      <td>NaN</td>\n      <td>NaN</td>\n    </tr>\n    <tr>\n      <th>945</th>\n      <td>945</td>\n      <td>Maestría en Derecho de Género, Violencia y Adm...</td>\n      <td>3</td>\n      <td>NaN</td>\n      <td>NaN</td>\n      <td>NaN</td>\n      <td>NaN</td>\n    </tr>\n  </tbody>\n</table>\n<p>946 rows × 7 columns</p>\n</div>"
     },
     "execution_count": 181,
     "metadata": {},
     "output_type": "execute_result"
    }
   ],
   "source": [
    "carreras_areasDf"
   ],
   "metadata": {
    "collapsed": false,
    "ExecuteTime": {
     "end_time": "2023-11-01T14:36:07.227640200Z",
     "start_time": "2023-11-01T14:36:07.167144200Z"
    }
   },
   "id": "fac2594f66c819ae"
  },
  {
   "cell_type": "code",
   "execution_count": 182,
   "outputs": [],
   "source": [
    "columnas = ['Unnamed: 3','Unnamed: 4', 'Unnamed: 5', 'Unnamed: 6','Unnamed: 0']\n",
    "carreras_areasDf = carreras_areasDf.drop(columnas, axis=1)"
   ],
   "metadata": {
    "collapsed": false,
    "ExecuteTime": {
     "end_time": "2023-11-01T14:36:07.661587600Z",
     "start_time": "2023-11-01T14:36:07.640274200Z"
    }
   },
   "id": "dbd6b663313c0278"
  },
  {
   "cell_type": "code",
   "execution_count": 183,
   "outputs": [
    {
     "data": {
      "text/plain": "                                                nombre  Areas\n0              Aeropuertos en el Sistema de Transporte      2\n1    Diplomado en Metodologías de Investigación Cua...      3\n2                           Especialidad en Ortodoncia      4\n3                   Maestría en Educación Superior V.3      3\n4                  Diplomado en Educación Superior V.7      3\n..                                                 ...    ...\n941  Diplomado en Bim Modelado y Gestión de Proyect...      2\n942  Diplomado en Diseño Mecánico Industrial CAD-CA...      2\n943  Diplomado en Diseño Mecánico Industrial CAD-CA...      2\n944  Diplomado en Obras Viales en Suelos Tropicales...      2\n945  Maestría en Derecho de Género, Violencia y Adm...      3\n\n[946 rows x 2 columns]",
      "text/html": "<div>\n<style scoped>\n    .dataframe tbody tr th:only-of-type {\n        vertical-align: middle;\n    }\n\n    .dataframe tbody tr th {\n        vertical-align: top;\n    }\n\n    .dataframe thead th {\n        text-align: right;\n    }\n</style>\n<table border=\"1\" class=\"dataframe\">\n  <thead>\n    <tr style=\"text-align: right;\">\n      <th></th>\n      <th>nombre</th>\n      <th>Areas</th>\n    </tr>\n  </thead>\n  <tbody>\n    <tr>\n      <th>0</th>\n      <td>Aeropuertos en el Sistema de Transporte</td>\n      <td>2</td>\n    </tr>\n    <tr>\n      <th>1</th>\n      <td>Diplomado en Metodologías de Investigación Cua...</td>\n      <td>3</td>\n    </tr>\n    <tr>\n      <th>2</th>\n      <td>Especialidad en Ortodoncia</td>\n      <td>4</td>\n    </tr>\n    <tr>\n      <th>3</th>\n      <td>Maestría en Educación Superior V.3</td>\n      <td>3</td>\n    </tr>\n    <tr>\n      <th>4</th>\n      <td>Diplomado en Educación Superior V.7</td>\n      <td>3</td>\n    </tr>\n    <tr>\n      <th>...</th>\n      <td>...</td>\n      <td>...</td>\n    </tr>\n    <tr>\n      <th>941</th>\n      <td>Diplomado en Bim Modelado y Gestión de Proyect...</td>\n      <td>2</td>\n    </tr>\n    <tr>\n      <th>942</th>\n      <td>Diplomado en Diseño Mecánico Industrial CAD-CA...</td>\n      <td>2</td>\n    </tr>\n    <tr>\n      <th>943</th>\n      <td>Diplomado en Diseño Mecánico Industrial CAD-CA...</td>\n      <td>2</td>\n    </tr>\n    <tr>\n      <th>944</th>\n      <td>Diplomado en Obras Viales en Suelos Tropicales...</td>\n      <td>2</td>\n    </tr>\n    <tr>\n      <th>945</th>\n      <td>Maestría en Derecho de Género, Violencia y Adm...</td>\n      <td>3</td>\n    </tr>\n  </tbody>\n</table>\n<p>946 rows × 2 columns</p>\n</div>"
     },
     "execution_count": 183,
     "metadata": {},
     "output_type": "execute_result"
    }
   ],
   "source": [
    "carreras_areasDf"
   ],
   "metadata": {
    "collapsed": false,
    "ExecuteTime": {
     "end_time": "2023-11-01T14:36:09.826723200Z",
     "start_time": "2023-11-01T14:36:09.775728Z"
    }
   },
   "id": "5549aa6c4a53ff1f"
  },
  {
   "cell_type": "code",
   "execution_count": 184,
   "outputs": [],
   "source": [
    "df_filtrado3 = pd.merge(df_filtrado2,carreras_areasDf,on=(\"nombre\"))"
   ],
   "metadata": {
    "collapsed": false,
    "ExecuteTime": {
     "end_time": "2023-11-01T14:36:15.648499400Z",
     "start_time": "2023-11-01T14:36:15.564402100Z"
    }
   },
   "id": "313d7a9c74da66a0"
  },
  {
   "cell_type": "code",
   "execution_count": 185,
   "outputs": [
    {
     "data": {
      "text/plain": "array(['S', 'C', 'O'], dtype=object)"
     },
     "execution_count": 185,
     "metadata": {},
     "output_type": "execute_result"
    }
   ],
   "source": [
    "df_filtrado3.estado_civil.unique()"
   ],
   "metadata": {
    "collapsed": false,
    "ExecuteTime": {
     "end_time": "2023-11-01T14:36:21.493096700Z",
     "start_time": "2023-11-01T14:36:21.450490Z"
    }
   },
   "id": "3f96010642e76d33"
  },
  {
   "cell_type": "code",
   "execution_count": 186,
   "outputs": [
    {
     "data": {
      "text/plain": "             id   fecha_nac sexo codigo_pais_nacimiento  \\\n0       1115413  1985-05-13    M                     BO   \n1       3643710  1975-12-06    M                     BO   \n2       3650609  1975-06-05    M                     BO   \n3       1144923  1965-10-06    M                     BO   \n4       4014046  1979-01-10    M                     BO   \n...         ...         ...  ...                    ...   \n31330  12737586  1996-10-04    F                     BO   \n31331  10305366  1999-07-27    F                     BO   \n31332  13188176  1999-03-20    F                     BO   \n31333   6472966  1987-04-11    M                     BO   \n31334  12495474  1995-09-15    M                     BO   \n\n      codigo_dpto_nacimiento  codigo_carrera estado_civil  \\\n0                         CH             102            S   \n1                         OR             102            C   \n2                         CH             102            S   \n3                         CH             102            C   \n4                         PO             102            C   \n...                      ...             ...          ...   \n31330                     CH            1075            S   \n31331                     CH            1075            S   \n31332                     CH            1075            S   \n31333                     CO            1075            S   \n31334                     PO            1075            S   \n\n      fecha_titulacion_academica  codigo_tituloAcademico  monto_tutoria  ...  \\\n0                     2006-12-15                      22          300.0  ...   \n1                     2000-04-28                      22          300.0  ...   \n2                     2001-12-21                      54          300.0  ...   \n3                     1999-07-09                      56          300.0  ...   \n4                     2004-04-16                       1          300.0  ...   \n...                          ...                     ...            ...  ...   \n31330                 2022-04-08                      17            0.0  ...   \n31331                 2023-02-17                      17         2475.0  ...   \n31332                 2023-08-30                      17         2250.0  ...   \n31333                 2014-02-26                      18         2475.0  ...   \n31334                 2019-11-28                      41         2475.0  ...   \n\n       dep_inicial  siglaNoVersion siglaNoVersionNumero  \\\n0             20.0             MES                    0   \n1             20.0             MES                    0   \n2             20.0             MES                    0   \n3             20.0             MES                    0   \n4             20.0             MES                    0   \n...            ...             ...                  ...   \n31330         10.0          DBMGPC               DBMGPC   \n31331         10.0          DBMGPC               DBMGPC   \n31332         10.0          DBMGPC               DBMGPC   \n31333         10.0          DBMGPC               DBMGPC   \n31334         10.0          DBMGPC               DBMGPC   \n\n                                                  nombre iniciales_nombre  \\\n0                     Maestría en Educación Superior V.3                m   \n1                     Maestría en Educación Superior V.3                m   \n2                     Maestría en Educación Superior V.3                m   \n3                     Maestría en Educación Superior V.3                m   \n4                     Maestría en Educación Superior V.3                m   \n...                                                  ...              ...   \n31330  Diplomado en Bim Modelado y Gestión de Proyect...              dip   \n31331  Diplomado en Bim Modelado y Gestión de Proyect...              dip   \n31332  Diplomado en Bim Modelado y Gestión de Proyect...              dip   \n31333  Diplomado en Bim Modelado y Gestión de Proyect...              dip   \n31334  Diplomado en Bim Modelado y Gestión de Proyect...              dip   \n\n      iniciales_nombre_2 monto_tutoria_no_null  edad  tiempo_titulacion  Areas  \n0                      m                 300.0    38                 16      3  \n1                      m                 300.0    47                 23      3  \n2                      m                 300.0    48                 21      3  \n3                      m                 300.0    58                 24      3  \n4                      m                 300.0    44                 19      3  \n...                  ...                   ...   ...                ...    ...  \n31330                dip                   NaN    27                  1      2  \n31331                dip                   NaN    24                  0      2  \n31332                dip                   NaN    24                  0      2  \n31333                dip                   NaN    36                  9      2  \n31334                dip                   NaN    28                  3      2  \n\n[31335 rows x 21 columns]",
      "text/html": "<div>\n<style scoped>\n    .dataframe tbody tr th:only-of-type {\n        vertical-align: middle;\n    }\n\n    .dataframe tbody tr th {\n        vertical-align: top;\n    }\n\n    .dataframe thead th {\n        text-align: right;\n    }\n</style>\n<table border=\"1\" class=\"dataframe\">\n  <thead>\n    <tr style=\"text-align: right;\">\n      <th></th>\n      <th>id</th>\n      <th>fecha_nac</th>\n      <th>sexo</th>\n      <th>codigo_pais_nacimiento</th>\n      <th>codigo_dpto_nacimiento</th>\n      <th>codigo_carrera</th>\n      <th>estado_civil</th>\n      <th>fecha_titulacion_academica</th>\n      <th>codigo_tituloAcademico</th>\n      <th>monto_tutoria</th>\n      <th>...</th>\n      <th>dep_inicial</th>\n      <th>siglaNoVersion</th>\n      <th>siglaNoVersionNumero</th>\n      <th>nombre</th>\n      <th>iniciales_nombre</th>\n      <th>iniciales_nombre_2</th>\n      <th>monto_tutoria_no_null</th>\n      <th>edad</th>\n      <th>tiempo_titulacion</th>\n      <th>Areas</th>\n    </tr>\n  </thead>\n  <tbody>\n    <tr>\n      <th>0</th>\n      <td>1115413</td>\n      <td>1985-05-13</td>\n      <td>M</td>\n      <td>BO</td>\n      <td>CH</td>\n      <td>102</td>\n      <td>S</td>\n      <td>2006-12-15</td>\n      <td>22</td>\n      <td>300.0</td>\n      <td>...</td>\n      <td>20.0</td>\n      <td>MES</td>\n      <td>0</td>\n      <td>Maestría en Educación Superior V.3</td>\n      <td>m</td>\n      <td>m</td>\n      <td>300.0</td>\n      <td>38</td>\n      <td>16</td>\n      <td>3</td>\n    </tr>\n    <tr>\n      <th>1</th>\n      <td>3643710</td>\n      <td>1975-12-06</td>\n      <td>M</td>\n      <td>BO</td>\n      <td>OR</td>\n      <td>102</td>\n      <td>C</td>\n      <td>2000-04-28</td>\n      <td>22</td>\n      <td>300.0</td>\n      <td>...</td>\n      <td>20.0</td>\n      <td>MES</td>\n      <td>0</td>\n      <td>Maestría en Educación Superior V.3</td>\n      <td>m</td>\n      <td>m</td>\n      <td>300.0</td>\n      <td>47</td>\n      <td>23</td>\n      <td>3</td>\n    </tr>\n    <tr>\n      <th>2</th>\n      <td>3650609</td>\n      <td>1975-06-05</td>\n      <td>M</td>\n      <td>BO</td>\n      <td>CH</td>\n      <td>102</td>\n      <td>S</td>\n      <td>2001-12-21</td>\n      <td>54</td>\n      <td>300.0</td>\n      <td>...</td>\n      <td>20.0</td>\n      <td>MES</td>\n      <td>0</td>\n      <td>Maestría en Educación Superior V.3</td>\n      <td>m</td>\n      <td>m</td>\n      <td>300.0</td>\n      <td>48</td>\n      <td>21</td>\n      <td>3</td>\n    </tr>\n    <tr>\n      <th>3</th>\n      <td>1144923</td>\n      <td>1965-10-06</td>\n      <td>M</td>\n      <td>BO</td>\n      <td>CH</td>\n      <td>102</td>\n      <td>C</td>\n      <td>1999-07-09</td>\n      <td>56</td>\n      <td>300.0</td>\n      <td>...</td>\n      <td>20.0</td>\n      <td>MES</td>\n      <td>0</td>\n      <td>Maestría en Educación Superior V.3</td>\n      <td>m</td>\n      <td>m</td>\n      <td>300.0</td>\n      <td>58</td>\n      <td>24</td>\n      <td>3</td>\n    </tr>\n    <tr>\n      <th>4</th>\n      <td>4014046</td>\n      <td>1979-01-10</td>\n      <td>M</td>\n      <td>BO</td>\n      <td>PO</td>\n      <td>102</td>\n      <td>C</td>\n      <td>2004-04-16</td>\n      <td>1</td>\n      <td>300.0</td>\n      <td>...</td>\n      <td>20.0</td>\n      <td>MES</td>\n      <td>0</td>\n      <td>Maestría en Educación Superior V.3</td>\n      <td>m</td>\n      <td>m</td>\n      <td>300.0</td>\n      <td>44</td>\n      <td>19</td>\n      <td>3</td>\n    </tr>\n    <tr>\n      <th>...</th>\n      <td>...</td>\n      <td>...</td>\n      <td>...</td>\n      <td>...</td>\n      <td>...</td>\n      <td>...</td>\n      <td>...</td>\n      <td>...</td>\n      <td>...</td>\n      <td>...</td>\n      <td>...</td>\n      <td>...</td>\n      <td>...</td>\n      <td>...</td>\n      <td>...</td>\n      <td>...</td>\n      <td>...</td>\n      <td>...</td>\n      <td>...</td>\n      <td>...</td>\n      <td>...</td>\n    </tr>\n    <tr>\n      <th>31330</th>\n      <td>12737586</td>\n      <td>1996-10-04</td>\n      <td>F</td>\n      <td>BO</td>\n      <td>CH</td>\n      <td>1075</td>\n      <td>S</td>\n      <td>2022-04-08</td>\n      <td>17</td>\n      <td>0.0</td>\n      <td>...</td>\n      <td>10.0</td>\n      <td>DBMGPC</td>\n      <td>DBMGPC</td>\n      <td>Diplomado en Bim Modelado y Gestión de Proyect...</td>\n      <td>dip</td>\n      <td>dip</td>\n      <td>NaN</td>\n      <td>27</td>\n      <td>1</td>\n      <td>2</td>\n    </tr>\n    <tr>\n      <th>31331</th>\n      <td>10305366</td>\n      <td>1999-07-27</td>\n      <td>F</td>\n      <td>BO</td>\n      <td>CH</td>\n      <td>1075</td>\n      <td>S</td>\n      <td>2023-02-17</td>\n      <td>17</td>\n      <td>2475.0</td>\n      <td>...</td>\n      <td>10.0</td>\n      <td>DBMGPC</td>\n      <td>DBMGPC</td>\n      <td>Diplomado en Bim Modelado y Gestión de Proyect...</td>\n      <td>dip</td>\n      <td>dip</td>\n      <td>NaN</td>\n      <td>24</td>\n      <td>0</td>\n      <td>2</td>\n    </tr>\n    <tr>\n      <th>31332</th>\n      <td>13188176</td>\n      <td>1999-03-20</td>\n      <td>F</td>\n      <td>BO</td>\n      <td>CH</td>\n      <td>1075</td>\n      <td>S</td>\n      <td>2023-08-30</td>\n      <td>17</td>\n      <td>2250.0</td>\n      <td>...</td>\n      <td>10.0</td>\n      <td>DBMGPC</td>\n      <td>DBMGPC</td>\n      <td>Diplomado en Bim Modelado y Gestión de Proyect...</td>\n      <td>dip</td>\n      <td>dip</td>\n      <td>NaN</td>\n      <td>24</td>\n      <td>0</td>\n      <td>2</td>\n    </tr>\n    <tr>\n      <th>31333</th>\n      <td>6472966</td>\n      <td>1987-04-11</td>\n      <td>M</td>\n      <td>BO</td>\n      <td>CO</td>\n      <td>1075</td>\n      <td>S</td>\n      <td>2014-02-26</td>\n      <td>18</td>\n      <td>2475.0</td>\n      <td>...</td>\n      <td>10.0</td>\n      <td>DBMGPC</td>\n      <td>DBMGPC</td>\n      <td>Diplomado en Bim Modelado y Gestión de Proyect...</td>\n      <td>dip</td>\n      <td>dip</td>\n      <td>NaN</td>\n      <td>36</td>\n      <td>9</td>\n      <td>2</td>\n    </tr>\n    <tr>\n      <th>31334</th>\n      <td>12495474</td>\n      <td>1995-09-15</td>\n      <td>M</td>\n      <td>BO</td>\n      <td>PO</td>\n      <td>1075</td>\n      <td>S</td>\n      <td>2019-11-28</td>\n      <td>41</td>\n      <td>2475.0</td>\n      <td>...</td>\n      <td>10.0</td>\n      <td>DBMGPC</td>\n      <td>DBMGPC</td>\n      <td>Diplomado en Bim Modelado y Gestión de Proyect...</td>\n      <td>dip</td>\n      <td>dip</td>\n      <td>NaN</td>\n      <td>28</td>\n      <td>3</td>\n      <td>2</td>\n    </tr>\n  </tbody>\n</table>\n<p>31335 rows × 21 columns</p>\n</div>"
     },
     "execution_count": 186,
     "metadata": {},
     "output_type": "execute_result"
    }
   ],
   "source": [
    "df_filtrado3"
   ],
   "metadata": {
    "collapsed": false,
    "ExecuteTime": {
     "end_time": "2023-11-01T14:36:24.989542800Z",
     "start_time": "2023-11-01T14:36:24.904378700Z"
    }
   },
   "id": "21b2e3e0859fe46a"
  },
  {
   "cell_type": "code",
   "execution_count": 187,
   "outputs": [],
   "source": [
    "\n",
    "df_encoded = pd.get_dummies(df_filtrado3, columns=['sexo','estado_civil','iniciales_nombre_2','Areas'])"
   ],
   "metadata": {
    "collapsed": false,
    "ExecuteTime": {
     "end_time": "2023-11-01T14:38:47.117476400Z",
     "start_time": "2023-11-01T14:38:47.039475700Z"
    }
   },
   "id": "8f2f110d83c6a77b"
  },
  {
   "cell_type": "code",
   "execution_count": 188,
   "outputs": [
    {
     "data": {
      "text/plain": "             id   fecha_nac codigo_pais_nacimiento codigo_dpto_nacimiento  \\\n0       1115413  1985-05-13                     BO                     CH   \n1       3643710  1975-12-06                     BO                     OR   \n2       3650609  1975-06-05                     BO                     CH   \n3       1144923  1965-10-06                     BO                     CH   \n4       4014046  1979-01-10                     BO                     PO   \n...         ...         ...                    ...                    ...   \n31330  12737586  1996-10-04                     BO                     CH   \n31331  10305366  1999-07-27                     BO                     CH   \n31332  13188176  1999-03-20                     BO                     CH   \n31333   6472966  1987-04-11                     BO                     CO   \n31334  12495474  1995-09-15                     BO                     PO   \n\n       codigo_carrera fecha_titulacion_academica  codigo_tituloAcademico  \\\n0                 102                 2006-12-15                      22   \n1                 102                 2000-04-28                      22   \n2                 102                 2001-12-21                      54   \n3                 102                 1999-07-09                      56   \n4                 102                 2004-04-16                       1   \n...               ...                        ...                     ...   \n31330            1075                 2022-04-08                      17   \n31331            1075                 2023-02-17                      17   \n31332            1075                 2023-08-30                      17   \n31333            1075                 2014-02-26                      18   \n31334            1075                 2019-11-28                      41   \n\n       monto_tutoria  costo_programa  dep_inicial  ... iniciales_nombre_2_doc  \\\n0              300.0            1100         20.0  ...                  False   \n1              300.0            1100         20.0  ...                  False   \n2              300.0            1100         20.0  ...                  False   \n3              300.0            1100         20.0  ...                  False   \n4              300.0            1100         20.0  ...                  False   \n...              ...             ...          ...  ...                    ...   \n31330            0.0            3800         10.0  ...                  False   \n31331         2475.0            3800         10.0  ...                  False   \n31332         2250.0            3800         10.0  ...                  False   \n31333         2475.0            3800         10.0  ...                  False   \n31334         2475.0            3800         10.0  ...                  False   \n\n      iniciales_nombre_2_e iniciales_nombre_2_fc iniciales_nombre_2_m  \\\n0                    False                 False                 True   \n1                    False                 False                 True   \n2                    False                 False                 True   \n3                    False                 False                 True   \n4                    False                 False                 True   \n...                    ...                   ...                  ...   \n31330                False                 False                False   \n31331                False                 False                False   \n31332                False                 False                False   \n31333                False                 False                False   \n31334                False                 False                False   \n\n       iniciales_nombre_2_n  Areas_1  Areas_2  Areas_3  Areas_4  Areas_5  \n0                     False    False    False     True    False    False  \n1                     False    False    False     True    False    False  \n2                     False    False    False     True    False    False  \n3                     False    False    False     True    False    False  \n4                     False    False    False     True    False    False  \n...                     ...      ...      ...      ...      ...      ...  \n31330                 False    False     True    False    False    False  \n31331                 False    False     True    False    False    False  \n31332                 False    False     True    False    False    False  \n31333                 False    False     True    False    False    False  \n31334                 False    False     True    False    False    False  \n\n[31335 rows x 33 columns]",
      "text/html": "<div>\n<style scoped>\n    .dataframe tbody tr th:only-of-type {\n        vertical-align: middle;\n    }\n\n    .dataframe tbody tr th {\n        vertical-align: top;\n    }\n\n    .dataframe thead th {\n        text-align: right;\n    }\n</style>\n<table border=\"1\" class=\"dataframe\">\n  <thead>\n    <tr style=\"text-align: right;\">\n      <th></th>\n      <th>id</th>\n      <th>fecha_nac</th>\n      <th>codigo_pais_nacimiento</th>\n      <th>codigo_dpto_nacimiento</th>\n      <th>codigo_carrera</th>\n      <th>fecha_titulacion_academica</th>\n      <th>codigo_tituloAcademico</th>\n      <th>monto_tutoria</th>\n      <th>costo_programa</th>\n      <th>dep_inicial</th>\n      <th>...</th>\n      <th>iniciales_nombre_2_doc</th>\n      <th>iniciales_nombre_2_e</th>\n      <th>iniciales_nombre_2_fc</th>\n      <th>iniciales_nombre_2_m</th>\n      <th>iniciales_nombre_2_n</th>\n      <th>Areas_1</th>\n      <th>Areas_2</th>\n      <th>Areas_3</th>\n      <th>Areas_4</th>\n      <th>Areas_5</th>\n    </tr>\n  </thead>\n  <tbody>\n    <tr>\n      <th>0</th>\n      <td>1115413</td>\n      <td>1985-05-13</td>\n      <td>BO</td>\n      <td>CH</td>\n      <td>102</td>\n      <td>2006-12-15</td>\n      <td>22</td>\n      <td>300.0</td>\n      <td>1100</td>\n      <td>20.0</td>\n      <td>...</td>\n      <td>False</td>\n      <td>False</td>\n      <td>False</td>\n      <td>True</td>\n      <td>False</td>\n      <td>False</td>\n      <td>False</td>\n      <td>True</td>\n      <td>False</td>\n      <td>False</td>\n    </tr>\n    <tr>\n      <th>1</th>\n      <td>3643710</td>\n      <td>1975-12-06</td>\n      <td>BO</td>\n      <td>OR</td>\n      <td>102</td>\n      <td>2000-04-28</td>\n      <td>22</td>\n      <td>300.0</td>\n      <td>1100</td>\n      <td>20.0</td>\n      <td>...</td>\n      <td>False</td>\n      <td>False</td>\n      <td>False</td>\n      <td>True</td>\n      <td>False</td>\n      <td>False</td>\n      <td>False</td>\n      <td>True</td>\n      <td>False</td>\n      <td>False</td>\n    </tr>\n    <tr>\n      <th>2</th>\n      <td>3650609</td>\n      <td>1975-06-05</td>\n      <td>BO</td>\n      <td>CH</td>\n      <td>102</td>\n      <td>2001-12-21</td>\n      <td>54</td>\n      <td>300.0</td>\n      <td>1100</td>\n      <td>20.0</td>\n      <td>...</td>\n      <td>False</td>\n      <td>False</td>\n      <td>False</td>\n      <td>True</td>\n      <td>False</td>\n      <td>False</td>\n      <td>False</td>\n      <td>True</td>\n      <td>False</td>\n      <td>False</td>\n    </tr>\n    <tr>\n      <th>3</th>\n      <td>1144923</td>\n      <td>1965-10-06</td>\n      <td>BO</td>\n      <td>CH</td>\n      <td>102</td>\n      <td>1999-07-09</td>\n      <td>56</td>\n      <td>300.0</td>\n      <td>1100</td>\n      <td>20.0</td>\n      <td>...</td>\n      <td>False</td>\n      <td>False</td>\n      <td>False</td>\n      <td>True</td>\n      <td>False</td>\n      <td>False</td>\n      <td>False</td>\n      <td>True</td>\n      <td>False</td>\n      <td>False</td>\n    </tr>\n    <tr>\n      <th>4</th>\n      <td>4014046</td>\n      <td>1979-01-10</td>\n      <td>BO</td>\n      <td>PO</td>\n      <td>102</td>\n      <td>2004-04-16</td>\n      <td>1</td>\n      <td>300.0</td>\n      <td>1100</td>\n      <td>20.0</td>\n      <td>...</td>\n      <td>False</td>\n      <td>False</td>\n      <td>False</td>\n      <td>True</td>\n      <td>False</td>\n      <td>False</td>\n      <td>False</td>\n      <td>True</td>\n      <td>False</td>\n      <td>False</td>\n    </tr>\n    <tr>\n      <th>...</th>\n      <td>...</td>\n      <td>...</td>\n      <td>...</td>\n      <td>...</td>\n      <td>...</td>\n      <td>...</td>\n      <td>...</td>\n      <td>...</td>\n      <td>...</td>\n      <td>...</td>\n      <td>...</td>\n      <td>...</td>\n      <td>...</td>\n      <td>...</td>\n      <td>...</td>\n      <td>...</td>\n      <td>...</td>\n      <td>...</td>\n      <td>...</td>\n      <td>...</td>\n      <td>...</td>\n    </tr>\n    <tr>\n      <th>31330</th>\n      <td>12737586</td>\n      <td>1996-10-04</td>\n      <td>BO</td>\n      <td>CH</td>\n      <td>1075</td>\n      <td>2022-04-08</td>\n      <td>17</td>\n      <td>0.0</td>\n      <td>3800</td>\n      <td>10.0</td>\n      <td>...</td>\n      <td>False</td>\n      <td>False</td>\n      <td>False</td>\n      <td>False</td>\n      <td>False</td>\n      <td>False</td>\n      <td>True</td>\n      <td>False</td>\n      <td>False</td>\n      <td>False</td>\n    </tr>\n    <tr>\n      <th>31331</th>\n      <td>10305366</td>\n      <td>1999-07-27</td>\n      <td>BO</td>\n      <td>CH</td>\n      <td>1075</td>\n      <td>2023-02-17</td>\n      <td>17</td>\n      <td>2475.0</td>\n      <td>3800</td>\n      <td>10.0</td>\n      <td>...</td>\n      <td>False</td>\n      <td>False</td>\n      <td>False</td>\n      <td>False</td>\n      <td>False</td>\n      <td>False</td>\n      <td>True</td>\n      <td>False</td>\n      <td>False</td>\n      <td>False</td>\n    </tr>\n    <tr>\n      <th>31332</th>\n      <td>13188176</td>\n      <td>1999-03-20</td>\n      <td>BO</td>\n      <td>CH</td>\n      <td>1075</td>\n      <td>2023-08-30</td>\n      <td>17</td>\n      <td>2250.0</td>\n      <td>3800</td>\n      <td>10.0</td>\n      <td>...</td>\n      <td>False</td>\n      <td>False</td>\n      <td>False</td>\n      <td>False</td>\n      <td>False</td>\n      <td>False</td>\n      <td>True</td>\n      <td>False</td>\n      <td>False</td>\n      <td>False</td>\n    </tr>\n    <tr>\n      <th>31333</th>\n      <td>6472966</td>\n      <td>1987-04-11</td>\n      <td>BO</td>\n      <td>CO</td>\n      <td>1075</td>\n      <td>2014-02-26</td>\n      <td>18</td>\n      <td>2475.0</td>\n      <td>3800</td>\n      <td>10.0</td>\n      <td>...</td>\n      <td>False</td>\n      <td>False</td>\n      <td>False</td>\n      <td>False</td>\n      <td>False</td>\n      <td>False</td>\n      <td>True</td>\n      <td>False</td>\n      <td>False</td>\n      <td>False</td>\n    </tr>\n    <tr>\n      <th>31334</th>\n      <td>12495474</td>\n      <td>1995-09-15</td>\n      <td>BO</td>\n      <td>PO</td>\n      <td>1075</td>\n      <td>2019-11-28</td>\n      <td>41</td>\n      <td>2475.0</td>\n      <td>3800</td>\n      <td>10.0</td>\n      <td>...</td>\n      <td>False</td>\n      <td>False</td>\n      <td>False</td>\n      <td>False</td>\n      <td>False</td>\n      <td>False</td>\n      <td>True</td>\n      <td>False</td>\n      <td>False</td>\n      <td>False</td>\n    </tr>\n  </tbody>\n</table>\n<p>31335 rows × 33 columns</p>\n</div>"
     },
     "execution_count": 188,
     "metadata": {},
     "output_type": "execute_result"
    }
   ],
   "source": [
    "df_encoded\n"
   ],
   "metadata": {
    "collapsed": false,
    "ExecuteTime": {
     "end_time": "2023-11-01T14:38:47.398158800Z",
     "start_time": "2023-11-01T14:38:47.291766Z"
    }
   },
   "id": "85a099665617d2f0"
  },
  {
   "cell_type": "code",
   "execution_count": 189,
   "outputs": [
    {
     "data": {
      "text/plain": "array(['BO', 'CL', 'AR', 'EC', 'PE', 'CO', 'VE', 'NI', 'AL', 'MX', 'BR',\n       'ES', 'UK', 'PY', 'BE', 'CU', 'UY', 'CS', 'IT', 'US', 'DO', 'CH',\n       'GT'], dtype=object)"
     },
     "execution_count": 189,
     "metadata": {},
     "output_type": "execute_result"
    }
   ],
   "source": [
    "df_encoded.codigo_pais_nacimiento.unique()"
   ],
   "metadata": {
    "collapsed": false,
    "ExecuteTime": {
     "end_time": "2023-11-01T15:25:12.279952300Z",
     "start_time": "2023-11-01T15:25:12.213071100Z"
    }
   },
   "id": "9fb970ccd9f6b12a"
  },
  {
   "cell_type": "code",
   "execution_count": 190,
   "outputs": [
    {
     "data": {
      "text/plain": "codigo_pais_nacimiento\nBO    30976\nAR      189\nPE       60\nCO       17\nEC       16\nBR       15\nVE       10\nCL        9\nMX        7\nES        7\nUK        6\nCU        4\nPY        3\nUS        3\nAL        2\nBE        2\nCS        2\nDO        2\nNI        1\nUY        1\nIT        1\nCH        1\nGT        1\nName: count, dtype: int64"
     },
     "execution_count": 190,
     "metadata": {},
     "output_type": "execute_result"
    }
   ],
   "source": [
    "df_encoded.codigo_pais_nacimiento.value_counts()"
   ],
   "metadata": {
    "collapsed": false,
    "ExecuteTime": {
     "end_time": "2023-11-01T15:25:12.859113200Z",
     "start_time": "2023-11-01T15:25:12.792084500Z"
    }
   },
   "id": "17b122e33d970c28"
  },
  {
   "cell_type": "code",
   "execution_count": 191,
   "outputs": [
    {
     "data": {
      "text/plain": "codigo_pais_nacimiento\nBO      30976\nAR        189\nLATE      110\nPE         60\nName: count, dtype: int64"
     },
     "execution_count": 191,
     "metadata": {},
     "output_type": "execute_result"
    }
   ],
   "source": [
    "mapeo_valores = {'ES': 'LATE', 'MX': 'LATE','CL': 'LATE','VE': 'LATE','BR': 'LATE','EC': 'LATE','CO': 'LATE', 'CU': 'LATE', 'PY': 'LATE','US':'LATE','BE':'LATE','DO':'LATE','AL':'LATE','CS':'LATE','UY':'LATE','NI':'LATE','UK':'LATE','IT':'LATE','GT':'LATE','CH':'LATE'}\n",
    "df_encoded.codigo_pais_nacimiento = df_encoded.codigo_pais_nacimiento.replace(mapeo_valores)\n",
    "df_encoded.codigo_pais_nacimiento.value_counts()"
   ],
   "metadata": {
    "collapsed": false,
    "ExecuteTime": {
     "end_time": "2023-11-01T15:25:15.490096600Z",
     "start_time": "2023-11-01T15:25:15.414331Z"
    }
   },
   "id": "9ae2e16d7f1c15e7"
  },
  {
   "cell_type": "code",
   "execution_count": 192,
   "outputs": [],
   "source": [
    "#df_encoded2.codigo_dpto_nacimiento.value_counts().codigo_dpto_namiento"
   ],
   "metadata": {
    "collapsed": false,
    "ExecuteTime": {
     "end_time": "2023-11-01T15:25:20.945223Z",
     "start_time": "2023-11-01T15:25:20.884947900Z"
    }
   },
   "id": "1b03f22ae32d22e0"
  },
  {
   "cell_type": "code",
   "execution_count": 193,
   "outputs": [
    {
     "data": {
      "text/plain": "codigo_dpto_nacimiento\nCH       15833\nPO        6445\nLP        2708\nOR        1836\nSC        1726\nOTHER     1481\nCO        1306\nName: count, dtype: int64"
     },
     "execution_count": 193,
     "metadata": {},
     "output_type": "execute_result"
    }
   ],
   "source": [
    "mapeo_valores = {'PA': 'OTHER', 'BA': 'OTHER','BE': 'OTHER','TA': 'OTHER','ME':'OTHER','SA':'OTHER','LI':'OTHER','PU':'OTHER','CU':'OTHER','QI':'OTHER','EM':'OTHER','JR':'OTHER','RS':'OTHER','JU':'OTHER','ER':'OTHER','C':'OTHER','CR':'OTHER','CA':'OTHER',\n",
    "                 'HE':'OTHER','HA':'OTHER','MA':'OTHER','AR':'OTHER','RC':'OTHER','GU':'OTHER','RI':'OTHER','LQ':'OTHER',\n",
    "                 'SE': 'OTHER', 'SM': 'OTHER','TU': 'OTHER','SL': 'OTHER','SF':'OTHER','GT':'OTHER','RU':'OTHER','AP':'OTHER','LE':'OTHER','TL':'OTHER','LL':'OTHER','US':'OTHER','TW':'OTHER','MU':'OTHER','LA':'OTHER','CV':'OTHER','RN':'OTHER',\n",
    "                 'RO':'OTHER','Az':'OTHER','BO':'OTHER','TC':'OTHER','BR':'OTHER','TF':'OTHER','MO':'OTHER','IL':'OTHER',\n",
    "                 'MN':'OTHER','CN':'OTHER','AN':'OTHER'}\n",
    "df_encoded.codigo_dpto_nacimiento = df_encoded.codigo_dpto_nacimiento.replace(mapeo_valores)\n",
    "df_encoded.codigo_dpto_nacimiento.value_counts()"
   ],
   "metadata": {
    "collapsed": false,
    "ExecuteTime": {
     "end_time": "2023-11-01T15:25:22.182500600Z",
     "start_time": "2023-11-01T15:25:22.071010400Z"
    }
   },
   "id": "437e7a91a1f7de04"
  },
  {
   "cell_type": "code",
   "execution_count": 193,
   "outputs": [],
   "source": [],
   "metadata": {
    "collapsed": false,
    "ExecuteTime": {
     "end_time": "2023-11-01T15:25:27.636968Z",
     "start_time": "2023-11-01T15:25:27.602195100Z"
    }
   },
   "id": "d5eac72be00e3904"
  },
  {
   "cell_type": "code",
   "execution_count": 194,
   "outputs": [],
   "source": [
    "df_encoded2 = pd.get_dummies(df_encoded, columns=['codigo_dpto_nacimiento'])"
   ],
   "metadata": {
    "collapsed": false,
    "ExecuteTime": {
     "end_time": "2023-11-01T15:25:28.165221500Z",
     "start_time": "2023-11-01T15:25:28.092619500Z"
    }
   },
   "id": "3ce346c30cfc004c"
  },
  {
   "cell_type": "code",
   "execution_count": 195,
   "outputs": [],
   "source": [
    "df_encoded3 = pd.get_dummies(df_encoded2, columns=['codigo_pais_nacimiento'])"
   ],
   "metadata": {
    "collapsed": false,
    "ExecuteTime": {
     "end_time": "2023-11-01T15:25:30.880816900Z",
     "start_time": "2023-11-01T15:25:30.838929700Z"
    }
   },
   "id": "74c6c49f811bc85b"
  },
  {
   "cell_type": "code",
   "execution_count": 159,
   "outputs": [],
   "source": [
    "columnaEliminar = ['iniciales_nombre','fecha_titulacion_academica','fecha_nac','codigo_carrera','monto_tutoria_no_null','codigo_tituloAcademico']"
   ],
   "metadata": {
    "collapsed": false,
    "ExecuteTime": {
     "end_time": "2023-11-01T14:08:36.055051400Z",
     "start_time": "2023-11-01T14:08:36.006074500Z"
    }
   },
   "id": "91cb89794fa4be14"
  },
  {
   "cell_type": "code",
   "execution_count": 196,
   "outputs": [
    {
     "data": {
      "text/plain": "             id   fecha_nac  codigo_carrera fecha_titulacion_academica  \\\n0       1115413  1985-05-13             102                 2006-12-15   \n1       3643710  1975-12-06             102                 2000-04-28   \n2       3650609  1975-06-05             102                 2001-12-21   \n3       1144923  1965-10-06             102                 1999-07-09   \n4       4014046  1979-01-10             102                 2004-04-16   \n...         ...         ...             ...                        ...   \n31330  12737586  1996-10-04            1075                 2022-04-08   \n31331  10305366  1999-07-27            1075                 2023-02-17   \n31332  13188176  1999-03-20            1075                 2023-08-30   \n31333   6472966  1987-04-11            1075                 2014-02-26   \n31334  12495474  1995-09-15            1075                 2019-11-28   \n\n       codigo_tituloAcademico  monto_tutoria  costo_programa  dep_inicial  \\\n0                          22          300.0            1100         20.0   \n1                          22          300.0            1100         20.0   \n2                          54          300.0            1100         20.0   \n3                          56          300.0            1100         20.0   \n4                           1          300.0            1100         20.0   \n...                       ...            ...             ...          ...   \n31330                      17            0.0            3800         10.0   \n31331                      17         2475.0            3800         10.0   \n31332                      17         2250.0            3800         10.0   \n31333                      18         2475.0            3800         10.0   \n31334                      41         2475.0            3800         10.0   \n\n      siglaNoVersion siglaNoVersionNumero  ... codigo_dpto_nacimiento_CO  \\\n0                MES                    0  ...                     False   \n1                MES                    0  ...                     False   \n2                MES                    0  ...                     False   \n3                MES                    0  ...                     False   \n4                MES                    0  ...                     False   \n...              ...                  ...  ...                       ...   \n31330         DBMGPC               DBMGPC  ...                     False   \n31331         DBMGPC               DBMGPC  ...                     False   \n31332         DBMGPC               DBMGPC  ...                     False   \n31333         DBMGPC               DBMGPC  ...                      True   \n31334         DBMGPC               DBMGPC  ...                     False   \n\n      codigo_dpto_nacimiento_LP  codigo_dpto_nacimiento_OR  \\\n0                         False                      False   \n1                         False                       True   \n2                         False                      False   \n3                         False                      False   \n4                         False                      False   \n...                         ...                        ...   \n31330                     False                      False   \n31331                     False                      False   \n31332                     False                      False   \n31333                     False                      False   \n31334                     False                      False   \n\n       codigo_dpto_nacimiento_OTHER  codigo_dpto_nacimiento_PO  \\\n0                             False                      False   \n1                             False                      False   \n2                             False                      False   \n3                             False                      False   \n4                             False                       True   \n...                             ...                        ...   \n31330                         False                      False   \n31331                         False                      False   \n31332                         False                      False   \n31333                         False                      False   \n31334                         False                       True   \n\n       codigo_dpto_nacimiento_SC  codigo_pais_nacimiento_AR  \\\n0                          False                      False   \n1                          False                      False   \n2                          False                      False   \n3                          False                      False   \n4                          False                      False   \n...                          ...                        ...   \n31330                      False                      False   \n31331                      False                      False   \n31332                      False                      False   \n31333                      False                      False   \n31334                      False                      False   \n\n       codigo_pais_nacimiento_BO  codigo_pais_nacimiento_LATE  \\\n0                           True                        False   \n1                           True                        False   \n2                           True                        False   \n3                           True                        False   \n4                           True                        False   \n...                          ...                          ...   \n31330                       True                        False   \n31331                       True                        False   \n31332                       True                        False   \n31333                       True                        False   \n31334                       True                        False   \n\n       codigo_pais_nacimiento_PE  \n0                          False  \n1                          False  \n2                          False  \n3                          False  \n4                          False  \n...                          ...  \n31330                      False  \n31331                      False  \n31332                      False  \n31333                      False  \n31334                      False  \n\n[31335 rows x 42 columns]",
      "text/html": "<div>\n<style scoped>\n    .dataframe tbody tr th:only-of-type {\n        vertical-align: middle;\n    }\n\n    .dataframe tbody tr th {\n        vertical-align: top;\n    }\n\n    .dataframe thead th {\n        text-align: right;\n    }\n</style>\n<table border=\"1\" class=\"dataframe\">\n  <thead>\n    <tr style=\"text-align: right;\">\n      <th></th>\n      <th>id</th>\n      <th>fecha_nac</th>\n      <th>codigo_carrera</th>\n      <th>fecha_titulacion_academica</th>\n      <th>codigo_tituloAcademico</th>\n      <th>monto_tutoria</th>\n      <th>costo_programa</th>\n      <th>dep_inicial</th>\n      <th>siglaNoVersion</th>\n      <th>siglaNoVersionNumero</th>\n      <th>...</th>\n      <th>codigo_dpto_nacimiento_CO</th>\n      <th>codigo_dpto_nacimiento_LP</th>\n      <th>codigo_dpto_nacimiento_OR</th>\n      <th>codigo_dpto_nacimiento_OTHER</th>\n      <th>codigo_dpto_nacimiento_PO</th>\n      <th>codigo_dpto_nacimiento_SC</th>\n      <th>codigo_pais_nacimiento_AR</th>\n      <th>codigo_pais_nacimiento_BO</th>\n      <th>codigo_pais_nacimiento_LATE</th>\n      <th>codigo_pais_nacimiento_PE</th>\n    </tr>\n  </thead>\n  <tbody>\n    <tr>\n      <th>0</th>\n      <td>1115413</td>\n      <td>1985-05-13</td>\n      <td>102</td>\n      <td>2006-12-15</td>\n      <td>22</td>\n      <td>300.0</td>\n      <td>1100</td>\n      <td>20.0</td>\n      <td>MES</td>\n      <td>0</td>\n      <td>...</td>\n      <td>False</td>\n      <td>False</td>\n      <td>False</td>\n      <td>False</td>\n      <td>False</td>\n      <td>False</td>\n      <td>False</td>\n      <td>True</td>\n      <td>False</td>\n      <td>False</td>\n    </tr>\n    <tr>\n      <th>1</th>\n      <td>3643710</td>\n      <td>1975-12-06</td>\n      <td>102</td>\n      <td>2000-04-28</td>\n      <td>22</td>\n      <td>300.0</td>\n      <td>1100</td>\n      <td>20.0</td>\n      <td>MES</td>\n      <td>0</td>\n      <td>...</td>\n      <td>False</td>\n      <td>False</td>\n      <td>True</td>\n      <td>False</td>\n      <td>False</td>\n      <td>False</td>\n      <td>False</td>\n      <td>True</td>\n      <td>False</td>\n      <td>False</td>\n    </tr>\n    <tr>\n      <th>2</th>\n      <td>3650609</td>\n      <td>1975-06-05</td>\n      <td>102</td>\n      <td>2001-12-21</td>\n      <td>54</td>\n      <td>300.0</td>\n      <td>1100</td>\n      <td>20.0</td>\n      <td>MES</td>\n      <td>0</td>\n      <td>...</td>\n      <td>False</td>\n      <td>False</td>\n      <td>False</td>\n      <td>False</td>\n      <td>False</td>\n      <td>False</td>\n      <td>False</td>\n      <td>True</td>\n      <td>False</td>\n      <td>False</td>\n    </tr>\n    <tr>\n      <th>3</th>\n      <td>1144923</td>\n      <td>1965-10-06</td>\n      <td>102</td>\n      <td>1999-07-09</td>\n      <td>56</td>\n      <td>300.0</td>\n      <td>1100</td>\n      <td>20.0</td>\n      <td>MES</td>\n      <td>0</td>\n      <td>...</td>\n      <td>False</td>\n      <td>False</td>\n      <td>False</td>\n      <td>False</td>\n      <td>False</td>\n      <td>False</td>\n      <td>False</td>\n      <td>True</td>\n      <td>False</td>\n      <td>False</td>\n    </tr>\n    <tr>\n      <th>4</th>\n      <td>4014046</td>\n      <td>1979-01-10</td>\n      <td>102</td>\n      <td>2004-04-16</td>\n      <td>1</td>\n      <td>300.0</td>\n      <td>1100</td>\n      <td>20.0</td>\n      <td>MES</td>\n      <td>0</td>\n      <td>...</td>\n      <td>False</td>\n      <td>False</td>\n      <td>False</td>\n      <td>False</td>\n      <td>True</td>\n      <td>False</td>\n      <td>False</td>\n      <td>True</td>\n      <td>False</td>\n      <td>False</td>\n    </tr>\n    <tr>\n      <th>...</th>\n      <td>...</td>\n      <td>...</td>\n      <td>...</td>\n      <td>...</td>\n      <td>...</td>\n      <td>...</td>\n      <td>...</td>\n      <td>...</td>\n      <td>...</td>\n      <td>...</td>\n      <td>...</td>\n      <td>...</td>\n      <td>...</td>\n      <td>...</td>\n      <td>...</td>\n      <td>...</td>\n      <td>...</td>\n      <td>...</td>\n      <td>...</td>\n      <td>...</td>\n      <td>...</td>\n    </tr>\n    <tr>\n      <th>31330</th>\n      <td>12737586</td>\n      <td>1996-10-04</td>\n      <td>1075</td>\n      <td>2022-04-08</td>\n      <td>17</td>\n      <td>0.0</td>\n      <td>3800</td>\n      <td>10.0</td>\n      <td>DBMGPC</td>\n      <td>DBMGPC</td>\n      <td>...</td>\n      <td>False</td>\n      <td>False</td>\n      <td>False</td>\n      <td>False</td>\n      <td>False</td>\n      <td>False</td>\n      <td>False</td>\n      <td>True</td>\n      <td>False</td>\n      <td>False</td>\n    </tr>\n    <tr>\n      <th>31331</th>\n      <td>10305366</td>\n      <td>1999-07-27</td>\n      <td>1075</td>\n      <td>2023-02-17</td>\n      <td>17</td>\n      <td>2475.0</td>\n      <td>3800</td>\n      <td>10.0</td>\n      <td>DBMGPC</td>\n      <td>DBMGPC</td>\n      <td>...</td>\n      <td>False</td>\n      <td>False</td>\n      <td>False</td>\n      <td>False</td>\n      <td>False</td>\n      <td>False</td>\n      <td>False</td>\n      <td>True</td>\n      <td>False</td>\n      <td>False</td>\n    </tr>\n    <tr>\n      <th>31332</th>\n      <td>13188176</td>\n      <td>1999-03-20</td>\n      <td>1075</td>\n      <td>2023-08-30</td>\n      <td>17</td>\n      <td>2250.0</td>\n      <td>3800</td>\n      <td>10.0</td>\n      <td>DBMGPC</td>\n      <td>DBMGPC</td>\n      <td>...</td>\n      <td>False</td>\n      <td>False</td>\n      <td>False</td>\n      <td>False</td>\n      <td>False</td>\n      <td>False</td>\n      <td>False</td>\n      <td>True</td>\n      <td>False</td>\n      <td>False</td>\n    </tr>\n    <tr>\n      <th>31333</th>\n      <td>6472966</td>\n      <td>1987-04-11</td>\n      <td>1075</td>\n      <td>2014-02-26</td>\n      <td>18</td>\n      <td>2475.0</td>\n      <td>3800</td>\n      <td>10.0</td>\n      <td>DBMGPC</td>\n      <td>DBMGPC</td>\n      <td>...</td>\n      <td>True</td>\n      <td>False</td>\n      <td>False</td>\n      <td>False</td>\n      <td>False</td>\n      <td>False</td>\n      <td>False</td>\n      <td>True</td>\n      <td>False</td>\n      <td>False</td>\n    </tr>\n    <tr>\n      <th>31334</th>\n      <td>12495474</td>\n      <td>1995-09-15</td>\n      <td>1075</td>\n      <td>2019-11-28</td>\n      <td>41</td>\n      <td>2475.0</td>\n      <td>3800</td>\n      <td>10.0</td>\n      <td>DBMGPC</td>\n      <td>DBMGPC</td>\n      <td>...</td>\n      <td>False</td>\n      <td>False</td>\n      <td>False</td>\n      <td>False</td>\n      <td>True</td>\n      <td>False</td>\n      <td>False</td>\n      <td>True</td>\n      <td>False</td>\n      <td>False</td>\n    </tr>\n  </tbody>\n</table>\n<p>31335 rows × 42 columns</p>\n</div>"
     },
     "execution_count": 196,
     "metadata": {},
     "output_type": "execute_result"
    }
   ],
   "source": [
    "df_encoded3"
   ],
   "metadata": {
    "collapsed": false,
    "ExecuteTime": {
     "end_time": "2023-11-01T15:25:43.461446700Z",
     "start_time": "2023-11-01T15:25:43.350518Z"
    }
   },
   "id": "11db215e46123f92"
  },
  {
   "cell_type": "code",
   "execution_count": 160,
   "outputs": [],
   "source": [
    "df_encoded3 = df_encoded3.drop(columnaEliminar,axis=1)"
   ],
   "metadata": {
    "collapsed": false,
    "ExecuteTime": {
     "end_time": "2023-11-01T14:08:36.278585600Z",
     "start_time": "2023-11-01T14:08:36.228615900Z"
    }
   },
   "id": "785f34afb09ea144"
  },
  {
   "cell_type": "code",
   "execution_count": 161,
   "outputs": [
    {
     "data": {
      "text/plain": "siglaNoVersion\nDES      3618\nMES      2141\nDDES     1175\nDDOC      837\nCPMZ      832\n         ... \nRDDC        1\nERH         1\nRMIH        1\nRMGRN       1\nRFGPD       1\nName: count, Length: 519, dtype: int64"
     },
     "execution_count": 161,
     "metadata": {},
     "output_type": "execute_result"
    }
   ],
   "source": [
    "df_encoded3.siglaNoVersion.value_counts()"
   ],
   "metadata": {
    "collapsed": false,
    "ExecuteTime": {
     "end_time": "2023-11-01T14:08:37.426881200Z",
     "start_time": "2023-11-01T14:08:37.377871300Z"
    }
   },
   "id": "36d96fdf4d0fee18"
  },
  {
   "cell_type": "code",
   "execution_count": 162,
   "outputs": [
    {
     "data": {
      "text/plain": "array(['0', '8', '9', '2', '13', 'MES', '3', '1', '4', '5', '11', '6',\n       '413', '411', '412', '423', 'MI', 'MSP', '12', '14', 'DES', 'EDA',\n       'DEI', '7', 'DDMI', 'DN', '20', 'DM', 'MET', 'DSI', 'DIS', 'MAJ',\n       'DGP', 'DD', 'DPB', 'DAPFT', 'DDNC', 'ESU', 'DGC', 'DSP', 'MSIGA',\n       'DGM', '10', '16', 'CTIMS', 'MTJ', 'DOPMC', 'ESI', 'DPC', 'DDHT',\n       'MDI', 'DIHE', 'DCTD', '17', 'DRCPA', 'DGTC', 'DFEAP', 'DEE',\n       'DMD', 'DDERH', 'REO', 'DDEIU', '15', 'DAPG', 'ESDRI', 'DDA',\n       'DAIS', 'DCTCA', 'MSIGC', 'DPP', 'ESM', 'DPSTS', 'MPGPE', 'DOVST',\n       'MT', 'EDN', 'MDD', 'DAF', 'DBMGPC'], dtype=object)"
     },
     "execution_count": 162,
     "metadata": {},
     "output_type": "execute_result"
    }
   ],
   "source": [
    "df_encoded3.siglaNoVersionNumero.unique()"
   ],
   "metadata": {
    "collapsed": false,
    "ExecuteTime": {
     "end_time": "2023-11-01T14:08:38.501020600Z",
     "start_time": "2023-11-01T14:08:38.435999800Z"
    }
   },
   "id": "d5b138209a090414"
  },
  {
   "cell_type": "markdown",
   "source": [
    "Frecuency encode"
   ],
   "metadata": {
    "collapsed": false
   },
   "id": "3a89fdadaa240b06"
  },
  {
   "cell_type": "code",
   "execution_count": 163,
   "outputs": [
    {
     "name": "stdout",
     "output_type": "stream",
     "text": [
      "{'MES': 0.06832615286420934, 'MPOS': 0.00015956598053295037, 'ESTR': 0.0006063507260252114, 'MAP': 0.0012446146481570129, 'DMP': 0.000861656294877932, 'ESTB': 0.0010212222754108825, 'DLQ': 0.0006382639221318015, 'ETED': 0.0006063507260252114, 'MAAS': 0.00015956598053295037, 'EPMT': 0.0013722674325833731, 'MPMT': 0.0018190521780756344, 'MNBC': 0.0005106111377054412, 'MKTDL': 9.573958831977022e-05, 'MMIC': 0.0010850486676240625, 'DES': 0.11546194351364289, 'MSPG': 0.0010531354715174724, 'MEPPD': 0.003829583532790809, 'DPDC': 0.00031913196106590075, 'DTCG': 0.0010212222754108825, 'CPFT': 0.0013403542364767832, 'CPFTD': 0.0003829583532790809, 'MICB': 0.0007659167065581618, 'DELI': 0.0005425243338120313, 'CFCAB': 0.0029041008456996966, 'MMTSO': 0.0036700175522578586, 'DESBA': 0.0014999202170097336, 'MFBV': 0.0011488750598372427, 'DFBC': 0.005329503749800542, 'CFDC': 0.0015637466092229136, 'DDES': 0.03749800542524334, 'EEO': 0.0027445348651667463, 'ASA': 0.0007659167065581618, 'RM': 0.0014041806286899633, 'DSIG': 0.0009893090793042924, 'MNCO': 0.00031913196106590075, 'EEGAU': 0.0003829583532790809, 'DESMO': 0.0036381043561512687, 'CFCEI': 0.0009893090793042924, 'DEFBC': 0.0019147917663954045, 'DDEPS': 0.002999840434019467, 'MIE': 0.012190840912717408, 'MAJ3L': 0.0010212222754108825, 'MIS': 0.0029041008456996966, 'MTII': 0.0010850486676240625, 'MSP': 0.00852082336045955, 'DDOC': 0.026711345141215894, 'MMT6S': 0.0014680070209031435, 'MGM': 0.0014360938247965534, 'DIFT': 0.019179830860060636, 'CPCN': 0.003414711983405138, 'DBIO': 0.0009254826870911121, 'EFEv': 0.0014999202170097336, 'DDPC': 0.0044997606510292, 'MT': 0.005872028083612574, 'MPDI': 0.0013084410403701931, 'DCE': 0.0007659167065581618, 'MIF': 0.0010212222754108825, 'HRH': 0.0006063507260252114, 'ES': 0.006382639221318015, 'EISA': 0.0022339237274613052, 'DEP': 0.00019147917663954044, 'DDH': 0.0007340035104515717, 'DHV': 0.0018509653741822243, 'EDDIR': 0.00044678474549226106, 'MI': 0.002936014041806287, 'MMNI': 0.0009573958831977022, 'MPGP': 0.0012446146481570129, 'MAF': 0.0035742779639380885, 'DGH': 0.0042125418860698895, 'DPCC': 0.0014360938247965534, 'MIGTR': 0.0005106111377054412, 'DDC': 0.0009893090793042924, 'MDC': 0.006669857986277326, 'GCV1V': 0.0017871389819690442, 'CTOMR': 0.0012127014520504228, 'DGA': 0.003414711983405138, 'DNA': 0.0010212222754108825, 'MAEGP': 0.0018190521780756344, 'EAMGC': 0.0013722674325833731, 'MAFDR': 0.0007978299026647519, 'DDCS': 0.00044678474549226106, 'MGAF': 0.00015956598053295037, 'MERE': 0.0028083612573799265, 'GDIAUT': 0.0014999202170097336, 'DGT': 0.004627413435455561, 'MESR': 0.006797510770703686, 'DESR': 0.010690920695707675, 'CEDO': 0.010499441519068134, 'TRSMD': 0.004659326631562151, 'CEBA': 0.0031274932184458273, 'FCEA': 0.0010531354715174724, 'MSE': 0.0003829583532790809, 'DCEC': 0.002648795276846976, 'CDCSH': 0.000829743098771342, 'EDTI': 0.004786979415988511, 'CPMZ': 0.026551779160682944, 'TFCTI': 0.0009573958831977022, 'MHGRH': 0.0013403542364767832, 'MHRH': 0.0001276527844263603, 'ESF': 0.0011807882559438329, 'CFCRN': 0.0041806286899633, 'RMFCB': 3.191319610659008e-05, 'DGNI': 0.002648795276846976, 'DIDT': 0.004818892612095101, 'CPH': 0.0012127014520504228, 'DDAV': 0.006957076751236637, 'EDA': 0.0019147917663954045, 'MDAS': 0.000829743098771342, 'DVAC': 0.0010531354715174724, 'DEI': 0.0017552257858624541, 'COR': 0.0011488750598372427, 'DBME': 0.0006063507260252114, 'CFCO': 0.0032870591989787776, 'DORE': 0.000861656294877932, 'PRMDR': 0.0002553055688527206, 'DMIC': 0.0011169618637306526, 'EGMC': 0.0006063507260252114, 'NPVG': 0.0065102920057443755, 'RMAJ': 0.002584968884633796, 'RNPV': 0.001659486197542684, 'DB': 0.00031913196106590075, 'SP4ST': 0.0017871389819690442, 'MSPR': 0.0011169618637306526, 'DPAD': 0.00031913196106590075, 'CNECS': 0.0031913196106590075, 'NCAR': 0.0036700175522578586, 'MAJ2S': 0.010531354715174725, 'DDMI': 0.002170097335248125, 'MDCG': 0.0016913993936492739, 'DDNC': 0.00430828147438966, 'CAEP': 0.003414711983405138, 'MEPV': 0.0018828785702888144, 'DPPG': 0.0007659167065581618, 'DN': 0.0009573958831977022, 'MANI': 0.0010531354715174724, 'EEFA': 0.0032232328067655974, 'DME': 0.002999840434019467, 'EAIP': 0.0007978299026647519, 'DPPM': 0.00414871549385671, 'CA': 0.001723312589755864, 'EDI': 0.0011488750598372427, '3JIDD': 0.0015318334131163235, 'PRDIF': 0.0018509653741822243, 'CRAC': 0.000861656294877932, 'DPPCG': 0.002265836923567895, 'DCG': 0.0007340035104515717, 'DM': 0.0022339237274613052, 'EIC': 0.0002872187649593107, 'DDNR': 0.006574118397957555, 'ESDN': 0.0003829583532790809, 'PRMAP': 0.00015956598053295037, 'RAPGD': 3.191319610659008e-05, 'CFCI': 0.0016913993936492739, 'DIE1P': 0.0013722674325833731, 'DCEPR': 0.002074357746928355, 'CDER': 0.0013722674325833731, 'EDYGM': 0.001276527844263603, 'DSP': 0.004563587043242381, 'SABS4V': 0.0039572363172171695, 'ESPF': 0.0017871389819690442, 'MDMC': 0.0011488750598372427, 'DHGV': 0.0015637466092229136, 'MGEP': 0.0014041806286899633, 'MET': 0.0018828785702888144, 'RDGE': 3.191319610659008e-05, 'EEA': 6.382639221318016e-05, 'DSI': 0.0014360938247965534, 'ENZA': 0.002042444550821765, 'DMSP': 0.0014041806286899633, 'CTIS': 0.0007020903143449816, 'EPMI': 0.002042444550821765, 'MSP4S': 0.002967927237912877, 'MAH': 0.0027445348651667463, 'MACG': 0.0008935694909845221, 'DIS': 0.001276527844263603, 'RGRNM': 6.382639221318016e-05, 'ESG': 6.382639221318016e-05, 'ESPD': 0.00044678474549226106, 'DEC': 0.001659486197542684, 'MECI': 0.0037657571405776287, 'DAJ': 0.001659486197542684, 'MPMG': 0.007691080261688208, 'DPGJ': 0.0021062709430349448, 'MCS': 0.0005744375299186214, 'CDPEA': 0.0014999202170097336, 'DDPT': 0.0010531354715174724, 'DDE': 0.0062549864368916545, 'MKTD': 0.0015956598053295037, 'MAJ3S': 0.007180469123982767, 'CJPS': 0.0004786979415988511, 'RPPCG': 0.0007020903143449816, 'DAF': 0.005648635710866443, 'EEON': 0.0019786181586085847, 'CFCQ': 0.003063666826232647, 'GIRS': 0.002457316100207436, 'DEEA': 0.0023296633157810754, 'HTRD': 0.0011169618637306526, 'EDTSV': 0.0007659167065581618, 'MAJ': 0.004691239827668741, 'EDDEC': 0.0013722674325833731, 'FCTI': 0.0002553055688527206, 'ESC': 0.0002553055688527206, 'DDPP': 0.0027126216690601564, 'MDCC': 0.003446625179511728, 'DAFR': 0.0011807882559438329, 'RDGH': 0.00019147917663954044, 'DGP': 0.002074357746928355, 'DERH': 0.005616722514759853, 'REAIP': 9.573958831977022e-05, 'CEREP': 0.000414871549385671, 'DFDE': 0.0017871389819690442, 'FCAFT': 0.0016913993936492739, 'DD': 0.0010212222754108825, 'CFCTDAH': 0.00019147917663954044, 'MSSR': 0.00015956598053295037, 'DCER': 0.00044678474549226106, 'EDDI': 0.0015956598053295037, 'MAJR': 0.002074357746928355, 'ACGR': 0.0011169618637306526, 'ETG': 0.0006063507260252114, 'MIC': 0.0007340035104515717, 'DAPH': 0.0024892292963140258, 'DESM': 0.0013084410403701931, 'EFGPD': 0.0005744375299186214, 'ESPT': 0.0001276527844263603, 'DESMU': 0.0018828785702888144, 'MSPMG': 0.003063666826232647, 'PRDD': 3.191319610659008e-05, 'RDD': 0.00015956598053295037, 'PSDS1MG': 0.0013084410403701931, 'MDCPC': 0.0027445348651667463, 'DPB': 0.0018509653741822243, 'MTSOC': 0.0006063507260252114, 'MTSOL': 0.000414871549385671, 'CNA': 0.000861656294877932, 'CNAS': 0.0001276527844263603, 'DEDGP': 0.00019147917663954044, 'DIM': 0.0013722674325833731, 'EEMQ': 0.0010212222754108825, 'DAPFT': 0.00031913196106590075, 'SADS': 0.00022339237274613053, 'DAIS': 0.0014360938247965534, 'RDMIC': 3.191319610659008e-05, 'DCMC': 0.0007659167065581618, 'CFET': 0.0023615765118876657, 'DGC': 0.00411680229775012, 'DCRJ': 0.0031274932184458273, 'MIH': 0.00031913196106590075, 'MIHP': 0.0014680070209031435, 'EGIMC': 0.0017552257858624541, 'MPA': 0.0008935694909845221, 'EDAH': 0.0015956598053295037, 'MMAH': 0.001276527844263603, 'MAHR': 0.0011807882559438329, 'RDAIS': 0.0003829583532790809, 'ERH': 3.191319610659008e-05, 'DGASO4MG': 0.0015637466092229136, 'EMI': 0.00015956598053295037, 'ECG': 6.382639221318016e-05, 'ESU': 0.002553055688527206, 'DDV1-MG': 0.0017552257858624541, 'GRPTI': 0.0018190521780756344, 'DESL': 0.0007978299026647519, 'MDE': 0.001659486197542684, 'CSDT': 0.0010531354715174724, 'MDGJ': 0.0010850486676240625, 'CFAU': 0.0007659167065581618, 'MAE': 0.001276527844263603, 'EEPPD': 0.00019147917663954044, 'ESER': 0.0005425243338120313, 'MTSO': 0.0017552257858624541, 'CFST': 0.0008935694909845221, 'DDPCR': 0.000829743098771342, 'HIAOH': 0.0004786979415988511, 'AMGC': 0.0007340035104515717, 'IIOQ': 0.0017871389819690442, 'EESP': 0.0022977501196744855, 'MEET': 0.0006063507260252114, 'DAGD': 0.0024254029041008455, 'DGMV1-MG': 0.0019147917663954045, 'RMPET': 3.191319610659008e-05, 'DDNC5MG': 0.0018509653741822243, 'MDCR': 0.002138184139141535, 'FCTTI': 0.0013403542364767832, 'MKTDS': 0.0007978299026647519, 'MADS': 0.00031913196106590075, 'SABS': 0.002999840434019467, 'CROP': 0.0011807882559438329, 'DTADH2MG': 0.005074198180947822, 'DGASO3MG': 0.0018509653741822243, 'DSIRS1MG': 0.004946545396521462, 'DCPC1MG': 0.0016913993936492739, 'MSIGA': 0.0002872187649593107, 'DTADH3MG': 0.0011807882559438329, 'DSIRS2MG': 0.0032551460028721877, 'ECBMI': 0.00015956598053295037, 'DTGC': 0.0002872187649593107, 'FCFH': 0.004627413435455561, 'STOC': 0.0002553055688527206, 'DGM': 0.0009893090793042924, 'RCIAD': 9.573958831977022e-05, 'DCRJ2MG': 0.0018509653741822243, 'TMMT': 0.0007978299026647519, 'DCS': 0.00022339237274613053, 'TIES': 0.0005744375299186214, 'CERRADO': 0.0022339237274613052, 'MMT5S': 0.0015956598053295037, 'CTIC': 0.0011488750598372427, 'CDOO': 0.00022339237274613053, 'EIS': 0.00019147917663954044, 'EOOPT': 6.382639221318016e-05, 'DGAC': 0.0044678474549226105, 'MMV1S': 0.0009893090793042924, 'RMM': 9.573958831977022e-05, 'ESBM': 0.0003829583532790809, 'CMD': 0.0016913993936492739, 'TPDIS': 0.00015956598053295037, 'RFGPD': 3.191319610659008e-05, 'FCAF': 0.00411680229775012, 'DFO': 0.0012127014520504228, 'RESDPP': 3.191319610659008e-05, 'DGD': 0.002170097335248125, 'DNIC': 0.0023296633157810754, 'ESEA': 0.0002553055688527206, 'MF': 0.0006382639221318015, 'DCGG': 0.00453167384713579, 'CFCDN': 0.0006063507260252114, 'CTIMS': 0.00019147917663954044, 'RMPGP': 0.0002553055688527206, 'DHVR': 0.00022339237274613053, 'DEMS': 0.0028083612573799265, 'DCJJ': 0.0015318334131163235, 'MTJ': 0.001276527844263603, 'DOPMC': 0.0009573958831977022, 'DCMR': 0.0026807084729535665, 'PRMAJ': 0.0007659167065581618, 'NIIF': 0.0014360938247965534, 'RDASA': 0.0018509653741822243, 'ME': 0.00019147917663954044, 'RDSP': 0.0005425243338120313, 'ISAB': 0.0013403542364767832, 'DNCA': 0.0014680070209031435, 'DBGF': 0.004691239827668741, 'EMF': 3.191319610659008e-05, 'DADE': 0.0009254826870911121, 'MAEC': 0.001276527844263603, 'EGC': 3.191319610659008e-05, 'DDMIV2-MG': 0.0007978299026647519, 'DP': 0.0002872187649593107, 'ESI': 0.000829743098771342, 'MAIM': 0.0001276527844263603, 'DGPV2MG': 0.0011169618637306526, 'RMT': 0.0015318334131163235, 'DPC': 0.0015956598053295037, 'RDFBC': 3.191319610659008e-05, 'RNCAR': 0.0001276527844263603, 'TFCT': 0.0007020903143449816, 'RDCG': 6.382639221318016e-05, 'DDHT': 0.0001276527844263603, 'MERER': 0.00019147917663954044, 'EFEvR': 0.0001276527844263603, 'RMMNI': 6.382639221318016e-05, 'DDER': 0.0016913993936492739, 'RMGET': 0.00019147917663954044, 'MFC': 0.0014999202170097336, 'RMCv': 3.191319610659008e-05, 'MDI': 0.0006701771182383916, 'MANA': 0.0007659167065581618, 'RAEEM': 0.00015956598053295037, 'CFCMA': 0.0002872187649593107, 'RFEAP': 0.0004786979415988511, 'RMIE': 0.0011169618637306526, 'DIHE': 0.0014360938247965534, 'DNSP': 0.0012127014520504228, 'MIG5V': 0.0013084410403701931, 'FHEP': 0.0028083612573799265, 'PSTS': 0.0009573958831977022, 'MI-M': 3.191319610659008e-05, 'ECABI': 6.382639221318016e-05, 'RDIER': 0.00019147917663954044, 'ESIG': 0.0013084410403701931, 'DPOM': 0.00044678474549226106, 'DGDL': 0.0015318334131163235, 'MIEE': 0.0006382639221318015, 'MEEL': 0.0003829583532790809, 'FEAP': 0.000829743098771342, 'DAGD2MG': 0.0005744375299186214, 'DCTD': 9.573958831977022e-05, 'ESTA': 0.00019147917663954044, 'MANMV': 9.573958831977022e-05, 'NIIP': 3.191319610659008e-05, 'DDE2MG': 0.0014041806286899633, 'ESDE': 0.00031913196106590075, 'MIG6V': 0.0013722674325833731, 'DCPC': 0.0019147917663954045, 'CFISO': 0.0003510451571724908, 'DIEDH': 0.002074357746928355, 'MIG3O': 0.0002553055688527206, 'EOR': 6.382639221318016e-05, 'RRHEE': 3.191319610659008e-05, 'DGE': 0.00015956598053295037, 'DRCPA': 0.0007340035104515717, 'EEP': 0.00015956598053295037, 'EGO': 0.0001276527844263603, 'EPS': 6.382639221318016e-05, 'EAP': 3.191319610659008e-05, 'EAMG': 6.382639221318016e-05, 'DDPP2MG': 0.002042444550821765, 'RDHG': 0.00031913196106590075, 'RMTSO': 0.0002553055688527206, 'MTSOR': 3.191319610659008e-05, 'MIVR': 0.00031913196106590075, 'DCMC2MG': 0.0015956598053295037, 'DMD': 0.005520982926440083, 'RDDN': 0.0006701771182383916, 'DEIR': 0.0001276527844263603, 'DEDDT': 3.191319610659008e-05, 'DGTC': 0.00022339237274613053, 'EDMH': 0.0002553055688527206, 'MMTS': 0.0007659167065581618, 'FCAFH': 0.004659326631562151, 'EEGO': 0.0005106111377054412, 'DERHR': 0.0006382639221318015, 'EARM': 0.0004786979415988511, 'SBST': 0.0010212222754108825, 'ESDAR': 0.0004786979415988511, 'ECOS': 9.573958831977022e-05, 'DFEAP': 0.0009254826870911121, 'RDGC': 0.0005106111377054412, 'DCEC2MG': 0.0022020105313547153, 'RDGT': 0.0003829583532790809, 'MEGO': 0.000414871549385671, 'DDMIV1-MG': 0.0028721876495931067, 'MIV2C': 0.00031913196106590075, 'RDMCI': 6.382639221318016e-05, 'RDTCG': 3.191319610659008e-05, 'DEE': 0.00015956598053295037, 'RMIGV': 0.0001276527844263603, 'RMAF': 0.00022339237274613053, 'MIG3L': 0.0011488750598372427, 'DDERH': 0.0015956598053295037, 'DFEAPV5MG': 0.0014360938247965534, 'DDERHV6MG': 0.003542364767831498, 'REO': 9.573958831977022e-05, 'RMIH': 3.191319610659008e-05, 'DMDV4MG': 0.004052975905536939, 'RDPC': 0.00022339237274613053, 'DTAM': 0.0019147917663954045, 'DDEIU': 0.00019147917663954044, 'DOV1G': 0.0023615765118876657, 'DAPG': 0.0013084410403701931, 'ESDRI': 3.191319610659008e-05, 'DDA': 0.00022339237274613053, 'DCTCA': 0.0002872187649593107, 'MSIGC': 3.191319610659008e-05, 'DPP': 0.0003510451571724908, 'DPPV1MG': 0.0010850486676240625, 'ESFO': 0.0005106111377054412, 'DIF': 0.0013084410403701931, 'EASEI': 0.00022339237274613053, 'MDNR': 0.0006063507260252114, 'CTRS': 9.573958831977022e-05, 'FCMO': 0.002074357746928355, 'ESAM': 3.191319610659008e-05, 'CGEC': 3.191319610659008e-05, 'FCAFS': 0.000861656294877932, 'MIG3T': 0.0001276527844263603, 'ESM': 0.00019147917663954044, 'DCNA': 6.382639221318016e-05, 'DCGG2MG': 3.191319610659008e-05, 'METV1MS': 6.382639221318016e-05, 'DPSTS': 0.0003510451571724908, 'MPGPE': 3.191319610659008e-05, 'DOVST': 3.191319610659008e-05, 'RDGA': 9.573958831977022e-05, 'RDNA': 6.382639221318016e-05, 'REDA': 0.00031913196106590075, 'RDCJE': 0.00022339237274613053, 'RDDMP': 3.191319610659008e-05, 'RSPR': 0.0002553055688527206, 'DNIR': 0.00019147917663954044, 'RMEMQ': 3.191319610659008e-05, 'RMD': 0.00044678474549226106, 'RDGACI': 6.382639221318016e-05, 'RFCAF': 0.0002553055688527206, '2RMSP': 9.573958831977022e-05, 'RDDC': 3.191319610659008e-05, 'MDND': 0.0001276527844263603, 'EDN': 0.0002553055688527206, 'RDCAJ': 9.573958831977022e-05, 'RDGP': 0.00015956598053295037, 'RMGRN': 3.191319610659008e-05, 'RMLCF': 3.191319610659008e-05, 'DVACR': 0.00015956598053295037, 'RESU': 6.382639221318016e-05, 'PSDS': 0.0002553055688527206, 'MGCS': 0.00022339237274613053, 'DDNCR': 9.573958831977022e-05, 'RSABS': 3.191319610659008e-05, 'RDCGGP': 0.00031913196106590075, 'RMRH': 6.382639221318016e-05, 'MDD': 3.191319610659008e-05, 'RDIDT': 6.382639221318016e-05, 'MEGOR': 6.382639221318016e-05, 'RMAECETH': 0.00015956598053295037, 'RDTAM': 0.00022339237274613053, 'DEPGR': 0.000414871549385671, 'JICC': 9.573958831977022e-05, 'DGNIR': 9.573958831977022e-05, 'ESIF': 0.0001276527844263603, 'ESPU': 3.191319610659008e-05, 'DDCF': 3.191319610659008e-05, 'MSR': 6.382639221318016e-05, 'MCTD': 3.191319610659008e-05, 'RMACG': 3.191319610659008e-05, 'RDIM': 0.00022339237274613053, 'DGT2MG': 3.191319610659008e-05, 'RDPGJAP': 6.382639221318016e-05, 'DBMGPC': 0.00044678474549226106}\n"
     ]
    }
   ],
   "source": [
    "from collections import Counter\n",
    "\n",
    "# Calcular la frecuencia de cada categoría\n",
    "frecuencia_categorias = dict(Counter(df_encoded3.siglaNoVersion))\n",
    "# Calcular la frecuencia total de todas las categorías\n",
    "frecuencia_total = sum(frecuencia_categorias.values())\n",
    "\n",
    "# Crear un diccionario de mapeo de categorías a sus frecuencias\n",
    "encode_frecuencia = {categoria: frecuencia / frecuencia_total for categoria, frecuencia in frecuencia_categorias.items()}\n",
    "\n",
    "# Mostrar el mapeo resultante\n",
    "print(encode_frecuencia)\n"
   ],
   "metadata": {
    "collapsed": false,
    "ExecuteTime": {
     "end_time": "2023-11-01T14:08:40.670270700Z",
     "start_time": "2023-11-01T14:08:40.625603Z"
    }
   },
   "id": "3c3dfd8b26aa08e7"
  },
  {
   "cell_type": "code",
   "execution_count": 164,
   "outputs": [],
   "source": [
    "import json\n",
    "with open('frecuencia.json', 'w') as archivo_json:\n",
    "    json.dump(encode_frecuencia, archivo_json)"
   ],
   "metadata": {
    "collapsed": false,
    "ExecuteTime": {
     "end_time": "2023-11-01T14:08:41.212167800Z",
     "start_time": "2023-11-01T14:08:41.177544900Z"
    }
   },
   "id": "98ab717a4e9a8567"
  },
  {
   "cell_type": "code",
   "execution_count": 165,
   "outputs": [
    {
     "ename": "KeyError",
     "evalue": "8",
     "output_type": "error",
     "traceback": [
      "\u001B[1;31m---------------------------------------------------------------------------\u001B[0m",
      "\u001B[1;31mKeyError\u001B[0m                                  Traceback (most recent call last)",
      "Cell \u001B[1;32mIn[165], line 2\u001B[0m\n\u001B[0;32m      1\u001B[0m a \u001B[38;5;241m=\u001B[39m {\u001B[38;5;241m4\u001B[39m:\u001B[38;5;241m8\u001B[39m,\u001B[38;5;241m9\u001B[39m:\u001B[38;5;241m3\u001B[39m,\u001B[38;5;241m2\u001B[39m:\u001B[38;5;241m1\u001B[39m}\n\u001B[1;32m----> 2\u001B[0m \u001B[43ma\u001B[49m\u001B[43m[\u001B[49m\u001B[38;5;241;43m8\u001B[39;49m\u001B[43m]\u001B[49m\n",
      "\u001B[1;31mKeyError\u001B[0m: 8"
     ]
    }
   ],
   "source": [
    "a = {4:8,9:3,2:1}\n",
    "a[8]"
   ],
   "metadata": {
    "collapsed": false,
    "ExecuteTime": {
     "end_time": "2023-11-01T14:08:41.989841200Z",
     "start_time": "2023-11-01T14:08:41.956186600Z"
    }
   },
   "id": "aa32d55e2d7936ce"
  },
  {
   "cell_type": "code",
   "execution_count": 166,
   "outputs": [],
   "source": [
    "df_encoded3.siglaNoVersion = df_encoded3.siglaNoVersion.map(encode_frecuencia)"
   ],
   "metadata": {
    "collapsed": false,
    "ExecuteTime": {
     "end_time": "2023-11-01T14:08:44.337097800Z",
     "start_time": "2023-11-01T14:08:44.289707600Z"
    }
   },
   "id": "d0c4013325f3d605"
  },
  {
   "cell_type": "code",
   "execution_count": 167,
   "outputs": [
    {
     "data": {
      "text/plain": "             id  monto_tutoria  costo_programa  dep_inicial  siglaNoVersion  \\\n0       1115413          300.0            1100         20.0        0.068326   \n1       3643710          300.0            1100         20.0        0.068326   \n2       3650609          300.0            1100         20.0        0.068326   \n3       1144923          300.0            1100         20.0        0.068326   \n4       4014046          300.0            1100         20.0        0.068326   \n...         ...            ...             ...          ...             ...   \n31330  12737586            0.0            3800         10.0        0.000447   \n31331  10305366         2475.0            3800         10.0        0.000447   \n31332  13188176         2250.0            3800         10.0        0.000447   \n31333   6472966         2475.0            3800         10.0        0.000447   \n31334  12495474         2475.0            3800         10.0        0.000447   \n\n      siglaNoVersionNumero                                             nombre  \\\n0                        0                 Maestría en Educación Superior V.3   \n1                        0                 Maestría en Educación Superior V.3   \n2                        0                 Maestría en Educación Superior V.3   \n3                        0                 Maestría en Educación Superior V.3   \n4                        0                 Maestría en Educación Superior V.3   \n...                    ...                                                ...   \n31330               DBMGPC  Diplomado en Bim Modelado y Gestión de Proyect...   \n31331               DBMGPC  Diplomado en Bim Modelado y Gestión de Proyect...   \n31332               DBMGPC  Diplomado en Bim Modelado y Gestión de Proyect...   \n31333               DBMGPC  Diplomado en Bim Modelado y Gestión de Proyect...   \n31334               DBMGPC  Diplomado en Bim Modelado y Gestión de Proyect...   \n\n       edad  tiempo_titulacion  sexo_F  ...  codigo_dpto_nacimiento_CO  \\\n0        38                 16   False  ...                      False   \n1        47                 23   False  ...                      False   \n2        48                 21   False  ...                      False   \n3        58                 24   False  ...                      False   \n4        44                 19   False  ...                      False   \n...     ...                ...     ...  ...                        ...   \n31330    27                  1    True  ...                      False   \n31331    24                  0    True  ...                      False   \n31332    24                  0    True  ...                      False   \n31333    36                  9   False  ...                       True   \n31334    28                  3   False  ...                      False   \n\n       codigo_dpto_nacimiento_LP  codigo_dpto_nacimiento_OR  \\\n0                          False                      False   \n1                          False                       True   \n2                          False                      False   \n3                          False                      False   \n4                          False                      False   \n...                          ...                        ...   \n31330                      False                      False   \n31331                      False                      False   \n31332                      False                      False   \n31333                      False                      False   \n31334                      False                      False   \n\n       codigo_dpto_nacimiento_OTHER  codigo_dpto_nacimiento_PO  \\\n0                             False                      False   \n1                             False                      False   \n2                             False                      False   \n3                             False                      False   \n4                             False                       True   \n...                             ...                        ...   \n31330                         False                      False   \n31331                         False                      False   \n31332                         False                      False   \n31333                         False                      False   \n31334                         False                       True   \n\n       codigo_dpto_nacimiento_SC  codigo_pais_nacimiento_AR  \\\n0                          False                      False   \n1                          False                      False   \n2                          False                      False   \n3                          False                      False   \n4                          False                      False   \n...                          ...                        ...   \n31330                      False                      False   \n31331                      False                      False   \n31332                      False                      False   \n31333                      False                      False   \n31334                      False                      False   \n\n       codigo_pais_nacimiento_BO  codigo_pais_nacimiento_LATE  \\\n0                           True                        False   \n1                           True                        False   \n2                           True                        False   \n3                           True                        False   \n4                           True                        False   \n...                          ...                          ...   \n31330                       True                        False   \n31331                       True                        False   \n31332                       True                        False   \n31333                       True                        False   \n31334                       True                        False   \n\n       codigo_pais_nacimiento_PE  \n0                          False  \n1                          False  \n2                          False  \n3                          False  \n4                          False  \n...                          ...  \n31330                      False  \n31331                      False  \n31332                      False  \n31333                      False  \n31334                      False  \n\n[31335 rows x 36 columns]",
      "text/html": "<div>\n<style scoped>\n    .dataframe tbody tr th:only-of-type {\n        vertical-align: middle;\n    }\n\n    .dataframe tbody tr th {\n        vertical-align: top;\n    }\n\n    .dataframe thead th {\n        text-align: right;\n    }\n</style>\n<table border=\"1\" class=\"dataframe\">\n  <thead>\n    <tr style=\"text-align: right;\">\n      <th></th>\n      <th>id</th>\n      <th>monto_tutoria</th>\n      <th>costo_programa</th>\n      <th>dep_inicial</th>\n      <th>siglaNoVersion</th>\n      <th>siglaNoVersionNumero</th>\n      <th>nombre</th>\n      <th>edad</th>\n      <th>tiempo_titulacion</th>\n      <th>sexo_F</th>\n      <th>...</th>\n      <th>codigo_dpto_nacimiento_CO</th>\n      <th>codigo_dpto_nacimiento_LP</th>\n      <th>codigo_dpto_nacimiento_OR</th>\n      <th>codigo_dpto_nacimiento_OTHER</th>\n      <th>codigo_dpto_nacimiento_PO</th>\n      <th>codigo_dpto_nacimiento_SC</th>\n      <th>codigo_pais_nacimiento_AR</th>\n      <th>codigo_pais_nacimiento_BO</th>\n      <th>codigo_pais_nacimiento_LATE</th>\n      <th>codigo_pais_nacimiento_PE</th>\n    </tr>\n  </thead>\n  <tbody>\n    <tr>\n      <th>0</th>\n      <td>1115413</td>\n      <td>300.0</td>\n      <td>1100</td>\n      <td>20.0</td>\n      <td>0.068326</td>\n      <td>0</td>\n      <td>Maestría en Educación Superior V.3</td>\n      <td>38</td>\n      <td>16</td>\n      <td>False</td>\n      <td>...</td>\n      <td>False</td>\n      <td>False</td>\n      <td>False</td>\n      <td>False</td>\n      <td>False</td>\n      <td>False</td>\n      <td>False</td>\n      <td>True</td>\n      <td>False</td>\n      <td>False</td>\n    </tr>\n    <tr>\n      <th>1</th>\n      <td>3643710</td>\n      <td>300.0</td>\n      <td>1100</td>\n      <td>20.0</td>\n      <td>0.068326</td>\n      <td>0</td>\n      <td>Maestría en Educación Superior V.3</td>\n      <td>47</td>\n      <td>23</td>\n      <td>False</td>\n      <td>...</td>\n      <td>False</td>\n      <td>False</td>\n      <td>True</td>\n      <td>False</td>\n      <td>False</td>\n      <td>False</td>\n      <td>False</td>\n      <td>True</td>\n      <td>False</td>\n      <td>False</td>\n    </tr>\n    <tr>\n      <th>2</th>\n      <td>3650609</td>\n      <td>300.0</td>\n      <td>1100</td>\n      <td>20.0</td>\n      <td>0.068326</td>\n      <td>0</td>\n      <td>Maestría en Educación Superior V.3</td>\n      <td>48</td>\n      <td>21</td>\n      <td>False</td>\n      <td>...</td>\n      <td>False</td>\n      <td>False</td>\n      <td>False</td>\n      <td>False</td>\n      <td>False</td>\n      <td>False</td>\n      <td>False</td>\n      <td>True</td>\n      <td>False</td>\n      <td>False</td>\n    </tr>\n    <tr>\n      <th>3</th>\n      <td>1144923</td>\n      <td>300.0</td>\n      <td>1100</td>\n      <td>20.0</td>\n      <td>0.068326</td>\n      <td>0</td>\n      <td>Maestría en Educación Superior V.3</td>\n      <td>58</td>\n      <td>24</td>\n      <td>False</td>\n      <td>...</td>\n      <td>False</td>\n      <td>False</td>\n      <td>False</td>\n      <td>False</td>\n      <td>False</td>\n      <td>False</td>\n      <td>False</td>\n      <td>True</td>\n      <td>False</td>\n      <td>False</td>\n    </tr>\n    <tr>\n      <th>4</th>\n      <td>4014046</td>\n      <td>300.0</td>\n      <td>1100</td>\n      <td>20.0</td>\n      <td>0.068326</td>\n      <td>0</td>\n      <td>Maestría en Educación Superior V.3</td>\n      <td>44</td>\n      <td>19</td>\n      <td>False</td>\n      <td>...</td>\n      <td>False</td>\n      <td>False</td>\n      <td>False</td>\n      <td>False</td>\n      <td>True</td>\n      <td>False</td>\n      <td>False</td>\n      <td>True</td>\n      <td>False</td>\n      <td>False</td>\n    </tr>\n    <tr>\n      <th>...</th>\n      <td>...</td>\n      <td>...</td>\n      <td>...</td>\n      <td>...</td>\n      <td>...</td>\n      <td>...</td>\n      <td>...</td>\n      <td>...</td>\n      <td>...</td>\n      <td>...</td>\n      <td>...</td>\n      <td>...</td>\n      <td>...</td>\n      <td>...</td>\n      <td>...</td>\n      <td>...</td>\n      <td>...</td>\n      <td>...</td>\n      <td>...</td>\n      <td>...</td>\n      <td>...</td>\n    </tr>\n    <tr>\n      <th>31330</th>\n      <td>12737586</td>\n      <td>0.0</td>\n      <td>3800</td>\n      <td>10.0</td>\n      <td>0.000447</td>\n      <td>DBMGPC</td>\n      <td>Diplomado en Bim Modelado y Gestión de Proyect...</td>\n      <td>27</td>\n      <td>1</td>\n      <td>True</td>\n      <td>...</td>\n      <td>False</td>\n      <td>False</td>\n      <td>False</td>\n      <td>False</td>\n      <td>False</td>\n      <td>False</td>\n      <td>False</td>\n      <td>True</td>\n      <td>False</td>\n      <td>False</td>\n    </tr>\n    <tr>\n      <th>31331</th>\n      <td>10305366</td>\n      <td>2475.0</td>\n      <td>3800</td>\n      <td>10.0</td>\n      <td>0.000447</td>\n      <td>DBMGPC</td>\n      <td>Diplomado en Bim Modelado y Gestión de Proyect...</td>\n      <td>24</td>\n      <td>0</td>\n      <td>True</td>\n      <td>...</td>\n      <td>False</td>\n      <td>False</td>\n      <td>False</td>\n      <td>False</td>\n      <td>False</td>\n      <td>False</td>\n      <td>False</td>\n      <td>True</td>\n      <td>False</td>\n      <td>False</td>\n    </tr>\n    <tr>\n      <th>31332</th>\n      <td>13188176</td>\n      <td>2250.0</td>\n      <td>3800</td>\n      <td>10.0</td>\n      <td>0.000447</td>\n      <td>DBMGPC</td>\n      <td>Diplomado en Bim Modelado y Gestión de Proyect...</td>\n      <td>24</td>\n      <td>0</td>\n      <td>True</td>\n      <td>...</td>\n      <td>False</td>\n      <td>False</td>\n      <td>False</td>\n      <td>False</td>\n      <td>False</td>\n      <td>False</td>\n      <td>False</td>\n      <td>True</td>\n      <td>False</td>\n      <td>False</td>\n    </tr>\n    <tr>\n      <th>31333</th>\n      <td>6472966</td>\n      <td>2475.0</td>\n      <td>3800</td>\n      <td>10.0</td>\n      <td>0.000447</td>\n      <td>DBMGPC</td>\n      <td>Diplomado en Bim Modelado y Gestión de Proyect...</td>\n      <td>36</td>\n      <td>9</td>\n      <td>False</td>\n      <td>...</td>\n      <td>True</td>\n      <td>False</td>\n      <td>False</td>\n      <td>False</td>\n      <td>False</td>\n      <td>False</td>\n      <td>False</td>\n      <td>True</td>\n      <td>False</td>\n      <td>False</td>\n    </tr>\n    <tr>\n      <th>31334</th>\n      <td>12495474</td>\n      <td>2475.0</td>\n      <td>3800</td>\n      <td>10.0</td>\n      <td>0.000447</td>\n      <td>DBMGPC</td>\n      <td>Diplomado en Bim Modelado y Gestión de Proyect...</td>\n      <td>28</td>\n      <td>3</td>\n      <td>False</td>\n      <td>...</td>\n      <td>False</td>\n      <td>False</td>\n      <td>False</td>\n      <td>False</td>\n      <td>True</td>\n      <td>False</td>\n      <td>False</td>\n      <td>True</td>\n      <td>False</td>\n      <td>False</td>\n    </tr>\n  </tbody>\n</table>\n<p>31335 rows × 36 columns</p>\n</div>"
     },
     "execution_count": 167,
     "metadata": {},
     "output_type": "execute_result"
    }
   ],
   "source": [
    "df_encoded3"
   ],
   "metadata": {
    "collapsed": false,
    "ExecuteTime": {
     "end_time": "2023-11-01T14:08:45.186880Z",
     "start_time": "2023-11-01T14:08:45.070316700Z"
    }
   },
   "id": "5d476852dfbeb85"
  },
  {
   "cell_type": "code",
   "execution_count": 168,
   "outputs": [
    {
     "data": {
      "text/plain": "count    31335.000000\nmean         0.023617\nstd          0.037574\nmin          0.000032\n25%          0.001787\n50%          0.004468\n75%          0.026552\nmax          0.115462\nName: siglaNoVersion, dtype: float64"
     },
     "execution_count": 168,
     "metadata": {},
     "output_type": "execute_result"
    }
   ],
   "source": [
    "df_encoded3.siglaNoVersion.describe()"
   ],
   "metadata": {
    "collapsed": false,
    "ExecuteTime": {
     "end_time": "2023-11-01T14:08:45.780226300Z",
     "start_time": "2023-11-01T14:08:45.726329700Z"
    }
   },
   "id": "c4e43e313fb1919b"
  },
  {
   "cell_type": "code",
   "execution_count": 169,
   "outputs": [
    {
     "data": {
      "text/plain": "count    31335.000000\nmean        40.629328\nstd         11.030696\nmin          0.000000\n25%         33.000000\n50%         40.000000\n75%         47.000000\nmax         81.000000\nName: edad, dtype: float64"
     },
     "execution_count": 169,
     "metadata": {},
     "output_type": "execute_result"
    }
   ],
   "source": [
    "df_encoded3.edad.describe()"
   ],
   "metadata": {
    "collapsed": false,
    "ExecuteTime": {
     "end_time": "2023-11-01T14:08:47.236648600Z",
     "start_time": "2023-11-01T14:08:47.174382Z"
    }
   },
   "id": "241c894b0aac4247"
  },
  {
   "cell_type": "code",
   "execution_count": 170,
   "outputs": [
    {
     "data": {
      "text/plain": "count    31335.000000\nmean        13.068581\nstd          8.669388\nmin          0.000000\n25%          7.000000\n50%         13.000000\n75%         19.000000\nmax         60.000000\nName: tiempo_titulacion, dtype: float64"
     },
     "execution_count": 170,
     "metadata": {},
     "output_type": "execute_result"
    }
   ],
   "source": [
    "df_encoded3.tiempo_titulacion.describe()"
   ],
   "metadata": {
    "collapsed": false,
    "ExecuteTime": {
     "end_time": "2023-11-01T14:08:47.989458200Z",
     "start_time": "2023-11-01T14:08:47.943262100Z"
    }
   },
   "id": "838af27e8bbce6e1"
  },
  {
   "cell_type": "code",
   "execution_count": 171,
   "outputs": [
    {
     "data": {
      "text/plain": "array([16, 23, 21, 24, 19, 20, 26, 25, 17, 30, 22, 18, 14, 34, 12, 42, 31,\n       28, 29, 13, 36, 46, 39, 43, 27, 41, 33,  0,  8, 35, 15,  7, 38, 32,\n       40, 45,  9, 44, 11, 10, 37,  5,  4, 49, 53, 48,  3, 52, 47,  6, 58,\n       50,  2,  1, 59, 60, 55], dtype=int64)"
     },
     "execution_count": 171,
     "metadata": {},
     "output_type": "execute_result"
    }
   ],
   "source": [
    "df_encoded3.tiempo_titulacion.unique()"
   ],
   "metadata": {
    "collapsed": false,
    "ExecuteTime": {
     "end_time": "2023-11-01T14:08:48.489324400Z",
     "start_time": "2023-11-01T14:08:48.441091600Z"
    }
   },
   "id": "55346b8b9a2fa7e5"
  },
  {
   "cell_type": "code",
   "execution_count": 172,
   "outputs": [],
   "source": [
    "def convertirEdades(edad):\n",
    "    edadNumero = int(edad)\n",
    "    if edadNumero<21:\n",
    "        return 20\n",
    "    return edad"
   ],
   "metadata": {
    "collapsed": false,
    "ExecuteTime": {
     "end_time": "2023-11-01T14:08:49.020602400Z",
     "start_time": "2023-11-01T14:08:48.984113800Z"
    }
   },
   "id": "aea3639eb03c0234"
  },
  {
   "cell_type": "code",
   "execution_count": 173,
   "outputs": [],
   "source": [
    "df_encoded3.edad = df_encoded3.edad.apply(convertirEdades)"
   ],
   "metadata": {
    "collapsed": false,
    "ExecuteTime": {
     "end_time": "2023-11-01T14:08:49.732658600Z",
     "start_time": "2023-11-01T14:08:49.673959800Z"
    }
   },
   "id": "8bcf7a795274113d"
  },
  {
   "cell_type": "code",
   "execution_count": 174,
   "outputs": [
    {
     "data": {
      "text/plain": "count    31335.000000\nmean        40.776257\nstd         10.653613\nmin         20.000000\n25%         33.000000\n50%         40.000000\n75%         47.000000\nmax         81.000000\nName: edad, dtype: float64"
     },
     "execution_count": 174,
     "metadata": {},
     "output_type": "execute_result"
    }
   ],
   "source": [
    "df_encoded3.edad.describe()"
   ],
   "metadata": {
    "collapsed": false,
    "ExecuteTime": {
     "end_time": "2023-11-01T14:08:49.985657800Z",
     "start_time": "2023-11-01T14:08:49.920852400Z"
    }
   },
   "id": "eabd5953dde502ba"
  },
  {
   "cell_type": "code",
   "execution_count": 175,
   "outputs": [],
   "source": [
    "from sklearn.preprocessing import MinMaxScaler\n",
    "scaler = MinMaxScaler()\n",
    "df_encoded3[\"costo_programa\"] = scaler.fit_transform(df_encoded3[[\"costo_programa\"]])\n",
    "df_encoded3[\"monto_tutoria\"] = scaler.fit_transform(df_encoded3[[\"monto_tutoria\"]])\n",
    "#df_encoded3[\"codigo_tituloAcademico\"] = scaler.fit_transform(df_encoded3[[\"codigo_tituloAcademico\"]])\n",
    "df_encoded3[\"edad\"] = scaler.fit_transform(df_encoded3[[\"edad\"]])\n",
    "df_encoded3[\"dep_inicial\"] = scaler.fit_transform(df_encoded3[[\"dep_inicial\"]])\n",
    "df_encoded3[\"tiempo_titulacion\"] = scaler.fit_transform(df_encoded3[[\"tiempo_titulacion\"]])"
   ],
   "metadata": {
    "collapsed": false,
    "ExecuteTime": {
     "end_time": "2023-11-01T14:08:51.020474500Z",
     "start_time": "2023-11-01T14:08:50.618458Z"
    }
   },
   "id": "8adc150e38e51c09"
  },
  {
   "cell_type": "code",
   "execution_count": 176,
   "outputs": [],
   "source": [
    "columnas = ['siglaNoVersionNumero']\n",
    "df_encoded3 = df_encoded3.dropna(subset=columnas)"
   ],
   "metadata": {
    "collapsed": false,
    "ExecuteTime": {
     "end_time": "2023-11-01T14:08:51.379553300Z",
     "start_time": "2023-11-01T14:08:51.300741100Z"
    }
   },
   "id": "9227f38f7a109ba9"
  },
  {
   "cell_type": "code",
   "execution_count": 177,
   "outputs": [
    {
     "data": {
      "text/plain": "             id  monto_tutoria  costo_programa  dep_inicial  siglaNoVersion  \\\n0       1115413       0.071429        0.042718          0.2        0.068326   \n1       3643710       0.071429        0.042718          0.2        0.068326   \n2       3650609       0.071429        0.042718          0.2        0.068326   \n3       1144923       0.071429        0.042718          0.2        0.068326   \n4       4014046       0.071429        0.042718          0.2        0.068326   \n...         ...            ...             ...          ...             ...   \n31330  12737586       0.000000        0.147573          0.1        0.000447   \n31331  10305366       0.589286        0.147573          0.1        0.000447   \n31332  13188176       0.535714        0.147573          0.1        0.000447   \n31333   6472966       0.589286        0.147573          0.1        0.000447   \n31334  12495474       0.589286        0.147573          0.1        0.000447   \n\n      siglaNoVersionNumero                                             nombre  \\\n0                        0                 Maestría en Educación Superior V.3   \n1                        0                 Maestría en Educación Superior V.3   \n2                        0                 Maestría en Educación Superior V.3   \n3                        0                 Maestría en Educación Superior V.3   \n4                        0                 Maestría en Educación Superior V.3   \n...                    ...                                                ...   \n31330               DBMGPC  Diplomado en Bim Modelado y Gestión de Proyect...   \n31331               DBMGPC  Diplomado en Bim Modelado y Gestión de Proyect...   \n31332               DBMGPC  Diplomado en Bim Modelado y Gestión de Proyect...   \n31333               DBMGPC  Diplomado en Bim Modelado y Gestión de Proyect...   \n31334               DBMGPC  Diplomado en Bim Modelado y Gestión de Proyect...   \n\n           edad  tiempo_titulacion  sexo_F  ...  codigo_dpto_nacimiento_CO  \\\n0      0.295082           0.266667   False  ...                      False   \n1      0.442623           0.383333   False  ...                      False   \n2      0.459016           0.350000   False  ...                      False   \n3      0.622951           0.400000   False  ...                      False   \n4      0.393443           0.316667   False  ...                      False   \n...         ...                ...     ...  ...                        ...   \n31330  0.114754           0.016667    True  ...                      False   \n31331  0.065574           0.000000    True  ...                      False   \n31332  0.065574           0.000000    True  ...                      False   \n31333  0.262295           0.150000   False  ...                       True   \n31334  0.131148           0.050000   False  ...                      False   \n\n       codigo_dpto_nacimiento_LP  codigo_dpto_nacimiento_OR  \\\n0                          False                      False   \n1                          False                       True   \n2                          False                      False   \n3                          False                      False   \n4                          False                      False   \n...                          ...                        ...   \n31330                      False                      False   \n31331                      False                      False   \n31332                      False                      False   \n31333                      False                      False   \n31334                      False                      False   \n\n       codigo_dpto_nacimiento_OTHER  codigo_dpto_nacimiento_PO  \\\n0                             False                      False   \n1                             False                      False   \n2                             False                      False   \n3                             False                      False   \n4                             False                       True   \n...                             ...                        ...   \n31330                         False                      False   \n31331                         False                      False   \n31332                         False                      False   \n31333                         False                      False   \n31334                         False                       True   \n\n       codigo_dpto_nacimiento_SC  codigo_pais_nacimiento_AR  \\\n0                          False                      False   \n1                          False                      False   \n2                          False                      False   \n3                          False                      False   \n4                          False                      False   \n...                          ...                        ...   \n31330                      False                      False   \n31331                      False                      False   \n31332                      False                      False   \n31333                      False                      False   \n31334                      False                      False   \n\n       codigo_pais_nacimiento_BO  codigo_pais_nacimiento_LATE  \\\n0                           True                        False   \n1                           True                        False   \n2                           True                        False   \n3                           True                        False   \n4                           True                        False   \n...                          ...                          ...   \n31330                       True                        False   \n31331                       True                        False   \n31332                       True                        False   \n31333                       True                        False   \n31334                       True                        False   \n\n       codigo_pais_nacimiento_PE  \n0                          False  \n1                          False  \n2                          False  \n3                          False  \n4                          False  \n...                          ...  \n31330                      False  \n31331                      False  \n31332                      False  \n31333                      False  \n31334                      False  \n\n[31335 rows x 36 columns]",
      "text/html": "<div>\n<style scoped>\n    .dataframe tbody tr th:only-of-type {\n        vertical-align: middle;\n    }\n\n    .dataframe tbody tr th {\n        vertical-align: top;\n    }\n\n    .dataframe thead th {\n        text-align: right;\n    }\n</style>\n<table border=\"1\" class=\"dataframe\">\n  <thead>\n    <tr style=\"text-align: right;\">\n      <th></th>\n      <th>id</th>\n      <th>monto_tutoria</th>\n      <th>costo_programa</th>\n      <th>dep_inicial</th>\n      <th>siglaNoVersion</th>\n      <th>siglaNoVersionNumero</th>\n      <th>nombre</th>\n      <th>edad</th>\n      <th>tiempo_titulacion</th>\n      <th>sexo_F</th>\n      <th>...</th>\n      <th>codigo_dpto_nacimiento_CO</th>\n      <th>codigo_dpto_nacimiento_LP</th>\n      <th>codigo_dpto_nacimiento_OR</th>\n      <th>codigo_dpto_nacimiento_OTHER</th>\n      <th>codigo_dpto_nacimiento_PO</th>\n      <th>codigo_dpto_nacimiento_SC</th>\n      <th>codigo_pais_nacimiento_AR</th>\n      <th>codigo_pais_nacimiento_BO</th>\n      <th>codigo_pais_nacimiento_LATE</th>\n      <th>codigo_pais_nacimiento_PE</th>\n    </tr>\n  </thead>\n  <tbody>\n    <tr>\n      <th>0</th>\n      <td>1115413</td>\n      <td>0.071429</td>\n      <td>0.042718</td>\n      <td>0.2</td>\n      <td>0.068326</td>\n      <td>0</td>\n      <td>Maestría en Educación Superior V.3</td>\n      <td>0.295082</td>\n      <td>0.266667</td>\n      <td>False</td>\n      <td>...</td>\n      <td>False</td>\n      <td>False</td>\n      <td>False</td>\n      <td>False</td>\n      <td>False</td>\n      <td>False</td>\n      <td>False</td>\n      <td>True</td>\n      <td>False</td>\n      <td>False</td>\n    </tr>\n    <tr>\n      <th>1</th>\n      <td>3643710</td>\n      <td>0.071429</td>\n      <td>0.042718</td>\n      <td>0.2</td>\n      <td>0.068326</td>\n      <td>0</td>\n      <td>Maestría en Educación Superior V.3</td>\n      <td>0.442623</td>\n      <td>0.383333</td>\n      <td>False</td>\n      <td>...</td>\n      <td>False</td>\n      <td>False</td>\n      <td>True</td>\n      <td>False</td>\n      <td>False</td>\n      <td>False</td>\n      <td>False</td>\n      <td>True</td>\n      <td>False</td>\n      <td>False</td>\n    </tr>\n    <tr>\n      <th>2</th>\n      <td>3650609</td>\n      <td>0.071429</td>\n      <td>0.042718</td>\n      <td>0.2</td>\n      <td>0.068326</td>\n      <td>0</td>\n      <td>Maestría en Educación Superior V.3</td>\n      <td>0.459016</td>\n      <td>0.350000</td>\n      <td>False</td>\n      <td>...</td>\n      <td>False</td>\n      <td>False</td>\n      <td>False</td>\n      <td>False</td>\n      <td>False</td>\n      <td>False</td>\n      <td>False</td>\n      <td>True</td>\n      <td>False</td>\n      <td>False</td>\n    </tr>\n    <tr>\n      <th>3</th>\n      <td>1144923</td>\n      <td>0.071429</td>\n      <td>0.042718</td>\n      <td>0.2</td>\n      <td>0.068326</td>\n      <td>0</td>\n      <td>Maestría en Educación Superior V.3</td>\n      <td>0.622951</td>\n      <td>0.400000</td>\n      <td>False</td>\n      <td>...</td>\n      <td>False</td>\n      <td>False</td>\n      <td>False</td>\n      <td>False</td>\n      <td>False</td>\n      <td>False</td>\n      <td>False</td>\n      <td>True</td>\n      <td>False</td>\n      <td>False</td>\n    </tr>\n    <tr>\n      <th>4</th>\n      <td>4014046</td>\n      <td>0.071429</td>\n      <td>0.042718</td>\n      <td>0.2</td>\n      <td>0.068326</td>\n      <td>0</td>\n      <td>Maestría en Educación Superior V.3</td>\n      <td>0.393443</td>\n      <td>0.316667</td>\n      <td>False</td>\n      <td>...</td>\n      <td>False</td>\n      <td>False</td>\n      <td>False</td>\n      <td>False</td>\n      <td>True</td>\n      <td>False</td>\n      <td>False</td>\n      <td>True</td>\n      <td>False</td>\n      <td>False</td>\n    </tr>\n    <tr>\n      <th>...</th>\n      <td>...</td>\n      <td>...</td>\n      <td>...</td>\n      <td>...</td>\n      <td>...</td>\n      <td>...</td>\n      <td>...</td>\n      <td>...</td>\n      <td>...</td>\n      <td>...</td>\n      <td>...</td>\n      <td>...</td>\n      <td>...</td>\n      <td>...</td>\n      <td>...</td>\n      <td>...</td>\n      <td>...</td>\n      <td>...</td>\n      <td>...</td>\n      <td>...</td>\n      <td>...</td>\n    </tr>\n    <tr>\n      <th>31330</th>\n      <td>12737586</td>\n      <td>0.000000</td>\n      <td>0.147573</td>\n      <td>0.1</td>\n      <td>0.000447</td>\n      <td>DBMGPC</td>\n      <td>Diplomado en Bim Modelado y Gestión de Proyect...</td>\n      <td>0.114754</td>\n      <td>0.016667</td>\n      <td>True</td>\n      <td>...</td>\n      <td>False</td>\n      <td>False</td>\n      <td>False</td>\n      <td>False</td>\n      <td>False</td>\n      <td>False</td>\n      <td>False</td>\n      <td>True</td>\n      <td>False</td>\n      <td>False</td>\n    </tr>\n    <tr>\n      <th>31331</th>\n      <td>10305366</td>\n      <td>0.589286</td>\n      <td>0.147573</td>\n      <td>0.1</td>\n      <td>0.000447</td>\n      <td>DBMGPC</td>\n      <td>Diplomado en Bim Modelado y Gestión de Proyect...</td>\n      <td>0.065574</td>\n      <td>0.000000</td>\n      <td>True</td>\n      <td>...</td>\n      <td>False</td>\n      <td>False</td>\n      <td>False</td>\n      <td>False</td>\n      <td>False</td>\n      <td>False</td>\n      <td>False</td>\n      <td>True</td>\n      <td>False</td>\n      <td>False</td>\n    </tr>\n    <tr>\n      <th>31332</th>\n      <td>13188176</td>\n      <td>0.535714</td>\n      <td>0.147573</td>\n      <td>0.1</td>\n      <td>0.000447</td>\n      <td>DBMGPC</td>\n      <td>Diplomado en Bim Modelado y Gestión de Proyect...</td>\n      <td>0.065574</td>\n      <td>0.000000</td>\n      <td>True</td>\n      <td>...</td>\n      <td>False</td>\n      <td>False</td>\n      <td>False</td>\n      <td>False</td>\n      <td>False</td>\n      <td>False</td>\n      <td>False</td>\n      <td>True</td>\n      <td>False</td>\n      <td>False</td>\n    </tr>\n    <tr>\n      <th>31333</th>\n      <td>6472966</td>\n      <td>0.589286</td>\n      <td>0.147573</td>\n      <td>0.1</td>\n      <td>0.000447</td>\n      <td>DBMGPC</td>\n      <td>Diplomado en Bim Modelado y Gestión de Proyect...</td>\n      <td>0.262295</td>\n      <td>0.150000</td>\n      <td>False</td>\n      <td>...</td>\n      <td>True</td>\n      <td>False</td>\n      <td>False</td>\n      <td>False</td>\n      <td>False</td>\n      <td>False</td>\n      <td>False</td>\n      <td>True</td>\n      <td>False</td>\n      <td>False</td>\n    </tr>\n    <tr>\n      <th>31334</th>\n      <td>12495474</td>\n      <td>0.589286</td>\n      <td>0.147573</td>\n      <td>0.1</td>\n      <td>0.000447</td>\n      <td>DBMGPC</td>\n      <td>Diplomado en Bim Modelado y Gestión de Proyect...</td>\n      <td>0.131148</td>\n      <td>0.050000</td>\n      <td>False</td>\n      <td>...</td>\n      <td>False</td>\n      <td>False</td>\n      <td>False</td>\n      <td>False</td>\n      <td>True</td>\n      <td>False</td>\n      <td>False</td>\n      <td>True</td>\n      <td>False</td>\n      <td>False</td>\n    </tr>\n  </tbody>\n</table>\n<p>31335 rows × 36 columns</p>\n</div>"
     },
     "execution_count": 177,
     "metadata": {},
     "output_type": "execute_result"
    }
   ],
   "source": [
    "df_encoded3"
   ],
   "metadata": {
    "collapsed": false,
    "ExecuteTime": {
     "end_time": "2023-11-01T14:08:52.105974700Z",
     "start_time": "2023-11-01T14:08:52.053930200Z"
    }
   },
   "id": "996f28d6e6b4d129"
  },
  {
   "cell_type": "code",
   "execution_count": 178,
   "outputs": [],
   "source": [
    "nombre_archivo_csv = '../data/dfClean.csv'\n",
    "df_encoded3.to_csv(nombre_archivo_csv, index=False)"
   ],
   "metadata": {
    "collapsed": false,
    "ExecuteTime": {
     "end_time": "2023-11-01T14:08:54.851928900Z",
     "start_time": "2023-11-01T14:08:54.435877400Z"
    }
   },
   "id": "fecd1e3c73b23077"
  },
  {
   "cell_type": "code",
   "execution_count": null,
   "outputs": [],
   "source": [],
   "metadata": {
    "collapsed": false
   },
   "id": "2dd9995775f82f4"
  }
 ],
 "metadata": {
  "kernelspec": {
   "display_name": "Python 3",
   "language": "python",
   "name": "python3"
  },
  "language_info": {
   "codemirror_mode": {
    "name": "ipython",
    "version": 2
   },
   "file_extension": ".py",
   "mimetype": "text/x-python",
   "name": "python",
   "nbconvert_exporter": "python",
   "pygments_lexer": "ipython2",
   "version": "2.7.6"
  }
 },
 "nbformat": 4,
 "nbformat_minor": 5
}
