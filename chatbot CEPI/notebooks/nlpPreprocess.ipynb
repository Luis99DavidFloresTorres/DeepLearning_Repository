{
 "cells": [
  {
   "cell_type": "code",
   "execution_count": 1,
   "id": "initial_id",
   "metadata": {
    "collapsed": true,
    "ExecuteTime": {
     "end_time": "2023-10-31T14:07:02.976848400Z",
     "start_time": "2023-10-31T14:07:02.827052500Z"
    }
   },
   "outputs": [],
   "source": [
    "import pandas as pd\n",
    "dfC = 'E:/chatbot/data/dfClean.csv'\n",
    "dfClean = pd.read_csv(dfC)"
   ]
  },
  {
   "cell_type": "code",
   "execution_count": 2,
   "outputs": [
    {
     "data": {
      "text/plain": "             id  codigo_tituloAcademico  monto_tutoria  costo_programa  \\\n0       1115413                0.047930       0.071429        0.042718   \n1       3643710                0.047930       0.071429        0.042718   \n2       3650609                0.117647       0.071429        0.042718   \n3       1144923                0.122004       0.071429        0.042718   \n4       4014046                0.002179       0.071429        0.042718   \n...         ...                     ...            ...             ...   \n31330  12737586                0.037037       0.589286        0.147573   \n31331  10305366                0.037037       0.535714        0.147573   \n31332  13188176                0.037037       0.180952        0.147573   \n31333   6472966                0.039216       0.535714        0.147573   \n31334  12495474                0.089325       0.589286        0.147573   \n\n       dep_inicial  siglaNoVersion siglaNoVersionNumero  \\\n0              0.2        0.068326                    0   \n1              0.2        0.068326                    0   \n2              0.2        0.068326                    0   \n3              0.2        0.068326                    0   \n4              0.2        0.068326                    0   \n...            ...             ...                  ...   \n31330          0.1        0.000447               DBMGPC   \n31331          0.1        0.000447               DBMGPC   \n31332          0.1        0.000447               DBMGPC   \n31333          0.1        0.000447               DBMGPC   \n31334          0.1        0.000447               DBMGPC   \n\n                                                  nombre      edad  \\\n0                     Maestría en Educación Superior V.3  0.469136   \n1                     Maestría en Educación Superior V.3  0.580247   \n2                     Maestría en Educación Superior V.3  0.592593   \n3                     Maestría en Educación Superior V.3  0.716049   \n4                     Maestría en Educación Superior V.3  0.543210   \n...                                                  ...       ...   \n31330  Diplomado en Bim Modelado y Gestión de Proyect...  0.333333   \n31331  Diplomado en Bim Modelado y Gestión de Proyect...  0.296296   \n31332  Diplomado en Bim Modelado y Gestión de Proyect...  0.296296   \n31333  Diplomado en Bim Modelado y Gestión de Proyect...  0.444444   \n31334  Diplomado en Bim Modelado y Gestión de Proyect...  0.345679   \n\n       tiempo_titulacion  ...  codigo_dpto_nacimiento_CO  \\\n0               0.047930  ...                      False   \n1               0.047930  ...                      False   \n2               0.117647  ...                      False   \n3               0.122004  ...                      False   \n4               0.002179  ...                      False   \n...                  ...  ...                        ...   \n31330           0.037037  ...                      False   \n31331           0.037037  ...                      False   \n31332           0.037037  ...                      False   \n31333           0.039216  ...                       True   \n31334           0.089325  ...                      False   \n\n       codigo_dpto_nacimiento_LP  codigo_dpto_nacimiento_OR  \\\n0                          False                      False   \n1                          False                       True   \n2                          False                      False   \n3                          False                      False   \n4                          False                      False   \n...                          ...                        ...   \n31330                      False                      False   \n31331                      False                      False   \n31332                      False                      False   \n31333                      False                      False   \n31334                      False                      False   \n\n       codigo_dpto_nacimiento_OTHER  codigo_dpto_nacimiento_PO  \\\n0                             False                      False   \n1                             False                      False   \n2                             False                      False   \n3                             False                      False   \n4                             False                       True   \n...                             ...                        ...   \n31330                         False                      False   \n31331                         False                      False   \n31332                         False                      False   \n31333                         False                      False   \n31334                         False                       True   \n\n       codigo_dpto_nacimiento_SC  codigo_pais_nacimiento_AR  \\\n0                          False                      False   \n1                          False                      False   \n2                          False                      False   \n3                          False                      False   \n4                          False                      False   \n...                          ...                        ...   \n31330                      False                      False   \n31331                      False                      False   \n31332                      False                      False   \n31333                      False                      False   \n31334                      False                      False   \n\n       codigo_pais_nacimiento_BO  codigo_pais_nacimiento_LATE  \\\n0                           True                        False   \n1                           True                        False   \n2                           True                        False   \n3                           True                        False   \n4                           True                        False   \n...                          ...                          ...   \n31330                       True                        False   \n31331                       True                        False   \n31332                       True                        False   \n31333                       True                        False   \n31334                       True                        False   \n\n       codigo_pais_nacimiento_PE  \n0                          False  \n1                          False  \n2                          False  \n3                          False  \n4                          False  \n...                          ...  \n31330                      False  \n31331                      False  \n31332                      False  \n31333                      False  \n31334                      False  \n\n[31335 rows x 40 columns]",
      "text/html": "<div>\n<style scoped>\n    .dataframe tbody tr th:only-of-type {\n        vertical-align: middle;\n    }\n\n    .dataframe tbody tr th {\n        vertical-align: top;\n    }\n\n    .dataframe thead th {\n        text-align: right;\n    }\n</style>\n<table border=\"1\" class=\"dataframe\">\n  <thead>\n    <tr style=\"text-align: right;\">\n      <th></th>\n      <th>id</th>\n      <th>codigo_tituloAcademico</th>\n      <th>monto_tutoria</th>\n      <th>costo_programa</th>\n      <th>dep_inicial</th>\n      <th>siglaNoVersion</th>\n      <th>siglaNoVersionNumero</th>\n      <th>nombre</th>\n      <th>edad</th>\n      <th>tiempo_titulacion</th>\n      <th>...</th>\n      <th>codigo_dpto_nacimiento_CO</th>\n      <th>codigo_dpto_nacimiento_LP</th>\n      <th>codigo_dpto_nacimiento_OR</th>\n      <th>codigo_dpto_nacimiento_OTHER</th>\n      <th>codigo_dpto_nacimiento_PO</th>\n      <th>codigo_dpto_nacimiento_SC</th>\n      <th>codigo_pais_nacimiento_AR</th>\n      <th>codigo_pais_nacimiento_BO</th>\n      <th>codigo_pais_nacimiento_LATE</th>\n      <th>codigo_pais_nacimiento_PE</th>\n    </tr>\n  </thead>\n  <tbody>\n    <tr>\n      <th>0</th>\n      <td>1115413</td>\n      <td>0.047930</td>\n      <td>0.071429</td>\n      <td>0.042718</td>\n      <td>0.2</td>\n      <td>0.068326</td>\n      <td>0</td>\n      <td>Maestría en Educación Superior V.3</td>\n      <td>0.469136</td>\n      <td>0.047930</td>\n      <td>...</td>\n      <td>False</td>\n      <td>False</td>\n      <td>False</td>\n      <td>False</td>\n      <td>False</td>\n      <td>False</td>\n      <td>False</td>\n      <td>True</td>\n      <td>False</td>\n      <td>False</td>\n    </tr>\n    <tr>\n      <th>1</th>\n      <td>3643710</td>\n      <td>0.047930</td>\n      <td>0.071429</td>\n      <td>0.042718</td>\n      <td>0.2</td>\n      <td>0.068326</td>\n      <td>0</td>\n      <td>Maestría en Educación Superior V.3</td>\n      <td>0.580247</td>\n      <td>0.047930</td>\n      <td>...</td>\n      <td>False</td>\n      <td>False</td>\n      <td>True</td>\n      <td>False</td>\n      <td>False</td>\n      <td>False</td>\n      <td>False</td>\n      <td>True</td>\n      <td>False</td>\n      <td>False</td>\n    </tr>\n    <tr>\n      <th>2</th>\n      <td>3650609</td>\n      <td>0.117647</td>\n      <td>0.071429</td>\n      <td>0.042718</td>\n      <td>0.2</td>\n      <td>0.068326</td>\n      <td>0</td>\n      <td>Maestría en Educación Superior V.3</td>\n      <td>0.592593</td>\n      <td>0.117647</td>\n      <td>...</td>\n      <td>False</td>\n      <td>False</td>\n      <td>False</td>\n      <td>False</td>\n      <td>False</td>\n      <td>False</td>\n      <td>False</td>\n      <td>True</td>\n      <td>False</td>\n      <td>False</td>\n    </tr>\n    <tr>\n      <th>3</th>\n      <td>1144923</td>\n      <td>0.122004</td>\n      <td>0.071429</td>\n      <td>0.042718</td>\n      <td>0.2</td>\n      <td>0.068326</td>\n      <td>0</td>\n      <td>Maestría en Educación Superior V.3</td>\n      <td>0.716049</td>\n      <td>0.122004</td>\n      <td>...</td>\n      <td>False</td>\n      <td>False</td>\n      <td>False</td>\n      <td>False</td>\n      <td>False</td>\n      <td>False</td>\n      <td>False</td>\n      <td>True</td>\n      <td>False</td>\n      <td>False</td>\n    </tr>\n    <tr>\n      <th>4</th>\n      <td>4014046</td>\n      <td>0.002179</td>\n      <td>0.071429</td>\n      <td>0.042718</td>\n      <td>0.2</td>\n      <td>0.068326</td>\n      <td>0</td>\n      <td>Maestría en Educación Superior V.3</td>\n      <td>0.543210</td>\n      <td>0.002179</td>\n      <td>...</td>\n      <td>False</td>\n      <td>False</td>\n      <td>False</td>\n      <td>False</td>\n      <td>True</td>\n      <td>False</td>\n      <td>False</td>\n      <td>True</td>\n      <td>False</td>\n      <td>False</td>\n    </tr>\n    <tr>\n      <th>...</th>\n      <td>...</td>\n      <td>...</td>\n      <td>...</td>\n      <td>...</td>\n      <td>...</td>\n      <td>...</td>\n      <td>...</td>\n      <td>...</td>\n      <td>...</td>\n      <td>...</td>\n      <td>...</td>\n      <td>...</td>\n      <td>...</td>\n      <td>...</td>\n      <td>...</td>\n      <td>...</td>\n      <td>...</td>\n      <td>...</td>\n      <td>...</td>\n      <td>...</td>\n      <td>...</td>\n    </tr>\n    <tr>\n      <th>31330</th>\n      <td>12737586</td>\n      <td>0.037037</td>\n      <td>0.589286</td>\n      <td>0.147573</td>\n      <td>0.1</td>\n      <td>0.000447</td>\n      <td>DBMGPC</td>\n      <td>Diplomado en Bim Modelado y Gestión de Proyect...</td>\n      <td>0.333333</td>\n      <td>0.037037</td>\n      <td>...</td>\n      <td>False</td>\n      <td>False</td>\n      <td>False</td>\n      <td>False</td>\n      <td>False</td>\n      <td>False</td>\n      <td>False</td>\n      <td>True</td>\n      <td>False</td>\n      <td>False</td>\n    </tr>\n    <tr>\n      <th>31331</th>\n      <td>10305366</td>\n      <td>0.037037</td>\n      <td>0.535714</td>\n      <td>0.147573</td>\n      <td>0.1</td>\n      <td>0.000447</td>\n      <td>DBMGPC</td>\n      <td>Diplomado en Bim Modelado y Gestión de Proyect...</td>\n      <td>0.296296</td>\n      <td>0.037037</td>\n      <td>...</td>\n      <td>False</td>\n      <td>False</td>\n      <td>False</td>\n      <td>False</td>\n      <td>False</td>\n      <td>False</td>\n      <td>False</td>\n      <td>True</td>\n      <td>False</td>\n      <td>False</td>\n    </tr>\n    <tr>\n      <th>31332</th>\n      <td>13188176</td>\n      <td>0.037037</td>\n      <td>0.180952</td>\n      <td>0.147573</td>\n      <td>0.1</td>\n      <td>0.000447</td>\n      <td>DBMGPC</td>\n      <td>Diplomado en Bim Modelado y Gestión de Proyect...</td>\n      <td>0.296296</td>\n      <td>0.037037</td>\n      <td>...</td>\n      <td>False</td>\n      <td>False</td>\n      <td>False</td>\n      <td>False</td>\n      <td>False</td>\n      <td>False</td>\n      <td>False</td>\n      <td>True</td>\n      <td>False</td>\n      <td>False</td>\n    </tr>\n    <tr>\n      <th>31333</th>\n      <td>6472966</td>\n      <td>0.039216</td>\n      <td>0.535714</td>\n      <td>0.147573</td>\n      <td>0.1</td>\n      <td>0.000447</td>\n      <td>DBMGPC</td>\n      <td>Diplomado en Bim Modelado y Gestión de Proyect...</td>\n      <td>0.444444</td>\n      <td>0.039216</td>\n      <td>...</td>\n      <td>True</td>\n      <td>False</td>\n      <td>False</td>\n      <td>False</td>\n      <td>False</td>\n      <td>False</td>\n      <td>False</td>\n      <td>True</td>\n      <td>False</td>\n      <td>False</td>\n    </tr>\n    <tr>\n      <th>31334</th>\n      <td>12495474</td>\n      <td>0.089325</td>\n      <td>0.589286</td>\n      <td>0.147573</td>\n      <td>0.1</td>\n      <td>0.000447</td>\n      <td>DBMGPC</td>\n      <td>Diplomado en Bim Modelado y Gestión de Proyect...</td>\n      <td>0.345679</td>\n      <td>0.089325</td>\n      <td>...</td>\n      <td>False</td>\n      <td>False</td>\n      <td>False</td>\n      <td>False</td>\n      <td>True</td>\n      <td>False</td>\n      <td>False</td>\n      <td>True</td>\n      <td>False</td>\n      <td>False</td>\n    </tr>\n  </tbody>\n</table>\n<p>31335 rows × 40 columns</p>\n</div>"
     },
     "execution_count": 2,
     "metadata": {},
     "output_type": "execute_result"
    }
   ],
   "source": [
    "dfClean"
   ],
   "metadata": {
    "collapsed": false,
    "ExecuteTime": {
     "end_time": "2023-10-31T14:07:03.026481900Z",
     "start_time": "2023-10-31T14:07:02.980835300Z"
    }
   },
   "id": "c91a93038a4fbed6"
  },
  {
   "cell_type": "code",
   "execution_count": 4,
   "outputs": [
    {
     "name": "stderr",
     "output_type": "stream",
     "text": [
      "[nltk_data] Downloading package punkt to\n",
      "[nltk_data]     C:\\Users\\Usuario\\AppData\\Roaming\\nltk_data...\n",
      "[nltk_data]   Unzipping tokenizers\\punkt.zip.\n"
     ]
    },
    {
     "data": {
      "text/plain": "True"
     },
     "execution_count": 4,
     "metadata": {},
     "output_type": "execute_result"
    }
   ],
   "source": [
    "import re\n",
    "import unicodedata\n",
    "import nltk\n",
    "from nltk.corpus import stopwords\n",
    "nltk.download('punkt')"
   ],
   "metadata": {
    "collapsed": false,
    "ExecuteTime": {
     "end_time": "2023-10-31T14:13:26.120893500Z",
     "start_time": "2023-10-31T14:13:14.539553400Z"
    }
   },
   "id": "d39ee623e2f3f794"
  },
  {
   "cell_type": "code",
   "execution_count": 6,
   "outputs": [
    {
     "name": "stderr",
     "output_type": "stream",
     "text": [
      "[nltk_data] Downloading package stopwords to\n",
      "[nltk_data]     C:\\Users\\Usuario\\AppData\\Roaming\\nltk_data...\n",
      "[nltk_data]   Unzipping corpora\\stopwords.zip.\n"
     ]
    },
    {
     "data": {
      "text/plain": "True"
     },
     "execution_count": 6,
     "metadata": {},
     "output_type": "execute_result"
    }
   ],
   "source": [
    "nltk.download('stopwords')"
   ],
   "metadata": {
    "collapsed": false,
    "ExecuteTime": {
     "end_time": "2023-10-31T14:14:38.524632400Z",
     "start_time": "2023-10-31T14:14:38.129495100Z"
    }
   },
   "id": "cb1467bab0acb52a"
  },
  {
   "cell_type": "code",
   "execution_count": 15,
   "outputs": [],
   "source": [
    "# Paso 4: Eliminación de acentos\n",
    "def quitar_acentos(text):\n",
    "    return ''.join((c for c in unicodedata.normalize('NFD', text) if unicodedata.category(c) != 'Mn'))\n"
   ],
   "metadata": {
    "collapsed": false,
    "ExecuteTime": {
     "end_time": "2023-10-31T14:53:28.003371300Z",
     "start_time": "2023-10-31T14:53:27.971150100Z"
    }
   },
   "id": "f84e07b457530238"
  },
  {
   "cell_type": "code",
   "execution_count": 14,
   "outputs": [
    {
     "name": "stdout",
     "output_type": "stream",
     "text": [
      "['maestria', 'educacion', 'superior', 'v3']\n"
     ]
    }
   ],
   "source": [
    "# Texto de ejemplo\n",
    "texto = \"Maestría en Educación Superior V.3\"\n",
    "# Paso 1: Eliminación de caracteres especiales y puntuación\n",
    "texto_limpio = re.sub(r'[^\\w\\s]', '', texto)\n",
    "\n",
    "# Paso 2: Tokenización\n",
    "tokens = nltk.word_tokenize(texto_limpio)\n",
    "\n",
    "# Paso 3: Eliminación de números\n",
    "tokens_sin_numeros = [token for token in tokens if not token.isdigit()]\n",
    "\n",
    "\n",
    "tokens_sin_acentos = [quitar_acentos(token) for token in tokens_sin_numeros]\n",
    "\n",
    "# Paso 5: Conversión a minúsculas\n",
    "tokens_minusculas = [token.lower() for token in tokens_sin_acentos]\n",
    "\n",
    "# Paso 6: Eliminación de la stop word \"version\"\n",
    "stop_words = set(stopwords.words('spanish'))  # Lista de stop words en español\n",
    "#stop_words.remove('v3')  # Eliminamos la palabra 'version' de las stop words\n",
    "\n",
    "tokens_procesados = [token for token in tokens_minusculas if token not in stop_words]\n",
    "\n",
    "# Resultado\n",
    "texto_procesado = ' '.join(tokens_procesados)\n",
    "print(tokens_procesados)\n",
    "return"
   ],
   "metadata": {
    "collapsed": false,
    "ExecuteTime": {
     "end_time": "2023-10-31T14:18:33.208980300Z",
     "start_time": "2023-10-31T14:18:33.191071700Z"
    }
   },
   "id": "4378dd546b1b896e"
  },
  {
   "cell_type": "code",
   "execution_count": null,
   "outputs": [],
   "source": [
    "dfClean.loc[:,['nombrePreprocesado']] = dfClean.nombre.apply()"
   ],
   "metadata": {
    "collapsed": false
   },
   "id": "f46b749756569b98"
  },
  {
   "cell_type": "code",
   "execution_count": 16,
   "outputs": [
    {
     "data": {
      "text/plain": "Index(['id', 'codigo_tituloAcademico', 'monto_tutoria', 'costo_programa',\n       'dep_inicial', 'siglaNoVersion', 'siglaNoVersionNumero', 'nombre',\n       'edad', 'tiempo_titulacion', 'sexo_F', 'sexo_M', 'estado_civil_C',\n       'estado_civil_D', 'estado_civil_O', 'estado_civil_S', 'estado_civil_V',\n       'estado_civil_s', 'iniciales_nombre_2_dip', 'iniciales_nombre_2_doc',\n       'iniciales_nombre_2_e', 'iniciales_nombre_2_fc', 'iniciales_nombre_2_m',\n       'iniciales_nombre_2_n', 'Areas_1', 'Areas_2', 'Areas_3', 'Areas_4',\n       'Areas_5', 'codigo_dpto_nacimiento_CH', 'codigo_dpto_nacimiento_CO',\n       'codigo_dpto_nacimiento_LP', 'codigo_dpto_nacimiento_OR',\n       'codigo_dpto_nacimiento_OTHER', 'codigo_dpto_nacimiento_PO',\n       'codigo_dpto_nacimiento_SC', 'codigo_pais_nacimiento_AR',\n       'codigo_pais_nacimiento_BO', 'codigo_pais_nacimiento_LATE',\n       'codigo_pais_nacimiento_PE'],\n      dtype='object')"
     },
     "execution_count": 16,
     "metadata": {},
     "output_type": "execute_result"
    }
   ],
   "source": [
    "dfClean.columns"
   ],
   "metadata": {
    "collapsed": false,
    "ExecuteTime": {
     "end_time": "2023-10-31T15:15:05.219049400Z",
     "start_time": "2023-10-31T15:15:05.190294400Z"
    }
   },
   "id": "ab8b27ba20cbc49e"
  },
  {
   "cell_type": "code",
   "execution_count": null,
   "outputs": [],
   "source": [],
   "metadata": {
    "collapsed": false
   },
   "id": "ba74dfe1c29d8d96"
  }
 ],
 "metadata": {
  "kernelspec": {
   "display_name": "Python 3",
   "language": "python",
   "name": "python3"
  },
  "language_info": {
   "codemirror_mode": {
    "name": "ipython",
    "version": 2
   },
   "file_extension": ".py",
   "mimetype": "text/x-python",
   "name": "python",
   "nbconvert_exporter": "python",
   "pygments_lexer": "ipython2",
   "version": "2.7.6"
  }
 },
 "nbformat": 4,
 "nbformat_minor": 5
}
