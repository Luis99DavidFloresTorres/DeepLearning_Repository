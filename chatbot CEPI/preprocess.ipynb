{
 "cells": [
  {
   "cell_type": "code",
   "execution_count": 1,
   "id": "initial_id",
   "metadata": {
    "collapsed": true,
    "ExecuteTime": {
     "end_time": "2023-10-27T13:10:30.358016800Z",
     "start_time": "2023-10-27T13:10:29.454604300Z"
    }
   },
   "outputs": [],
   "source": [
    "import mysql.connector\n",
    "\n",
    "# Establece la conexión a la base de datos MySQL\n",
    "conn = mysql.connector.connect(\n",
    "    host='127.0.0.1',\n",
    "    user='root',\n",
    "    password='root',\n",
    "    database='CEPI'\n",
    ")\n",
    "\n",
    "cursor = conn.cursor()\n",
    "\n",
    "consulta = \"SELECT * FROM universitarios\"\n",
    "\n",
    "# Ejecuta la consulta\n",
    "cursor.execute(consulta)\n",
    "\n",
    "# Recupera los resultados\n",
    "universitarios = cursor.fetchall()\n",
    "\n",
    "# Imprime los resultados\n",
    "#for fila in universitarios:\n",
    "#    print(fila)"
   ]
  },
  {
   "cell_type": "code",
   "execution_count": 2,
   "outputs": [],
   "source": [
    "consulta = \"SELECT * FROM personasdatosacademicos\"\n",
    "cursor.execute(consulta)\n",
    "personasdatosacademicos = cursor.fetchall()"
   ],
   "metadata": {
    "collapsed": false,
    "ExecuteTime": {
     "end_time": "2023-10-27T13:10:30.576474100Z",
     "start_time": "2023-10-27T13:10:30.246356700Z"
    }
   },
   "id": "d833e2e28555ad83"
  },
  {
   "cell_type": "code",
   "execution_count": 3,
   "outputs": [],
   "source": [
    "consulta = \"SELECT * FROM personas\"\n",
    "cursor.execute(consulta)\n",
    "personas = cursor.fetchall()"
   ],
   "metadata": {
    "collapsed": false,
    "ExecuteTime": {
     "end_time": "2023-10-27T13:10:30.795892300Z",
     "start_time": "2023-10-27T13:10:30.506653400Z"
    }
   },
   "id": "aae45623fbc32f30"
  },
  {
   "cell_type": "code",
   "execution_count": 4,
   "outputs": [],
   "source": [
    "consulta = \"SELECT * FROM carreras\"\n",
    "cursor.execute(consulta)\n",
    "carreras = cursor.fetchall()"
   ],
   "metadata": {
    "collapsed": false,
    "ExecuteTime": {
     "end_time": "2023-10-27T13:10:30.842729900Z",
     "start_time": "2023-10-27T13:10:30.787996500Z"
    }
   },
   "id": "68a977b5f773bf63"
  },
  {
   "cell_type": "code",
   "execution_count": 5,
   "outputs": [],
   "source": [
    "consulta = \"SELECT * FROM datosactualizables\"\n",
    "cursor.execute(consulta)\n",
    "datosactualizables = cursor.fetchall()"
   ],
   "metadata": {
    "collapsed": false,
    "ExecuteTime": {
     "end_time": "2023-10-27T13:10:31.124734Z",
     "start_time": "2023-10-27T13:10:30.822705300Z"
    }
   },
   "id": "5c5f032d7ed37589"
  },
  {
   "cell_type": "code",
   "execution_count": 6,
   "outputs": [],
   "source": [
    "consulta = \"SELECT * FROM tiposareasacademicas\"\n",
    "cursor.execute(consulta)\n",
    "tiposareasacademicas = cursor.fetchall()"
   ],
   "metadata": {
    "collapsed": false,
    "ExecuteTime": {
     "end_time": "2023-10-27T13:10:31.126730700Z",
     "start_time": "2023-10-27T13:10:31.107438Z"
    }
   },
   "id": "32a428536d099bf"
  },
  {
   "cell_type": "code",
   "execution_count": 7,
   "outputs": [],
   "source": [
    "import pandas as pd\n",
    "tiposareasacademicasDF  = pd.DataFrame(tiposareasacademicas, columns=['codigo','nombre'])\n",
    "universitariosDF  = pd.DataFrame(universitarios, columns=['id','codigo_carrera','fecha_registro','matriculado','revisado'])\n",
    "personasdatosacademicosDF  = pd.DataFrame(personasdatosacademicos, columns=['id','codig_universidad','codigo_tituloAcademico','fecha_titulacion_academica','fecha_titulacion'])\n",
    "personasDF  = pd.DataFrame(personas, columns=['id','paterno','materno','nombres','fecha_nac','sexo','codigo_pais_nacimiento','codigo_dpto_nacimiento','fecha_registro','lugar_exp'])\n",
    "carrerasDF  = pd.DataFrame(carreras, columns=['codigo','nombre','nombre_corto','sigla','titulo','numero_planes_estudio','codigo_estado','tipo_grupo','monto_tutoria','costo_programa','dep_inicial'])\n",
    "datosactualizablesDF  = pd.DataFrame(datosactualizables, columns=['id','estado_civil','sede','direccion','telefono','celular','email'])"
   ],
   "metadata": {
    "collapsed": false,
    "ExecuteTime": {
     "end_time": "2023-10-27T13:10:34.838485400Z",
     "start_time": "2023-10-27T13:10:31.121782Z"
    }
   },
   "id": "e80a730f2595929d"
  },
  {
   "cell_type": "code",
   "execution_count": 8,
   "outputs": [
    {
     "name": "stdout",
     "output_type": "stream",
     "text": [
      "   codigo                  nombre\n",
      "0       3  Humanidades y Sociales\n",
      "1       4    Ciencias de la Salud\n",
      "2       5     Ciencias Económicas\n",
      "3       2            Tecnológicas\n",
      "4       1       Ciencias Agrarias\n"
     ]
    }
   ],
   "source": [
    "print(tiposareasacademicasDF[0:10])\n",
    "\n"
   ],
   "metadata": {
    "collapsed": false,
    "ExecuteTime": {
     "end_time": "2023-10-27T13:10:34.950510300Z",
     "start_time": "2023-10-27T13:10:34.840478900Z"
    }
   },
   "id": "4af995e5d54b684"
  },
  {
   "cell_type": "code",
   "execution_count": 9,
   "outputs": [
    {
     "name": "stdout",
     "output_type": "stream",
     "text": [
      "         id  codigo_carrera       fecha_registro  matriculado  revisado\n",
      "0  10641198             861  2022-06-16 09:23:11            1         0\n",
      "1   1147006             101  2007-05-23 18:44:22            0         0\n",
      "2   3909889             101  2007-05-24 11:23:19            1         0\n",
      "3   1273894             103  2007-05-28 12:05:18            1         0\n",
      "4   1392422             103  2007-05-29 06:28:45            0         0\n",
      "5   4095514             103  2007-05-29 10:19:46            1         0\n",
      "6   1050851             103  2007-05-29 10:25:11            1         0\n",
      "7   4631321             103  2007-05-29 10:29:53            1         0\n",
      "8   1056729             103  2007-05-29 10:30:35            1         0\n",
      "9   1115942             103  2007-05-29 11:24:57            1         0\n",
      "Empty DataFrame\n",
      "Columns: [id, codigo_carrera, fecha_registro, matriculado, revisado]\n",
      "Index: []\n"
     ]
    }
   ],
   "source": [
    "print(universitariosDF[0:10])\n",
    "print(universitariosDF[universitariosDF.id==19])"
   ],
   "metadata": {
    "collapsed": false,
    "ExecuteTime": {
     "end_time": "2023-10-27T13:10:34.951506900Z",
     "start_time": "2023-10-27T13:10:34.889796300Z"
    }
   },
   "id": "bb5602cfffbda7c8"
  },
  {
   "cell_type": "code",
   "execution_count": 10,
   "outputs": [
    {
     "name": "stdout",
     "output_type": "stream",
     "text": [
      "        id  codig_universidad  codigo_tituloAcademico  \\\n",
      "0  1115413                 19                      22   \n",
      "1  3971480                 19                      74   \n",
      "2  5496566                 19                      77   \n",
      "3  3909889                 19                      77   \n",
      "4  3643710                 19                      22   \n",
      "5  1147006                 19                      61   \n",
      "6  3650609                 19                      54   \n",
      "7  1273894                 19                      76   \n",
      "8  1035296                 19                      76   \n",
      "9  1075256                 19                      28   \n",
      "\n",
      "  fecha_titulacion_academica fecha_titulacion  \n",
      "0                 2006-12-15       2007-02-28  \n",
      "1                 1999-12-10       2000-11-30  \n",
      "2                 2005-06-10       2005-10-12  \n",
      "3                 2006-02-16       2006-04-26  \n",
      "4                 2000-04-28       2002-01-18  \n",
      "5                 1999-10-22       1999-12-01  \n",
      "6                 2001-12-21       2002-02-27  \n",
      "7                 1986-05-13       1991-06-19  \n",
      "8                 1984-11-23       1985-01-24  \n",
      "9                 1995-10-03       1997-03-07  \n"
     ]
    }
   ],
   "source": [
    "print(personasdatosacademicosDF[0:10])"
   ],
   "metadata": {
    "collapsed": false,
    "ExecuteTime": {
     "end_time": "2023-10-27T13:10:34.951506900Z",
     "start_time": "2023-10-27T13:10:34.933746900Z"
    }
   },
   "id": "d56119a6bf63513c"
  },
  {
   "cell_type": "code",
   "execution_count": 11,
   "outputs": [
    {
     "data": {
      "text/plain": "   codigo                                             nombre  \\\n0      99            Aeropuertos en el Sistema de Transporte   \n1     100  Diplomado en Metodologías de Investigación Cua...   \n2     101                         Especialidad en Ortodoncia   \n3     102                 Maestría en Educación Superior V.3   \n4     103                Diplomado en Educación Superior V.7   \n5     104             Maestría en Administración Pública V.2   \n6     105            Diplomado en Manejo Integrado de Plagas   \n7     106           Especialización en Ingeniería de Caminos   \n8     107  Especialidad en Salud Familiar y Comunitaria S...   \n9     108                    Especialidad en Derecho del Gas   \n\n                                 nombre_corto sigla  \\\n0     Aeropuertos en el Sistema de Transporte   ASA   \n1            Dip. en Met. de Inv. Cualitativa   DME   \n2                          Esp. en Ortodoncia   EEO   \n3                  Maestría en Educ. Sup. V.3   MES   \n4                 Diplomado en Educ. Sup. V.7   DES   \n5                Maestría en Adm. Publica V.2   MAP   \n6               Dip. en Manejo Int. de Plagas   DMP   \n7                     Esp. en Ing. de Caminos   EIC   \n8  Esp. en Salud Familiar y Comunitaria Sucre   ESC   \n9                     Esp. en Derecho del Gas   EDG   \n\n                                              titulo  numero_planes_estudio  \\\n0                                          Asistente                    1.0   \n1  Diplomado en Metodologías de Investigación Cua...                    1.0   \n2                         Especialista en Ortodoncia                    1.0   \n3                     Magister en Educación Superior                    1.0   \n4                      Diploma en Educación Superior                    1.0   \n5                 Magíster en Administración Pública                    1.0   \n6            Diplomado en Manejo Integrado de Plagas                    1.0   \n7              Especialista en Ingeniería de Caminos                    1.0   \n8       Especialista en Salud Familiar y Comunitaria                    1.0   \n9                    Especialista en Derecho del Gas                    1.0   \n\n  codigo_estado tipo_grupo monto_tutoria costo_programa  dep_inicial  \n0             V          T             0            200        100.0  \n1             V          T           100            250         40.0  \n2             V          T           200           4700         10.0  \n3             V          T           300           1100         20.0  \n4             V          A           100            350         25.0  \n5             V          A           300           2500         10.0  \n6             V          T           100            500         22.0  \n7             V          T           200           1900         10.0  \n8             V          T          1500           9000         10.0  \n9             V          T           200           1500         10.0  ",
      "text/html": "<div>\n<style scoped>\n    .dataframe tbody tr th:only-of-type {\n        vertical-align: middle;\n    }\n\n    .dataframe tbody tr th {\n        vertical-align: top;\n    }\n\n    .dataframe thead th {\n        text-align: right;\n    }\n</style>\n<table border=\"1\" class=\"dataframe\">\n  <thead>\n    <tr style=\"text-align: right;\">\n      <th></th>\n      <th>codigo</th>\n      <th>nombre</th>\n      <th>nombre_corto</th>\n      <th>sigla</th>\n      <th>titulo</th>\n      <th>numero_planes_estudio</th>\n      <th>codigo_estado</th>\n      <th>tipo_grupo</th>\n      <th>monto_tutoria</th>\n      <th>costo_programa</th>\n      <th>dep_inicial</th>\n    </tr>\n  </thead>\n  <tbody>\n    <tr>\n      <th>0</th>\n      <td>99</td>\n      <td>Aeropuertos en el Sistema de Transporte</td>\n      <td>Aeropuertos en el Sistema de Transporte</td>\n      <td>ASA</td>\n      <td>Asistente</td>\n      <td>1.0</td>\n      <td>V</td>\n      <td>T</td>\n      <td>0</td>\n      <td>200</td>\n      <td>100.0</td>\n    </tr>\n    <tr>\n      <th>1</th>\n      <td>100</td>\n      <td>Diplomado en Metodologías de Investigación Cua...</td>\n      <td>Dip. en Met. de Inv. Cualitativa</td>\n      <td>DME</td>\n      <td>Diplomado en Metodologías de Investigación Cua...</td>\n      <td>1.0</td>\n      <td>V</td>\n      <td>T</td>\n      <td>100</td>\n      <td>250</td>\n      <td>40.0</td>\n    </tr>\n    <tr>\n      <th>2</th>\n      <td>101</td>\n      <td>Especialidad en Ortodoncia</td>\n      <td>Esp. en Ortodoncia</td>\n      <td>EEO</td>\n      <td>Especialista en Ortodoncia</td>\n      <td>1.0</td>\n      <td>V</td>\n      <td>T</td>\n      <td>200</td>\n      <td>4700</td>\n      <td>10.0</td>\n    </tr>\n    <tr>\n      <th>3</th>\n      <td>102</td>\n      <td>Maestría en Educación Superior V.3</td>\n      <td>Maestría en Educ. Sup. V.3</td>\n      <td>MES</td>\n      <td>Magister en Educación Superior</td>\n      <td>1.0</td>\n      <td>V</td>\n      <td>T</td>\n      <td>300</td>\n      <td>1100</td>\n      <td>20.0</td>\n    </tr>\n    <tr>\n      <th>4</th>\n      <td>103</td>\n      <td>Diplomado en Educación Superior V.7</td>\n      <td>Diplomado en Educ. Sup. V.7</td>\n      <td>DES</td>\n      <td>Diploma en Educación Superior</td>\n      <td>1.0</td>\n      <td>V</td>\n      <td>A</td>\n      <td>100</td>\n      <td>350</td>\n      <td>25.0</td>\n    </tr>\n    <tr>\n      <th>5</th>\n      <td>104</td>\n      <td>Maestría en Administración Pública V.2</td>\n      <td>Maestría en Adm. Publica V.2</td>\n      <td>MAP</td>\n      <td>Magíster en Administración Pública</td>\n      <td>1.0</td>\n      <td>V</td>\n      <td>A</td>\n      <td>300</td>\n      <td>2500</td>\n      <td>10.0</td>\n    </tr>\n    <tr>\n      <th>6</th>\n      <td>105</td>\n      <td>Diplomado en Manejo Integrado de Plagas</td>\n      <td>Dip. en Manejo Int. de Plagas</td>\n      <td>DMP</td>\n      <td>Diplomado en Manejo Integrado de Plagas</td>\n      <td>1.0</td>\n      <td>V</td>\n      <td>T</td>\n      <td>100</td>\n      <td>500</td>\n      <td>22.0</td>\n    </tr>\n    <tr>\n      <th>7</th>\n      <td>106</td>\n      <td>Especialización en Ingeniería de Caminos</td>\n      <td>Esp. en Ing. de Caminos</td>\n      <td>EIC</td>\n      <td>Especialista en Ingeniería de Caminos</td>\n      <td>1.0</td>\n      <td>V</td>\n      <td>T</td>\n      <td>200</td>\n      <td>1900</td>\n      <td>10.0</td>\n    </tr>\n    <tr>\n      <th>8</th>\n      <td>107</td>\n      <td>Especialidad en Salud Familiar y Comunitaria S...</td>\n      <td>Esp. en Salud Familiar y Comunitaria Sucre</td>\n      <td>ESC</td>\n      <td>Especialista en Salud Familiar y Comunitaria</td>\n      <td>1.0</td>\n      <td>V</td>\n      <td>T</td>\n      <td>1500</td>\n      <td>9000</td>\n      <td>10.0</td>\n    </tr>\n    <tr>\n      <th>9</th>\n      <td>108</td>\n      <td>Especialidad en Derecho del Gas</td>\n      <td>Esp. en Derecho del Gas</td>\n      <td>EDG</td>\n      <td>Especialista en Derecho del Gas</td>\n      <td>1.0</td>\n      <td>V</td>\n      <td>T</td>\n      <td>200</td>\n      <td>1500</td>\n      <td>10.0</td>\n    </tr>\n  </tbody>\n</table>\n</div>"
     },
     "execution_count": 11,
     "metadata": {},
     "output_type": "execute_result"
    }
   ],
   "source": [
    "\n",
    "carrerasDF[0:10]"
   ],
   "metadata": {
    "collapsed": false,
    "ExecuteTime": {
     "end_time": "2023-10-27T13:10:35.098794900Z",
     "start_time": "2023-10-27T13:10:34.944530500Z"
    }
   },
   "id": "90911e85875ca514"
  },
  {
   "cell_type": "code",
   "execution_count": 12,
   "outputs": [
    {
     "data": {
      "text/plain": "        id    paterno         materno         nombres   fecha_nac sexo  \\\n0  1115413    GUILLEN           BARJA    LUIS ALBERTO  1985-05-13    M   \n1  3971480     MEDINA            SOTO      RUTH DEYSI  1975-09-18    F   \n2  5496566      PICHA          PAREJA          MAGALI  1982-05-27    F   \n3  3909889     FLORES           DURAN   MAURO ESTEBAN  1976-09-20    M   \n4  3643710       CRUZ          PINEDO   OSCAR RICHARD  1975-12-06    M   \n5  1147006    ORDOÑEZ          FLORES  MARIA   ANGELA  1969-08-02    F   \n6  3650609  ALMENDRAS         CAMPERO      JUAN JESUS  1975-06-05    M   \n7  1273894      AYALA           OSUNA           OSCAR  1952-07-21    M   \n8  1035296   ANíBARRO       SALGUEIRO    VICTOR WILLY  1952-12-18    M   \n9  1075256    CARREON  ENTRAMBASAGUAS  ALFREDO RENATO  1964-01-05    M   \n\n  codigo_pais_nacimiento codigo_dpto_nacimiento      fecha_registro lugar_exp  \n0                     BO                     CH 2014-07-08 15:05:47        CH  \n1                     BO                     PO 2008-05-13 19:11:49        PO  \n2                     BO                     CH 2007-06-15 11:02:01        CH  \n3                     BO                     SC 2022-07-15 17:51:15        SC  \n4                     BO                     OR 2023-10-09 15:33:07        CH  \n5                     BO                     CH 2007-06-13 10:41:36        CH  \n6                     BO                     CH 2012-11-15 11:27:34        CH  \n7                     BO                     PO 2007-05-28 12:12:36        PO  \n8                     BO                     CH 2007-06-13 11:19:03        CH  \n9                     BO                     PO 2011-02-14 08:18:32        CH  ",
      "text/html": "<div>\n<style scoped>\n    .dataframe tbody tr th:only-of-type {\n        vertical-align: middle;\n    }\n\n    .dataframe tbody tr th {\n        vertical-align: top;\n    }\n\n    .dataframe thead th {\n        text-align: right;\n    }\n</style>\n<table border=\"1\" class=\"dataframe\">\n  <thead>\n    <tr style=\"text-align: right;\">\n      <th></th>\n      <th>id</th>\n      <th>paterno</th>\n      <th>materno</th>\n      <th>nombres</th>\n      <th>fecha_nac</th>\n      <th>sexo</th>\n      <th>codigo_pais_nacimiento</th>\n      <th>codigo_dpto_nacimiento</th>\n      <th>fecha_registro</th>\n      <th>lugar_exp</th>\n    </tr>\n  </thead>\n  <tbody>\n    <tr>\n      <th>0</th>\n      <td>1115413</td>\n      <td>GUILLEN</td>\n      <td>BARJA</td>\n      <td>LUIS ALBERTO</td>\n      <td>1985-05-13</td>\n      <td>M</td>\n      <td>BO</td>\n      <td>CH</td>\n      <td>2014-07-08 15:05:47</td>\n      <td>CH</td>\n    </tr>\n    <tr>\n      <th>1</th>\n      <td>3971480</td>\n      <td>MEDINA</td>\n      <td>SOTO</td>\n      <td>RUTH DEYSI</td>\n      <td>1975-09-18</td>\n      <td>F</td>\n      <td>BO</td>\n      <td>PO</td>\n      <td>2008-05-13 19:11:49</td>\n      <td>PO</td>\n    </tr>\n    <tr>\n      <th>2</th>\n      <td>5496566</td>\n      <td>PICHA</td>\n      <td>PAREJA</td>\n      <td>MAGALI</td>\n      <td>1982-05-27</td>\n      <td>F</td>\n      <td>BO</td>\n      <td>CH</td>\n      <td>2007-06-15 11:02:01</td>\n      <td>CH</td>\n    </tr>\n    <tr>\n      <th>3</th>\n      <td>3909889</td>\n      <td>FLORES</td>\n      <td>DURAN</td>\n      <td>MAURO ESTEBAN</td>\n      <td>1976-09-20</td>\n      <td>M</td>\n      <td>BO</td>\n      <td>SC</td>\n      <td>2022-07-15 17:51:15</td>\n      <td>SC</td>\n    </tr>\n    <tr>\n      <th>4</th>\n      <td>3643710</td>\n      <td>CRUZ</td>\n      <td>PINEDO</td>\n      <td>OSCAR RICHARD</td>\n      <td>1975-12-06</td>\n      <td>M</td>\n      <td>BO</td>\n      <td>OR</td>\n      <td>2023-10-09 15:33:07</td>\n      <td>CH</td>\n    </tr>\n    <tr>\n      <th>5</th>\n      <td>1147006</td>\n      <td>ORDOÑEZ</td>\n      <td>FLORES</td>\n      <td>MARIA   ANGELA</td>\n      <td>1969-08-02</td>\n      <td>F</td>\n      <td>BO</td>\n      <td>CH</td>\n      <td>2007-06-13 10:41:36</td>\n      <td>CH</td>\n    </tr>\n    <tr>\n      <th>6</th>\n      <td>3650609</td>\n      <td>ALMENDRAS</td>\n      <td>CAMPERO</td>\n      <td>JUAN JESUS</td>\n      <td>1975-06-05</td>\n      <td>M</td>\n      <td>BO</td>\n      <td>CH</td>\n      <td>2012-11-15 11:27:34</td>\n      <td>CH</td>\n    </tr>\n    <tr>\n      <th>7</th>\n      <td>1273894</td>\n      <td>AYALA</td>\n      <td>OSUNA</td>\n      <td>OSCAR</td>\n      <td>1952-07-21</td>\n      <td>M</td>\n      <td>BO</td>\n      <td>PO</td>\n      <td>2007-05-28 12:12:36</td>\n      <td>PO</td>\n    </tr>\n    <tr>\n      <th>8</th>\n      <td>1035296</td>\n      <td>ANíBARRO</td>\n      <td>SALGUEIRO</td>\n      <td>VICTOR WILLY</td>\n      <td>1952-12-18</td>\n      <td>M</td>\n      <td>BO</td>\n      <td>CH</td>\n      <td>2007-06-13 11:19:03</td>\n      <td>CH</td>\n    </tr>\n    <tr>\n      <th>9</th>\n      <td>1075256</td>\n      <td>CARREON</td>\n      <td>ENTRAMBASAGUAS</td>\n      <td>ALFREDO RENATO</td>\n      <td>1964-01-05</td>\n      <td>M</td>\n      <td>BO</td>\n      <td>PO</td>\n      <td>2011-02-14 08:18:32</td>\n      <td>CH</td>\n    </tr>\n  </tbody>\n</table>\n</div>"
     },
     "execution_count": 12,
     "metadata": {},
     "output_type": "execute_result"
    }
   ],
   "source": [
    "personasDF[0:10]"
   ],
   "metadata": {
    "collapsed": false,
    "ExecuteTime": {
     "end_time": "2023-10-27T13:10:35.103779100Z",
     "start_time": "2023-10-27T13:10:34.998039900Z"
    }
   },
   "id": "c7156745d63156d9"
  },
  {
   "cell_type": "code",
   "execution_count": 13,
   "outputs": [
    {
     "data": {
      "text/plain": "        id estado_civil sede              direccion  telefono   celular  \\\n0  1115413            S   CH            EE.UU.#1129   6440132  75777777   \n1  3971480            C   PO          SAAVEDRA  100   6229024             \n2  5496566            S   CH   29 DE SEPTIEMBRE 337   6420226  76116062   \n3  3909889            S   SC     Calle tte. Vega 24  33333201  76112121   \n4  3643710            C   CH    AV. 6 de Agosto S/N   6432193  69676103   \n5  1147006            S   CH            Ravelo  356  64-42896  71152840   \n6  3650609            S   CH       PASTOR SAINZ 303  46427834  72889407   \n7  1273894            S   CH         Mauro Nuñez 95   6462003  71159524   \n8  1035296            S   CH     José Alvares Nº 29   6462088  72888788   \n9  1075256            C   CH  BARRIO LOS TARCOS S/N  64-47954  72869739   \n\n                           email  \n0       luis.guillen.b@gmail.com  \n1          ruthdeysi@hotmail.com  \n2       maguicita_pp@hotmail.com  \n3             Eidanf64@gmail.com  \n4          richyscti@hotmail.com  \n5             anghyflor@yahoo.es  \n6    jesus_almendras@hotmail.com  \n7        oscarayala9@hotmail.com  \n8  willy_anibarro@hotmail.com.br  \n9        ALF_CARREON@HOTMAIL.COM  ",
      "text/html": "<div>\n<style scoped>\n    .dataframe tbody tr th:only-of-type {\n        vertical-align: middle;\n    }\n\n    .dataframe tbody tr th {\n        vertical-align: top;\n    }\n\n    .dataframe thead th {\n        text-align: right;\n    }\n</style>\n<table border=\"1\" class=\"dataframe\">\n  <thead>\n    <tr style=\"text-align: right;\">\n      <th></th>\n      <th>id</th>\n      <th>estado_civil</th>\n      <th>sede</th>\n      <th>direccion</th>\n      <th>telefono</th>\n      <th>celular</th>\n      <th>email</th>\n    </tr>\n  </thead>\n  <tbody>\n    <tr>\n      <th>0</th>\n      <td>1115413</td>\n      <td>S</td>\n      <td>CH</td>\n      <td>EE.UU.#1129</td>\n      <td>6440132</td>\n      <td>75777777</td>\n      <td>luis.guillen.b@gmail.com</td>\n    </tr>\n    <tr>\n      <th>1</th>\n      <td>3971480</td>\n      <td>C</td>\n      <td>PO</td>\n      <td>SAAVEDRA  100</td>\n      <td>6229024</td>\n      <td></td>\n      <td>ruthdeysi@hotmail.com</td>\n    </tr>\n    <tr>\n      <th>2</th>\n      <td>5496566</td>\n      <td>S</td>\n      <td>CH</td>\n      <td>29 DE SEPTIEMBRE 337</td>\n      <td>6420226</td>\n      <td>76116062</td>\n      <td>maguicita_pp@hotmail.com</td>\n    </tr>\n    <tr>\n      <th>3</th>\n      <td>3909889</td>\n      <td>S</td>\n      <td>SC</td>\n      <td>Calle tte. Vega 24</td>\n      <td>33333201</td>\n      <td>76112121</td>\n      <td>Eidanf64@gmail.com</td>\n    </tr>\n    <tr>\n      <th>4</th>\n      <td>3643710</td>\n      <td>C</td>\n      <td>CH</td>\n      <td>AV. 6 de Agosto S/N</td>\n      <td>6432193</td>\n      <td>69676103</td>\n      <td>richyscti@hotmail.com</td>\n    </tr>\n    <tr>\n      <th>5</th>\n      <td>1147006</td>\n      <td>S</td>\n      <td>CH</td>\n      <td>Ravelo  356</td>\n      <td>64-42896</td>\n      <td>71152840</td>\n      <td>anghyflor@yahoo.es</td>\n    </tr>\n    <tr>\n      <th>6</th>\n      <td>3650609</td>\n      <td>S</td>\n      <td>CH</td>\n      <td>PASTOR SAINZ 303</td>\n      <td>46427834</td>\n      <td>72889407</td>\n      <td>jesus_almendras@hotmail.com</td>\n    </tr>\n    <tr>\n      <th>7</th>\n      <td>1273894</td>\n      <td>S</td>\n      <td>CH</td>\n      <td>Mauro Nuñez 95</td>\n      <td>6462003</td>\n      <td>71159524</td>\n      <td>oscarayala9@hotmail.com</td>\n    </tr>\n    <tr>\n      <th>8</th>\n      <td>1035296</td>\n      <td>S</td>\n      <td>CH</td>\n      <td>José Alvares Nº 29</td>\n      <td>6462088</td>\n      <td>72888788</td>\n      <td>willy_anibarro@hotmail.com.br</td>\n    </tr>\n    <tr>\n      <th>9</th>\n      <td>1075256</td>\n      <td>C</td>\n      <td>CH</td>\n      <td>BARRIO LOS TARCOS S/N</td>\n      <td>64-47954</td>\n      <td>72869739</td>\n      <td>ALF_CARREON@HOTMAIL.COM</td>\n    </tr>\n  </tbody>\n</table>\n</div>"
     },
     "execution_count": 13,
     "metadata": {},
     "output_type": "execute_result"
    }
   ],
   "source": [
    "datosactualizablesDF[0:10]"
   ],
   "metadata": {
    "collapsed": false,
    "ExecuteTime": {
     "end_time": "2023-10-27T13:10:35.135131200Z",
     "start_time": "2023-10-27T13:10:35.033445300Z"
    }
   },
   "id": "d115ba7851258062"
  },
  {
   "cell_type": "code",
   "execution_count": 14,
   "outputs": [
    {
     "data": {
      "text/plain": "             id   paterno   materno           nombres   fecha_nac sexo  \\\n0       1115413   GUILLEN     BARJA      LUIS ALBERTO  1985-05-13    M   \n1       3971480    MEDINA      SOTO        RUTH DEYSI  1975-09-18    F   \n2       5496566     PICHA    PAREJA            MAGALI  1982-05-27    F   \n3       3909889    FLORES     DURAN     MAURO ESTEBAN  1976-09-20    M   \n4       3643710      CRUZ    PINEDO     OSCAR RICHARD  1975-12-06    M   \n...         ...       ...       ...               ...         ...  ...   \n25171  13188176    FLORES    QUISPE  KATHERINE MARINA  1999-03-20    F   \n25172  10089785  VILLALBA    GALVEZ            LORENA  2000-06-30    F   \n25173   3653265    FLORES  GONZALES  LUIS     ALBERTO  1979-07-21    M   \n25174   5653875  MARTINEZ    SEGURA        CESAR ELOY  1981-11-14    M   \n25175   7508162      CRUZ    CHOQUE             ARIEL  1992-12-30    M   \n\n      codigo_pais_nacimiento codigo_dpto_nacimiento      fecha_registro  \\\n0                         BO                     CH 2014-07-08 15:05:47   \n1                         BO                     PO 2008-05-13 19:11:49   \n2                         BO                     CH 2007-06-15 11:02:01   \n3                         BO                     SC 2022-07-15 17:51:15   \n4                         BO                     OR 2023-10-09 15:33:07   \n...                      ...                    ...                 ...   \n25171                     BO                     CH 2023-10-23 16:03:46   \n25172                     BO                     LP 2023-10-15 16:39:57   \n25173                     BO                     CH 2023-10-16 09:08:47   \n25174                     BO                     CH 2023-10-16 10:09:11   \n25175                     BO                     CH 2023-10-23 07:44:09   \n\n      lugar_exp  \n0            CH  \n1            PO  \n2            CH  \n3            SC  \n4            CH  \n...         ...  \n25171        CH  \n25172        LP  \n25173        CH  \n25174        CH  \n25175        CH  \n\n[25176 rows x 10 columns]",
      "text/html": "<div>\n<style scoped>\n    .dataframe tbody tr th:only-of-type {\n        vertical-align: middle;\n    }\n\n    .dataframe tbody tr th {\n        vertical-align: top;\n    }\n\n    .dataframe thead th {\n        text-align: right;\n    }\n</style>\n<table border=\"1\" class=\"dataframe\">\n  <thead>\n    <tr style=\"text-align: right;\">\n      <th></th>\n      <th>id</th>\n      <th>paterno</th>\n      <th>materno</th>\n      <th>nombres</th>\n      <th>fecha_nac</th>\n      <th>sexo</th>\n      <th>codigo_pais_nacimiento</th>\n      <th>codigo_dpto_nacimiento</th>\n      <th>fecha_registro</th>\n      <th>lugar_exp</th>\n    </tr>\n  </thead>\n  <tbody>\n    <tr>\n      <th>0</th>\n      <td>1115413</td>\n      <td>GUILLEN</td>\n      <td>BARJA</td>\n      <td>LUIS ALBERTO</td>\n      <td>1985-05-13</td>\n      <td>M</td>\n      <td>BO</td>\n      <td>CH</td>\n      <td>2014-07-08 15:05:47</td>\n      <td>CH</td>\n    </tr>\n    <tr>\n      <th>1</th>\n      <td>3971480</td>\n      <td>MEDINA</td>\n      <td>SOTO</td>\n      <td>RUTH DEYSI</td>\n      <td>1975-09-18</td>\n      <td>F</td>\n      <td>BO</td>\n      <td>PO</td>\n      <td>2008-05-13 19:11:49</td>\n      <td>PO</td>\n    </tr>\n    <tr>\n      <th>2</th>\n      <td>5496566</td>\n      <td>PICHA</td>\n      <td>PAREJA</td>\n      <td>MAGALI</td>\n      <td>1982-05-27</td>\n      <td>F</td>\n      <td>BO</td>\n      <td>CH</td>\n      <td>2007-06-15 11:02:01</td>\n      <td>CH</td>\n    </tr>\n    <tr>\n      <th>3</th>\n      <td>3909889</td>\n      <td>FLORES</td>\n      <td>DURAN</td>\n      <td>MAURO ESTEBAN</td>\n      <td>1976-09-20</td>\n      <td>M</td>\n      <td>BO</td>\n      <td>SC</td>\n      <td>2022-07-15 17:51:15</td>\n      <td>SC</td>\n    </tr>\n    <tr>\n      <th>4</th>\n      <td>3643710</td>\n      <td>CRUZ</td>\n      <td>PINEDO</td>\n      <td>OSCAR RICHARD</td>\n      <td>1975-12-06</td>\n      <td>M</td>\n      <td>BO</td>\n      <td>OR</td>\n      <td>2023-10-09 15:33:07</td>\n      <td>CH</td>\n    </tr>\n    <tr>\n      <th>...</th>\n      <td>...</td>\n      <td>...</td>\n      <td>...</td>\n      <td>...</td>\n      <td>...</td>\n      <td>...</td>\n      <td>...</td>\n      <td>...</td>\n      <td>...</td>\n      <td>...</td>\n    </tr>\n    <tr>\n      <th>25171</th>\n      <td>13188176</td>\n      <td>FLORES</td>\n      <td>QUISPE</td>\n      <td>KATHERINE MARINA</td>\n      <td>1999-03-20</td>\n      <td>F</td>\n      <td>BO</td>\n      <td>CH</td>\n      <td>2023-10-23 16:03:46</td>\n      <td>CH</td>\n    </tr>\n    <tr>\n      <th>25172</th>\n      <td>10089785</td>\n      <td>VILLALBA</td>\n      <td>GALVEZ</td>\n      <td>LORENA</td>\n      <td>2000-06-30</td>\n      <td>F</td>\n      <td>BO</td>\n      <td>LP</td>\n      <td>2023-10-15 16:39:57</td>\n      <td>LP</td>\n    </tr>\n    <tr>\n      <th>25173</th>\n      <td>3653265</td>\n      <td>FLORES</td>\n      <td>GONZALES</td>\n      <td>LUIS     ALBERTO</td>\n      <td>1979-07-21</td>\n      <td>M</td>\n      <td>BO</td>\n      <td>CH</td>\n      <td>2023-10-16 09:08:47</td>\n      <td>CH</td>\n    </tr>\n    <tr>\n      <th>25174</th>\n      <td>5653875</td>\n      <td>MARTINEZ</td>\n      <td>SEGURA</td>\n      <td>CESAR ELOY</td>\n      <td>1981-11-14</td>\n      <td>M</td>\n      <td>BO</td>\n      <td>CH</td>\n      <td>2023-10-16 10:09:11</td>\n      <td>CH</td>\n    </tr>\n    <tr>\n      <th>25175</th>\n      <td>7508162</td>\n      <td>CRUZ</td>\n      <td>CHOQUE</td>\n      <td>ARIEL</td>\n      <td>1992-12-30</td>\n      <td>M</td>\n      <td>BO</td>\n      <td>CH</td>\n      <td>2023-10-23 07:44:09</td>\n      <td>CH</td>\n    </tr>\n  </tbody>\n</table>\n<p>25176 rows × 10 columns</p>\n</div>"
     },
     "execution_count": 14,
     "metadata": {},
     "output_type": "execute_result"
    }
   ],
   "source": [
    "personasDF[:-50]"
   ],
   "metadata": {
    "collapsed": false,
    "ExecuteTime": {
     "end_time": "2023-10-27T13:10:35.160446800Z",
     "start_time": "2023-10-27T13:10:35.075668900Z"
    }
   },
   "id": "5e638b7932b1173a"
  },
  {
   "cell_type": "code",
   "execution_count": 15,
   "outputs": [
    {
     "data": {
      "text/plain": "             id estado_civil   sede   direccion telefono celular  \\\ncount     25262        25262  25262       25262    25262   25262   \nunique    25262            7     14       22366    13341   24301   \ntop     1115413            S     CH  Monteagudo                    \nfreq          1        18357  15430          58    10260     523   \n\n                    email  \ncount               25262  \nunique              24757  \ntop     no tiene@no tiene  \nfreq                   37  ",
      "text/html": "<div>\n<style scoped>\n    .dataframe tbody tr th:only-of-type {\n        vertical-align: middle;\n    }\n\n    .dataframe tbody tr th {\n        vertical-align: top;\n    }\n\n    .dataframe thead th {\n        text-align: right;\n    }\n</style>\n<table border=\"1\" class=\"dataframe\">\n  <thead>\n    <tr style=\"text-align: right;\">\n      <th></th>\n      <th>id</th>\n      <th>estado_civil</th>\n      <th>sede</th>\n      <th>direccion</th>\n      <th>telefono</th>\n      <th>celular</th>\n      <th>email</th>\n    </tr>\n  </thead>\n  <tbody>\n    <tr>\n      <th>count</th>\n      <td>25262</td>\n      <td>25262</td>\n      <td>25262</td>\n      <td>25262</td>\n      <td>25262</td>\n      <td>25262</td>\n      <td>25262</td>\n    </tr>\n    <tr>\n      <th>unique</th>\n      <td>25262</td>\n      <td>7</td>\n      <td>14</td>\n      <td>22366</td>\n      <td>13341</td>\n      <td>24301</td>\n      <td>24757</td>\n    </tr>\n    <tr>\n      <th>top</th>\n      <td>1115413</td>\n      <td>S</td>\n      <td>CH</td>\n      <td>Monteagudo</td>\n      <td></td>\n      <td></td>\n      <td>no tiene@no tiene</td>\n    </tr>\n    <tr>\n      <th>freq</th>\n      <td>1</td>\n      <td>18357</td>\n      <td>15430</td>\n      <td>58</td>\n      <td>10260</td>\n      <td>523</td>\n      <td>37</td>\n    </tr>\n  </tbody>\n</table>\n</div>"
     },
     "execution_count": 15,
     "metadata": {},
     "output_type": "execute_result"
    }
   ],
   "source": [
    "datosactualizablesDF.describe()"
   ],
   "metadata": {
    "collapsed": false,
    "ExecuteTime": {
     "end_time": "2023-10-27T13:10:35.458149Z",
     "start_time": "2023-10-27T13:10:35.113205200Z"
    }
   },
   "id": "c1cec6f9d3f881dd"
  },
  {
   "cell_type": "code",
   "execution_count": 16,
   "outputs": [
    {
     "data": {
      "text/plain": "count       25226\nunique      25226\ntop       1115413\nfreq            1\nName: id, dtype: object"
     },
     "execution_count": 16,
     "metadata": {},
     "output_type": "execute_result"
    }
   ],
   "source": [
    "personasDF['id'].describe()"
   ],
   "metadata": {
    "collapsed": false,
    "ExecuteTime": {
     "end_time": "2023-10-27T13:10:35.571564200Z",
     "start_time": "2023-10-27T13:10:35.250359700Z"
    }
   },
   "id": "e34e2df21d143d76"
  },
  {
   "cell_type": "code",
   "execution_count": 17,
   "outputs": [
    {
     "data": {
      "text/plain": "'maribel'"
     },
     "execution_count": 17,
     "metadata": {},
     "output_type": "execute_result"
    }
   ],
   "source": [
    "datosactualizablesDF['id'].max()"
   ],
   "metadata": {
    "collapsed": false,
    "ExecuteTime": {
     "end_time": "2023-10-27T13:10:35.598281300Z",
     "start_time": "2023-10-27T13:10:35.282876600Z"
    }
   },
   "id": "d459b1feb0caeb0c"
  },
  {
   "cell_type": "code",
   "execution_count": 18,
   "outputs": [
    {
     "data": {
      "text/plain": "            id estado_civil sede            direccion telefono   celular  \\\n23287  maribel            S   CO  Av. B. galindo km 4           69515753   \n\n                         email  \n23287  mari_el_007@hotmail.com  ",
      "text/html": "<div>\n<style scoped>\n    .dataframe tbody tr th:only-of-type {\n        vertical-align: middle;\n    }\n\n    .dataframe tbody tr th {\n        vertical-align: top;\n    }\n\n    .dataframe thead th {\n        text-align: right;\n    }\n</style>\n<table border=\"1\" class=\"dataframe\">\n  <thead>\n    <tr style=\"text-align: right;\">\n      <th></th>\n      <th>id</th>\n      <th>estado_civil</th>\n      <th>sede</th>\n      <th>direccion</th>\n      <th>telefono</th>\n      <th>celular</th>\n      <th>email</th>\n    </tr>\n  </thead>\n  <tbody>\n    <tr>\n      <th>23287</th>\n      <td>maribel</td>\n      <td>S</td>\n      <td>CO</td>\n      <td>Av. B. galindo km 4</td>\n      <td></td>\n      <td>69515753</td>\n      <td>mari_el_007@hotmail.com</td>\n    </tr>\n  </tbody>\n</table>\n</div>"
     },
     "execution_count": 18,
     "metadata": {},
     "output_type": "execute_result"
    }
   ],
   "source": [
    "datosactualizablesDF[datosactualizablesDF['id']=='maribel']"
   ],
   "metadata": {
    "collapsed": false,
    "ExecuteTime": {
     "end_time": "2023-10-27T13:10:35.667943300Z",
     "start_time": "2023-10-27T13:10:35.316390200Z"
    }
   },
   "id": "8a5cda04369fb738"
  },
  {
   "cell_type": "markdown",
   "source": [],
   "metadata": {
    "collapsed": false
   },
   "id": "fe6359c07857f70a"
  },
  {
   "cell_type": "code",
   "execution_count": 19,
   "outputs": [
    {
     "data": {
      "text/plain": "25082"
     },
     "execution_count": 19,
     "metadata": {},
     "output_type": "execute_result"
    }
   ],
   "source": [
    "len(datosactualizablesDF[pd.to_numeric(datosactualizablesDF['id'], errors='coerce').notna()])"
   ],
   "metadata": {
    "collapsed": false,
    "ExecuteTime": {
     "end_time": "2023-10-27T13:10:35.763382Z",
     "start_time": "2023-10-27T13:10:35.362406400Z"
    }
   },
   "id": "42e3a12310ea7a67"
  },
  {
   "cell_type": "code",
   "execution_count": 20,
   "outputs": [
    {
     "data": {
      "text/plain": "25042"
     },
     "execution_count": 20,
     "metadata": {},
     "output_type": "execute_result"
    }
   ],
   "source": [
    "len(personasDF[pd.to_numeric(personasDF['id'], errors='coerce').notna()])"
   ],
   "metadata": {
    "collapsed": false,
    "ExecuteTime": {
     "end_time": "2023-10-27T13:10:35.884479200Z",
     "start_time": "2023-10-27T13:10:35.437581400Z"
    }
   },
   "id": "a92a09323f25f7b8"
  },
  {
   "cell_type": "code",
   "execution_count": 21,
   "outputs": [],
   "source": [
    "p = personasDF[pd.to_numeric(personasDF['id'], errors='coerce').notna()]\n",
    "d = datosactualizablesDF[pd.to_numeric(datosactualizablesDF['id'], errors='coerce').notna()]"
   ],
   "metadata": {
    "collapsed": false,
    "ExecuteTime": {
     "end_time": "2023-10-27T13:10:35.913922200Z",
     "start_time": "2023-10-27T13:10:35.501193600Z"
    }
   },
   "id": "c0e1953704ef5f58"
  },
  {
   "cell_type": "markdown",
   "source": [
    "ESTUDIO DE LA VARIABLE CARRERA\n"
   ],
   "metadata": {
    "collapsed": false
   },
   "id": "c412aefe2c64f00a"
  },
  {
   "cell_type": "code",
   "execution_count": 22,
   "outputs": [
    {
     "data": {
      "text/plain": "nombre\nAeropuertos en el Sistema de Transporte                                     1\nDiplomado en Metodologías de Investigación Cualitativa                      1\nMaestría en Kinesiología Traumatológica y Deportiva (Sucre)                 1\nMaestría en Salud Pública con Mención en Gerencia V.2, Montero              1\nDiplomado en Temas Curriculares y Gestión Educativa V.4                     1\nEspecialidad en Tecnología Educativa                                        1\nDiplomado en Educación Superior V.8                                         1\nDiplomado en Enseñanza del Ingles como Lengua Extranjera                    1\nDiplomado en Lengua Quechua con Enfoque Intercultural Bilingue              1\nMaestría en Agricultura y Agroecología Sostenible                           1\nEspecialidad en Tributación                                                 1\nEspecialidad en Diseño de Interiores                                        1\nMaestría en Investigación y Conservación de la Biodiversidad                1\nEspecialidad en Enfermería Obstétrica y Neonatal                            1\nMaestría en Psicomotricidad y Estimulación Múltiple Temprana (Sucre)        1\nMaestría en Psicomotricidad y Estimulación Múltiple Temprana (Sta. Cruz)    1\nMaestría en Producción Orgánica Sostenible                                  1\nEspecialidad en Turismo Rural                                               1\nDiplomado en Gestión de Estrategias y Políticas Municipales                 1\nDiplomado en Sistemas de Información Geográfica                             1\nEspecialización en Recursos Hidráulicos                                     1\nEspecialidad en Derecho del Gas                                             1\nEspecialidad en Salud Familiar y Comunitaria Sucre                          1\nEspecialización en Ingeniería de Caminos                                    1\nDiplomado en Manejo Integrado de Plagas                                     1\nMaestría en Administración Pública V.2                                      1\nDiplomado en Educación Superior V.7                                         1\nMaestría en Educación Superior V.3                                          1\nEspecialidad en Ortodoncia                                                  1\nMaestría en Kinesiología Traumatológica y Deportiva (Sta Cruz)              1\nName: count, dtype: int64"
     },
     "execution_count": 22,
     "metadata": {},
     "output_type": "execute_result"
    }
   ],
   "source": [
    "carrerasDF[0:30].nombre.value_counts()"
   ],
   "metadata": {
    "collapsed": false,
    "ExecuteTime": {
     "end_time": "2023-10-27T13:10:35.918899400Z",
     "start_time": "2023-10-27T13:10:35.582485500Z"
    }
   },
   "id": "b839ae1b68ba54bd"
  },
  {
   "cell_type": "code",
   "execution_count": 23,
   "outputs": [
    {
     "data": {
      "text/plain": "   codigo                                             nombre  \\\n0      99            Aeropuertos en el Sistema de Transporte   \n1     100  Diplomado en Metodologías de Investigación Cua...   \n2     101                         Especialidad en Ortodoncia   \n3     102                 Maestría en Educación Superior V.3   \n4     103                Diplomado en Educación Superior V.7   \n\n                              nombre_corto sigla  \\\n0  Aeropuertos en el Sistema de Transporte   ASA   \n1         Dip. en Met. de Inv. Cualitativa   DME   \n2                       Esp. en Ortodoncia   EEO   \n3               Maestría en Educ. Sup. V.3   MES   \n4              Diplomado en Educ. Sup. V.7   DES   \n\n                                              titulo  numero_planes_estudio  \\\n0                                          Asistente                    1.0   \n1  Diplomado en Metodologías de Investigación Cua...                    1.0   \n2                         Especialista en Ortodoncia                    1.0   \n3                     Magister en Educación Superior                    1.0   \n4                      Diploma en Educación Superior                    1.0   \n\n  codigo_estado tipo_grupo monto_tutoria costo_programa  dep_inicial  \n0             V          T             0            200        100.0  \n1             V          T           100            250         40.0  \n2             V          T           200           4700         10.0  \n3             V          T           300           1100         20.0  \n4             V          A           100            350         25.0  ",
      "text/html": "<div>\n<style scoped>\n    .dataframe tbody tr th:only-of-type {\n        vertical-align: middle;\n    }\n\n    .dataframe tbody tr th {\n        vertical-align: top;\n    }\n\n    .dataframe thead th {\n        text-align: right;\n    }\n</style>\n<table border=\"1\" class=\"dataframe\">\n  <thead>\n    <tr style=\"text-align: right;\">\n      <th></th>\n      <th>codigo</th>\n      <th>nombre</th>\n      <th>nombre_corto</th>\n      <th>sigla</th>\n      <th>titulo</th>\n      <th>numero_planes_estudio</th>\n      <th>codigo_estado</th>\n      <th>tipo_grupo</th>\n      <th>monto_tutoria</th>\n      <th>costo_programa</th>\n      <th>dep_inicial</th>\n    </tr>\n  </thead>\n  <tbody>\n    <tr>\n      <th>0</th>\n      <td>99</td>\n      <td>Aeropuertos en el Sistema de Transporte</td>\n      <td>Aeropuertos en el Sistema de Transporte</td>\n      <td>ASA</td>\n      <td>Asistente</td>\n      <td>1.0</td>\n      <td>V</td>\n      <td>T</td>\n      <td>0</td>\n      <td>200</td>\n      <td>100.0</td>\n    </tr>\n    <tr>\n      <th>1</th>\n      <td>100</td>\n      <td>Diplomado en Metodologías de Investigación Cua...</td>\n      <td>Dip. en Met. de Inv. Cualitativa</td>\n      <td>DME</td>\n      <td>Diplomado en Metodologías de Investigación Cua...</td>\n      <td>1.0</td>\n      <td>V</td>\n      <td>T</td>\n      <td>100</td>\n      <td>250</td>\n      <td>40.0</td>\n    </tr>\n    <tr>\n      <th>2</th>\n      <td>101</td>\n      <td>Especialidad en Ortodoncia</td>\n      <td>Esp. en Ortodoncia</td>\n      <td>EEO</td>\n      <td>Especialista en Ortodoncia</td>\n      <td>1.0</td>\n      <td>V</td>\n      <td>T</td>\n      <td>200</td>\n      <td>4700</td>\n      <td>10.0</td>\n    </tr>\n    <tr>\n      <th>3</th>\n      <td>102</td>\n      <td>Maestría en Educación Superior V.3</td>\n      <td>Maestría en Educ. Sup. V.3</td>\n      <td>MES</td>\n      <td>Magister en Educación Superior</td>\n      <td>1.0</td>\n      <td>V</td>\n      <td>T</td>\n      <td>300</td>\n      <td>1100</td>\n      <td>20.0</td>\n    </tr>\n    <tr>\n      <th>4</th>\n      <td>103</td>\n      <td>Diplomado en Educación Superior V.7</td>\n      <td>Diplomado en Educ. Sup. V.7</td>\n      <td>DES</td>\n      <td>Diploma en Educación Superior</td>\n      <td>1.0</td>\n      <td>V</td>\n      <td>A</td>\n      <td>100</td>\n      <td>350</td>\n      <td>25.0</td>\n    </tr>\n  </tbody>\n</table>\n</div>"
     },
     "execution_count": 23,
     "metadata": {},
     "output_type": "execute_result"
    }
   ],
   "source": [
    "carrerasDF.head()"
   ],
   "metadata": {
    "collapsed": false,
    "ExecuteTime": {
     "end_time": "2023-10-27T13:10:35.945987Z",
     "start_time": "2023-10-27T13:10:35.593298500Z"
    }
   },
   "id": "e431c360134a5497"
  },
  {
   "cell_type": "code",
   "execution_count": 24,
   "outputs": [
    {
     "data": {
      "text/plain": "     codigo                                             nombre  \\\n0        99            Aeropuertos en el Sistema de Transporte   \n1       100  Diplomado en Metodologías de Investigación Cua...   \n2       101                         Especialidad en Ortodoncia   \n3       102                 Maestría en Educación Superior V.3   \n4       103                Diplomado en Educación Superior V.7   \n..      ...                                                ...   \n945    1075  Diplomado en Bim Modelado y Gestión de Proyect...   \n946    1076  Diplomado en Diseño Mecánico Industrial CAD-CA...   \n947    1077  Diplomado en Diseño Mecánico Industrial CAD-CA...   \n948    1079  Diplomado en Obras Viales en Suelos Tropicales...   \n949    1080  Maestría en Derecho de Género, Violencia y Adm...   \n\n                                          nombre_corto      sigla  \\\n0              Aeropuertos en el Sistema de Transporte        ASA   \n1                     Dip. en Met. de Inv. Cualitativa        DME   \n2                                   Esp. en Ortodoncia        EEO   \n3                           Maestría en Educ. Sup. V.3        MES   \n4                          Diplomado en Educ. Sup. V.7        DES   \n..                                                 ...        ...   \n945  Dipl. en Bim Modelado y Gestión de Proyectos C...   DBMGPCV1   \n946  Dipl. en Diseño Mecánico Industrial CAD-CAE-CN...     DDMIV2   \n947  Dipl. en Diseño Mecánico Industrial CAD-CAE-CN...  DDMIV2-MG   \n948  Dipl. en Obras Viales en Suelos Tropicales, V....    DOVSTV1   \n949  Regularización - Maestría en Derecho de Género...      RMDGJ   \n\n                                                titulo  numero_planes_estudio  \\\n0                                            Asistente                    1.0   \n1    Diplomado en Metodologías de Investigación Cua...                    1.0   \n2                           Especialista en Ortodoncia                    1.0   \n3                       Magister en Educación Superior                    1.0   \n4                        Diploma en Educación Superior                    1.0   \n..                                                 ...                    ...   \n945  Diplomado en Bim Modelado y Gestión de Proyect...                    1.0   \n946  Diplomado en Diseño Mecánico Industrial CAD-CA...                    1.0   \n947  Diplomado en Diseño Mecánico Industrial CAD-CA...                    1.0   \n948     Diplomado en Obras Viales en Suelos Tropicales                    1.0   \n949                                                                       1.0   \n\n    codigo_estado tipo_grupo monto_tutoria costo_programa  dep_inicial  \n0               V          T             0            200        100.0  \n1               V          T           100            250         40.0  \n2               V          T           200           4700         10.0  \n3               V          T           300           1100         20.0  \n4               V          A           100            350         25.0  \n..            ...        ...           ...            ...          ...  \n945             V          T          None           3800         10.0  \n946             V          T          None           5000         10.0  \n947             V          T           450           4550         10.0  \n948             V          T          None           5000         10.0  \n949             V          T          None              0         10.0  \n\n[950 rows x 11 columns]",
      "text/html": "<div>\n<style scoped>\n    .dataframe tbody tr th:only-of-type {\n        vertical-align: middle;\n    }\n\n    .dataframe tbody tr th {\n        vertical-align: top;\n    }\n\n    .dataframe thead th {\n        text-align: right;\n    }\n</style>\n<table border=\"1\" class=\"dataframe\">\n  <thead>\n    <tr style=\"text-align: right;\">\n      <th></th>\n      <th>codigo</th>\n      <th>nombre</th>\n      <th>nombre_corto</th>\n      <th>sigla</th>\n      <th>titulo</th>\n      <th>numero_planes_estudio</th>\n      <th>codigo_estado</th>\n      <th>tipo_grupo</th>\n      <th>monto_tutoria</th>\n      <th>costo_programa</th>\n      <th>dep_inicial</th>\n    </tr>\n  </thead>\n  <tbody>\n    <tr>\n      <th>0</th>\n      <td>99</td>\n      <td>Aeropuertos en el Sistema de Transporte</td>\n      <td>Aeropuertos en el Sistema de Transporte</td>\n      <td>ASA</td>\n      <td>Asistente</td>\n      <td>1.0</td>\n      <td>V</td>\n      <td>T</td>\n      <td>0</td>\n      <td>200</td>\n      <td>100.0</td>\n    </tr>\n    <tr>\n      <th>1</th>\n      <td>100</td>\n      <td>Diplomado en Metodologías de Investigación Cua...</td>\n      <td>Dip. en Met. de Inv. Cualitativa</td>\n      <td>DME</td>\n      <td>Diplomado en Metodologías de Investigación Cua...</td>\n      <td>1.0</td>\n      <td>V</td>\n      <td>T</td>\n      <td>100</td>\n      <td>250</td>\n      <td>40.0</td>\n    </tr>\n    <tr>\n      <th>2</th>\n      <td>101</td>\n      <td>Especialidad en Ortodoncia</td>\n      <td>Esp. en Ortodoncia</td>\n      <td>EEO</td>\n      <td>Especialista en Ortodoncia</td>\n      <td>1.0</td>\n      <td>V</td>\n      <td>T</td>\n      <td>200</td>\n      <td>4700</td>\n      <td>10.0</td>\n    </tr>\n    <tr>\n      <th>3</th>\n      <td>102</td>\n      <td>Maestría en Educación Superior V.3</td>\n      <td>Maestría en Educ. Sup. V.3</td>\n      <td>MES</td>\n      <td>Magister en Educación Superior</td>\n      <td>1.0</td>\n      <td>V</td>\n      <td>T</td>\n      <td>300</td>\n      <td>1100</td>\n      <td>20.0</td>\n    </tr>\n    <tr>\n      <th>4</th>\n      <td>103</td>\n      <td>Diplomado en Educación Superior V.7</td>\n      <td>Diplomado en Educ. Sup. V.7</td>\n      <td>DES</td>\n      <td>Diploma en Educación Superior</td>\n      <td>1.0</td>\n      <td>V</td>\n      <td>A</td>\n      <td>100</td>\n      <td>350</td>\n      <td>25.0</td>\n    </tr>\n    <tr>\n      <th>...</th>\n      <td>...</td>\n      <td>...</td>\n      <td>...</td>\n      <td>...</td>\n      <td>...</td>\n      <td>...</td>\n      <td>...</td>\n      <td>...</td>\n      <td>...</td>\n      <td>...</td>\n      <td>...</td>\n    </tr>\n    <tr>\n      <th>945</th>\n      <td>1075</td>\n      <td>Diplomado en Bim Modelado y Gestión de Proyect...</td>\n      <td>Dipl. en Bim Modelado y Gestión de Proyectos C...</td>\n      <td>DBMGPCV1</td>\n      <td>Diplomado en Bim Modelado y Gestión de Proyect...</td>\n      <td>1.0</td>\n      <td>V</td>\n      <td>T</td>\n      <td>None</td>\n      <td>3800</td>\n      <td>10.0</td>\n    </tr>\n    <tr>\n      <th>946</th>\n      <td>1076</td>\n      <td>Diplomado en Diseño Mecánico Industrial CAD-CA...</td>\n      <td>Dipl. en Diseño Mecánico Industrial CAD-CAE-CN...</td>\n      <td>DDMIV2</td>\n      <td>Diplomado en Diseño Mecánico Industrial CAD-CA...</td>\n      <td>1.0</td>\n      <td>V</td>\n      <td>T</td>\n      <td>None</td>\n      <td>5000</td>\n      <td>10.0</td>\n    </tr>\n    <tr>\n      <th>947</th>\n      <td>1077</td>\n      <td>Diplomado en Diseño Mecánico Industrial CAD-CA...</td>\n      <td>Dipl. en Diseño Mecánico Industrial CAD-CAE-CN...</td>\n      <td>DDMIV2-MG</td>\n      <td>Diplomado en Diseño Mecánico Industrial CAD-CA...</td>\n      <td>1.0</td>\n      <td>V</td>\n      <td>T</td>\n      <td>450</td>\n      <td>4550</td>\n      <td>10.0</td>\n    </tr>\n    <tr>\n      <th>948</th>\n      <td>1079</td>\n      <td>Diplomado en Obras Viales en Suelos Tropicales...</td>\n      <td>Dipl. en Obras Viales en Suelos Tropicales, V....</td>\n      <td>DOVSTV1</td>\n      <td>Diplomado en Obras Viales en Suelos Tropicales</td>\n      <td>1.0</td>\n      <td>V</td>\n      <td>T</td>\n      <td>None</td>\n      <td>5000</td>\n      <td>10.0</td>\n    </tr>\n    <tr>\n      <th>949</th>\n      <td>1080</td>\n      <td>Maestría en Derecho de Género, Violencia y Adm...</td>\n      <td>Regularización - Maestría en Derecho de Género...</td>\n      <td>RMDGJ</td>\n      <td></td>\n      <td>1.0</td>\n      <td>V</td>\n      <td>T</td>\n      <td>None</td>\n      <td>0</td>\n      <td>10.0</td>\n    </tr>\n  </tbody>\n</table>\n<p>950 rows × 11 columns</p>\n</div>"
     },
     "execution_count": 24,
     "metadata": {},
     "output_type": "execute_result"
    }
   ],
   "source": [
    "carrerasDF"
   ],
   "metadata": {
    "collapsed": false,
    "ExecuteTime": {
     "end_time": "2023-10-27T13:10:35.961029800Z",
     "start_time": "2023-10-27T13:10:35.631275300Z"
    }
   },
   "id": "35f1e5f69fa2dae0"
  },
  {
   "cell_type": "code",
   "execution_count": 25,
   "outputs": [
    {
     "data": {
      "text/plain": "950"
     },
     "execution_count": 25,
     "metadata": {},
     "output_type": "execute_result"
    }
   ],
   "source": [
    "len(carrerasDF)"
   ],
   "metadata": {
    "collapsed": false,
    "ExecuteTime": {
     "end_time": "2023-10-27T13:10:35.962027800Z",
     "start_time": "2023-10-27T13:10:35.679567300Z"
    }
   },
   "id": "836eba17ea3b3c89"
  },
  {
   "cell_type": "code",
   "execution_count": 26,
   "outputs": [
    {
     "data": {
      "text/plain": "array([ 1., nan,  3.])"
     },
     "execution_count": 26,
     "metadata": {},
     "output_type": "execute_result"
    }
   ],
   "source": [
    "carrerasDF['numero_planes_estudio'].unique()"
   ],
   "metadata": {
    "collapsed": false,
    "ExecuteTime": {
     "end_time": "2023-10-27T13:10:35.964022200Z",
     "start_time": "2023-10-27T13:10:35.715683700Z"
    }
   },
   "id": "a75aa35823a50b57"
  },
  {
   "cell_type": "code",
   "execution_count": 27,
   "outputs": [
    {
     "data": {
      "text/plain": "numero_planes_estudio\n1.0    945\n3.0      2\nName: count, dtype: int64"
     },
     "execution_count": 27,
     "metadata": {},
     "output_type": "execute_result"
    }
   ],
   "source": [
    "carrerasDF['numero_planes_estudio'].value_counts()"
   ],
   "metadata": {
    "collapsed": false,
    "ExecuteTime": {
     "end_time": "2023-10-27T13:10:35.970903200Z",
     "start_time": "2023-10-27T13:10:35.747434400Z"
    }
   },
   "id": "3cd19b7ba54c1017"
  },
  {
   "cell_type": "code",
   "execution_count": 28,
   "outputs": [
    {
     "data": {
      "text/plain": "codigo\n1048    2\n99      1\n783     1\n756     1\n757     1\n       ..\n421     1\n422     1\n423     1\n424     1\n1080    1\nName: count, Length: 949, dtype: int64"
     },
     "execution_count": 28,
     "metadata": {},
     "output_type": "execute_result"
    }
   ],
   "source": [
    "carrerasDF['codigo'].value_counts()"
   ],
   "metadata": {
    "collapsed": false,
    "ExecuteTime": {
     "end_time": "2023-10-27T13:10:36.039271900Z",
     "start_time": "2023-10-27T13:10:35.779860900Z"
    }
   },
   "id": "2e4ca952c56618e7"
  },
  {
   "cell_type": "markdown",
   "source": [
    "Se equivocaron de codigo, está duplicado"
   ],
   "metadata": {
    "collapsed": false
   },
   "id": "877d524c1a9acb7d"
  },
  {
   "cell_type": "code",
   "execution_count": 29,
   "outputs": [
    {
     "data": {
      "text/plain": "     codigo                                             nombre  \\\n917    1048  Diplomado en Diseño de Experiencia e Interfaz ...   \n918    1048  Diplomado en Docencia para Educación Superior ...   \n\n                                          nombre_corto    sigla  \\\n917  Dipl. en Diseño de Experiencia e Interfaz de U...  DDEIUV1   \n918  Dipl. en Docencia para Educación Superior V. 1...    DES15   \n\n                                                titulo  numero_planes_estudio  \\\n917  Diplomado en Diseño de Experiencia e Interfaz ...                    1.0   \n918     Diplomado en Docencia para Educación Superior                     1.0   \n\n    codigo_estado tipo_grupo monto_tutoria costo_programa  dep_inicial  \n917             V          T          None           3800         10.0  \n918             V          T          None           3400         10.0  ",
      "text/html": "<div>\n<style scoped>\n    .dataframe tbody tr th:only-of-type {\n        vertical-align: middle;\n    }\n\n    .dataframe tbody tr th {\n        vertical-align: top;\n    }\n\n    .dataframe thead th {\n        text-align: right;\n    }\n</style>\n<table border=\"1\" class=\"dataframe\">\n  <thead>\n    <tr style=\"text-align: right;\">\n      <th></th>\n      <th>codigo</th>\n      <th>nombre</th>\n      <th>nombre_corto</th>\n      <th>sigla</th>\n      <th>titulo</th>\n      <th>numero_planes_estudio</th>\n      <th>codigo_estado</th>\n      <th>tipo_grupo</th>\n      <th>monto_tutoria</th>\n      <th>costo_programa</th>\n      <th>dep_inicial</th>\n    </tr>\n  </thead>\n  <tbody>\n    <tr>\n      <th>917</th>\n      <td>1048</td>\n      <td>Diplomado en Diseño de Experiencia e Interfaz ...</td>\n      <td>Dipl. en Diseño de Experiencia e Interfaz de U...</td>\n      <td>DDEIUV1</td>\n      <td>Diplomado en Diseño de Experiencia e Interfaz ...</td>\n      <td>1.0</td>\n      <td>V</td>\n      <td>T</td>\n      <td>None</td>\n      <td>3800</td>\n      <td>10.0</td>\n    </tr>\n    <tr>\n      <th>918</th>\n      <td>1048</td>\n      <td>Diplomado en Docencia para Educación Superior ...</td>\n      <td>Dipl. en Docencia para Educación Superior V. 1...</td>\n      <td>DES15</td>\n      <td>Diplomado en Docencia para Educación Superior</td>\n      <td>1.0</td>\n      <td>V</td>\n      <td>T</td>\n      <td>None</td>\n      <td>3400</td>\n      <td>10.0</td>\n    </tr>\n  </tbody>\n</table>\n</div>"
     },
     "execution_count": 29,
     "metadata": {},
     "output_type": "execute_result"
    }
   ],
   "source": [
    "carrerasDF[carrerasDF['codigo']==1048]"
   ],
   "metadata": {
    "collapsed": false,
    "ExecuteTime": {
     "end_time": "2023-10-27T13:10:36.118665700Z",
     "start_time": "2023-10-27T13:10:35.812492700Z"
    }
   },
   "id": "efb902b04fe53750"
  },
  {
   "cell_type": "code",
   "execution_count": 30,
   "outputs": [
    {
     "data": {
      "text/plain": "codigo_carrera\n194    472\n123    459\n263    425\n170    417\n0      397\n      ... \n791      1\n622      1\n799      1\n269      1\n302      1\nName: count, Length: 927, dtype: int64"
     },
     "execution_count": 30,
     "metadata": {},
     "output_type": "execute_result"
    }
   ],
   "source": [
    "universitariosDF.codigo_carrera.value_counts()"
   ],
   "metadata": {
    "collapsed": false,
    "ExecuteTime": {
     "end_time": "2023-10-27T13:10:36.153364600Z",
     "start_time": "2023-10-27T13:10:35.856841Z"
    }
   },
   "id": "f9e40216dee9b76"
  },
  {
   "cell_type": "code",
   "execution_count": 31,
   "outputs": [
    {
     "data": {
      "text/plain": "   codigo                               nombre                 nombre_corto  \\\n4     103  Diplomado en Educación Superior V.7  Diplomado en Educ. Sup. V.7   \n\n  sigla                         titulo  numero_planes_estudio codigo_estado  \\\n4   DES  Diploma en Educación Superior                    1.0             V   \n\n  tipo_grupo monto_tutoria costo_programa  dep_inicial  \n4          A           100            350         25.0  ",
      "text/html": "<div>\n<style scoped>\n    .dataframe tbody tr th:only-of-type {\n        vertical-align: middle;\n    }\n\n    .dataframe tbody tr th {\n        vertical-align: top;\n    }\n\n    .dataframe thead th {\n        text-align: right;\n    }\n</style>\n<table border=\"1\" class=\"dataframe\">\n  <thead>\n    <tr style=\"text-align: right;\">\n      <th></th>\n      <th>codigo</th>\n      <th>nombre</th>\n      <th>nombre_corto</th>\n      <th>sigla</th>\n      <th>titulo</th>\n      <th>numero_planes_estudio</th>\n      <th>codigo_estado</th>\n      <th>tipo_grupo</th>\n      <th>monto_tutoria</th>\n      <th>costo_programa</th>\n      <th>dep_inicial</th>\n    </tr>\n  </thead>\n  <tbody>\n    <tr>\n      <th>4</th>\n      <td>103</td>\n      <td>Diplomado en Educación Superior V.7</td>\n      <td>Diplomado en Educ. Sup. V.7</td>\n      <td>DES</td>\n      <td>Diploma en Educación Superior</td>\n      <td>1.0</td>\n      <td>V</td>\n      <td>A</td>\n      <td>100</td>\n      <td>350</td>\n      <td>25.0</td>\n    </tr>\n  </tbody>\n</table>\n</div>"
     },
     "execution_count": 31,
     "metadata": {},
     "output_type": "execute_result"
    }
   ],
   "source": [
    "carrerasDF[carrerasDF.codigo==103]# 103 "
   ],
   "metadata": {
    "collapsed": false,
    "ExecuteTime": {
     "end_time": "2023-10-27T13:10:36.158353Z",
     "start_time": "2023-10-27T13:10:35.873519200Z"
    }
   },
   "id": "696705d561250c0b"
  },
  {
   "cell_type": "code",
   "execution_count": 32,
   "outputs": [
    {
     "data": {
      "text/plain": "sigla\nMAJ2S    9\nMAJ3S    8\nMPMG     7\nDCEV6    7\nMEET     6\n        ..\nTRSMD    1\nDEAP     1\nDCER     1\nDTADH    1\nRMDGJ    1\nName: count, Length: 805, dtype: int64"
     },
     "execution_count": 32,
     "metadata": {},
     "output_type": "execute_result"
    }
   ],
   "source": [
    "carrerasDF.sigla.value_counts()"
   ],
   "metadata": {
    "collapsed": false,
    "ExecuteTime": {
     "end_time": "2023-10-27T13:10:36.323110500Z",
     "start_time": "2023-10-27T13:10:35.912866Z"
    }
   },
   "id": "e8164ad3a1450b4e"
  },
  {
   "cell_type": "code",
   "execution_count": 33,
   "outputs": [
    {
     "data": {
      "text/plain": "     codigo                                             nombre  \\\n236     336  Maestría en Ingeniería Estructural Versión V S...   \n237     337  Maestría en Ingeniería Estructural Versión V S...   \n238     338  Maestría en Ingeniería Estructural Versión V S...   \n239     339  Maestría en Ingeniería Estructural Versión V S...   \n240     340  Maestría en Ingeniería Estructural Versión V S...   \n242     342  Maestría en Ingeniería Estructural Versión V S...   \n\n                                       nombre_corto sigla  \\\n236  Mae. en Ingeniería Estructural V.5 Stanta Cruz  MIE5   \n237   Mae. en Ingeniería Estructural V.5 Cochabamba  MIE5   \n238        Mae. en Ingeniería Estructural V.5 Oruro  MIE5   \n239        Mae. en Ingeniería Estructural V.5 Sucre  MIE5   \n240       Mae. en Ingeniería Estructural V.5 La Paz  MIE5   \n242       Mae. en Ingeniería Estructural V.5 Tarija  MIE5   \n\n                                 titulo  numero_planes_estudio codigo_estado  \\\n236  Magister en Ingeniería Estructural                    1.0             V   \n237  Magister en Ingeniería Estructural                    1.0             V   \n238  Magister en Ingeniería Estructural                    1.0             V   \n239  Magister en Ingeniería Estructural                    1.0             V   \n240  Magister en Ingeniería Estructural                    1.0             V   \n242  Magister en Ingeniería Estructural                    1.0             V   \n\n    tipo_grupo monto_tutoria costo_programa  dep_inicial  \n236          T          2250          32750         10.0  \n237          T          2250          32750         10.0  \n238          T          2250          32750         10.0  \n239          T          2250          25750         10.0  \n240          T          2250          32750         10.0  \n242          T          2250          32750         10.0  ",
      "text/html": "<div>\n<style scoped>\n    .dataframe tbody tr th:only-of-type {\n        vertical-align: middle;\n    }\n\n    .dataframe tbody tr th {\n        vertical-align: top;\n    }\n\n    .dataframe thead th {\n        text-align: right;\n    }\n</style>\n<table border=\"1\" class=\"dataframe\">\n  <thead>\n    <tr style=\"text-align: right;\">\n      <th></th>\n      <th>codigo</th>\n      <th>nombre</th>\n      <th>nombre_corto</th>\n      <th>sigla</th>\n      <th>titulo</th>\n      <th>numero_planes_estudio</th>\n      <th>codigo_estado</th>\n      <th>tipo_grupo</th>\n      <th>monto_tutoria</th>\n      <th>costo_programa</th>\n      <th>dep_inicial</th>\n    </tr>\n  </thead>\n  <tbody>\n    <tr>\n      <th>236</th>\n      <td>336</td>\n      <td>Maestría en Ingeniería Estructural Versión V S...</td>\n      <td>Mae. en Ingeniería Estructural V.5 Stanta Cruz</td>\n      <td>MIE5</td>\n      <td>Magister en Ingeniería Estructural</td>\n      <td>1.0</td>\n      <td>V</td>\n      <td>T</td>\n      <td>2250</td>\n      <td>32750</td>\n      <td>10.0</td>\n    </tr>\n    <tr>\n      <th>237</th>\n      <td>337</td>\n      <td>Maestría en Ingeniería Estructural Versión V S...</td>\n      <td>Mae. en Ingeniería Estructural V.5 Cochabamba</td>\n      <td>MIE5</td>\n      <td>Magister en Ingeniería Estructural</td>\n      <td>1.0</td>\n      <td>V</td>\n      <td>T</td>\n      <td>2250</td>\n      <td>32750</td>\n      <td>10.0</td>\n    </tr>\n    <tr>\n      <th>238</th>\n      <td>338</td>\n      <td>Maestría en Ingeniería Estructural Versión V S...</td>\n      <td>Mae. en Ingeniería Estructural V.5 Oruro</td>\n      <td>MIE5</td>\n      <td>Magister en Ingeniería Estructural</td>\n      <td>1.0</td>\n      <td>V</td>\n      <td>T</td>\n      <td>2250</td>\n      <td>32750</td>\n      <td>10.0</td>\n    </tr>\n    <tr>\n      <th>239</th>\n      <td>339</td>\n      <td>Maestría en Ingeniería Estructural Versión V S...</td>\n      <td>Mae. en Ingeniería Estructural V.5 Sucre</td>\n      <td>MIE5</td>\n      <td>Magister en Ingeniería Estructural</td>\n      <td>1.0</td>\n      <td>V</td>\n      <td>T</td>\n      <td>2250</td>\n      <td>25750</td>\n      <td>10.0</td>\n    </tr>\n    <tr>\n      <th>240</th>\n      <td>340</td>\n      <td>Maestría en Ingeniería Estructural Versión V S...</td>\n      <td>Mae. en Ingeniería Estructural V.5 La Paz</td>\n      <td>MIE5</td>\n      <td>Magister en Ingeniería Estructural</td>\n      <td>1.0</td>\n      <td>V</td>\n      <td>T</td>\n      <td>2250</td>\n      <td>32750</td>\n      <td>10.0</td>\n    </tr>\n    <tr>\n      <th>242</th>\n      <td>342</td>\n      <td>Maestría en Ingeniería Estructural Versión V S...</td>\n      <td>Mae. en Ingeniería Estructural V.5 Tarija</td>\n      <td>MIE5</td>\n      <td>Magister en Ingeniería Estructural</td>\n      <td>1.0</td>\n      <td>V</td>\n      <td>T</td>\n      <td>2250</td>\n      <td>32750</td>\n      <td>10.0</td>\n    </tr>\n  </tbody>\n</table>\n</div>"
     },
     "execution_count": 33,
     "metadata": {},
     "output_type": "execute_result"
    }
   ],
   "source": [
    "carrerasDF[carrerasDF.sigla=='MIE5'] # maj2s"
   ],
   "metadata": {
    "collapsed": false,
    "ExecuteTime": {
     "end_time": "2023-10-27T13:10:36.399849400Z",
     "start_time": "2023-10-27T13:10:35.948097200Z"
    }
   },
   "id": "c7c335d1f456c7e"
  },
  {
   "cell_type": "code",
   "execution_count": 34,
   "outputs": [
    {
     "data": {
      "text/plain": "['Maestría', 'en', 'Administración', 'Pública']"
     },
     "execution_count": 34,
     "metadata": {},
     "output_type": "execute_result"
    }
   ],
   "source": [
    "carrerasDF[carrerasDF.codigo==104].nombre.values[0].split()[0:-1]"
   ],
   "metadata": {
    "collapsed": false,
    "ExecuteTime": {
     "end_time": "2023-10-27T13:10:36.439715400Z",
     "start_time": "2023-10-27T13:10:35.992055400Z"
    }
   },
   "id": "2e1db993879b8d8b"
  },
  {
   "cell_type": "code",
   "execution_count": 64,
   "outputs": [
    {
     "name": "stdout",
     "output_type": "stream",
     "text": [
      "sigla\n",
      "False    946\n",
      "True       4\n",
      "Name: count, dtype: int64\n",
      "sigla\n",
      "False    946\n",
      "Name: count, dtype: int64\n"
     ]
    }
   ],
   "source": [
    "print(carrerasDF.sigla.isna().value_counts())\n",
    "carrerasDF = carrerasDF.dropna(subset=['sigla'])\n",
    "print(carrerasDF.sigla.isna().value_counts())"
   ],
   "metadata": {
    "collapsed": false,
    "ExecuteTime": {
     "end_time": "2023-10-27T20:04:16.934478900Z",
     "start_time": "2023-10-27T20:04:16.882104100Z"
    }
   },
   "id": "5ecdc2f22e5134ef"
  },
  {
   "cell_type": "code",
   "execution_count": 65,
   "outputs": [],
   "source": [
    "import math\n",
    "def filtrarVersiones(sigla):\n",
    "    bandera = True\n",
    "    indice = 0\n",
    "    while bandera:\n",
    "        if(sigla[-(indice+1)].isnumeric()):\n",
    "            indice+=1\n",
    "        else:\n",
    "            bandera = False\n",
    "    if((sigla[-(indice+1)]=='V') and (indice>0)):\n",
    "        sigla = sigla[0:-(indice+1)]\n",
    "    else:\n",
    "        if indice==0:\n",
    "            return sigla\n",
    "        sigla = sigla[0:-indice]\n",
    "    return sigla"
   ],
   "metadata": {
    "collapsed": false,
    "ExecuteTime": {
     "end_time": "2023-10-27T20:04:23.148801Z",
     "start_time": "2023-10-27T20:04:23.129795200Z"
    }
   },
   "id": "87bb1b6515c3d013"
  },
  {
   "cell_type": "code",
   "execution_count": 71,
   "outputs": [],
   "source": [
    "def filtrarVersionesNumero(sigla):\n",
    "    bandera = True\n",
    "    indice = 0\n",
    "    while bandera:\n",
    "        if(sigla[-(indice+1)].isnumeric()):\n",
    "            indice+=1\n",
    "        else:\n",
    "            bandera = False\n",
    "    if((sigla[-(indice+1)]=='V') and (indice>0)):\n",
    "        sigla = sigla[0:-(indice+1)]\n",
    "    else:\n",
    "        if indice==0:\n",
    "            return 0\n",
    "        sigla = sigla[-indice:]\n",
    "    return sigla"
   ],
   "metadata": {
    "collapsed": false,
    "ExecuteTime": {
     "end_time": "2023-10-27T20:05:07.714979100Z",
     "start_time": "2023-10-27T20:05:07.683388500Z"
    }
   },
   "id": "7c650db96f23e21d"
  },
  {
   "cell_type": "code",
   "execution_count": 73,
   "outputs": [
    {
     "name": "stderr",
     "output_type": "stream",
     "text": [
      "C:\\Users\\Usuario\\AppData\\Local\\Temp\\ipykernel_19468\\1500425832.py:1: SettingWithCopyWarning: \n",
      "A value is trying to be set on a copy of a slice from a DataFrame.\n",
      "Try using .loc[row_indexer,col_indexer] = value instead\n",
      "\n",
      "See the caveats in the documentation: https://pandas.pydata.org/pandas-docs/stable/user_guide/indexing.html#returning-a-view-versus-a-copy\n",
      "  carrerasDF.loc[:, 'siglaNoVersionNumero'] = carrerasDF.sigla.apply(filtrarVersionesNumero)\n"
     ]
    }
   ],
   "source": [
    "carrerasDF.loc[:, 'siglaNoVersionNumero'] = carrerasDF.sigla.apply(filtrarVersionesNumero)"
   ],
   "metadata": {
    "collapsed": false,
    "ExecuteTime": {
     "end_time": "2023-10-27T20:05:29.275064600Z",
     "start_time": "2023-10-27T20:05:29.242119600Z"
    }
   },
   "id": "f7a5ca373f59a8ab"
  },
  {
   "cell_type": "code",
   "execution_count": 74,
   "outputs": [
    {
     "data": {
      "text/plain": "     codigo                                             nombre  \\\n0        99            Aeropuertos en el Sistema de Transporte   \n1       100  Diplomado en Metodologías de Investigación Cua...   \n2       101                         Especialidad en Ortodoncia   \n3       102                 Maestría en Educación Superior V.3   \n4       103                Diplomado en Educación Superior V.7   \n..      ...                                                ...   \n945    1075  Diplomado en Bim Modelado y Gestión de Proyect...   \n946    1076  Diplomado en Diseño Mecánico Industrial CAD-CA...   \n947    1077  Diplomado en Diseño Mecánico Industrial CAD-CA...   \n948    1079  Diplomado en Obras Viales en Suelos Tropicales...   \n949    1080  Maestría en Derecho de Género, Violencia y Adm...   \n\n                                          nombre_corto      sigla  \\\n0              Aeropuertos en el Sistema de Transporte        ASA   \n1                     Dip. en Met. de Inv. Cualitativa        DME   \n2                                   Esp. en Ortodoncia        EEO   \n3                           Maestría en Educ. Sup. V.3        MES   \n4                          Diplomado en Educ. Sup. V.7        DES   \n..                                                 ...        ...   \n945  Dipl. en Bim Modelado y Gestión de Proyectos C...   DBMGPCV1   \n946  Dipl. en Diseño Mecánico Industrial CAD-CAE-CN...     DDMIV2   \n947  Dipl. en Diseño Mecánico Industrial CAD-CAE-CN...  DDMIV2-MG   \n948  Dipl. en Obras Viales en Suelos Tropicales, V....    DOVSTV1   \n949  Regularización - Maestría en Derecho de Género...      RMDGJ   \n\n                                                titulo  numero_planes_estudio  \\\n0                                            Asistente                    1.0   \n1    Diplomado en Metodologías de Investigación Cua...                    1.0   \n2                           Especialista en Ortodoncia                    1.0   \n3                       Magister en Educación Superior                    1.0   \n4                        Diploma en Educación Superior                    1.0   \n..                                                 ...                    ...   \n945  Diplomado en Bim Modelado y Gestión de Proyect...                    1.0   \n946  Diplomado en Diseño Mecánico Industrial CAD-CA...                    1.0   \n947  Diplomado en Diseño Mecánico Industrial CAD-CA...                    1.0   \n948     Diplomado en Obras Viales en Suelos Tropicales                    1.0   \n949                                                                       1.0   \n\n    codigo_estado tipo_grupo monto_tutoria costo_programa  dep_inicial  \\\n0               V          T             0            200        100.0   \n1               V          T           100            250         40.0   \n2               V          T           200           4700         10.0   \n3               V          T           300           1100         20.0   \n4               V          A           100            350         25.0   \n..            ...        ...           ...            ...          ...   \n945             V          T          None           3800         10.0   \n946             V          T          None           5000         10.0   \n947             V          T           450           4550         10.0   \n948             V          T          None           5000         10.0   \n949             V          T          None              0         10.0   \n\n    siglaNoVersion siglaNoVersionNumero  \n0              ASA                    0  \n1              DME                    0  \n2              EEO                    0  \n3              MES                    0  \n4              DES                    0  \n..             ...                  ...  \n945         DBMGPC               DBMGPC  \n946           DDMI                 DDMI  \n947      DDMIV2-MG                    0  \n948          DOVST                DOVST  \n949          RMDGJ                    0  \n\n[946 rows x 13 columns]",
      "text/html": "<div>\n<style scoped>\n    .dataframe tbody tr th:only-of-type {\n        vertical-align: middle;\n    }\n\n    .dataframe tbody tr th {\n        vertical-align: top;\n    }\n\n    .dataframe thead th {\n        text-align: right;\n    }\n</style>\n<table border=\"1\" class=\"dataframe\">\n  <thead>\n    <tr style=\"text-align: right;\">\n      <th></th>\n      <th>codigo</th>\n      <th>nombre</th>\n      <th>nombre_corto</th>\n      <th>sigla</th>\n      <th>titulo</th>\n      <th>numero_planes_estudio</th>\n      <th>codigo_estado</th>\n      <th>tipo_grupo</th>\n      <th>monto_tutoria</th>\n      <th>costo_programa</th>\n      <th>dep_inicial</th>\n      <th>siglaNoVersion</th>\n      <th>siglaNoVersionNumero</th>\n    </tr>\n  </thead>\n  <tbody>\n    <tr>\n      <th>0</th>\n      <td>99</td>\n      <td>Aeropuertos en el Sistema de Transporte</td>\n      <td>Aeropuertos en el Sistema de Transporte</td>\n      <td>ASA</td>\n      <td>Asistente</td>\n      <td>1.0</td>\n      <td>V</td>\n      <td>T</td>\n      <td>0</td>\n      <td>200</td>\n      <td>100.0</td>\n      <td>ASA</td>\n      <td>0</td>\n    </tr>\n    <tr>\n      <th>1</th>\n      <td>100</td>\n      <td>Diplomado en Metodologías de Investigación Cua...</td>\n      <td>Dip. en Met. de Inv. Cualitativa</td>\n      <td>DME</td>\n      <td>Diplomado en Metodologías de Investigación Cua...</td>\n      <td>1.0</td>\n      <td>V</td>\n      <td>T</td>\n      <td>100</td>\n      <td>250</td>\n      <td>40.0</td>\n      <td>DME</td>\n      <td>0</td>\n    </tr>\n    <tr>\n      <th>2</th>\n      <td>101</td>\n      <td>Especialidad en Ortodoncia</td>\n      <td>Esp. en Ortodoncia</td>\n      <td>EEO</td>\n      <td>Especialista en Ortodoncia</td>\n      <td>1.0</td>\n      <td>V</td>\n      <td>T</td>\n      <td>200</td>\n      <td>4700</td>\n      <td>10.0</td>\n      <td>EEO</td>\n      <td>0</td>\n    </tr>\n    <tr>\n      <th>3</th>\n      <td>102</td>\n      <td>Maestría en Educación Superior V.3</td>\n      <td>Maestría en Educ. Sup. V.3</td>\n      <td>MES</td>\n      <td>Magister en Educación Superior</td>\n      <td>1.0</td>\n      <td>V</td>\n      <td>T</td>\n      <td>300</td>\n      <td>1100</td>\n      <td>20.0</td>\n      <td>MES</td>\n      <td>0</td>\n    </tr>\n    <tr>\n      <th>4</th>\n      <td>103</td>\n      <td>Diplomado en Educación Superior V.7</td>\n      <td>Diplomado en Educ. Sup. V.7</td>\n      <td>DES</td>\n      <td>Diploma en Educación Superior</td>\n      <td>1.0</td>\n      <td>V</td>\n      <td>A</td>\n      <td>100</td>\n      <td>350</td>\n      <td>25.0</td>\n      <td>DES</td>\n      <td>0</td>\n    </tr>\n    <tr>\n      <th>...</th>\n      <td>...</td>\n      <td>...</td>\n      <td>...</td>\n      <td>...</td>\n      <td>...</td>\n      <td>...</td>\n      <td>...</td>\n      <td>...</td>\n      <td>...</td>\n      <td>...</td>\n      <td>...</td>\n      <td>...</td>\n      <td>...</td>\n    </tr>\n    <tr>\n      <th>945</th>\n      <td>1075</td>\n      <td>Diplomado en Bim Modelado y Gestión de Proyect...</td>\n      <td>Dipl. en Bim Modelado y Gestión de Proyectos C...</td>\n      <td>DBMGPCV1</td>\n      <td>Diplomado en Bim Modelado y Gestión de Proyect...</td>\n      <td>1.0</td>\n      <td>V</td>\n      <td>T</td>\n      <td>None</td>\n      <td>3800</td>\n      <td>10.0</td>\n      <td>DBMGPC</td>\n      <td>DBMGPC</td>\n    </tr>\n    <tr>\n      <th>946</th>\n      <td>1076</td>\n      <td>Diplomado en Diseño Mecánico Industrial CAD-CA...</td>\n      <td>Dipl. en Diseño Mecánico Industrial CAD-CAE-CN...</td>\n      <td>DDMIV2</td>\n      <td>Diplomado en Diseño Mecánico Industrial CAD-CA...</td>\n      <td>1.0</td>\n      <td>V</td>\n      <td>T</td>\n      <td>None</td>\n      <td>5000</td>\n      <td>10.0</td>\n      <td>DDMI</td>\n      <td>DDMI</td>\n    </tr>\n    <tr>\n      <th>947</th>\n      <td>1077</td>\n      <td>Diplomado en Diseño Mecánico Industrial CAD-CA...</td>\n      <td>Dipl. en Diseño Mecánico Industrial CAD-CAE-CN...</td>\n      <td>DDMIV2-MG</td>\n      <td>Diplomado en Diseño Mecánico Industrial CAD-CA...</td>\n      <td>1.0</td>\n      <td>V</td>\n      <td>T</td>\n      <td>450</td>\n      <td>4550</td>\n      <td>10.0</td>\n      <td>DDMIV2-MG</td>\n      <td>0</td>\n    </tr>\n    <tr>\n      <th>948</th>\n      <td>1079</td>\n      <td>Diplomado en Obras Viales en Suelos Tropicales...</td>\n      <td>Dipl. en Obras Viales en Suelos Tropicales, V....</td>\n      <td>DOVSTV1</td>\n      <td>Diplomado en Obras Viales en Suelos Tropicales</td>\n      <td>1.0</td>\n      <td>V</td>\n      <td>T</td>\n      <td>None</td>\n      <td>5000</td>\n      <td>10.0</td>\n      <td>DOVST</td>\n      <td>DOVST</td>\n    </tr>\n    <tr>\n      <th>949</th>\n      <td>1080</td>\n      <td>Maestría en Derecho de Género, Violencia y Adm...</td>\n      <td>Regularización - Maestría en Derecho de Género...</td>\n      <td>RMDGJ</td>\n      <td></td>\n      <td>1.0</td>\n      <td>V</td>\n      <td>T</td>\n      <td>None</td>\n      <td>0</td>\n      <td>10.0</td>\n      <td>RMDGJ</td>\n      <td>0</td>\n    </tr>\n  </tbody>\n</table>\n<p>946 rows × 13 columns</p>\n</div>"
     },
     "execution_count": 74,
     "metadata": {},
     "output_type": "execute_result"
    }
   ],
   "source": [
    "carrerasDF.loc[:, 'siglaNoVersion'] = carrerasDF.sigla.apply(filtrarVersiones)\n",
    "carrerasDF"
   ],
   "metadata": {
    "collapsed": false,
    "ExecuteTime": {
     "end_time": "2023-10-27T20:05:29.523102600Z",
     "start_time": "2023-10-27T20:05:29.487928600Z"
    }
   },
   "id": "ff2645cc7d19eabc"
  },
  {
   "cell_type": "code",
   "execution_count": null,
   "outputs": [],
   "source": [
    "carrerasDF[carrerasDF.sigla.isnull()]"
   ],
   "metadata": {
    "collapsed": false,
    "ExecuteTime": {
     "start_time": "2023-10-27T13:10:37.180130200Z"
    }
   },
   "id": "b95173a98ca9f7b0"
  },
  {
   "cell_type": "code",
   "execution_count": null,
   "outputs": [],
   "source": [
    "print(len(universitariosDF[universitariosDF.codigo_carrera==1044]))\n",
    "print(len(universitariosDF[universitariosDF.codigo_carrera==812]))\n",
    "print(len(universitariosDF[universitariosDF.codigo_carrera==659]))\n",
    "print(len(universitariosDF[universitariosDF.codigo_carrera==661]))"
   ],
   "metadata": {
    "collapsed": false,
    "ExecuteTime": {
     "start_time": "2023-10-27T13:10:37.184116300Z"
    }
   },
   "id": "7753c1c2cb78edec"
  },
  {
   "cell_type": "code",
   "execution_count": null,
   "outputs": [],
   "source": [
    "column_name = 'sigla'\n",
    "carrerasDF = carrerasDF.dropna(subset=[column_name])"
   ],
   "metadata": {
    "collapsed": false,
    "ExecuteTime": {
     "start_time": "2023-10-27T13:10:37.188102800Z"
    }
   },
   "id": "c2479766145c3e9d"
  },
  {
   "cell_type": "code",
   "execution_count": null,
   "outputs": [],
   "source": [
    "carrerasDF.sigla.isnull().value_counts()"
   ],
   "metadata": {
    "collapsed": false,
    "ExecuteTime": {
     "start_time": "2023-10-27T13:10:37.193085400Z"
    }
   },
   "id": "b142c0839dfa9c2b"
  },
  {
   "cell_type": "code",
   "execution_count": null,
   "outputs": [],
   "source": [
    "carrerasDF.sort_values(by='siglaNoVersion')"
   ],
   "metadata": {
    "collapsed": false,
    "ExecuteTime": {
     "start_time": "2023-10-27T13:10:37.196075800Z"
    }
   },
   "id": "d52da30d52721b5d"
  },
  {
   "cell_type": "code",
   "execution_count": null,
   "outputs": [],
   "source": [
    "universitariosDF"
   ],
   "metadata": {
    "collapsed": false,
    "ExecuteTime": {
     "start_time": "2023-10-27T13:10:37.210029200Z"
    }
   },
   "id": "5630aa6d0db218d7"
  },
  {
   "cell_type": "code",
   "execution_count": null,
   "outputs": [],
   "source": [
    "universitariosDF.apply()"
   ],
   "metadata": {
    "collapsed": false,
    "ExecuteTime": {
     "start_time": "2023-10-27T13:10:37.216008800Z"
    }
   },
   "id": "9f5edee5df2228ff"
  },
  {
   "cell_type": "code",
   "execution_count": null,
   "outputs": [],
   "source": [
    "import numpy as np\n",
    "y = np.random.rand(4, 2)\n",
    "y"
   ],
   "metadata": {
    "collapsed": false,
    "ExecuteTime": {
     "end_time": "2023-10-27T13:10:37.262851600Z",
     "start_time": "2023-10-27T13:10:37.223981700Z"
    }
   },
   "id": "f48c448d8fc67c61"
  },
  {
   "cell_type": "code",
   "execution_count": 242,
   "outputs": [
    {
     "data": {
      "text/plain": "array([0.51819675, 0.1495009 , 0.27113291, 0.64615694])"
     },
     "execution_count": 242,
     "metadata": {},
     "output_type": "execute_result"
    }
   ],
   "source": [
    "y[:,1]"
   ],
   "metadata": {
    "collapsed": false,
    "ExecuteTime": {
     "end_time": "2023-10-27T05:31:31.685140200Z",
     "start_time": "2023-10-27T05:31:31.650231600Z"
    }
   },
   "id": "f03b7ab166e777a3"
  },
  {
   "cell_type": "code",
   "execution_count": 43,
   "outputs": [
    {
     "data": {
      "text/plain": "id\nFalse    23831\nTrue     14955\nName: count, dtype: int64"
     },
     "execution_count": 43,
     "metadata": {},
     "output_type": "execute_result"
    }
   ],
   "source": [
    "universitariosDF.id.duplicated().value_counts()"
   ],
   "metadata": {
    "collapsed": false,
    "ExecuteTime": {
     "end_time": "2023-10-27T13:23:09.041122800Z",
     "start_time": "2023-10-27T13:23:08.983692100Z"
    }
   },
   "id": "ef28693f4d7a40ae"
  },
  {
   "cell_type": "code",
   "execution_count": 49,
   "outputs": [
    {
     "data": {
      "text/plain": "0    False\n1    False\n2    False\n3     True\n4     True\ndtype: bool"
     },
     "execution_count": 49,
     "metadata": {},
     "output_type": "execute_result"
    }
   ],
   "source": [
    "a = pd.DataFrame([1,2,3,1,1])\n",
    "a.duplicated()"
   ],
   "metadata": {
    "collapsed": false,
    "ExecuteTime": {
     "end_time": "2023-10-27T13:24:41.710648500Z",
     "start_time": "2023-10-27T13:24:41.673568200Z"
    }
   },
   "id": "8f6b28186c61b2ad"
  },
  {
   "cell_type": "code",
   "execution_count": 50,
   "outputs": [],
   "source": [
    "universitariosDF.to_csv(\"./data/universitarios.csv\",index=False)\n",
    "tiposareasacademicasDF.to_csv(\"./data/tiposareasacademicas.csv\",index=False)\n",
    "personasDF.to_csv(\"./data/personas.csv\",index=False)\n",
    "carrerasDF.to_csv(\"./data/carreras.csv\",index=False)"
   ],
   "metadata": {
    "collapsed": false,
    "ExecuteTime": {
     "end_time": "2023-10-27T14:24:55.543795300Z",
     "start_time": "2023-10-27T14:24:55.217829100Z"
    }
   },
   "id": "f3af95b6da130a68"
  },
  {
   "cell_type": "code",
   "execution_count": 75,
   "outputs": [],
   "source": [
    "carrerasDF.to_csv(\"./data/carreras.csv\",index=False)"
   ],
   "metadata": {
    "collapsed": false,
    "ExecuteTime": {
     "end_time": "2023-10-27T20:07:07.617455700Z",
     "start_time": "2023-10-27T20:07:07.369676600Z"
    }
   },
   "id": "fda9c44863ba0a9b"
  },
  {
   "cell_type": "code",
   "execution_count": 51,
   "outputs": [],
   "source": [
    "datosactualizablesDF.to_csv(\"./data/datosactualizables.csv\",index=False)"
   ],
   "metadata": {
    "collapsed": false,
    "ExecuteTime": {
     "end_time": "2023-10-27T14:44:40.690944900Z",
     "start_time": "2023-10-27T14:44:40.592582Z"
    }
   },
   "id": "37de41e898d5391a"
  },
  {
   "cell_type": "code",
   "execution_count": 52,
   "outputs": [],
   "source": [
    "personasdatosacademicosDF.to_csv(\"./data/personasDatosAcademicos.csv\")"
   ],
   "metadata": {
    "collapsed": false,
    "ExecuteTime": {
     "end_time": "2023-10-27T15:24:51.209448700Z",
     "start_time": "2023-10-27T15:24:51.097290800Z"
    }
   },
   "id": "41eee200b1bf7ad7"
  }
 ],
 "metadata": {
  "kernelspec": {
   "display_name": "Python 3",
   "language": "python",
   "name": "python3"
  },
  "language_info": {
   "codemirror_mode": {
    "name": "ipython",
    "version": 2
   },
   "file_extension": ".py",
   "mimetype": "text/x-python",
   "name": "python",
   "nbconvert_exporter": "python",
   "pygments_lexer": "ipython2",
   "version": "2.7.6"
  }
 },
 "nbformat": 4,
 "nbformat_minor": 5
}
